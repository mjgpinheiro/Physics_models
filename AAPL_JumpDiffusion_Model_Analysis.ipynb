{
  "nbformat": 4,
  "nbformat_minor": 0,
  "metadata": {
    "colab": {
      "provenance": [],
      "authorship_tag": "ABX9TyMeIs/2Wvbr7S4xUfjCPTGl",
      "include_colab_link": true
    },
    "kernelspec": {
      "name": "python3",
      "display_name": "Python 3"
    },
    "language_info": {
      "name": "python"
    }
  },
  "cells": [
    {
      "cell_type": "markdown",
      "metadata": {
        "id": "view-in-github",
        "colab_type": "text"
      },
      "source": [
        "<a href=\"https://colab.research.google.com/github/mjgpinheiro/Physics_models/blob/main/AAPL_JumpDiffusion_Model_Analysis.ipynb\" target=\"_parent\"><img src=\"https://colab.research.google.com/assets/colab-badge.svg\" alt=\"Open In Colab\"/></a>"
      ]
    },
    {
      "cell_type": "code",
      "source": [
        "# Import necessary libraries\n",
        "import numpy as np\n",
        "import pandas as pd\n",
        "import matplotlib.pyplot as plt\n",
        "\n",
        "# Define functions for the JumpDiffusion model\n",
        "def jump_diffusion_model(S0, r, sigma, lamda, mu, delta_t, num_steps):\n",
        "    \"\"\"\n",
        "    Simulates the JumpDiffusion model for AAPL stocks.\n",
        "\n",
        "    Parameters:\n",
        "    - S0: Initial stock price of AAPL\n",
        "    - r: Risk-free interest rate\n",
        "    - sigma: Volatility of AAPL stock\n",
        "    - lamda: Intensity of jump arrivals\n",
        "    - mu: Mean jump size\n",
        "    - delta_t: Time step size\n",
        "    - num_steps: Number of steps in the simulation\n",
        "\n",
        "    Returns:\n",
        "    - stock_prices: Array of simulated stock prices of AAPL over time\n",
        "    \"\"\"\n",
        "    stock_prices = np.zeros(num_steps)\n",
        "    stock_prices[0] = S0\n",
        "\n",
        "    for i in range(1, num_steps):\n",
        "        z1 = np.random.normal(0, 1)\n",
        "        z2 = np.random.normal(0, 1)\n",
        "        N = np.random.poisson(lamda * delta_t)\n",
        "\n",
        "        stock_prices[i] = stock_prices[i-1] * (1 + r * delta_t + sigma * np.sqrt(delta_t) * z1)\n",
        "        stock_prices[i] += stock_prices[i-1] * (mu - 0.5 * sigma**2) * N * delta_t\n",
        "        stock_prices[i] += stock_prices[i-1] * sigma * np.sqrt(N * delta_t) * z2\n",
        "\n",
        "    return stock_prices\n",
        "\n",
        "# Define parameters for the JumpDiffusion model\n",
        "S0 = 170.16  # Initial stock price of AAPL\n",
        "r = 0.05  # Risk-free interest rate\n",
        "sigma = 0.2  # Volatility of AAPL stock\n",
        "lamda = 0.1  # Intensity of jump arrivals\n",
        "mu = 0.05  # Mean jump size\n",
        "delta_t = 1/252  # Time step size (daily data)\n",
        "num_steps = 252  # Number of steps in the simulation (1 year)\n",
        "\n",
        "# Generate simulated stock prices using the JumpDiffusion model\n",
        "stock_prices = jump_diffusion_model(S0, r, sigma, lamda, mu, delta_t, num_steps)\n",
        "\n",
        "# Obtain current market prices of AAPL stocks and options\n",
        "current_stock_price = stock_prices[-1]\n",
        "current_option_price = 9.35  # Example: Jun17 $170 Call option price\n",
        "\n",
        "# Compare market prices with predicted prices\n",
        "predicted_option_price = stock_prices[-1] - stock_prices[-2]  # Example: Predicted option price based on price convergence\n",
        "price_difference = current_option_price - predicted_option_price\n",
        "\n",
        "# Output the comparison results\n",
        "print(f\"Current AAPL stock price: ${current_stock_price}\")\n",
        "print(f\"Current option price: ${current_option_price}\")\n",
        "print(f\"Predicted option price: ${predicted_option_price}\")\n",
        "print(f\"Price difference: ${price_difference}\")\n",
        "\n",
        "# Plot the simulated stock prices\n",
        "plt.plot(stock_prices)\n",
        "plt.xlabel('Time Steps')\n",
        "plt.ylabel('AAPL Stock Price')\n",
        "plt.title('Simulation of JumpDiffusion Model for AAPL Stocks')\n",
        "plt.grid(True)\n",
        "plt.show()\n"
      ],
      "metadata": {
        "id": "2bO9UxgjN9Mb"
      },
      "execution_count": null,
      "outputs": []
    }
  ]
}