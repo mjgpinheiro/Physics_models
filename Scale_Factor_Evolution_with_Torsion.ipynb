{
  "nbformat": 4,
  "nbformat_minor": 0,
  "metadata": {
    "colab": {
      "provenance": [],
      "authorship_tag": "ABX9TyPDYT9V2vvd6hsVGeQ6JP1I",
      "include_colab_link": true
    },
    "kernelspec": {
      "name": "python3",
      "display_name": "Python 3"
    },
    "language_info": {
      "name": "python"
    }
  },
  "cells": [
    {
      "cell_type": "markdown",
      "metadata": {
        "id": "view-in-github",
        "colab_type": "text"
      },
      "source": [
        "<a href=\"https://colab.research.google.com/github/mjgpinheiro/Physics_models/blob/main/Scale_Factor_Evolution_with_Torsion.ipynb\" target=\"_parent\"><img src=\"https://colab.research.google.com/assets/colab-badge.svg\" alt=\"Open In Colab\"/></a>"
      ]
    },
    {
      "cell_type": "code",
      "execution_count": null,
      "metadata": {
        "id": "euNtleXuGE5t"
      },
      "outputs": [],
      "source": [
        "import numpy as np\n",
        "import matplotlib.pyplot as plt\n",
        "from scipy.integrate import solve_ivp\n",
        "\n",
        "# Plot 1: Scale Factor Evolution with Torsion\n",
        "# ===========================================\n",
        "\n",
        "# Constants (illustrative units)\n",
        "G = 6.674e-11    # m³/(kg·s²)\n",
        "c = 3e8          # m/s\n",
        "kappa = 8 * np.pi * G / c**4  # ~1.87e-44 (SI)\n",
        "sigma = 1e36      # Adjusted to show bounce (kg/m³)\n",
        "H0 = 2.2e-18     # ~70 km/s/Mpc in s⁻¹\n",
        "rho0 = kappa * sigma**2  # Initial density\n",
        "\n",
        "# Friedmann equations\n",
        "def friedmann_EC(t, a):\n",
        "    rho = rho0 / a**3  # Matter density\n",
        "    H_squared = (8 * np.pi * G / 3) * (rho - 0.5 * kappa * sigma**2) - 1/a**2\n",
        "    return np.sqrt(np.abs(H_squared)) * np.sign(H_squared)\n",
        "\n",
        "def friedmann_LCDM(t, a):\n",
        "    rho = rho0 / a**3\n",
        "    H_squared = (8 * np.pi * G / 3) * rho - 1/a**2\n",
        "    return np.sqrt(np.abs(H_squared)) * np.sign(H_squared)\n",
        "\n",
        "# Solve ODEs\n",
        "t_span = (-1e10, 1e10)  # Adjusted time span for visibility\n",
        "a0 = 1.0  # Initial scale factor at bounce\n",
        "sol_EC = solve_ivp(friedmann_EC, t_span, [a0], method='LSODA', dense_output=True)\n",
        "sol_LCDM = solve_ivp(friedmann_LCDM, t_span, [a0], method='LSODA', dense_output=True)\n",
        "\n",
        "t_values = np.linspace(-1e10, 1e10, 1000)\n",
        "a_EC = sol_EC.sol(t_values)[0]\n",
        "a_LCDM = sol_LCDM.sol(t_values)[0]\n",
        "\n",
        "# Plot\n",
        "plt.figure(figsize=(10, 6))\n",
        "plt.plot(t_values, a_EC, label='EC Theory (Bounce)')\n",
        "plt.plot(t_values, a_LCDM, '--', label='ΛCDM (Singularity)')\n",
        "plt.xlabel('Time (s)')\n",
        "plt.ylabel('Scale Factor $a(t)$')\n",
        "plt.title('Scale Factor Evolution: EC vs ΛCDM')\n",
        "plt.legend()\n",
        "plt.grid(True)\n",
        "plt.show()\n",
        "\n",
        "# Plot 2: Spin Density vs. Critical Density\n",
        "# =========================================\n",
        "\n",
        "# Parameters (adjusted for transition)\n",
        "rho0_crit = 9e-27  # Current matter density (kg/m³)\n",
        "sigma_const = 1e10  # Spin density (kg/m³)\n",
        "kappa_crit = 1e-45  # Adjusted for visibility\n",
        "\n",
        "# Redshift range\n",
        "z = np.linspace(0, 1000, 100)\n",
        "rho_z = rho0_crit * (1 + z)**3  # Matter density evolution\n",
        "sigma_crit = np.sqrt(2 * rho_z / kappa_crit)  # Critical spin density\n",
        "\n",
        "plt.figure(figsize=(10, 6))\n",
        "plt.loglog(z, sigma_crit, label='Critical Spin Density $\\\\sigma_{\\\\rm crit}(z)$')\n",
        "plt.axhline(y=sigma_const, color='r', linestyle='--', label='Spin Density $\\\\sigma = 10^{10}$ kg/m³')\n",
        "plt.fill_between(z, sigma_crit, sigma_crit.max(), where=(sigma_const > sigma_crit),\n",
        "                 color='green', alpha=0.3, label='Torsion Dominates ($\\\\sigma > \\\\sigma_{\\\\rm crit}$)')\n",
        "plt.fill_between(z, 0, sigma_crit, where=(sigma_const < sigma_crit),\n",
        "                 color='orange', alpha=0.3, label='GR Regime ($\\\\sigma \\\\ll \\\\sigma_{\\\\rm crit}$)')\n",
        "plt.xlabel('Redshift $z$')\n",
        "plt.ylabel('Density (kg/m³)')\n",
        "plt.title('Spin Density vs. Critical Density')\n",
        "plt.legend()\n",
        "plt.grid(True)\n",
        "plt.show()"
      ]
    }
  ]
}