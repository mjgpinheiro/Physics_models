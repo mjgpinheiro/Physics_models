import numpy as np
import scipy.linalg
from scipy.integrate import quad

# Define Hamiltonian function
def H_fun(Omega, t):
    return np.array([[0, Omega/2*np.exp(-1j*2*t)], [Omega/2*np.exp(1j*2*t), 0]])

# Define function to integrate
def f(x):
    return np.sin(x)**2
# 
def f(x):
    return x**2

# Set parameters
Omega = 1
N = 1000
t = np.linspace(0, 10, N)
dt = t[1] - t[0]

# Initialize state vector and evolution operator
U = np.zeros((N, 2, 2), dtype=complex)
U[0] = np.array([[1, 0], [0, 1]])
U_final = np.array([1, 0])

# Calculate the evolution operator
for i in range(1, N):
    dt = t[i] - t[i-1]
    H_avg = (H_fun(Omega, t[i]) + H_fun(Omega, t[i-1])) / 2
    U[i] = np.dot(scipy.linalg.expm(-1j*H_avg*dt), U[i-1])

# Calculate the final state
U_final = np.dot(U[N-1], U_final)

# Calculate the integral
I = quad(f, 0, np.pi)[0] * np.abs(U_final[0])**2

print("The integral of f(x) from 0 to pi is:", I)
