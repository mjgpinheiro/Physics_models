{
  "nbformat": 4,
  "nbformat_minor": 0,
  "metadata": {
    "colab": {
      "provenance": [],
      "authorship_tag": "ABX9TyP6XHfGBpMFJ6vagNfzseCU",
      "include_colab_link": true
    },
    "kernelspec": {
      "name": "python3",
      "display_name": "Python 3"
    },
    "language_info": {
      "name": "python"
    }
  },
  "cells": [
    {
      "cell_type": "markdown",
      "metadata": {
        "id": "view-in-github",
        "colab_type": "text"
      },
      "source": [
        "<a href=\"https://colab.research.google.com/github/mjgpinheiro/Physics_models/blob/Econophysics/ML_StockPrediction1.ipynb\" target=\"_parent\"><img src=\"https://colab.research.google.com/assets/colab-badge.svg\" alt=\"Open In Colab\"/></a>"
      ]
    },
    {
      "cell_type": "code",
      "execution_count": null,
      "metadata": {
        "id": "w6l-DmB02XER"
      },
      "outputs": [],
      "source": [
        "import yfinance as yf\n",
        "import numpy as np\n",
        "from sklearn.model_selection import train_test_split, GridSearchCV\n",
        "from sklearn.linear_model import LogisticRegression\n",
        "from sklearn.preprocessing import StandardScaler\n",
        "import pandas as pd\n",
        "\n",
        "# Download data\n",
        "data = yf.download('AAPL', start='2019-01-01', end='2023-03-27')\n",
        "prices = data['Close'].to_numpy()\n",
        "\n",
        "# Create feature vectors using past 5 days' closing prices\n",
        "def create_feature_vectors(prices, n_days=5):\n",
        "    X = []\n",
        "    for i in range(n_days, len(prices)):\n",
        "        X.append(prices[i-n_days:i])\n",
        "    return np.array(X)\n",
        "\n",
        "X = create_feature_vectors(prices)\n",
        "y = np.sign(np.diff(prices[4:]))\n",
        "\n",
        "# Split data into training and testing sets\n",
        "X_train, X_test, y_train, y_test = train_test_split(X, y, test_size=0.2, random_state=42)\n",
        "\n",
        "# Scale the data\n",
        "scaler = StandardScaler()\n",
        "X_train_scaled = scaler.fit_transform(X_train)\n",
        "X_test_scaled = scaler.transform(X_test)\n",
        "\n",
        "# Train logistic regression model\n",
        "clf = LogisticRegression()\n",
        "clf.fit(X_train_scaled, y_train)\n",
        "\n",
        "# Make predictions on test set\n",
        "y_pred = clf.predict(X_test_scaled)\n",
        "\n",
        "# Calculate accuracy\n",
        "accuracy = np.sum(y_pred == y_test) / len(y_pred)\n",
        "print(f\"Accuracy: {accuracy}\")\n",
        "\n",
        "def predict(prices):\n",
        "    X = create_feature_vectors(prices)\n",
        "    y = np.sign(np.diff(prices[4:]))\n",
        "\n",
        "    X_train_scaled = scaler.transform(X[:-1])\n",
        "    y_pred = clf.predict(X_train_scaled)\n",
        "\n",
        "    predictions = []\n",
        "    for i in range(1, len(y_pred)):\n",
        "        if y_pred[i] > y_pred[i-1]:\n",
        "            predictions.append(\"buy\")\n",
        "        elif y_pred[i] < y_pred[i-1]:\n",
        "            predictions.append(\"sell\")\n",
        "        else:\n",
        "            predictions.append(\"hold\")\n",
        "    \n",
        "    return predictions\n",
        "\n",
        "data = yf.download('AAPL', start='2022-03-16', end='2023-04-05')\n",
        "prices = data['Close'].to_numpy()\n",
        "predictions = predict(prices)\n",
        "for i in range(len(predictions)):\n",
        "    print(f\"Day {i+1}: {predictions[i]}\")\n",
        "\n",
        "\n",
        "# Generate buy, sell, or hold signals\n",
        "def predict(prices):\n",
        "    ensemble_preds = prices['Close'].tolist()\n",
        "    predictions = []\n",
        "    for i in range(1, len(ensemble_preds)):\n",
        "        if ensemble_preds[i] > ensemble_preds[i-1]:\n",
        "            predictions.append(\"buy\")\n",
        "        elif ensemble_preds[i] < ensemble_preds[i-1]:\n",
        "            predictions.append(\"sell\")\n",
        "        else:\n",
        "            predictions.append(\"hold\")\n",
        "\n",
        "    return predictions\n",
        "\n",
        "data = yf.download('AAPL', start='2022-03-16', end='2023-04-05')\n",
        "prices = data['Close'].to_frame()\n",
        "predictions = predict(prices)\n",
        "\n",
        "# Get the dates from the prices DataFrame\n",
        "dates = prices.index[1:]\n",
        "\n",
        "# Print the predictions with their associated dates\n",
        "for i in range(len(predictions)):\n",
        "    print(f\"Date {dates[i]}: {predictions[i]}\")\n"
      ]
    }
  ]
}