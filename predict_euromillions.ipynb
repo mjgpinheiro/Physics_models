{
  "nbformat": 4,
  "nbformat_minor": 0,
  "metadata": {
    "colab": {
      "provenance": [],
      "authorship_tag": "ABX9TyMBW+ItkLFHA0XSssUK4Bp6",
      "include_colab_link": true
    },
    "kernelspec": {
      "name": "python3",
      "display_name": "Python 3"
    },
    "language_info": {
      "name": "python"
    }
  },
  "cells": [
    {
      "cell_type": "markdown",
      "metadata": {
        "id": "view-in-github",
        "colab_type": "text"
      },
      "source": [
        "<a href=\"https://colab.research.google.com/github/mjgpinheiro/Physics_models/blob/main/predict_euromillions.ipynb\" target=\"_parent\"><img src=\"https://colab.research.google.com/assets/colab-badge.svg\" alt=\"Open In Colab\"/></a>"
      ]
    },
    {
      "cell_type": "code",
      "source": [
        "import pandas as pd\n",
        "from sklearn.model_selection import train_test_split\n",
        "from sklearn.ensemble import RandomForestRegressor\n",
        "\n",
        "# Sample past draws data (expand as needed)\n",
        "data = {\n",
        "    \"Date\": [\"2023-10-20\", \"2023-10-17\", \"2023-10-13\"],\n",
        "    \"Number1\": [2, 10, 21],\n",
        "    \"Number2\": [20, 17, 26],\n",
        "    \"Number3\": [28, 20, 28],\n",
        "    \"Number4\": [40, 35, 40],\n",
        "    \"Number5\": [45, 40, 41],\n",
        "    \"Star1\": [1, 3, 2],\n",
        "    \"Star2\": [5, 4, 4],\n",
        "}\n",
        "\n",
        "df = pd.DataFrame(data)\n",
        "\n",
        "# Define features (input) and target (output)\n",
        "X = df[[\"Number1\", \"Number2\", \"Number3\", \"Number4\", \"Number5\", \"Star1\", \"Star2\"]]\n",
        "y = df[[\"Number1\", \"Number2\", \"Number3\", \"Number4\", \"Number5\", \"Star1\", \"Star2\"]]\n",
        "\n",
        "# Split the data into training and testing sets\n",
        "X_train, X_test, y_train, y_test = train_test_split(X, y, test_size=0.2, random_state=42)\n",
        "\n",
        "# Create and train a Random Forest Regressor (since we're predicting numbers)\n",
        "regressor = RandomForestRegressor(random_state=42)\n",
        "regressor.fit(X_train, y_train)\n",
        "\n",
        "# Make predictions for numbers and stars\n",
        "number_predictions = regressor.predict(X_test)\n",
        "predicted_numbers = number_predictions[:, :5].round().astype(int)  # Round to nearest integers\n",
        "predicted_stars = number_predictions[:, 5:].round().astype(int)    # Round to nearest integers\n",
        "\n",
        "# Print the predicted numbers and stars\n",
        "print(f\"Predicted numbers: {predicted_numbers}\")\n",
        "print(f\"Predicted stars: {predicted_stars}\")\n"
      ],
      "metadata": {
        "colab": {
          "base_uri": "https://localhost:8080/"
        },
        "id": "VgWjiNx_I_BU",
        "outputId": "d4f99187-f901-4790-c462-b82102e5cd03"
      },
      "execution_count": 5,
      "outputs": [
        {
          "output_type": "stream",
          "name": "stdout",
          "text": [
            "Predicted numbers: [[16 22 24 38 41]]\n",
            "Predicted stars: [[2 4]]\n"
          ]
        }
      ]
    }
  ]
}