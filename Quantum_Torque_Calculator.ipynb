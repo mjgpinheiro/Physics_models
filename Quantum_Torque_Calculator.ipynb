{
  "nbformat": 4,
  "nbformat_minor": 0,
  "metadata": {
    "colab": {
      "provenance": [],
      "authorship_tag": "ABX9TyMCfqFI3WifsSiFcz19Ok1u",
      "include_colab_link": true
    },
    "kernelspec": {
      "name": "python3",
      "display_name": "Python 3"
    },
    "language_info": {
      "name": "python"
    }
  },
  "cells": [
    {
      "cell_type": "markdown",
      "metadata": {
        "id": "view-in-github",
        "colab_type": "text"
      },
      "source": [
        "<a href=\"https://colab.research.google.com/github/mjgpinheiro/Physics_models/blob/main/Quantum_Torque_Calculator.ipynb\" target=\"_parent\"><img src=\"https://colab.research.google.com/assets/colab-badge.svg\" alt=\"Open In Colab\"/></a>"
      ]
    },
    {
      "cell_type": "code",
      "execution_count": 7,
      "metadata": {
        "colab": {
          "base_uri": "https://localhost:8080/"
        },
        "id": "6aaJ0XOzg9gg",
        "outputId": "2ea7b439-9155-4615-e57d-042bcbea46a5"
      },
      "outputs": [
        {
          "output_type": "stream",
          "name": "stdout",
          "text": [
            "Requirement already satisfied: qiskit in /usr/local/lib/python3.10/dist-packages (0.45.0)\n",
            "Requirement already satisfied: qiskit-terra==0.45.0 in /usr/local/lib/python3.10/dist-packages (from qiskit) (0.45.0)\n",
            "Requirement already satisfied: rustworkx>=0.13.0 in /usr/local/lib/python3.10/dist-packages (from qiskit-terra==0.45.0->qiskit) (0.13.2)\n",
            "Requirement already satisfied: numpy<2,>=1.17 in /usr/local/lib/python3.10/dist-packages (from qiskit-terra==0.45.0->qiskit) (1.23.5)\n",
            "Requirement already satisfied: ply>=3.10 in /usr/local/lib/python3.10/dist-packages (from qiskit-terra==0.45.0->qiskit) (3.11)\n",
            "Requirement already satisfied: psutil>=5 in /usr/local/lib/python3.10/dist-packages (from qiskit-terra==0.45.0->qiskit) (5.9.5)\n",
            "Requirement already satisfied: scipy>=1.5 in /usr/local/lib/python3.10/dist-packages (from qiskit-terra==0.45.0->qiskit) (1.11.3)\n",
            "Requirement already satisfied: sympy>=1.3 in /usr/local/lib/python3.10/dist-packages (from qiskit-terra==0.45.0->qiskit) (1.12)\n",
            "Requirement already satisfied: dill>=0.3 in /usr/local/lib/python3.10/dist-packages (from qiskit-terra==0.45.0->qiskit) (0.3.7)\n",
            "Requirement already satisfied: python-dateutil>=2.8.0 in /usr/local/lib/python3.10/dist-packages (from qiskit-terra==0.45.0->qiskit) (2.8.2)\n",
            "Requirement already satisfied: stevedore>=3.0.0 in /usr/local/lib/python3.10/dist-packages (from qiskit-terra==0.45.0->qiskit) (5.1.0)\n",
            "Requirement already satisfied: symengine<0.10,>=0.9 in /usr/local/lib/python3.10/dist-packages (from qiskit-terra==0.45.0->qiskit) (0.9.2)\n",
            "Requirement already satisfied: typing-extensions in /usr/local/lib/python3.10/dist-packages (from qiskit-terra==0.45.0->qiskit) (4.5.0)\n",
            "Requirement already satisfied: six>=1.5 in /usr/local/lib/python3.10/dist-packages (from python-dateutil>=2.8.0->qiskit-terra==0.45.0->qiskit) (1.16.0)\n",
            "Requirement already satisfied: pbr!=2.1.0,>=2.0.0 in /usr/local/lib/python3.10/dist-packages (from stevedore>=3.0.0->qiskit-terra==0.45.0->qiskit) (6.0.0)\n",
            "Requirement already satisfied: mpmath>=0.19 in /usr/local/lib/python3.10/dist-packages (from sympy>=1.3->qiskit-terra==0.45.0->qiskit) (1.3.0)\n",
            "Requirement already satisfied: pylatexenc in /usr/local/lib/python3.10/dist-packages (2.10)\n",
            "Requirement already satisfied: qiskit-aer in /usr/local/lib/python3.10/dist-packages (0.13.0)\n",
            "Requirement already satisfied: qiskit>=0.44.0 in /usr/local/lib/python3.10/dist-packages (from qiskit-aer) (0.45.0)\n",
            "Requirement already satisfied: numpy>=1.16.3 in /usr/local/lib/python3.10/dist-packages (from qiskit-aer) (1.23.5)\n",
            "Requirement already satisfied: scipy>=1.0 in /usr/local/lib/python3.10/dist-packages (from qiskit-aer) (1.11.3)\n",
            "Requirement already satisfied: qiskit-terra==0.45.0 in /usr/local/lib/python3.10/dist-packages (from qiskit>=0.44.0->qiskit-aer) (0.45.0)\n",
            "Requirement already satisfied: rustworkx>=0.13.0 in /usr/local/lib/python3.10/dist-packages (from qiskit-terra==0.45.0->qiskit>=0.44.0->qiskit-aer) (0.13.2)\n",
            "Requirement already satisfied: ply>=3.10 in /usr/local/lib/python3.10/dist-packages (from qiskit-terra==0.45.0->qiskit>=0.44.0->qiskit-aer) (3.11)\n",
            "Requirement already satisfied: psutil>=5 in /usr/local/lib/python3.10/dist-packages (from qiskit-terra==0.45.0->qiskit>=0.44.0->qiskit-aer) (5.9.5)\n",
            "Requirement already satisfied: sympy>=1.3 in /usr/local/lib/python3.10/dist-packages (from qiskit-terra==0.45.0->qiskit>=0.44.0->qiskit-aer) (1.12)\n",
            "Requirement already satisfied: dill>=0.3 in /usr/local/lib/python3.10/dist-packages (from qiskit-terra==0.45.0->qiskit>=0.44.0->qiskit-aer) (0.3.7)\n",
            "Requirement already satisfied: python-dateutil>=2.8.0 in /usr/local/lib/python3.10/dist-packages (from qiskit-terra==0.45.0->qiskit>=0.44.0->qiskit-aer) (2.8.2)\n",
            "Requirement already satisfied: stevedore>=3.0.0 in /usr/local/lib/python3.10/dist-packages (from qiskit-terra==0.45.0->qiskit>=0.44.0->qiskit-aer) (5.1.0)\n",
            "Requirement already satisfied: symengine<0.10,>=0.9 in /usr/local/lib/python3.10/dist-packages (from qiskit-terra==0.45.0->qiskit>=0.44.0->qiskit-aer) (0.9.2)\n",
            "Requirement already satisfied: typing-extensions in /usr/local/lib/python3.10/dist-packages (from qiskit-terra==0.45.0->qiskit>=0.44.0->qiskit-aer) (4.5.0)\n",
            "Requirement already satisfied: six>=1.5 in /usr/local/lib/python3.10/dist-packages (from python-dateutil>=2.8.0->qiskit-terra==0.45.0->qiskit>=0.44.0->qiskit-aer) (1.16.0)\n",
            "Requirement already satisfied: pbr!=2.1.0,>=2.0.0 in /usr/local/lib/python3.10/dist-packages (from stevedore>=3.0.0->qiskit-terra==0.45.0->qiskit>=0.44.0->qiskit-aer) (6.0.0)\n",
            "Requirement already satisfied: mpmath>=0.19 in /usr/local/lib/python3.10/dist-packages (from sympy>=1.3->qiskit-terra==0.45.0->qiskit>=0.44.0->qiskit-aer) (1.3.0)\n",
            "Circuit Diagram:\n",
            "Circuit Text:\n",
            "     ┌──────────────────────────────┐┌───┐\n",
            "q_0: ┤0                             ├┤ X ├\n",
            "     │                              │├───┤\n",
            "q_1: ┤1 Initialize(1,0,0,0,0,0,0,0) ├┤ X ├\n",
            "     │                              │├───┤\n",
            "q_2: ┤2                             ├┤ X ├\n",
            "     └──────────────────────────────┘└───┘\n",
            "Torque due to change in Hamiltonian: -0.002499979166736832\n"
          ]
        },
        {
          "output_type": "stream",
          "name": "stderr",
          "text": [
            "<ipython-input-7-7fa8093d2c2a>:40: DeprecationWarning: Using a qobj for run() is deprecated as of qiskit-aer 0.9.0 and will be removed no sooner than 3 months from that release date. Transpiled circuits should now be passed directly using `backend.run(circuits, **run_options).\n",
            "  result = backend.run(qobj).result()\n",
            "<ipython-input-7-7fa8093d2c2a>:54: DeprecationWarning: Using a qobj for run() is deprecated as of qiskit-aer 0.9.0 and will be removed no sooner than 3 months from that release date. Transpiled circuits should now be passed directly using `backend.run(circuits, **run_options).\n",
            "  result = backend.run(qobj).result()\n"
          ]
        }
      ],
      "source": [
        "!pip install qiskit\n",
        "!pip install pylatexenc\n",
        "!pip install qiskit-aer\n",
        "\n",
        "import numpy as np\n",
        "from qiskit import Aer, QuantumCircuit, transpile, assemble\n",
        "from qiskit.visualization import plot_histogram, plot_bloch_multivector\n",
        "from qiskit.quantum_info import Statevector\n",
        "import matplotlib.pyplot as plt\n",
        "\n",
        "# Define the N-Qubit System\n",
        "N = 3  # For instance, set to 3 qubits\n",
        "qubit_list = list(range(N))\n",
        "\n",
        "# Create a quantum circuit\n",
        "qc = QuantumCircuit(N)\n",
        "\n",
        "# Initial state: |000...0⟩\n",
        "initial_state = [1] + [0]*(2**N - 1)\n",
        "qc.initialize(initial_state, qubit_list)\n",
        "\n",
        "# Apply a Hamiltonian: For simplicity, we'll just use a series of X gates to each qubit\n",
        "for qubit in qubit_list:\n",
        "    qc.x(qubit)\n",
        "\n",
        "# Visualize the Circuit\n",
        "print(\"Circuit Diagram:\")\n",
        "#qc.draw('mpl')\n",
        "#plt.show()\n",
        "# Visualize the Circuit as Text\n",
        "print(\"Circuit Text:\")\n",
        "print(qc.draw('text'))\n",
        "\n",
        "\n",
        "\n",
        "# Find the statevector after the Hamiltonian\n",
        "backend = Aer.get_backend('statevector_simulator')\n",
        "t_qc = transpile(qc, backend)\n",
        "qobj = assemble(t_qc)\n",
        "result = backend.run(qobj).result()\n",
        "out_state = result.get_statevector()\n",
        "\n",
        "# Calculate the expectation value of the energy\n",
        "# For this simple model, it's the expectation value of the X operator\n",
        "# We use a simplified approach by just summing the probabilities of the state being in |1⟩ for each qubit\n",
        "energy_expectation = sum([abs(out_state[i])**2 for i in range(2**N) if bin(i).count(\"1\") % 2 == 1])\n",
        "\n",
        "# Simulate a small change in the Hamiltonian: In this case, let's add a small rotation to the last qubit\n",
        "delta_theta = 0.01\n",
        "qc.ry(delta_theta, N-1)\n",
        "\n",
        "t_qc = transpile(qc, backend)\n",
        "qobj = assemble(t_qc)\n",
        "result = backend.run(qobj).result()\n",
        "out_state_delta = result.get_statevector()\n",
        "\n",
        "energy_expectation_delta = sum([abs(out_state_delta[i])**2 for i in range(2**N) if bin(i).count(\"1\") % 2 == 1])\n",
        "\n",
        "# The force (or the change in energy due to the change in the Hamiltonian) is:\n",
        "Torque = (energy_expectation_delta - energy_expectation) / delta_theta\n",
        "\n",
        "print(f\"Torque due to change in Hamiltonian: {Torque}\")\n"
      ]
    }
  ]
}