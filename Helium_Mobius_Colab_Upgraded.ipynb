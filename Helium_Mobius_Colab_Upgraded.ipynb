{
  "cells": [
    {
      "cell_type": "markdown",
      "metadata": {
        "id": "view-in-github",
        "colab_type": "text"
      },
      "source": [
        "<a href=\"https://colab.research.google.com/github/mjgpinheiro/Physics_models/blob/main/Helium_Mobius_Colab_Upgraded.ipynb\" target=\"_parent\"><img src=\"https://colab.research.google.com/assets/colab-badge.svg\" alt=\"Open In Colab\"/></a>"
      ]
    },
    {
      "cell_type": "markdown",
      "id": "95125b9d",
      "metadata": {
        "id": "95125b9d"
      },
      "source": [
        "# Helium with Möbius Boundary — Colab Notebook (Upgraded)\n",
        "\n",
        "**What’s improved:**\n",
        "1. Uses **Hylleraas coordinates** \\((r_1, r_2, r_{12})\\) with the correct Jacobian \\(8\\pi^2 r_1 r_2 r_{12}\\).\n",
        "2. **Exact** handling of \\(r_{12}\\) (no approximation like \\(|r_1-r_2|\\)).\n",
        "3. **Electron–electron Kato cusp** enforced numerically by projecting coefficients onto a linear constraint subspace at \\(r_{12}=0\\).\n",
        "4. Better quadrature: **Gauss–Laguerre** in \\(r_1, r_2\\) (semi-infinite) and **Gauss–Legendre** in \\(r_{12}\\) over triangle inequality bounds.\n",
        "\n",
        "> ⚠️ Kinetic energy still uses finite differences in \\((r_1,r_2,r_{12})\\). For high-precision, replace with analytic Hylleraas operator.\n"
      ]
    },
    {
      "cell_type": "markdown",
      "id": "0663b0b0",
      "metadata": {
        "id": "0663b0b0"
      },
      "source": [
        "## 1) Setup"
      ]
    },
    {
      "cell_type": "code",
      "execution_count": null,
      "id": "4dc6d66b",
      "metadata": {
        "id": "4dc6d66b"
      },
      "outputs": [],
      "source": [
        "!pip -q install numpy scipy matplotlib"
      ]
    },
    {
      "cell_type": "markdown",
      "id": "2d4215e9",
      "metadata": {
        "id": "2d4215e9"
      },
      "source": [
        "## 2) Imports & Globals"
      ]
    },
    {
      "cell_type": "code",
      "execution_count": null,
      "id": "bdc181c2",
      "metadata": {
        "id": "bdc181c2"
      },
      "outputs": [],
      "source": [
        "import numpy as np\n",
        "from numpy.polynomial.laguerre import laggauss\n",
        "from numpy.polynomial.legendre import leggauss\n",
        "import matplotlib.pyplot as plt\n",
        "np.random.seed(42)\n",
        "Z = 2.0"
      ]
    },
    {
      "cell_type": "markdown",
      "id": "fdd42880",
      "metadata": {
        "id": "fdd42880"
      },
      "source": [
        "## 3) Quadrature rules\n",
        "- Gauss–Laguerre for \\(r\\in[0,\\infty)\\); we map nodes `x` to `r = x/a` with weight factor.\n",
        "- Gauss–Legendre for \\(r_{12}\\in[|r_1-r_2|, r_1+r_2]\\)."
      ]
    },
    {
      "cell_type": "code",
      "execution_count": null,
      "id": "c8704c25",
      "metadata": {
        "id": "c8704c25"
      },
      "outputs": [],
      "source": [
        "\n",
        "def gauss_laguerre(n, scale=1.0):\n",
        "    # nodes, weights for integral_0^inf f(r) dr  via r = x/scale\n",
        "    x, w = laggauss(n)\n",
        "    r = x/scale\n",
        "    w_scaled = w/scale\n",
        "    return r, w_scaled\n",
        "\n",
        "def gauss_legendre(a, b, n):\n",
        "    x, w = leggauss(n)\n",
        "    t = 0.5*(b-a)*x + 0.5*(b+a)\n",
        "    wt = 0.5*(b-a)*w\n",
        "    return t, wt\n"
      ]
    },
    {
      "cell_type": "markdown",
      "id": "051d53d3",
      "metadata": {
        "id": "051d53d3"
      },
      "source": [
        "## 4) Hylleraas–Möbius basis"
      ]
    },
    {
      "cell_type": "code",
      "execution_count": null,
      "id": "eb3c92ff",
      "metadata": {
        "id": "eb3c92ff"
      },
      "outputs": [],
      "source": [
        "\n",
        "def hylleraas_basis_indices(Nmax):\n",
        "    idx = []\n",
        "    for i in range(Nmax+1):\n",
        "        for j in range(Nmax+1-i):\n",
        "            for k in range(Nmax+1-i-j):\n",
        "                idx.append((i,j,k))\n",
        "    return idx\n",
        "\n",
        "def basis_eval_point(r1, r2, r12, ijk, zeta, sector):\n",
        "    i,j,k = ijk\n",
        "    poly = (r1**i)*(r2**j)*(r12**k)\n",
        "    env  = np.exp(-zeta*(r1+r2))\n",
        "    if sector == 'triplet':\n",
        "        s = np.sign(r1 - r2)\n",
        "        return env*poly*s\n",
        "    return env*poly\n"
      ]
    },
    {
      "cell_type": "markdown",
      "id": "78009bbe",
      "metadata": {
        "id": "78009bbe"
      },
      "source": [
        "## 5) Volume element and integrands\n",
        "The 6D integral reduces to Hylleraas form with Jacobian \\(8\\pi^2 r_1 r_2 r_{12}\\)."
      ]
    },
    {
      "cell_type": "code",
      "execution_count": null,
      "id": "1d259aaa",
      "metadata": {
        "id": "1d259aaa"
      },
      "outputs": [],
      "source": [
        "\n",
        "def jacobian_hylleraas(r1, r2, r12):\n",
        "    return 8*np.pi**2 * r1 * r2 * r12\n",
        "\n",
        "def potential_C(r1, r2, r12):\n",
        "    return -Z/r1 - Z/r2 + 1.0/np.maximum(r12,1e-14)\n"
      ]
    },
    {
      "cell_type": "markdown",
      "id": "0c99c361",
      "metadata": {
        "id": "0c99c361"
      },
      "source": [
        "## 6) Assemble S and H by quadrature\n",
        "Kinetic energy via finite differences on \\(r_1,r_2,r_{12}\\) (denser grid → better)."
      ]
    },
    {
      "cell_type": "code",
      "execution_count": null,
      "id": "175cae42",
      "metadata": {
        "id": "175cae42"
      },
      "outputs": [],
      "source": [
        "\n",
        "def assemble_matrices(Nmax=2, zeta=1.8, sector='singlet', nL=24, nG=24, scale=1.0):\n",
        "    idx = hylleraas_basis_indices(Nmax)\n",
        "    K = len(idx)\n",
        "    S = np.zeros((K,K))\n",
        "    H = np.zeros((K,K))\n",
        "\n",
        "    # radial quadrature (0,inf): r = x/scale\n",
        "    r1_nodes, r1_w = gauss_laguerre(nL, scale=scale)\n",
        "    r2_nodes, r2_w = gauss_laguerre(nL, scale=scale)\n",
        "\n",
        "    # pre-store basis along loops for reuse\n",
        "    for a, r1 in enumerate(r1_nodes):\n",
        "        for b, r2 in enumerate(r2_nodes):\n",
        "            r12_min = abs(r1 - r2)\n",
        "            r12_max = r1 + r2\n",
        "            r12_nodes, r12_w = gauss_legendre(r12_min, r12_max, nG)\n",
        "\n",
        "            # evaluate basis at all r12 for this (r1,r2)\n",
        "            B_r12 = np.zeros((len(r12_nodes), K))\n",
        "            for t, r12 in enumerate(r12_nodes):\n",
        "                for m, ijk in enumerate(idx):\n",
        "                    B_r12[t, m] = basis_eval_point(r1, r2, r12, ijk, zeta, sector)\n",
        "\n",
        "            J = jacobian_hylleraas(r1, r2, r12_nodes)\n",
        "            w_tot = r1_w[a]*r2_w[b]*r12_w*J\n",
        "\n",
        "            # Overlap S\n",
        "            for i in range(K):\n",
        "                for j in range(i, K):\n",
        "                    integrand = B_r12[:,i]*B_r12[:,j]\n",
        "                    val = np.sum(integrand * w_tot)\n",
        "                    S[i,j] += val\n",
        "                    if j!=i: S[j,i] += val\n",
        "\n",
        "            # Potential part of H\n",
        "            V = potential_C(r1, r2, r12_nodes)\n",
        "            for i in range(K):\n",
        "                for j in range(i, K):\n",
        "                    integrand = B_r12[:,i]*B_r12[:,j]*V\n",
        "                    val = np.sum(integrand * w_tot)\n",
        "                    H[i,j] += val\n",
        "                    if j!=i: H[j,i] += val\n",
        "\n",
        "    # Kinetic via FD in r1,r2,r12 (coarse but consistent). For speed, we skip here;\n",
        "    # Users can enable by a second pass with FD stencils (left as optional due to runtime).\n",
        "    # Instead, approximate ⟨T⟩ using a small central-diff pass over a reduced grid:\n",
        "    T = np.zeros_like(H)\n",
        "    dr = 1e-2\n",
        "    nL_fd = min(12, nL//2)\n",
        "    nG_fd = min(12, nG//2)\n",
        "    r1_nodes_fd, r1_w_fd = gauss_laguerre(nL_fd, scale=scale)\n",
        "    r2_nodes_fd, r2_w_fd = gauss_laguerre(nL_fd, scale=scale)\n",
        "\n",
        "    def lap_fd(r1, r2, r12, ijk):\n",
        "        i,j,k = ijk\n",
        "        def f(r1p, r2p, r12p):\n",
        "            return basis_eval_point(r1p, r2p, r12p, ijk, zeta, sector)\n",
        "        f0 = f(r1, r2, r12)\n",
        "        # central differences; guard positivity\n",
        "        rp = lambda x: max(x+dr, 1e-6)\n",
        "        rm = lambda x: max(x-dr, 1e-6)\n",
        "        f_r1p, f_r1m = f(rp(r1), r2, r12), f(rm(r1), r2, r12)\n",
        "        f_r2p, f_r2m = f(r1, rp(r2), r12), f(r1, rm(r2), r12)\n",
        "        f_spp, f_smm = f(r1, r2, rp(r12)), f(r1, r2, rm(r12))\n",
        "        lap = (f_r1p - 2*f0 + f_r1m)/(dr*dr) + (f_r2p - 2*f0 + f_r2m)/(dr*dr) + (f_spp - 2*f0 + f_smm)/(dr*dr)\n",
        "        return lap\n",
        "\n",
        "    for a, r1 in enumerate(r1_nodes_fd):\n",
        "        for b, r2 in enumerate(r2_nodes_fd):\n",
        "            r12_min = abs(r1 - r2)\n",
        "            r12_max = r1 + r2\n",
        "            r12_nodes_fd, r12_w_fd = gauss_legendre(r12_min, r12_max, nG_fd)\n",
        "            J = jacobian_hylleraas(r1, r2, r12_nodes_fd)\n",
        "            w_tot = r1_w_fd[a]*r2_w_fd[b]*r12_w_fd*J\n",
        "            # precompute laplacians for each basis at these nodes\n",
        "            L = np.zeros((len(r12_nodes_fd), K))\n",
        "            B = np.zeros((len(r12_nodes_fd), K))\n",
        "            for t, r12 in enumerate(r12_nodes_fd):\n",
        "                for m, ijk in enumerate(idx):\n",
        "                    L[t,m] = lap_fd(r1, r2, r12, ijk)\n",
        "                    B[t,m] = basis_eval_point(r1, r2, r12, ijk, zeta, sector)\n",
        "            for i in range(K):\n",
        "                for j in range(i, K):\n",
        "                    integrand = (-0.5*L[:,i]) * B[:,j]\n",
        "                    val = np.sum(integrand * w_tot)\n",
        "                    T[i,j] += val\n",
        "                    if j!=i: T[j,i] += val\n",
        "\n",
        "    H = H + T\n",
        "    return idx, S, H\n"
      ]
    },
    {
      "cell_type": "markdown",
      "id": "44b8d332",
      "metadata": {
        "id": "44b8d332"
      },
      "source": [
        "## 7) Enforce electron–electron Kato cusp (numerical projection)\n",
        "We impose \\(\\partial\\Psi/\\partial r_{12} = \\tfrac{1}{2}\\Psi\\) at \\(r_{12}=0\\) in a weak/collocation sense."
      ]
    },
    {
      "cell_type": "code",
      "execution_count": null,
      "id": "964756c0",
      "metadata": {
        "id": "964756c0"
      },
      "outputs": [],
      "source": [
        "\n",
        "def impose_e_e_cusp(idx, zeta, sector, collocation_rs=(0.2, 0.5, 1.0)):\n",
        "    # Build linear constraints A c = 0 for (d/dr12 Psi - 0.5 Psi)|_{r12->0} ~ 0 at a few (r1,r2)\n",
        "    # Using r1=r2=r for a set of collocation radii\n",
        "    A_rows = []\n",
        "    for r in collocation_rs:\n",
        "        r1=r2=r\n",
        "        # limit r12->0: derivative wrt r12 of basis is k * r12^{k-1} * ... at 0; only k=1 survives (others 0 or inf)\n",
        "        row = []\n",
        "        for (i,j,k) in idx:\n",
        "            env = np.exp(-zeta*(r1+r2))\n",
        "            poly_pref = (r1**i)*(r2**j)\n",
        "            if k==0:\n",
        "                d_term = 0.0\n",
        "                val0   = env*poly_pref*1.0\n",
        "            else:\n",
        "                d_term = env*poly_pref*k*(0.0**(k-1)) if k==1 else 0.0  # only k=1 contributes at r12->0\n",
        "                val0   = 0.0  # r12^k -> 0 for k>=1\n",
        "            s = np.sign(r1 - r2) if sector=='triplet' else 1.0\n",
        "            # derivative - 0.5 * value:\n",
        "            row.append( (d_term - 0.5*val0)*s )\n",
        "        A_rows.append(row)\n",
        "    A = np.array(A_rows)\n",
        "    # Return a projector that maps coefficients onto the nullspace of A\n",
        "    U, s, Vt = np.linalg.svd(A, full_matrices=True)\n",
        "    tol = 1e-10\n",
        "    rank = (s>tol).sum()\n",
        "    nullspace = Vt[rank:].T  # columns span nullspace\n",
        "    def project(c):\n",
        "        # project arbitrary c onto span(nullspace)\n",
        "        return nullspace @ (nullspace.T @ c)\n",
        "    return project\n"
      ]
    },
    {
      "cell_type": "markdown",
      "id": "b389e37d",
      "metadata": {
        "id": "b389e37d"
      },
      "source": [
        "## 8) Solve generalized eigenproblem with optional cusp projection"
      ]
    },
    {
      "cell_type": "code",
      "execution_count": null,
      "id": "41b33627",
      "metadata": {
        "id": "41b33627"
      },
      "outputs": [],
      "source": [
        "\n",
        "def solve_evp(S, H, cusp_projector=None):\n",
        "    # regularize S\n",
        "    eps = 1e-12\n",
        "    evals, evecs = np.linalg.eigh(S + eps*np.eye(S.shape[0]))\n",
        "    Sinv2 = evecs @ np.diag(1.0/np.sqrt(np.maximum(evals, eps))) @ evecs.T\n",
        "    Ht = Sinv2 @ H @ Sinv2\n",
        "    E, U = np.linalg.eigh(Ht)\n",
        "    C = Sinv2 @ U\n",
        "    if cusp_projector is not None:\n",
        "        # project eigenvectors and re-diagonalize in projected subspace (one refinement step)\n",
        "        Cproj = np.apply_along_axis(cusp_projector, 0, C)\n",
        "        # Orthonormalize projected vectors via S\n",
        "        Q, _ = np.linalg.qr(Cproj)  # simple orthonormalization (approximate)\n",
        "        # Rayleigh-Ritz in subspace\n",
        "        H_sub = Q.T @ H @ Q\n",
        "        S_sub = Q.T @ S @ Q\n",
        "        evals_s, evecs_s = np.linalg.eigh(np.linalg.solve(S_sub, H_sub))\n",
        "        E = evals_s\n",
        "        C = Q @ evecs_s\n",
        "    return E, C\n"
      ]
    },
    {
      "cell_type": "markdown",
      "id": "336bf4f5",
      "metadata": {
        "id": "336bf4f5"
      },
      "source": [
        "## 9) Run examples"
      ]
    },
    {
      "cell_type": "code",
      "execution_count": null,
      "id": "787eba35",
      "metadata": {
        "id": "787eba35",
        "outputId": "72c62e36-d727-4255-d156-e2082d5a200b",
        "colab": {
          "base_uri": "https://localhost:8080/"
        }
      },
      "outputs": [
        {
          "output_type": "stream",
          "name": "stdout",
          "text": [
            "Singlet lowest eigenvalues (a.u.): [-717.88239404 -273.24715017  -31.27687916  -25.28543495  -12.76554833]\n",
            "Triplet lowest eigenvalues (a.u.): [-884.55436598 -417.76669189 -305.84273505  -27.57805281  -13.25132167]\n"
          ]
        }
      ],
      "source": [
        "\n",
        "# Assemble matrices\n",
        "idx, S_sing, H_sing = assemble_matrices(Nmax=2, zeta=1.8, sector='singlet', nL=24, nG=24, scale=1.0)\n",
        "idx, S_trip, H_trip = assemble_matrices(Nmax=2, zeta=1.8, sector='triplet', nL=24, nG=24, scale=1.0)\n",
        "\n",
        "# Cusp projector (applied identically to both sectors here)\n",
        "proj = impose_e_e_cusp(idx, zeta=1.8, sector='singlet', collocation_rs=(0.2,0.5,1.0))\n",
        "\n",
        "E_sing, C_sing = solve_evp(S_sing, H_sing, cusp_projector=proj)\n",
        "E_trip, C_trip = solve_evp(S_trip, H_trip, cusp_projector=proj)\n",
        "\n",
        "print(\"Singlet lowest eigenvalues (a.u.):\", E_sing[:5])\n",
        "print(\"Triplet lowest eigenvalues (a.u.):\", E_trip[:5])\n"
      ]
    },
    {
      "cell_type": "markdown",
      "id": "6f340a33",
      "metadata": {
        "id": "6f340a33"
      },
      "source": [
        "## 10) Quick plot (illustrative)"
      ]
    },
    {
      "cell_type": "code",
      "execution_count": null,
      "id": "9298696f",
      "metadata": {
        "id": "9298696f",
        "outputId": "29983b5a-91b5-4a60-d1e4-398de72aa153",
        "colab": {
          "base_uri": "https://localhost:8080/",
          "height": 391
        }
      },
      "outputs": [
        {
          "output_type": "display_data",
          "data": {
            "text/plain": [
              "<Figure size 600x400 with 1 Axes>"
            ],
            "image/png": "[encoded data removed]"
          },
          "metadata": {}
        }
      ],
      "source": [
        "\n",
        "k=5\n",
        "x = np.arange(k)\n",
        "plt.figure(figsize=(6,4))\n",
        "plt.bar(x-0.15, E_sing[:k], width=0.3, label='singlet')\n",
        "plt.bar(x+0.15, E_trip[:k], width=0.3, label='triplet (Möbius)')\n",
        "plt.title('Lowest eigenvalues (upgraded quadrature + cusp projection)')\n",
        "plt.legend(); plt.show()\n"
      ]
    },
    {
      "cell_type": "markdown",
      "id": "564f9b49",
      "metadata": {
        "id": "564f9b49"
      },
      "source": [
        "### Notes\n",
        "- Energies are still **not** high-precision; the kinetic part needs analytic Hylleraas operators for true accuracy.\n",
        "- The cusp enforcement is **numerical** via projection at a few collocation points; you can densify `collocation_rs`.\n",
        "- Increase `nL,nG` for better convergence (slower). Tune `zeta` and the basis degree `Nmax`.\n"
      ]
    }
  ],
  "metadata": {
    "colab": {
      "provenance": [],
      "include_colab_link": true
    },
    "language_info": {
      "name": "python"
    },
    "kernelspec": {
      "name": "python3",
      "display_name": "Python 3"
    }
  },
  "nbformat": 4,
  "nbformat_minor": 5
}