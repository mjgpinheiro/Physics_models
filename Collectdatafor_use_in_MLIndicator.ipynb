{
  "nbformat": 4,
  "nbformat_minor": 0,
  "metadata": {
    "colab": {
      "provenance": [],
      "authorship_tag": "ABX9TyOI5gljGwv28tXgLUzyfkcf",
      "include_colab_link": true
    },
    "kernelspec": {
      "name": "python3",
      "display_name": "Python 3"
    },
    "language_info": {
      "name": "python"
    }
  },
  "cells": [
    {
      "cell_type": "markdown",
      "metadata": {
        "id": "view-in-github",
        "colab_type": "text"
      },
      "source": [
        "<a href=\"https://colab.research.google.com/github/mjgpinheiro/Physics_models/blob/main/Collectdatafor_use_in_MLIndicator.ipynb\" target=\"_parent\"><img src=\"https://colab.research.google.com/assets/colab-badge.svg\" alt=\"Open In Colab\"/></a>"
      ]
    },
    {
      "cell_type": "code",
      "execution_count": null,
      "metadata": {
        "id": "uRCblupZ9w2Z"
      },
      "outputs": [],
      "source": [
        "!pip install yfinance\n",
        "import pandas as pd\n",
        "import numpy as np\n",
        "from sklearn.linear_model import LinearRegression\n",
        "from sklearn.model_selection import train_test_split\n",
        "from sklearn.preprocessing import StandardScaler\n",
        "import yfinance as yf\n",
        "\n",
        "# Replace 'AAPL' with the desired stock's symbol\n",
        "stock_symbol = 'AAPL'\n",
        "\n",
        "# Download historical stock data from Yahoo Finance\n",
        "data = yf.download(stock_symbol, start='2000-01-01', end='2021-12-31')\n",
        "\n",
        "# Calculate features (moving averages for this example)\n",
        "data['SMA_5'] = data['Close'].rolling(window=5).mean()\n",
        "data['SMA_10'] = data['Close'].rolling(window=10).mean()\n",
        "\n",
        "# Drop rows with NaN values\n",
        "data.dropna(inplace=True)\n",
        "\n",
        "# Prepare input and output data for the model\n",
        "X = data[['SMA_5', 'SMA_10']].values\n",
        "y = data['Close'].values\n",
        "\n",
        "# Split data into training and testing sets\n",
        "X_train, X_test, y_train, y_test = train_test_split(X, y, test_size=0.2, random_state=42)\n",
        "\n",
        "# Standardize the data\n",
        "scaler = StandardScaler()\n",
        "X_train = scaler.fit_transform(X_train)\n",
        "X_test = scaler.transform(X_test)\n",
        "\n",
        "# Train the linear regression model\n",
        "model = LinearRegression()\n",
        "model.fit(X_train, y_train)\n",
        "\n",
        "# Save the model's coefficients and the scaler's mean and scale\n",
        "coefficients = model.coef_\n",
        "intercept = model.intercept_\n",
        "mean = scaler.mean_\n",
        "scale = scaler.scale_\n",
        "\n",
        "params = np.column_stack([coefficients.reshape(1, -1), intercept.reshape(1, -1), mean.reshape(1, -1), scale.reshape(1, -1)])\n",
        "np.savetxt(\"model_params.csv\", params, delimiter=\",\")\n"
      ]
    },
    {
      "cell_type": "markdown",
      "source": [
        "The model_params.csv file has only one row because it contains the necessary parameters for your trained linear regression model. The parameters are:\n",
        "\n",
        "Coefficients for the SMA_5 and SMA_10 features (2 values)\n",
        "Intercept (1 value)\n",
        "Mean of the StandardScaler for both features (2 values)\n",
        "Scale of the StandardScaler for both features (2 values)\n",
        "These 7 values are stored as one row in the model_params.csv file. In your MQL5 code, you'll read these values and use them to make predictions with the trained linear regression model.\n",
        "\n",
        "Here's a quick recap of the workflow:\n",
        "\n",
        "Run the provided Python code to download historical stock data, calculate features, train the linear regression model, and save the model parameters in the model_params.csv file.\n",
        "Copy the model_params.csv file to the \"Files\" folder within your MetaTrader 5 installation directory (usually \"C:\\Program Files\\MetaTrader 5\\MQL5\\Files\").\n",
        "Use the MQL5 code I provided earlier to read the model parameters from the model_params.csv file and make predictions based on the trained linear regression model.\n",
        "The period for which the indicator predictions apply depends on the input data used to train the model and the nature of the model itself. The predictions made by the linear regression model in this case are primarily based on the 5-day and 10-day simple moving averages (SMA_5 and SMA_10) of the stock prices.\n",
        "\n",
        "Since the moving averages are calculated using historical data, the indicator predictions apply to the next immediate time period (e.g., the next day) after the latest available data point in the input dataset. However, the performance of the model in the future depends on how well it can capture the underlying trends and patterns in the stock prices.\n",
        "\n",
        "It is essential to remember that the linear regression model is relatively simple and may not be able to capture more complex relationships in the data. For a more accurate and reliable prediction, you may consider using more advanced machine learning models, such as deep learning models or time series models (e.g., ARIMA, LSTM, etc.), and incorporating additional features (e.g., technical indicators, sentiment analysis, etc.) to improve the model's predictive capabilities.\n",
        "\n",
        "Keep in mind that financial markets are inherently volatile and can be influenced by various factors, such as macroeconomic events, news, and market sentiment. Consequently, it's crucial to periodically retrain the model and update the input data to maintain its accuracy and relevance."
      ],
      "metadata": {
        "id": "x9D1Zejx_uz6"
      }
    }
  ]
}