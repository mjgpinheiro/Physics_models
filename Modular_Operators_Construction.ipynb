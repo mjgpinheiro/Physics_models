{
  "nbformat": 4,
  "nbformat_minor": 0,
  "metadata": {
    "colab": {
      "provenance": [],
      "authorship_tag": "ABX9TyP2xzgLEsbS6TuYe6kVH8fD",
      "include_colab_link": true
    },
    "kernelspec": {
      "name": "python3",
      "display_name": "Python 3"
    },
    "language_info": {
      "name": "python"
    }
  },
  "cells": [
    {
      "cell_type": "markdown",
      "metadata": {
        "id": "view-in-github",
        "colab_type": "text"
      },
      "source": [
        "<a href=\"https://colab.research.google.com/github/mjgpinheiro/Physics_models/blob/main/Modular_Operators_Construction.ipynb\" target=\"_parent\"><img src=\"https://colab.research.google.com/assets/colab-badge.svg\" alt=\"Open In Colab\"/></a>"
      ]
    },
    {
      "cell_type": "code",
      "execution_count": null,
      "metadata": {
        "colab": {
          "base_uri": "https://localhost:8080/"
        },
        "id": "eIqmm4ch-HTy",
        "outputId": "018136d5-a7d0-4f79-c94d-e739780fc5f1"
      },
      "outputs": [
        {
          "output_type": "stream",
          "name": "stdout",
          "text": [
            "304.3277831462666 302.611001298674\n"
          ]
        }
      ],
      "source": [
        "# --- Modular operators + NLS (2D torus, unit-square geometry for Step 1) ---\n",
        "import numpy as np\n",
        "\n",
        "# ---- Arithmetic helpers ----\n",
        "def _sigma(n, k=1):\n",
        "    s=0\n",
        "    r=int(n**0.5)\n",
        "    for d in range(1, r+1):\n",
        "        if n % d == 0:\n",
        "            s += d**k\n",
        "            q = n//d\n",
        "            if q != d: s += q**k\n",
        "    return s\n",
        "\n",
        "def E2(tau, N=200):\n",
        "    q = np.exp(2j*np.pi*tau); s = 1.0+0j; qn=q\n",
        "    for n in range(1, N+1):\n",
        "        s += -24.0*_sigma(n,1)*qn\n",
        "        qn *= q\n",
        "    return s\n",
        "\n",
        "def E4(tau, N=200):\n",
        "    q = np.exp(2j*np.pi*tau); s = 1.0+0j; qn=q\n",
        "    for n in range(1, N+1):\n",
        "        s += 240.0*_sigma(n,3)*qn\n",
        "        qn *= q\n",
        "    return s\n",
        "\n",
        "def E6(tau, N=200):\n",
        "    q = np.exp(2j*np.pi*tau); s = 1.0+0j; qn=q\n",
        "    for n in range(1, N+1):\n",
        "        s += -504.0*_sigma(n,5)*qn\n",
        "        qn *= q\n",
        "    return s\n",
        "\n",
        "# Ramanujan identities for derivatives (exact, fast, stable)\n",
        "def dE2_dtau(tau): return 2j*np.pi*(E2(tau)**2 - E4(tau))/12.0\n",
        "def dE4_dtau(tau): return 2j*np.pi*(E2(tau)*E4(tau) - E6(tau))/3.0\n",
        "def dE6_dtau(tau): return 2j*np.pi*(E2(tau)*E6(tau) - E4(tau)**2)/2.0\n",
        "\n",
        "def rankin_cohen_1(f, df, g, dg, k, l):\n",
        "    # [f,g]_1 = (1/(2π i)) (k f g' - l f' g)\n",
        "    return (k*f*dg - l*df*g) / (2j*np.pi)\n",
        "\n",
        "# ---- Grid, spectrum, and Hecke projector ----\n",
        "def spectral_operators(Ny, Nx):\n",
        "    ky = np.fft.fftfreq(Ny)*Ny\n",
        "    kx = np.fft.fftfreq(Nx)*Nx\n",
        "    KX, KY = np.meshgrid(kx, ky)\n",
        "    k2 = (2*np.pi)**2 * (KX**2 + KY**2)\n",
        "    return KX, KY, k2\n",
        "\n",
        "def hecke_mask(Ny, Nx, n):\n",
        "    my = np.fft.fftfreq(Ny)*Ny\n",
        "    mx = np.fft.fftfreq(Nx)*Nx\n",
        "    MX, MY = np.meshgrid(mx, my)\n",
        "    M = (np.mod(MX, n)==0) & (np.mod(MY, n)==0)\n",
        "    return M.astype(float)\n",
        "\n",
        "# ---- Modular NLS stepper (Strang split) ----\n",
        "def modular_nls(psi0, steps=200, dt=1e-3, g=1.0,\n",
        "                tau=0.5+0.8660254j, k_weight=2, eps=0.2, zeta=0.1, eta=0.5, n_hecke=2):\n",
        "    psi = psi0.astype(complex).copy()\n",
        "    Ny, Nx = psi.shape\n",
        "    KX, KY, k2  = spectral_operators(Ny, Nx)\n",
        "    M           = hecke_mask(Ny, Nx, n_hecke)\n",
        "    # D_k on a field (no explicit tau-dependence): a scalar multiplier\n",
        "    beta = -(k_weight/12.0) * E2(tau)\n",
        "    # RC drift coefficient from (E4, E6)\n",
        "    e4,e6 = E4(tau), E6(tau)\n",
        "    de4,de6 = dE4_dtau(tau), dE6_dtau(tau)\n",
        "    Ctau = rankin_cohen_1(e4, de4, e6, de6, 4, 6)   # complex scalar\n",
        "    # Linear eigenvalue in Fourier domain\n",
        "    eig = k2 + zeta*Ctau*(1j*2*np.pi*KX) + eps*beta + eta*(M - 1.0)\n",
        "    prop = np.exp(-1j * eig * dt)\n",
        "    for _ in range(steps):\n",
        "        # half linear\n",
        "        psi_hat = np.fft.fft2(psi); psi_hat *= prop; psi = np.fft.ifft2(psi_hat)\n",
        "        # nonlinear\n",
        "        psi *= np.exp(-1j * g * np.abs(psi)**2 * dt)\n",
        "        # half linear\n",
        "        psi_hat = np.fft.fft2(psi); psi_hat *= prop; psi = np.fft.ifft2(psi_hat)\n",
        "    return psi\n",
        "\n",
        "# ---- Run a demo ----\n",
        "Ny,Nx = 128,128\n",
        "y = np.linspace(0,1,Ny,endpoint=False); x = np.linspace(0,1,Nx,endpoint=False)\n",
        "X,Y = np.meshgrid(x,y)\n",
        "psi0 = np.exp(-120*((X-0.5)**2 + (Y-0.5)**2)) * np.exp(2j*np.pi*(8*X + 0*Y))  # bump + carrier\n",
        "\n",
        "psiT = modular_nls(\n",
        "    psi0, steps=600, dt=7.5e-4, g=+1.0,\n",
        "    tau=np.exp(1j*np.pi/3),     # hexagonal torus as coefficient source\n",
        "    k_weight=2, eps=0.25,       # Ramanujan–Serre (E2) strength\n",
        "    zeta=0.15,                  # RC guided drift\n",
        "    eta=0.8, n_hecke=3          # Hecke pruning to multiples of 3\n",
        ")\n",
        "\n",
        "# Inspect energy in Fourier (expect pruning to kx,ky ≡ 0 mod 3)\n",
        "spec = np.log10(1e-16 + np.abs(np.fft.fftshift(np.fft.fft2(psiT)))**2)\n",
        "print(float(spec.max()), float(spec.mean()))\n"
      ]
    }
  ]
}