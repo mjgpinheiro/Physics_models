{
  "nbformat": 4,
  "nbformat_minor": 0,
  "metadata": {
    "colab": {
      "provenance": [],
      "authorship_tag": "ABX9TyOCh9z6a8j605RzWJ1RAkGY",
      "include_colab_link": true
    },
    "kernelspec": {
      "name": "python3",
      "display_name": "Python 3"
    },
    "language_info": {
      "name": "python"
    }
  },
  "cells": [
    {
      "cell_type": "markdown",
      "metadata": {
        "id": "view-in-github",
        "colab_type": "text"
      },
      "source": [
        "<a href=\"https://colab.research.google.com/github/mjgpinheiro/Physics_models/blob/main/neuron_glial_method.ipynb\" target=\"_parent\"><img src=\"https://colab.research.google.com/assets/colab-badge.svg\" alt=\"Open In Colab\"/></a>"
      ]
    },
    {
      "cell_type": "code",
      "execution_count": null,
      "metadata": {
        "colab": {
          "base_uri": "https://localhost:8080/",
          "height": 539
        },
        "id": "OHKkwPlAGzQT",
        "outputId": "5cb8faf2-9563-49d2-9a85-03e478fa8de9"
      },
      "outputs": [
        {
          "output_type": "stream",
          "name": "stderr",
          "text": [
            "<ipython-input-6-cb10295f93e3>:36: RuntimeWarning: overflow encountered in double_scalars\n",
            "  dVndt = (Ina + Ik - kn) / Cn\n",
            "/usr/local/lib/python3.9/dist-packages/scipy/integrate/_odepack_py.py:248: ODEintWarning: Illegal input detected (internal error). Run with full_output = 1 to get quantitative information.\n",
            "  warnings.warn(warning_msg, ODEintWarning)\n"
          ]
        },
        {
          "output_type": "display_data",
          "data": {
            "text/plain": [
              "<Figure size 640x480 with 1 Axes>"
            ],
            "image/png": "[encoded data removed]"
          },
          "metadata": {}
        }
      ],
      "source": [
        "import numpy as np\n",
        "import matplotlib.pyplot as plt\n",
        "from scipy.integrate import odeint\n",
        "\n",
        "# Define reversal potentials\n",
        "Ena = 50.0  # mV\n",
        "Ek = -77.0  # mV\n",
        "Eg = -20.0  # mV\n",
        "\n",
        "# Define the differential equation to be solved\n",
        "def dydt(y, t):\n",
        "    return -y + np.sin(t)\n",
        "\n",
        "tn = 1e-4  # Membrane time constant for neurons\n",
        "tg = 1e-3  # Membrane time constant for glial cells\n",
        "\n",
        "# Define the hybrid model\n",
        "def hybrid_model(y, t, Cn, Cg, Ena, Eg, gn, gk):\n",
        "    global tn, tg\n",
        "\n",
        "    # Unpack state variables\n",
        "    Vn = y[0]\n",
        "    Vg = y[1]\n",
        "    kn = y[2]\n",
        "    kg = y[3]\n",
        "\n",
        "# Membrane currents for neurons\n",
        "    Ik = gk * (Vn - Ek)\n",
        "    Ina = gn * (Vn - Ena)\n",
        "\n",
        "\n",
        "    # Membrane current for glial cells\n",
        "    Ig = kg * (Vg - Eg)\n",
        "\n",
        "    # Calculate derivatives\n",
        "    dVndt = (Ina + Ik - kn) / Cn\n",
        "    dVgdt = (Ig - gn * (Vg - En)) / Cg\n",
        "    dkndt = -kn / tn\n",
        "    dkgdt = -kg / tg\n",
        "\n",
        "    # Pack derivatives\n",
        "    dydt = [dVndt, dVgdt, dkndt, dkgdt]\n",
        "    return dydt\n",
        "\n",
        "\n",
        "\n",
        "\n",
        "# Simulation parameters\n",
        "Cn = 0.01\n",
        "Cg = 0.1\n",
        "En = 0\n",
        "Eg = -70\n",
        "gn = 10\n",
        "gk = 10\n",
        "\n",
        "# Initial conditions\n",
        "Vn0 = 0\n",
        "Vg0 = -70\n",
        "kn0 = 0.5\n",
        "kg0 = 0.5\n",
        "y0 = [Vn0, Vg0, kn0, kg0]\n",
        "\n",
        "# Time vector\n",
        "t = np.linspace(0, 10, 1000)\n",
        "\n",
        "# Solve the differential equation using the hybrid model\n",
        "sol = odeint(hybrid_model, y0, t, args=(Cn, Cg, En, Eg, gn, gk))\n",
        "Vn = sol[:, 0]\n",
        "Vg = sol[:, 1]\n",
        "\n",
        "# Plot the results\n",
        "plt.plot(t, Vn, label='Neuron')\n",
        "plt.plot(t, Vg, label='Glial')\n",
        "plt.xlabel('Time (s)')\n",
        "plt.ylabel('Membrane potential (mV)')\n",
        "plt.legend()\n",
        "plt.show()\n"
      ]
    }
  ]
}