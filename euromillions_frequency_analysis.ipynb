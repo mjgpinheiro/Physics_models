{
  "nbformat": 4,
  "nbformat_minor": 0,
  "metadata": {
    "colab": {
      "provenance": [],
      "authorship_tag": "ABX9TyNfe98dclb4dXCWQxlSyUIo",
      "include_colab_link": true
    },
    "kernelspec": {
      "name": "python3",
      "display_name": "Python 3"
    },
    "language_info": {
      "name": "python"
    }
  },
  "cells": [
    {
      "cell_type": "markdown",
      "metadata": {
        "id": "view-in-github",
        "colab_type": "text"
      },
      "source": [
        "<a href=\"https://colab.research.google.com/github/mjgpinheiro/Physics_models/blob/main/euromillions_frequency_analysis.ipynb\" target=\"_parent\"><img src=\"https://colab.research.google.com/assets/colab-badge.svg\" alt=\"Open In Colab\"/></a>"
      ]
    },
    {
      "cell_type": "code",
      "source": [
        "import itertools\n",
        "import random\n",
        "import pandas as pd\n",
        "import csv\n",
        "import time\n",
        "\n",
        "# Define the header and data rows\n",
        "header = [\"Date\", \"Number1\", \"Number2\", \"Number3\", \"Number4\", \"Number5\", \"Star1\", \"Star2\"]\n",
        "data_rows = [\n",
        "    [\"2023-04-4\", 10, 16, 31, 33, 50, 3, 8],\n",
        "    [\"2023-04-07\", 5, 26, 28, 36, 46, 6, 12],\n",
        "    [\"2023-04-11\", 10, 14, 16, 19, 29, 2, 10],\n",
        "    [\"2023-04-14\", 4, 11, 37, 44, 49, 6, 7],\n",
        "    [\"2023-04-18\", 17, 21, 23, 35, 37, 10, 11],\n",
        "    [\"2023-04-21\", 7, 8, 18, 33, 42, 2, 8],\n",
        "    [\"2023-04-25\", 10, 29, 30, 40, 45, 1, 12],\n",
        "    [\"2023-04-28\", 11, 13, 16, 23, 34, 1, 10],\n",
        "]\n",
        "\n",
        "import itertools\n",
        "import random\n",
        "import csv\n",
        "\n",
        "# [Same code for data_rows and writing CSV]\n",
        "\n",
        "# Read the CSV once into memory\n",
        "past_draws = set()\n",
        "with open(\"euromillions_past_draws.csv\", mode=\"r\") as csvfile:\n",
        "    reader = csv.reader(csvfile)\n",
        "    next(reader)  # skip header\n",
        "    for row in reader:\n",
        "        past_draws.add(tuple(map(int, row[1:])))\n",
        "\n",
        "# Generate the wheeling system with fewer numbers and stars to reduce combinations\n",
        "wheel_numbers_count = 7  # Reduced from 10\n",
        "wheel_stars_count = 3     # Reduced from 4\n",
        "\n",
        "selected_wheel_numbers = random.sample(range(1, 51), wheel_numbers_count)\n",
        "selected_wheel_stars = random.sample(range(1, 13), wheel_stars_count)\n",
        "\n",
        "# Print the selected wheeling system\n",
        "print(f\"Selected wheel numbers: {selected_wheel_numbers}\")\n",
        "print(f\"Selected wheel stars: {selected_wheel_stars}\")\n",
        "\n",
        "# Generate and check tickets\n",
        "winners = set()\n",
        "for numbers in itertools.combinations(selected_wheel_numbers, 5):\n",
        "    for stars in itertools.combinations(selected_wheel_stars, 2):\n",
        "        ticket = numbers + stars\n",
        "        if ticket in past_draws:\n",
        "            winners.add(ticket)\n",
        "\n",
        "# Output winners\n",
        "if winners:\n",
        "    for ticket in winners:\n",
        "        print(f\"Numbers: {ticket[:5]}, Stars: {ticket[5:]}\")\n",
        "else:\n",
        "    print(\"No winners found in the generated wheeling system.\")\n"
      ],
      "metadata": {
        "colab": {
          "base_uri": "https://localhost:8080/"
        },
        "id": "gTmKGNTRSRRe",
        "outputId": "78ea77f5-e14e-4047-aa9d-3eb00945eac4"
      },
      "execution_count": 3,
      "outputs": [
        {
          "output_type": "stream",
          "name": "stdout",
          "text": [
            "Selected wheel numbers: [46, 42, 16, 41, 32, 3, 38]\n",
            "Selected wheel stars: [6, 1, 2]\n",
            "No winners found in the generated wheeling system.\n"
          ]
        }
      ]
    }
  ]
}