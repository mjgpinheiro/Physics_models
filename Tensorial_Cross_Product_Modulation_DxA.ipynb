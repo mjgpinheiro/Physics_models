{
  "nbformat": 4,
  "nbformat_minor": 0,
  "metadata": {
    "colab": {
      "provenance": [],
      "authorship_tag": "ABX9TyOSkKQcZ0T0wwLodaOd4cWw",
      "include_colab_link": true
    },
    "kernelspec": {
      "name": "python3",
      "display_name": "Python 3"
    },
    "language_info": {
      "name": "python"
    }
  },
  "cells": [
    {
      "cell_type": "markdown",
      "metadata": {
        "id": "view-in-github",
        "colab_type": "text"
      },
      "source": [
        "<a href=\"https://colab.research.google.com/github/mjgpinheiro/Physics_models/blob/main/Tensorial_Cross_Product_Modulation_DxA.ipynb\" target=\"_parent\"><img src=\"https://colab.research.google.com/assets/colab-badge.svg\" alt=\"Open In Colab\"/></a>"
      ]
    },
    {
      "cell_type": "code",
      "execution_count": null,
      "metadata": {
        "colab": {
          "base_uri": "https://localhost:8080/",
          "height": 78
        },
        "id": "ScKbDgTMbjHe",
        "outputId": "886ac8b5-c76d-42a9-d305-8974658a1ada"
      },
      "outputs": [
        {
          "output_type": "execute_result",
          "data": {
            "text/plain": [
              "Matrix([\n",
              "[D_12*z - D_13*y, -D_11*z + D_13*x, D_11*y - D_12*x],\n",
              "[D_22*z - D_23*y, -D_21*z + D_23*x, D_21*y - D_22*x],\n",
              "[D_32*z - D_33*y, -D_31*z + D_33*x, D_31*y - D_32*x]])"
            ],
            "text/latex": "$\\displaystyle \\left[\\begin{matrix}D_{12} z - D_{13} y & - D_{11} z + D_{13} x & D_{11} y - D_{12} x\\\\D_{22} z - D_{23} y & - D_{21} z + D_{23} x & D_{21} y - D_{22} x\\\\D_{32} z - D_{33} y & - D_{31} z + D_{33} x & D_{31} y - D_{32} x\\end{matrix}\\right]$"
          },
          "metadata": {},
          "execution_count": 2
        }
      ],
      "source": [
        "import sympy as sp\n",
        "\n",
        "# Define symbols\n",
        "x, y, z = sp.symbols('x y z')\n",
        "D_11, D_12, D_13, D_21, D_22, D_23, D_31, D_32, D_33 = sp.symbols('D_11 D_12 D_13 D_21 D_22 D_23 D_31 D_32 D_33')\n",
        "\n",
        "# Levi-Civita tensor (epsilon_ijk) for three dimensions\n",
        "def epsilon(i, j, k):\n",
        "    if (i, j, k) in [(1, 2, 3), (2, 3, 1), (3, 1, 2)]:\n",
        "        return 1\n",
        "    elif (i, j, k) in [(3, 2, 1), (1, 3, 2), (2, 1, 3)]:\n",
        "        return -1\n",
        "    else:\n",
        "        return 0\n",
        "\n",
        "# Symbolic representation of D and A\n",
        "D = sp.Matrix([[D_11, D_12, D_13], [D_21, D_22, D_23], [D_31, D_32, D_33]])\n",
        "A = sp.Matrix([x, y, z])\n",
        "\n",
        "# Initialize the resulting matrix B_bar_bar as a zero matrix\n",
        "B_bar_bar = sp.zeros(3, 3)\n",
        "\n",
        "# Adjusted approach for delta_i as row vectors\n",
        "delta_row = [sp.Matrix([[1, 0, 0]]), sp.Matrix([[0, 1, 0]]), sp.Matrix([[0, 0, 1]])]\n",
        "\n",
        "# Calculating B_bar_bar according to the updated formula\n",
        "for i in range(3):  # Outer loop for delta_i as row vectors\n",
        "    sum_over_l = sp.zeros(1, 3)  # Resetting for each i\n",
        "    for j in range(3):\n",
        "        for k in range(3):\n",
        "            for l in range(3):\n",
        "                sum_over_l += epsilon(l+1, j+1, k+1) * delta_row[l] * D[i, j] * A[k]\n",
        "    B_bar_bar += delta_row[i].T * sum_over_l  # .T to transpose delta_i back for correct dimensionality\n",
        "\n",
        "B_bar_bar\n"
      ]
    }
  ]
}