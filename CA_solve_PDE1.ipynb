{
  "nbformat": 4,
  "nbformat_minor": 0,
  "metadata": {
    "colab": {
      "provenance": [],
      "authorship_tag": "ABX9TyP00hHW6rIP4mfwUrVAHw72",
      "include_colab_link": true
    },
    "kernelspec": {
      "name": "python3",
      "display_name": "Python 3"
    },
    "language_info": {
      "name": "python"
    }
  },
  "cells": [
    {
      "cell_type": "markdown",
      "metadata": {
        "id": "view-in-github",
        "colab_type": "text"
      },
      "source": [
        "<a href=\"https://colab.research.google.com/github/mjgpinheiro/Physics_models/blob/main/CA_solve_PDE1.ipynb\" target=\"_parent\"><img src=\"https://colab.research.google.com/assets/colab-badge.svg\" alt=\"Open In Colab\"/></a>"
      ]
    },
    {
      "cell_type": "code",
      "execution_count": 4,
      "metadata": {
        "colab": {
          "base_uri": "https://localhost:8080/",
          "height": 295
        },
        "id": "E072tUrMYlJR",
        "outputId": "dbcacaa2-8408-4d28-ddb4-aa20daf1998d"
      },
      "outputs": [
        {
          "output_type": "display_data",
          "data": {
            "text/plain": [
              "<Figure size 432x288 with 2 Axes>"
            ],
            "image/png": "[encoded data removed]"
          },
          "metadata": {
            "needs_background": "light"
          }
        }
      ],
      "source": [
        "import numpy as np\n",
        "import matplotlib.pyplot as plt\n",
        "\n",
        "# Define the parameters of the simulation\n",
        "N = 100  # number of grid points\n",
        "T = 50  # number of time steps\n",
        "kappa = 0.1  # diffusion constant\n",
        "dx = 1.0  # grid spacing\n",
        "dt = 0.5  # time step\n",
        "\n",
        "# Define the initial conditions\n",
        "u = np.zeros((N, T))\n",
        "u[50, 0] = 1.0  # initial heat pulse\n",
        "\n",
        "# Define the update rule for the cellular automaton\n",
        "def heat_eqn(u, kappa, dx, dt):\n",
        "    # Compute the second derivative of u with respect to x\n",
        "    d2u = np.zeros_like(u)\n",
        "    d2u[1:-1, :] = (u[:-2, :] - 2*u[1:-1, :] + u[2:, :]) / dx**2\n",
        "\n",
        "    # Compute the new value of u using the diffusion equation\n",
        "    u_new = u + kappa*dt*d2u\n",
        "\n",
        "    # Apply boundary conditions\n",
        "    u_new[0, :] = u_new[1, :]\n",
        "    u_new[-1, :] = u_new[-2, :]\n",
        "\n",
        "    return u_new\n",
        "# Initialize the array u as a 2D array with shape (Nx, T)\n",
        "u = np.zeros((N, T))\n",
        "\n",
        "# Set the initial condition\n",
        "# Define the values of x that we want to plot\n",
        "x = np.linspace(-5, 5, 100)\n",
        "u[:, 0] = np.sin(x)\n",
        "\n",
        "# Run the simulation\n",
        "for i in range(1, T):\n",
        "    # Reshape the i-th column of u to a 1D array\n",
        "    u_i = u[:, i-1].reshape(N, 1)\n",
        "    # Compute the new value of u using heat_eqn\n",
        "    u[:, i] = heat_eqn(u_i, kappa, dx, dt).flatten()\n",
        "\n",
        "\n",
        "# Plot the results\n",
        "fig, ax = plt.subplots()\n",
        "im = ax.imshow(u, cmap='inferno', origin='lower', extent=[0, T*dt, 0, N*dx])\n",
        "ax.set_xlabel('Time')\n",
        "ax.set_ylabel('Position')\n",
        "ax.set_title('Heat Equation')\n",
        "fig.colorbar(im)\n",
        "plt.show()\n"
      ]
    }
  ]
}