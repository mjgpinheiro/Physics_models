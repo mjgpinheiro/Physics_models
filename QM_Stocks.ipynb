{
  "nbformat": 4,
  "nbformat_minor": 0,
  "metadata": {
    "colab": {
      "provenance": [],
      "authorship_tag": "ABX9TyMCil3s5a9UjyDdGoVTTJ+C",
      "include_colab_link": true
    },
    "kernelspec": {
      "name": "python3",
      "display_name": "Python 3"
    },
    "language_info": {
      "name": "python"
    }
  },
  "cells": [
    {
      "cell_type": "markdown",
      "metadata": {
        "id": "view-in-github",
        "colab_type": "text"
      },
      "source": [
        "<a href=\"https://colab.research.google.com/github/mjgpinheiro/Physics_models/blob/main/QM_Stocks.ipynb\" target=\"_parent\"><img src=\"https://colab.research.google.com/assets/colab-badge.svg\" alt=\"Open In Colab\"/></a>"
      ]
    },
    {
      "cell_type": "code",
      "source": [
        "!pip install ib_insync\n",
        "!pip install ib_insync nest_asyncio numpy scipy matplotlib\n",
        "\n",
        "# Import necessary libraries\n",
        "from ib_insync import IB, Stock, MarketOrder\n",
        "import nest_asyncio\n",
        "import numpy as np\n",
        "from scipy.linalg import expm\n",
        "import matplotlib.pyplot as plt\n",
        "\n",
        "# Apply the event loop fix for Jupyter\n",
        "nest_asyncio.apply()\n",
        "\n",
        "# Initialize IB connection\n",
        "ib = IB()\n",
        "\n",
        "# Connect to the IB demo account (make sure TWS is running and API is enabled)\n",
        "try:\n",
        "    ib.connect('127.0.0.1', 4002, clientId=2)  # Use port 7497 for TWS Demo\n",
        "    print(\"Connected to IB!\")\n",
        "except Exception as e:\n",
        "    print(f\"Failed to connect to IB: {e}\")\n",
        "\n",
        "# Define quantum states for two traders\n",
        "buy = np.array([1, 0])   # |1> state (buy)\n",
        "sell = np.array([0, 1])  # |0> state (sell)\n",
        "\n",
        "# Superposition of buy and sell states\n",
        "superposition_1 = (1/np.sqrt(2)) * (buy + sell)\n",
        "superposition_2 = (1/np.sqrt(2)) * (buy - sell)\n",
        "\n",
        "# Define entanglement operator (e.g., Controlled-NOT gate)\n",
        "def entanglement_operator():\n",
        "    CNOT = np.array([[1, 0, 0, 0],\n",
        "                     [0, 1, 0, 0],\n",
        "                     [0, 0, 0, 1],\n",
        "                     [0, 0, 1, 0]])\n",
        "    return CNOT\n",
        "\n",
        "# Apply the entanglement operator on the tensor product of the two strategies\n",
        "def apply_entanglement(state1, state2):\n",
        "    state_tensor = np.kron(state1, state2)\n",
        "    return np.dot(entanglement_operator(), state_tensor)\n",
        "\n",
        "# Apply interference via unitary transformation\n",
        "def interference_operator(theta):\n",
        "    return expm(1j * theta * np.array([[0, 1], [1, 0]]))\n",
        "\n",
        "# Evolve a strategy by applying interference\n",
        "def evolve_strategy(strategy, theta):\n",
        "    return np.dot(interference_operator(theta), strategy)\n",
        "\n",
        "# Initial entangled state of the traders\n",
        "entangled_state = apply_entanglement(superposition_1, superposition_2)\n",
        "print(\"Initial entangled state:\\n\", entangled_state)\n",
        "\n",
        "# Define a simple payoff function\n",
        "def payoff(state1, state2):\n",
        "    # For simplicity, use dot product of strategies as payoff (in real models, this can be more complex)\n",
        "    return np.vdot(state1, state2).real\n",
        "\n",
        "# Simulate the market and optimize player strategies to maximize payoffs\n",
        "def optimize_payoffs(strategy1, strategy2, steps=10, learning_rate=0.1):\n",
        "    for step in range(steps):\n",
        "        # Evolve strategies with small changes (learning rate) to optimize payoffs\n",
        "        strategy1 = evolve_strategy(strategy1, learning_rate)\n",
        "        strategy2 = evolve_strategy(strategy2, -learning_rate)  # Players evolve differently\n",
        "\n",
        "        # Calculate the current payoff\n",
        "        current_payoff = payoff(strategy1, strategy2)\n",
        "        print(f\"Step {step}: Payoff = {current_payoff}\")\n",
        "\n",
        "    return strategy1, strategy2\n",
        "\n",
        "# Optimize the strategies\n",
        "optimized_strategy1, optimized_strategy2 = optimize_payoffs(superposition_1, superposition_2)\n",
        "\n",
        "# Function to place a market order in the IB Demo account\n",
        "def place_trade(symbol, action, quantity):\n",
        "    contract = Stock(symbol, 'SMART', 'USD')\n",
        "    order = MarketOrder(action, quantity)\n",
        "    trade = ib.placeOrder(contract, order)\n",
        "    ib.sleep(1)\n",
        "    print(f\"Trade placed: {action} {quantity} shares of {symbol}\")\n",
        "\n",
        "# Simulate trading based on optimized quantum strategies\n",
        "def quantum_market_trading(stock_symbol, strategy1, strategy2, steps=10):\n",
        "    for step in range(steps):\n",
        "        # Calculate the payoff (interpreted as trade signal strength)\n",
        "        signal_strength = payoff(strategy1, strategy2)\n",
        "\n",
        "        # Trade based on the quantum signal\n",
        "        if signal_strength > 0.5:  # Arbitrary threshold for buy signal\n",
        "            place_trade(stock_symbol, 'BUY', 10)  # Buy 10 shares\n",
        "        elif signal_strength < -0.5:  # Arbitrary threshold for sell signal\n",
        "            place_trade(stock_symbol, 'SELL', 10)  # Sell 10 shares\n",
        "\n",
        "        # Evolve the strategies for the next step\n",
        "        strategy1 = evolve_strategy(strategy1, 0.05)\n",
        "        strategy2 = evolve_strategy(strategy2, -0.05)\n",
        "\n",
        "# Execute trades in the IB demo account based on quantum strategies\n",
        "quantum_market_trading('AAPL', optimized_strategy1, optimized_strategy2)\n",
        "\n",
        "# Disconnect from Interactive Brokers when done\n",
        "ib.disconnect()\n",
        "print(\"Disconnected from IB.\")\n"
      ],
      "metadata": {
        "colab": {
          "base_uri": "https://localhost:8080/"
        },
        "id": "upsgh6c-iHbL",
        "outputId": "023988cb-f38c-43c8-d82e-a21eca3cf03d"
      },
      "execution_count": null,
      "outputs": [
        {
          "output_type": "stream",
          "name": "stdout",
          "text": [
            "Requirement already satisfied: ib_insync in /usr/local/lib/python3.10/dist-packages (0.9.86)\n",
            "Requirement already satisfied: eventkit in /usr/local/lib/python3.10/dist-packages (from ib_insync) (1.0.3)\n",
            "Requirement already satisfied: nest-asyncio in /usr/local/lib/python3.10/dist-packages (from ib_insync) (1.6.0)\n",
            "Requirement already satisfied: numpy in /usr/local/lib/python3.10/dist-packages (from eventkit->ib_insync) (1.26.4)\n",
            "Requirement already satisfied: ib_insync in /usr/local/lib/python3.10/dist-packages (0.9.86)\n",
            "Requirement already satisfied: nest_asyncio in /usr/local/lib/python3.10/dist-packages (1.6.0)\n",
            "Requirement already satisfied: numpy in /usr/local/lib/python3.10/dist-packages (1.26.4)\n",
            "Requirement already satisfied: scipy in /usr/local/lib/python3.10/dist-packages (1.13.1)\n",
            "Requirement already satisfied: matplotlib in /usr/local/lib/python3.10/dist-packages (3.7.1)\n",
            "Requirement already satisfied: eventkit in /usr/local/lib/python3.10/dist-packages (from ib_insync) (1.0.3)\n",
            "Requirement already satisfied: contourpy>=1.0.1 in /usr/local/lib/python3.10/dist-packages (from matplotlib) (1.3.0)\n",
            "Requirement already satisfied: cycler>=0.10 in /usr/local/lib/python3.10/dist-packages (from matplotlib) (0.12.1)\n",
            "Requirement already satisfied: fonttools>=4.22.0 in /usr/local/lib/python3.10/dist-packages (from matplotlib) (4.53.1)\n",
            "Requirement already satisfied: kiwisolver>=1.0.1 in /usr/local/lib/python3.10/dist-packages (from matplotlib) (1.4.7)\n",
            "Requirement already satisfied: packaging>=20.0 in /usr/local/lib/python3.10/dist-packages (from matplotlib) (24.1)\n",
            "Requirement already satisfied: pillow>=6.2.0 in /usr/local/lib/python3.10/dist-packages (from matplotlib) (9.4.0)\n",
            "Requirement already satisfied: pyparsing>=2.3.1 in /usr/local/lib/python3.10/dist-packages (from matplotlib) (3.1.4)\n",
            "Requirement already satisfied: python-dateutil>=2.7 in /usr/local/lib/python3.10/dist-packages (from matplotlib) (2.8.2)\n",
            "Requirement already satisfied: six>=1.5 in /usr/local/lib/python3.10/dist-packages (from python-dateutil>=2.7->matplotlib) (1.16.0)\n"
          ]
        },
        {
          "output_type": "stream",
          "name": "stderr",
          "text": [
            "ERROR:ib_insync.client:API connection failed: ConnectionRefusedError(111, \"Connect call failed ('127.0.0.1', 4002)\")\n",
            "ERROR:ib_insync.client:Make sure API port on TWS/IBG is open\n"
          ]
        },
        {
          "output_type": "stream",
          "name": "stdout",
          "text": [
            "Failed to connect to IB: [Errno 111] Connect call failed ('127.0.0.1', 4002)\n",
            "Initial entangled state:\n",
            " [ 0.5 -0.5 -0.5  0.5]\n",
            "Step 0: Payoff = 0.0\n",
            "Step 1: Payoff = 0.0\n",
            "Step 2: Payoff = 0.0\n",
            "Step 3: Payoff = 0.0\n",
            "Step 4: Payoff = 0.0\n",
            "Step 5: Payoff = 0.0\n",
            "Step 6: Payoff = 0.0\n",
            "Step 7: Payoff = 0.0\n",
            "Step 8: Payoff = 0.0\n",
            "Step 9: Payoff = 0.0\n",
            "Disconnected from IB.\n"
          ]
        }
      ]
    }
  ]
}