{
  "nbformat": 4,
  "nbformat_minor": 0,
  "metadata": {
    "colab": {
      "provenance": [],
      "authorship_tag": "ABX9TyP59UHoXyDfxWIarIIxmp/n",
      "include_colab_link": true
    },
    "kernelspec": {
      "name": "python3",
      "display_name": "Python 3"
    },
    "language_info": {
      "name": "python"
    }
  },
  "cells": [
    {
      "cell_type": "markdown",
      "metadata": {
        "id": "view-in-github",
        "colab_type": "text"
      },
      "source": [
        "<a href=\"https://colab.research.google.com/github/mjgpinheiro/Physics_models/blob/main/Hydrogen_Plasmolysis_Eng1.ipynb\" target=\"_parent\"><img src=\"https://colab.research.google.com/assets/colab-badge.svg\" alt=\"Open In Colab\"/></a>"
      ]
    },
    {
      "cell_type": "code",
      "execution_count": 10,
      "metadata": {
        "colab": {
          "base_uri": "https://localhost:8080/",
          "height": 364
        },
        "id": "rcqvU0-EOKw3",
        "outputId": "3ec21f26-d41b-4638-f613-44b3259b75b7"
      },
      "outputs": [
        {
          "output_type": "stream",
          "name": "stderr",
          "text": [
            "<ipython-input-10-bb89f49826eb>:54: RuntimeWarning: overflow encountered in double_scalars\n",
            "  F_e = D_e * n_e * e * V[i] + k_recomb * n_h * n_e\n",
            "<ipython-input-10-bb89f49826eb>:54: RuntimeWarning: invalid value encountered in double_scalars\n",
            "  F_e = D_e * n_e * e * V[i] + k_recomb * n_h * n_e\n"
          ]
        },
        {
          "output_type": "display_data",
          "data": {
            "text/plain": [
              "<Figure size 864x288 with 4 Axes>"
            ],
            "image/png": "[encoded data removed]"
          },
          "metadata": {
            "needs_background": "light"
          }
        }
      ],
      "source": [
        "import numpy as np\n",
        "import matplotlib.pyplot as plt\n",
        "\n",
        "# Define constants\n",
        "k_b = 1.38e-23    # Boltzmann constant\n",
        "e = 1.6e-19       # Electron charge\n",
        "eps_0 = 8.85e-12  # Permittivity of vacuum\n",
        "m_h = 1.67e-27    # Mass of hydrogen atom\n",
        "m_o = 2.0*m_h     # Mass of oxygen atom\n",
        "L = 1\n",
        "V0 = 2000         #\n",
        "\n",
        "# Define initial conditions\n",
        "n_h = 1e10      # Number density of hydrogen atoms (m^-3)\n",
        "n_o = 1e10         # Number density of oxygen atoms (m^-3)\n",
        "n_e = n_h       # Number density of electrons (m^-3)\n",
        "T = 300         # Temperature (K)\n",
        "\n",
        "# Define simulation parameters\n",
        "dt = 1e-9      # Time step (s)\n",
        "t_end = 1e-6   # End time (s)\n",
        "t = np.arange(0, t_end, dt)\n",
        "\n",
        "# Define electric field\n",
        "f = np.linspace(1e6, 1e9, 100)  # Frequency (Hz)\n",
        "V = V0*np.linspace(1, 100, 100)    # Voltage (V)\n",
        "w = 0.5e-3                      # Water flow rate (m^3/s)\n",
        "\n",
        "# Initialize arrays\n",
        "n_h_arr = np.zeros((len(V), len(f)))\n",
        "n_o_arr = np.zeros((len(V), len(f)))\n",
        "n_e_arr = np.zeros((len(V), len(f)))\n",
        "\n",
        "# Run simulations for different frequencies and voltages\n",
        "for i in range(len(V)):\n",
        "    for j in range(len(f)):\n",
        "        # Calculate collision rates\n",
        "        k_ei = 3.6e-19 * n_h * np.sqrt(T)  # Electron-ion collision rate\n",
        "        k_ee = 1.8e-19 * n_e * np.sqrt(T)  # Electron-electron collision rate\n",
        "        k_recomb = 1e-21 * n_h * n_e       # Recombination rate 1e-11\n",
        "\n",
        "        # Calculate diffusion coefficients\n",
        "        D_h = k_b * T / (np.sqrt(2) * np.pi * m_h * k_ei)\n",
        "        D_o = k_b * T / (np.sqrt(2) * np.pi * m_o * k_ei)\n",
        "        D_e = k_b * T / (np.sqrt(2) * np.pi * m_h * k_ee)\n",
        "\n",
        "        # Calculate drift velocities\n",
        "        v_h = e * V[i] / (m_h * k_ei)\n",
        "        v_o = e * V[i] / (m_o * k_ei)\n",
        "\n",
        "        # Calculate fluxes\n",
        "        F_h = -D_h * n_h * v_h + e * n_h * V[i]\n",
        "        F_o = -D_o * n_o * v_o\n",
        "        F_e = D_e * n_e * e * V[i] + k_recomb * n_h * n_e\n",
        "\n",
        "        # Update number densities\n",
        "        n_h += F_h * dt + w * n_h\n",
        "        n_o += F_o * dt + w * n_o\n",
        "        n_e += F_e * dt + w * n_e\n",
        "\n",
        "        # Store results\n",
        "        n_h_arr[i, j] = n_h\n",
        "\n",
        "# Plot results\n",
        "fig, ax = plt.subplots(1, 3, figsize=(12, 4))\n",
        "for i in range(len(ax)):\n",
        "    im = ax[i].imshow(n_h_arr.T, cmap= 'hot', extent=(0, t_end, 0, L), aspect='auto', origin='lower')\n",
        "ax[i].set_title('Voltage = {:.2f} V, Frequency = {:.2e} Hz'.format(V[i], f[i]))\n",
        "ax[i].set_xlabel('Time (s)')\n",
        "ax[i].set_ylabel('Position (m)')\n",
        "fig.colorbar(im, ax=ax[i])\n",
        "\n",
        "plt.show()"
      ]
    }
  ]
}