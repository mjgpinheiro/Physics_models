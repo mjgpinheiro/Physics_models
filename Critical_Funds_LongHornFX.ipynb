{
  "nbformat": 4,
  "nbformat_minor": 0,
  "metadata": {
    "colab": {
      "provenance": [],
      "authorship_tag": "ABX9TyM8R4wzFCyzZonH2WPJpn+A",
      "include_colab_link": true
    },
    "kernelspec": {
      "name": "python3",
      "display_name": "Python 3"
    },
    "language_info": {
      "name": "python"
    }
  },
  "cells": [
    {
      "cell_type": "markdown",
      "metadata": {
        "id": "view-in-github",
        "colab_type": "text"
      },
      "source": [
        "<a href=\"https://colab.research.google.com/github/mjgpinheiro/Physics_models/blob/main/Critical_Funds_LongHornFX.ipynb\" target=\"_parent\"><img src=\"https://colab.research.google.com/assets/colab-badge.svg\" alt=\"Open In Colab\"/></a>"
      ]
    },
    {
      "cell_type": "code",
      "execution_count": 1,
      "metadata": {
        "colab": {
          "base_uri": "https://localhost:8080/"
        },
        "id": "cGLlxpq3fRPO",
        "outputId": "692885d8-9066-471a-d305-12708bb0169a"
      },
      "outputs": [
        {
          "output_type": "stream",
          "name": "stdout",
          "text": [
            "Estimated critical funds required to sustain and grow the account: $51.87\n"
          ]
        }
      ],
      "source": [
        "# Importing necessary libraries\n",
        "import numpy as np\n",
        "\n",
        "# Function to calculate critical funds\n",
        "def calculate_critical_funds(\n",
        "    leverage: float,\n",
        "    risk_per_trade: float,\n",
        "    win_rate: float,\n",
        "    reward_risk_ratio: float,\n",
        "    expected_drawdown: float,\n",
        "    num_trades: int,\n",
        "    broker_commission: float = 0.0,\n",
        "    spread_cost: float = 0.0,\n",
        "    margin_requirement: float = 0.02\n",
        "):\n",
        "    \"\"\"\n",
        "    Function to estimate the critical funds required for trading.\n",
        "\n",
        "    Parameters:\n",
        "    - leverage (float): Account leverage provided by the broker.\n",
        "    - risk_per_trade (float): Percentage of account balance risked per trade.\n",
        "    - win_rate (float): Probability of winning a trade (in percentage).\n",
        "    - reward_risk_ratio (float): Expected reward to risk ratio.\n",
        "    - expected_drawdown (float): Maximum expected drawdown (in percentage).\n",
        "    - num_trades (int): Number of trades to consider in the simulation.\n",
        "    - broker_commission (float): Commission per trade (as a percentage of trade value).\n",
        "    - spread_cost (float): Spread cost per trade (as a percentage of trade value).\n",
        "    - margin_requirement (float): The percentage margin requirement for the trades.\n",
        "\n",
        "    Returns:\n",
        "    - estimated_funds (float): Estimated critical funds required to sustain and grow the account.\n",
        "    \"\"\"\n",
        "\n",
        "    # Calculating the maximum loss expected per trade\n",
        "    max_loss_per_trade = risk_per_trade + broker_commission + spread_cost\n",
        "\n",
        "    # Calculating total margin needed\n",
        "    margin_needed = margin_requirement * leverage\n",
        "\n",
        "    # Calculating the required buffer for drawdowns\n",
        "    drawdown_buffer = expected_drawdown / 100\n",
        "\n",
        "    # Estimating the critical funds required\n",
        "    estimated_funds = (max_loss_per_trade * num_trades / win_rate) + (drawdown_buffer * leverage * margin_needed)\n",
        "\n",
        "    return estimated_funds\n",
        "\n",
        "# Inputs for the LonghornFX broker scenario\n",
        "leverage = 500\n",
        "risk_per_trade = 1 / 100  # 1% risk per trade\n",
        "win_rate = 60 / 100  # 60% win rate\n",
        "reward_risk_ratio = 2  # 2:1 reward-to-risk ratio\n",
        "expected_drawdown = 10  # 10% expected maximum drawdown\n",
        "num_trades = 100  # Number of trades considered\n",
        "broker_commission = 0.07 / 100  # Assuming a 0.07% commission per trade\n",
        "spread_cost = 0.05 / 100  # Assuming a 0.05% spread cost per trade\n",
        "margin_requirement = 1 / leverage  # Margin requirement for 500:1 leverage\n",
        "\n",
        "# Calculating the critical funds required\n",
        "critical_funds_required = calculate_critical_funds(\n",
        "    leverage=leverage,\n",
        "    risk_per_trade=risk_per_trade,\n",
        "    win_rate=win_rate,\n",
        "    reward_risk_ratio=reward_risk_ratio,\n",
        "    expected_drawdown=expected_drawdown,\n",
        "    num_trades=num_trades,\n",
        "    broker_commission=broker_commission,\n",
        "    spread_cost=spread_cost,\n",
        "    margin_requirement=margin_requirement\n",
        ")\n",
        "\n",
        "print(f\"Estimated critical funds required to sustain and grow the account: ${critical_funds_required:.2f}\")\n"
      ]
    },
    {
      "cell_type": "markdown",
      "source": [
        "Explanation of the Notebook\n",
        "Parameters:\n",
        "\n",
        "Leverage: The leverage provided by LonghornFX, which is 500:1.\n",
        "Risk per Trade: The percentage of the account balance risked per trade, set to 1% by default.\n",
        "Win Rate: The percentage of trades expected to be winners, set to 60%.\n",
        "Reward to Risk Ratio: The expected ratio of reward to risk, set to 2:1.\n",
        "Expected Drawdown: The maximum drawdown anticipated, set to 10%.\n",
        "Number of Trades: The number of trades to consider in the calculation, set to 100.\n",
        "Broker Commission: Commission per trade charged by LonghornFX, assumed to be 0.07% of the trade value.\n",
        "Spread Cost: The cost of the spread per trade, assumed to be 0.05% of the trade value.\n",
        "Margin Requirement: Calculated based on the leverage provided.\n",
        "Output:\n",
        "\n",
        "The script calculates the estimated critical funds required to sustain and grow the trading account based on the provided parameters.\n",
        "You can run this script in a Python environment or Jupyter notebook to calculate the critical funds required for your trading bot when using LonghornFX with 500:1 leverage. The resulting output will give you a rough estimation of the minimum capital required to ensure your trading bot can operate effectively without risking account depletion."
      ],
      "metadata": {
        "id": "bmNgtOYmfi7O"
      }
    }
  ]
}