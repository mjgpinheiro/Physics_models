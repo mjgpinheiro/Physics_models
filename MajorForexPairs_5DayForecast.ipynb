{
  "nbformat": 4,
  "nbformat_minor": 0,
  "metadata": {
    "colab": {
      "provenance": [],
      "authorship_tag": "ABX9TyPqdd5xYQgR3NE93OUqB+V5",
      "include_colab_link": true
    },
    "kernelspec": {
      "name": "python3",
      "display_name": "Python 3"
    },
    "language_info": {
      "name": "python"
    }
  },
  "cells": [
    {
      "cell_type": "markdown",
      "metadata": {
        "id": "view-in-github",
        "colab_type": "text"
      },
      "source": [
        "<a href=\"https://colab.research.google.com/github/mjgpinheiro/Physics_models/blob/main/MajorForexPairs_5DayForecast.ipynb\" target=\"_parent\"><img src=\"https://colab.research.google.com/assets/colab-badge.svg\" alt=\"Open In Colab\"/></a>"
      ]
    },
    {
      "cell_type": "code",
      "execution_count": 2,
      "metadata": {
        "colab": {
          "base_uri": "https://localhost:8080/",
          "height": 1000
        },
        "id": "TUaZJTrBpcDV",
        "outputId": "30a07bab-326a-498d-b425-4459527d81bf"
      },
      "outputs": [
        {
          "output_type": "stream",
          "name": "stdout",
          "text": [
            "Requirement already satisfied: yfinance in /usr/local/lib/python3.10/dist-packages (0.2.31)\n",
            "Requirement already satisfied: pandas in /usr/local/lib/python3.10/dist-packages (1.5.3)\n",
            "Collecting sklearn\n",
            "  Downloading sklearn-0.0.post11.tar.gz (3.6 kB)\n",
            "  \u001b[1;31merror\u001b[0m: \u001b[1msubprocess-exited-with-error\u001b[0m\n",
            "  \n",
            "  \u001b[31m×\u001b[0m \u001b[32mpython setup.py egg_info\u001b[0m did not run successfully.\n",
            "  \u001b[31m│\u001b[0m exit code: \u001b[1;36m1\u001b[0m\n",
            "  \u001b[31m╰─>\u001b[0m See above for output.\n",
            "  \n",
            "  \u001b[1;35mnote\u001b[0m: This error originates from a subprocess, and is likely not a problem with pip.\n",
            "  Preparing metadata (setup.py) ... \u001b[?25l\u001b[?25herror\n",
            "\u001b[1;31merror\u001b[0m: \u001b[1mmetadata-generation-failed\u001b[0m\n",
            "\n",
            "\u001b[31m×\u001b[0m Encountered error while generating package metadata.\n",
            "\u001b[31m╰─>\u001b[0m See above for output.\n",
            "\n",
            "\u001b[1;35mnote\u001b[0m: This is an issue with the package mentioned above, not pip.\n",
            "\u001b[1;36mhint\u001b[0m: See above for details.\n",
            "Requirement already satisfied: scikit-learn in /usr/local/lib/python3.10/dist-packages (1.2.2)\n",
            "Requirement already satisfied: numpy>=1.17.3 in /usr/local/lib/python3.10/dist-packages (from scikit-learn) (1.23.5)\n",
            "Requirement already satisfied: scipy>=1.3.2 in /usr/local/lib/python3.10/dist-packages (from scikit-learn) (1.11.3)\n",
            "Requirement already satisfied: joblib>=1.1.1 in /usr/local/lib/python3.10/dist-packages (from scikit-learn) (1.3.2)\n",
            "Requirement already satisfied: threadpoolctl>=2.0.0 in /usr/local/lib/python3.10/dist-packages (from scikit-learn) (3.2.0)\n",
            "\u001b[33mWARNING: Running pip as the 'root' user can result in broken permissions and conflicting behaviour with the system package manager. It is recommended to use a virtual environment instead: https://pip.pypa.io/warnings/venv\u001b[0m\u001b[33m\n",
            "\u001b[0mRequirement already satisfied: pip in /usr/local/lib/python3.10/dist-packages (23.3.1)\n",
            "Requirement already satisfied: setuptools in /usr/local/lib/python3.10/dist-packages (68.2.2)\n",
            "Requirement already satisfied: wheel in /usr/local/lib/python3.10/dist-packages (0.41.3)\n",
            "\u001b[33mWARNING: Running pip as the 'root' user can result in broken permissions and conflicting behaviour with the system package manager. It is recommended to use a virtual environment instead: https://pip.pypa.io/warnings/venv\u001b[0m\u001b[33m\n",
            "[*********************100%%**********************]  1 of 1 completed\n",
            "[*********************100%%**********************]  1 of 1 completed\n",
            "[*********************100%%**********************]  1 of 1 completed\n",
            "[*********************100%%**********************]  1 of 1 completed\n",
            "[*********************100%%**********************]  1 of 1 completed\n",
            "[*********************100%%**********************]  1 of 1 completed\n",
            "[*********************100%%**********************]  1 of 1 completed\n",
            "The pair with the highest potential growth in the next 5 days is: NZDUSD=X with a growth rate of 0.66%\n",
            "Growth rates for EURUSD=X:\n",
            "Day 1: -1.04%\n",
            "Day 2: -0.36%\n",
            "Day 3: -0.11%\n",
            "Day 4: -0.10%\n",
            "Day 5: -0.10%\n",
            "\n",
            "Growth rates for USDJPY=X:\n",
            "Day 1: 0.12%\n",
            "Day 2: 0.11%\n",
            "Day 3: -0.01%\n",
            "Day 4: -0.14%\n",
            "Day 5: 0.33%\n",
            "\n",
            "Growth rates for GBPUSD=X:\n",
            "Day 1: -0.85%\n",
            "Day 2: -0.17%\n",
            "Day 3: 0.27%\n",
            "Day 4: -0.05%\n",
            "Day 5: 0.10%\n",
            "\n",
            "Growth rates for AUDUSD=X:\n",
            "Day 1: -0.15%\n",
            "Day 2: -0.59%\n",
            "Day 3: 0.35%\n",
            "Day 4: -0.33%\n",
            "Day 5: -0.44%\n",
            "\n",
            "Growth rates for NZDUSD=X:\n",
            "Day 1: 0.24%\n",
            "Day 2: 0.24%\n",
            "Day 3: 1.10%\n",
            "Day 4: 0.39%\n",
            "Day 5: 0.66%\n",
            "\n",
            "Growth rates for USDCHF=X:\n",
            "Day 1: 0.95%\n",
            "Day 2: 0.62%\n",
            "Day 3: 0.15%\n",
            "Day 4: -0.14%\n",
            "Day 5: -0.59%\n",
            "\n",
            "Growth rates for USDCAD=X:\n",
            "Day 1: 0.51%\n",
            "Day 2: 0.21%\n",
            "Day 3: -0.15%\n",
            "Day 4: -0.15%\n",
            "Day 5: -0.42%\n",
            "\n",
            "Growth rates for EURUSD=X:\n",
            "11/15/2023: -1.04%\n",
            "11/16/2023: -0.36%\n",
            "11/17/2023: -0.11%\n",
            "11/18/2023: -0.10%\n",
            "11/19/2023: -0.10%\n",
            "\n",
            "Growth rates for USDJPY=X:\n",
            "11/15/2023: 0.12%\n",
            "11/16/2023: 0.11%\n",
            "11/17/2023: -0.01%\n",
            "11/18/2023: -0.14%\n",
            "11/19/2023: 0.33%\n",
            "\n",
            "Growth rates for GBPUSD=X:\n",
            "11/15/2023: -0.85%\n",
            "11/16/2023: -0.17%\n",
            "11/17/2023: 0.27%\n",
            "11/18/2023: -0.05%\n",
            "11/19/2023: 0.10%\n",
            "\n",
            "Growth rates for AUDUSD=X:\n",
            "11/15/2023: -0.15%\n",
            "11/16/2023: -0.59%\n",
            "11/17/2023: 0.35%\n",
            "11/18/2023: -0.33%\n",
            "11/19/2023: -0.44%\n",
            "\n",
            "Growth rates for NZDUSD=X:\n",
            "11/15/2023: 0.24%\n",
            "11/16/2023: 0.24%\n",
            "11/17/2023: 1.10%\n",
            "11/18/2023: 0.39%\n",
            "11/19/2023: 0.66%\n",
            "\n",
            "Growth rates for USDCHF=X:\n",
            "11/15/2023: 0.95%\n",
            "11/16/2023: 0.62%\n",
            "11/17/2023: 0.15%\n",
            "11/18/2023: -0.14%\n",
            "11/19/2023: -0.59%\n",
            "\n",
            "Growth rates for USDCAD=X:\n",
            "11/15/2023: 0.51%\n",
            "11/16/2023: 0.21%\n",
            "11/17/2023: -0.15%\n",
            "11/18/2023: -0.15%\n",
            "11/19/2023: -0.42%\n",
            "\n"
          ]
        },
        {
          "output_type": "display_data",
          "data": {
            "text/plain": [
              "<IPython.core.display.HTML object>"
            ],
            "text/html": [
              "Growth rates for EURUSD=X:<br>11/15/2023: <span style=\"color: red\">-1.04%</span><br>11/16/2023: <span style=\"color: red\">-0.36%</span><br>11/17/2023: <span style=\"color: red\">-0.11%</span><br>11/18/2023: <span style=\"color: red\">-0.10%</span><br>11/19/2023: <span style=\"color: red\">-0.10%</span><br>"
            ]
          },
          "metadata": {}
        },
        {
          "output_type": "display_data",
          "data": {
            "text/plain": [
              "<IPython.core.display.HTML object>"
            ],
            "text/html": [
              "Growth rates for USDJPY=X:<br>11/15/2023: <span style=\"color: green\">0.12%</span><br>11/16/2023: <span style=\"color: green\">0.11%</span><br>11/17/2023: <span style=\"color: red\">-0.01%</span><br>11/18/2023: <span style=\"color: red\">-0.14%</span><br>11/19/2023: <span style=\"color: green\">0.33%</span><br>"
            ]
          },
          "metadata": {}
        },
        {
          "output_type": "display_data",
          "data": {
            "text/plain": [
              "<IPython.core.display.HTML object>"
            ],
            "text/html": [
              "Growth rates for GBPUSD=X:<br>11/15/2023: <span style=\"color: red\">-0.85%</span><br>11/16/2023: <span style=\"color: red\">-0.17%</span><br>11/17/2023: <span style=\"color: green\">0.27%</span><br>11/18/2023: <span style=\"color: red\">-0.05%</span><br>11/19/2023: <span style=\"color: green\">0.10%</span><br>"
            ]
          },
          "metadata": {}
        },
        {
          "output_type": "display_data",
          "data": {
            "text/plain": [
              "<IPython.core.display.HTML object>"
            ],
            "text/html": [
              "Growth rates for AUDUSD=X:<br>11/15/2023: <span style=\"color: red\">-0.15%</span><br>11/16/2023: <span style=\"color: red\">-0.59%</span><br>11/17/2023: <span style=\"color: green\">0.35%</span><br>11/18/2023: <span style=\"color: red\">-0.33%</span><br>11/19/2023: <span style=\"color: red\">-0.44%</span><br>"
            ]
          },
          "metadata": {}
        },
        {
          "output_type": "display_data",
          "data": {
            "text/plain": [
              "<IPython.core.display.HTML object>"
            ],
            "text/html": [
              "Growth rates for NZDUSD=X:<br>11/15/2023: <span style=\"color: green\">0.24%</span><br>11/16/2023: <span style=\"color: green\">0.24%</span><br>11/17/2023: <span style=\"color: green\">1.10%</span><br>11/18/2023: <span style=\"color: green\">0.39%</span><br>11/19/2023: <span style=\"color: green\">0.66%</span><br>"
            ]
          },
          "metadata": {}
        },
        {
          "output_type": "display_data",
          "data": {
            "text/plain": [
              "<IPython.core.display.HTML object>"
            ],
            "text/html": [
              "Growth rates for USDCHF=X:<br>11/15/2023: <span style=\"color: green\">0.95%</span><br>11/16/2023: <span style=\"color: green\">0.62%</span><br>11/17/2023: <span style=\"color: green\">0.15%</span><br>11/18/2023: <span style=\"color: red\">-0.14%</span><br>11/19/2023: <span style=\"color: red\">-0.59%</span><br>"
            ]
          },
          "metadata": {}
        },
        {
          "output_type": "display_data",
          "data": {
            "text/plain": [
              "<IPython.core.display.HTML object>"
            ],
            "text/html": [
              "Growth rates for USDCAD=X:<br>11/15/2023: <span style=\"color: green\">0.51%</span><br>11/16/2023: <span style=\"color: green\">0.21%</span><br>11/17/2023: <span style=\"color: red\">-0.15%</span><br>11/18/2023: <span style=\"color: red\">-0.15%</span><br>11/19/2023: <span style=\"color: red\">-0.42%</span><br>"
            ]
          },
          "metadata": {}
        }
      ],
      "source": [
        "# Install necessary libraries\n",
        "!pip install yfinance pandas sklearn\n",
        "!pip install scikit-learn\n",
        "!pip install --upgrade pip setuptools wheel\n",
        "\n",
        "# Import required libraries\n",
        "import yfinance as yf\n",
        "import pandas as pd\n",
        "from sklearn.linear_model import LinearRegression\n",
        "from sklearn.model_selection import train_test_split\n",
        "from sklearn.metrics import mean_squared_error\n",
        "\n",
        "# Download historical data for major forex pairs over the past year\n",
        "forex_pairs = ['EURUSD=X', 'USDJPY=X', 'GBPUSD=X', 'AUDUSD=X', 'NZDUSD=X', 'USDCHF=X', 'USDCAD=X']\n",
        "data = {}\n",
        "\n",
        "for pair in forex_pairs:\n",
        "    data[pair] = yf.download(pair, start=\"2022-01-01\", end=\"2023-10-31\")\n",
        "\n",
        "# Predicting next 5 days' closing prices using linear regression\n",
        "predictions = {}\n",
        "\n",
        "for pair, df in data.items():\n",
        "    # Create a feature 'Day' as an integer count\n",
        "    df['Day'] = range(len(df))\n",
        "\n",
        "    # Using the last 30 days to predict next 5 days\n",
        "    X = df['Day'].iloc[-30:].values.reshape(-1, 1)\n",
        "    y = df['Close'].iloc[-30:].values.reshape(-1, 1)\n",
        "\n",
        "    model = LinearRegression()\n",
        "    model.fit(X, y)\n",
        "\n",
        "    # Predicting for the next day (today) and the next 4 days\n",
        "    future_days = [[i] for i in range(len(df)-4, len(df)+1)]\n",
        "    forecast = model.predict(future_days)\n",
        "\n",
        "    predictions[pair] = forecast\n",
        "\n",
        "# Checking which forex pair has the highest potential growth in the next 5 days\n",
        "growth_rate = {}\n",
        "\n",
        "for pair, forecast in predictions.items():\n",
        "    rate = (forecast[-1] - data[pair]['Close'].iloc[-1]) / data[pair]['Close'].iloc[-1]\n",
        "    growth_rate[pair] = rate\n",
        "\n",
        "# Sorting pairs based on growth rate\n",
        "sorted_pairs = sorted(growth_rate.items(), key=lambda x: x[1], reverse=True)\n",
        "print(f\"The pair with the highest potential growth in the next 5 days is: {sorted_pairs[0][0]} with a growth rate of {sorted_pairs[0][1][0]*100:.2f}%\")\n",
        "\n",
        "################\n",
        "\n",
        "# Calculating growth rate for each day of the next 5 days\n",
        "growth_rate_each_day = {}\n",
        "\n",
        "for pair, forecast in predictions.items():\n",
        "    daily_rates = []\n",
        "    for i, value in enumerate(forecast):\n",
        "        today_close = data[pair]['Close'].iloc[-(5-i)]\n",
        "        rate = (value - today_close) / today_close\n",
        "        daily_rates.append(rate[0])\n",
        "    growth_rate_each_day[pair] = daily_rates\n",
        "\n",
        "# Displaying growth rate for each day for each pair\n",
        "for pair, rates in growth_rate_each_day.items():\n",
        "    print(f\"Growth rates for {pair}:\")\n",
        "    for i, rate in enumerate(rates, 1):\n",
        "        print(f\"Day {i}: {rate*100:.2f}%\")\n",
        "    print()\n",
        "\n",
        "####################\n",
        "\n",
        "from datetime import datetime, timedelta\n",
        "\n",
        "# Assuming today's date for starting the prediction\n",
        "# Replace this with datetime.now() to use the current date\n",
        "last_date = datetime.now()\n",
        "\n",
        "# Calculating growth rate for each day of the next 5 days\n",
        "growth_rate_each_day = {}\n",
        "\n",
        "for pair, forecast in predictions.items():\n",
        "    daily_rates = []\n",
        "    # Generate the next 5 dates including today\n",
        "    dates = [(last_date + timedelta(days=i)).strftime('%m/%d/%Y') for i in range(5)]\n",
        "\n",
        "    for i, value in enumerate(forecast):\n",
        "        # Adjust the index to get the right 'today_close' value\n",
        "        # Note: This assumes that 'data[pair]['Close']' is up-to-date until 'last_date'\n",
        "        today_close = data[pair]['Close'].iloc[-(5-i)]\n",
        "        rate = (value - today_close) / today_close\n",
        "        daily_rates.append((dates[i], rate[0]))\n",
        "\n",
        "    growth_rate_each_day[pair] = daily_rates\n",
        "\n",
        "# Displaying growth rate for each day for each pair\n",
        "for pair, rates in growth_rate_each_day.items():\n",
        "    print(f\"Growth rates for {pair}:\")\n",
        "    for date, rate in rates:\n",
        "        print(f\"{date}: {rate*100:.2f}%\")\n",
        "    print()\n",
        "\n",
        "#################\n",
        "\n",
        "# For IPython display\n",
        "from IPython.display import display, HTML\n",
        "\n",
        "# Function to colorize text based on value\n",
        "def colorize_text(value):\n",
        "    color = \"green\" if value >= 0 else \"red\"\n",
        "    return f'<span style=\"color: {color}\">{value:.2f}%</span>'\n",
        "\n",
        "# Displaying growth rate for each day for each pair\n",
        "for pair, rates in growth_rate_each_day.items():\n",
        "    output = f\"Growth rates for {pair}:<br>\"\n",
        "    for date, rate in rates:\n",
        "        output += f\"{date}: {colorize_text(rate*100)}<br>\"\n",
        "    display(HTML(output))\n"
      ]
    },
    {
      "cell_type": "markdown",
      "source": [
        "Description:\n",
        "\n",
        "The code aims to forecast the growth rate of major forex pairs over the next 5 days using historical data and simple linear regression. The predictions are color-coded: positive growth rates are shown in green, while negative growth rates are displayed in red.\n",
        "\n",
        "Main Components:\n",
        "\n",
        "Library Imports and Setup:\n",
        "\n",
        "Necessary libraries are imported: yfinance for fetching forex data, pandas for data manipulation, and sklearn for building the linear regression model.\n",
        "IPython.display is also imported to enable HTML rendering in Jupyter notebooks.\n",
        "Fetching Historical Data:\n",
        "\n",
        "A list of forex pairs (forex_pairs) is defined.\n",
        "Historical data for each pair is fetched for a specified time period using yf.download.\n",
        "Predictions Using Linear Regression:\n",
        "\n",
        "For each forex pair, a linear regression model is trained on the last 30 days of closing prices.\n",
        "The model then predicts the closing prices for the next 5 days.\n",
        "Growth Rate Calculations:\n",
        "\n",
        "The potential growth rate for each pair over the next 5 days is computed.\n",
        "Additionally, the daily growth rates are computed.\n",
        "Color-Coded Display:\n",
        "\n",
        "A custom function colorize_text is used to colorize growth rates based on their sign.\n",
        "Positive growth rates are rendered in green, while negative ones are in red.\n",
        "The final predictions are displayed using HTML rendering to apply the color-coding.\n",
        "By running the code, a user can quickly ascertain the predicted growth trends of major forex pairs over the upcoming 5 days, with color-coding providing an intuitive visualization of the predictions' bullish or bearish nature."
      ],
      "metadata": {
        "id": "vq2zAM3ytR15"
      }
    }
  ]
}