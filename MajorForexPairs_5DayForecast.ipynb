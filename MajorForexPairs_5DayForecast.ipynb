{
  "nbformat": 4,
  "nbformat_minor": 0,
  "metadata": {
    "colab": {
      "provenance": [],
      "authorship_tag": "ABX9TyP6SeJFc0LoEWeqH319eHg/",
      "include_colab_link": true
    },
    "kernelspec": {
      "name": "python3",
      "display_name": "Python 3"
    },
    "language_info": {
      "name": "python"
    }
  },
  "cells": [
    {
      "cell_type": "markdown",
      "metadata": {
        "id": "view-in-github",
        "colab_type": "text"
      },
      "source": [
        "<a href=\"https://colab.research.google.com/github/mjgpinheiro/Physics_models/blob/main/MajorForexPairs_5DayForecast.ipynb\" target=\"_parent\"><img src=\"https://colab.research.google.com/assets/colab-badge.svg\" alt=\"Open In Colab\"/></a>"
      ]
    },
    {
      "cell_type": "code",
      "execution_count": 1,
      "metadata": {
        "colab": {
          "base_uri": "https://localhost:8080/",
          "height": 1000
        },
        "id": "TUaZJTrBpcDV",
        "outputId": "69a56a19-f8e1-4347-9e53-14e339532a5a"
      },
      "outputs": [
        {
          "output_type": "stream",
          "name": "stdout",
          "text": [
            "Requirement already satisfied: yfinance in /usr/local/lib/python3.10/dist-packages (0.2.31)\n",
            "Requirement already satisfied: pandas in /usr/local/lib/python3.10/dist-packages (1.5.3)\n",
            "Collecting sklearn\n",
            "  Downloading sklearn-0.0.post11.tar.gz (3.6 kB)\n",
            "  Preparing metadata (setup.py) ... \u001b[?25l\u001b[?25hdone\n",
            "Requirement already satisfied: numpy>=1.16.5 in /usr/local/lib/python3.10/dist-packages (from yfinance) (1.23.5)\n",
            "Requirement already satisfied: requests>=2.31 in /usr/local/lib/python3.10/dist-packages (from yfinance) (2.31.0)\n",
            "Requirement already satisfied: multitasking>=0.0.7 in /usr/local/lib/python3.10/dist-packages (from yfinance) (0.0.11)\n",
            "Requirement already satisfied: lxml>=4.9.1 in /usr/local/lib/python3.10/dist-packages (from yfinance) (4.9.3)\n",
            "Requirement already satisfied: appdirs>=1.4.4 in /usr/local/lib/python3.10/dist-packages (from yfinance) (1.4.4)\n",
            "Requirement already satisfied: pytz>=2022.5 in /usr/local/lib/python3.10/dist-packages (from yfinance) (2023.3.post1)\n",
            "Requirement already satisfied: frozendict>=2.3.4 in /usr/local/lib/python3.10/dist-packages (from yfinance) (2.3.8)\n",
            "Requirement already satisfied: peewee>=3.16.2 in /usr/local/lib/python3.10/dist-packages (from yfinance) (3.17.0)\n",
            "Requirement already satisfied: beautifulsoup4>=4.11.1 in /usr/local/lib/python3.10/dist-packages (from yfinance) (4.11.2)\n",
            "Requirement already satisfied: html5lib>=1.1 in /usr/local/lib/python3.10/dist-packages (from yfinance) (1.1)\n",
            "Requirement already satisfied: python-dateutil>=2.8.1 in /usr/local/lib/python3.10/dist-packages (from pandas) (2.8.2)\n",
            "Requirement already satisfied: soupsieve>1.2 in /usr/local/lib/python3.10/dist-packages (from beautifulsoup4>=4.11.1->yfinance) (2.5)\n",
            "Requirement already satisfied: six>=1.9 in /usr/local/lib/python3.10/dist-packages (from html5lib>=1.1->yfinance) (1.16.0)\n",
            "Requirement already satisfied: webencodings in /usr/local/lib/python3.10/dist-packages (from html5lib>=1.1->yfinance) (0.5.1)\n",
            "Requirement already satisfied: charset-normalizer<4,>=2 in /usr/local/lib/python3.10/dist-packages (from requests>=2.31->yfinance) (3.3.2)\n",
            "Requirement already satisfied: idna<4,>=2.5 in /usr/local/lib/python3.10/dist-packages (from requests>=2.31->yfinance) (3.4)\n",
            "Requirement already satisfied: urllib3<3,>=1.21.1 in /usr/local/lib/python3.10/dist-packages (from requests>=2.31->yfinance) (2.0.7)\n",
            "Requirement already satisfied: certifi>=2017.4.17 in /usr/local/lib/python3.10/dist-packages (from requests>=2.31->yfinance) (2023.7.22)\n",
            "Building wheels for collected packages: sklearn\n",
            "  Building wheel for sklearn (setup.py) ... \u001b[?25l\u001b[?25hdone\n",
            "  Created wheel for sklearn: filename=sklearn-0.0.post11-py3-none-any.whl size=2959 sha256=540be254b64c63adb2f7ccd7a25390c60d1d5c8936e95211a3516ef7cd513c8c\n",
            "  Stored in directory: /root/.cache/pip/wheels/aa/9c/60/f67813603a52fc35057868f1aba0003cc75b72583dcaa2c341\n",
            "Successfully built sklearn\n",
            "Installing collected packages: sklearn\n",
            "Successfully installed sklearn-0.0.post11\n",
            "Requirement already satisfied: scikit-learn in /usr/local/lib/python3.10/dist-packages (1.2.2)\n",
            "Requirement already satisfied: numpy>=1.17.3 in /usr/local/lib/python3.10/dist-packages (from scikit-learn) (1.23.5)\n",
            "Requirement already satisfied: scipy>=1.3.2 in /usr/local/lib/python3.10/dist-packages (from scikit-learn) (1.11.3)\n",
            "Requirement already satisfied: joblib>=1.1.1 in /usr/local/lib/python3.10/dist-packages (from scikit-learn) (1.3.2)\n",
            "Requirement already satisfied: threadpoolctl>=2.0.0 in /usr/local/lib/python3.10/dist-packages (from scikit-learn) (3.2.0)\n",
            "Requirement already satisfied: pip in /usr/local/lib/python3.10/dist-packages (23.1.2)\n",
            "Collecting pip\n",
            "  Downloading pip-23.3.1-py3-none-any.whl (2.1 MB)\n",
            "\u001b[2K     \u001b[90m━━━━━━━━━━━━━━━━━━━━━━━━━━━━━━━━━━━━━━━━\u001b[0m \u001b[32m2.1/2.1 MB\u001b[0m \u001b[31m8.6 MB/s\u001b[0m eta \u001b[36m0:00:00\u001b[0m\n",
            "\u001b[?25hRequirement already satisfied: setuptools in /usr/local/lib/python3.10/dist-packages (67.7.2)\n",
            "Collecting setuptools\n",
            "  Downloading setuptools-68.2.2-py3-none-any.whl (807 kB)\n",
            "\u001b[2K     \u001b[90m━━━━━━━━━━━━━━━━━━━━━━━━━━━━━━━━━━━━━━━━\u001b[0m \u001b[32m807.9/807.9 kB\u001b[0m \u001b[31m14.0 MB/s\u001b[0m eta \u001b[36m0:00:00\u001b[0m\n",
            "\u001b[?25hRequirement already satisfied: wheel in /usr/local/lib/python3.10/dist-packages (0.41.3)\n",
            "Installing collected packages: setuptools, pip\n",
            "  Attempting uninstall: setuptools\n",
            "    Found existing installation: setuptools 67.7.2\n",
            "    Uninstalling setuptools-67.7.2:\n",
            "      Successfully uninstalled setuptools-67.7.2\n",
            "  Attempting uninstall: pip\n",
            "    Found existing installation: pip 23.1.2\n",
            "    Uninstalling pip-23.1.2:\n",
            "      Successfully uninstalled pip-23.1.2\n",
            "\u001b[31mERROR: pip's dependency resolver does not currently take into account all the packages that are installed. This behaviour is the source of the following dependency conflicts.\n",
            "ipython 7.34.0 requires jedi>=0.16, which is not installed.\n",
            "lida 0.0.10 requires fastapi, which is not installed.\n",
            "lida 0.0.10 requires kaleido, which is not installed.\n",
            "lida 0.0.10 requires python-multipart, which is not installed.\n",
            "lida 0.0.10 requires uvicorn, which is not installed.\u001b[0m\u001b[31m\n",
            "\u001b[0mSuccessfully installed pip-23.3.1 setuptools-68.2.2\n"
          ]
        },
        {
          "output_type": "display_data",
          "data": {
            "application/vnd.colab-display-data+json": {
              "pip_warning": {
                "packages": [
                  "_distutils_hack",
                  "pkg_resources",
                  "setuptools"
                ]
              }
            }
          },
          "metadata": {}
        },
        {
          "output_type": "stream",
          "name": "stdout",
          "text": [
            "[*********************100%%**********************]  1 of 1 completed\n",
            "[*********************100%%**********************]  1 of 1 completed\n",
            "[*********************100%%**********************]  1 of 1 completed\n",
            "[*********************100%%**********************]  1 of 1 completed\n",
            "[*********************100%%**********************]  1 of 1 completed\n",
            "[*********************100%%**********************]  1 of 1 completed\n",
            "[*********************100%%**********************]  1 of 1 completed\n",
            "[*********************100%%**********************]  1 of 1 completed\n",
            "[*********************100%%**********************]  1 of 1 completed\n",
            "[*********************100%%**********************]  1 of 1 completed\n",
            "[*********************100%%**********************]  1 of 1 completed\n",
            "[*********************100%%**********************]  1 of 1 completed\n",
            "[*********************100%%**********************]  1 of 1 completed\n",
            "[*********************100%%**********************]  1 of 1 completed\n",
            "The pair with the highest potential growth in the next 5 days is: NZDUSD=X with a growth rate of 0.66%\n",
            "Growth rates for EURUSD=X:\n",
            "Day 1: -1.04%\n",
            "Day 2: -0.36%\n",
            "Day 3: -0.11%\n",
            "Day 4: -0.10%\n",
            "Day 5: -0.10%\n",
            "\n",
            "Growth rates for USDJPY=X:\n",
            "Day 1: 0.12%\n",
            "Day 2: 0.11%\n",
            "Day 3: -0.01%\n",
            "Day 4: -0.14%\n",
            "Day 5: 0.33%\n",
            "\n",
            "Growth rates for GBPUSD=X:\n",
            "Day 1: -0.85%\n",
            "Day 2: -0.17%\n",
            "Day 3: 0.27%\n",
            "Day 4: -0.05%\n",
            "Day 5: 0.10%\n",
            "\n",
            "Growth rates for AUDUSD=X:\n",
            "Day 1: -0.15%\n",
            "Day 2: -0.59%\n",
            "Day 3: 0.35%\n",
            "Day 4: -0.33%\n",
            "Day 5: -0.44%\n",
            "\n",
            "Growth rates for NZDUSD=X:\n",
            "Day 1: 0.24%\n",
            "Day 2: 0.24%\n",
            "Day 3: 1.10%\n",
            "Day 4: 0.39%\n",
            "Day 5: 0.66%\n",
            "\n",
            "Growth rates for USDCHF=X:\n",
            "Day 1: 0.95%\n",
            "Day 2: 0.62%\n",
            "Day 3: 0.15%\n",
            "Day 4: -0.14%\n",
            "Day 5: -0.59%\n",
            "\n",
            "Growth rates for USDCAD=X:\n",
            "Day 1: 0.51%\n",
            "Day 2: 0.21%\n",
            "Day 3: -0.15%\n",
            "Day 4: -0.15%\n",
            "Day 5: -0.42%\n",
            "\n",
            "Growth rates for EURJPY=X:\n",
            "Day 1: -0.92%\n",
            "Day 2: -0.25%\n",
            "Day 3: -0.12%\n",
            "Day 4: -0.24%\n",
            "Day 5: 0.23%\n",
            "\n",
            "Growth rates for GBPCHF=X:\n",
            "Day 1: 0.07%\n",
            "Day 2: 0.45%\n",
            "Day 3: 0.42%\n",
            "Day 4: -0.18%\n",
            "Day 5: -0.49%\n",
            "\n",
            "Growth rates for GBPJPY=X:\n",
            "Day 1: -0.73%\n",
            "Day 2: -0.06%\n",
            "Day 3: 0.26%\n",
            "Day 4: -0.19%\n",
            "Day 5: 0.43%\n",
            "\n",
            "Growth rates for GBPNZD=X:\n",
            "Day 1: -1.09%\n",
            "Day 2: -0.40%\n",
            "Day 3: -0.82%\n",
            "Day 4: -0.41%\n",
            "Day 5: -0.55%\n",
            "\n",
            "Growth rates for NZDCAD=X:\n",
            "Day 1: 0.76%\n",
            "Day 2: 0.44%\n",
            "Day 3: 0.95%\n",
            "Day 4: 0.22%\n",
            "Day 5: 0.23%\n",
            "\n",
            "Growth rates for NZDCHF=X:\n",
            "Day 1: 1.17%\n",
            "Day 2: 0.85%\n",
            "Day 3: 1.26%\n",
            "Day 4: 0.32%\n",
            "Day 5: 0.06%\n",
            "\n",
            "Growth rates for EURNZD=X:\n",
            "Day 1: -1.27%\n",
            "Day 2: -0.53%\n",
            "Day 3: -1.19%\n",
            "Day 4: -0.48%\n",
            "Day 5: -0.74%\n",
            "\n",
            "Growth rates for EURUSD=X:\n",
            "11/16/2023: -1.04%\n",
            "11/17/2023: -0.36%\n",
            "11/18/2023: -0.11%\n",
            "11/19/2023: -0.10%\n",
            "11/20/2023: -0.10%\n",
            "\n",
            "Growth rates for USDJPY=X:\n",
            "11/16/2023: 0.12%\n",
            "11/17/2023: 0.11%\n",
            "11/18/2023: -0.01%\n",
            "11/19/2023: -0.14%\n",
            "11/20/2023: 0.33%\n",
            "\n",
            "Growth rates for GBPUSD=X:\n",
            "11/16/2023: -0.85%\n",
            "11/17/2023: -0.17%\n",
            "11/18/2023: 0.27%\n",
            "11/19/2023: -0.05%\n",
            "11/20/2023: 0.10%\n",
            "\n",
            "Growth rates for AUDUSD=X:\n",
            "11/16/2023: -0.15%\n",
            "11/17/2023: -0.59%\n",
            "11/18/2023: 0.35%\n",
            "11/19/2023: -0.33%\n",
            "11/20/2023: -0.44%\n",
            "\n",
            "Growth rates for NZDUSD=X:\n",
            "11/16/2023: 0.24%\n",
            "11/17/2023: 0.24%\n",
            "11/18/2023: 1.10%\n",
            "11/19/2023: 0.39%\n",
            "11/20/2023: 0.66%\n",
            "\n",
            "Growth rates for USDCHF=X:\n",
            "11/16/2023: 0.95%\n",
            "11/17/2023: 0.62%\n",
            "11/18/2023: 0.15%\n",
            "11/19/2023: -0.14%\n",
            "11/20/2023: -0.59%\n",
            "\n",
            "Growth rates for USDCAD=X:\n",
            "11/16/2023: 0.51%\n",
            "11/17/2023: 0.21%\n",
            "11/18/2023: -0.15%\n",
            "11/19/2023: -0.15%\n",
            "11/20/2023: -0.42%\n",
            "\n",
            "Growth rates for EURJPY=X:\n",
            "11/16/2023: -0.92%\n",
            "11/17/2023: -0.25%\n",
            "11/18/2023: -0.12%\n",
            "11/19/2023: -0.24%\n",
            "11/20/2023: 0.23%\n",
            "\n",
            "Growth rates for GBPCHF=X:\n",
            "11/16/2023: 0.07%\n",
            "11/17/2023: 0.45%\n",
            "11/18/2023: 0.42%\n",
            "11/19/2023: -0.18%\n",
            "11/20/2023: -0.49%\n",
            "\n",
            "Growth rates for GBPJPY=X:\n",
            "11/16/2023: -0.73%\n",
            "11/17/2023: -0.06%\n",
            "11/18/2023: 0.26%\n",
            "11/19/2023: -0.19%\n",
            "11/20/2023: 0.43%\n",
            "\n",
            "Growth rates for GBPNZD=X:\n",
            "11/16/2023: -1.09%\n",
            "11/17/2023: -0.40%\n",
            "11/18/2023: -0.82%\n",
            "11/19/2023: -0.41%\n",
            "11/20/2023: -0.55%\n",
            "\n",
            "Growth rates for NZDCAD=X:\n",
            "11/16/2023: 0.76%\n",
            "11/17/2023: 0.44%\n",
            "11/18/2023: 0.95%\n",
            "11/19/2023: 0.22%\n",
            "11/20/2023: 0.23%\n",
            "\n",
            "Growth rates for NZDCHF=X:\n",
            "11/16/2023: 1.17%\n",
            "11/17/2023: 0.85%\n",
            "11/18/2023: 1.26%\n",
            "11/19/2023: 0.32%\n",
            "11/20/2023: 0.06%\n",
            "\n",
            "Growth rates for EURNZD=X:\n",
            "11/16/2023: -1.27%\n",
            "11/17/2023: -0.53%\n",
            "11/18/2023: -1.19%\n",
            "11/19/2023: -0.48%\n",
            "11/20/2023: -0.74%\n",
            "\n"
          ]
        },
        {
          "output_type": "display_data",
          "data": {
            "text/plain": [
              "<IPython.core.display.HTML object>"
            ],
            "text/html": [
              "Growth rates for EURUSD=X:<br>11/16/2023: <span style=\"color: red\">-1.04%</span><br>11/17/2023: <span style=\"color: red\">-0.36%</span><br>11/18/2023: <span style=\"color: red\">-0.11%</span><br>11/19/2023: <span style=\"color: red\">-0.10%</span><br>11/20/2023: <span style=\"color: red\">-0.10%</span><br>"
            ]
          },
          "metadata": {}
        },
        {
          "output_type": "display_data",
          "data": {
            "text/plain": [
              "<IPython.core.display.HTML object>"
            ],
            "text/html": [
              "Growth rates for USDJPY=X:<br>11/16/2023: <span style=\"color: green\">0.12%</span><br>11/17/2023: <span style=\"color: green\">0.11%</span><br>11/18/2023: <span style=\"color: red\">-0.01%</span><br>11/19/2023: <span style=\"color: red\">-0.14%</span><br>11/20/2023: <span style=\"color: green\">0.33%</span><br>"
            ]
          },
          "metadata": {}
        },
        {
          "output_type": "display_data",
          "data": {
            "text/plain": [
              "<IPython.core.display.HTML object>"
            ],
            "text/html": [
              "Growth rates for GBPUSD=X:<br>11/16/2023: <span style=\"color: red\">-0.85%</span><br>11/17/2023: <span style=\"color: red\">-0.17%</span><br>11/18/2023: <span style=\"color: green\">0.27%</span><br>11/19/2023: <span style=\"color: red\">-0.05%</span><br>11/20/2023: <span style=\"color: green\">0.10%</span><br>"
            ]
          },
          "metadata": {}
        },
        {
          "output_type": "display_data",
          "data": {
            "text/plain": [
              "<IPython.core.display.HTML object>"
            ],
            "text/html": [
              "Growth rates for AUDUSD=X:<br>11/16/2023: <span style=\"color: red\">-0.15%</span><br>11/17/2023: <span style=\"color: red\">-0.59%</span><br>11/18/2023: <span style=\"color: green\">0.35%</span><br>11/19/2023: <span style=\"color: red\">-0.33%</span><br>11/20/2023: <span style=\"color: red\">-0.44%</span><br>"
            ]
          },
          "metadata": {}
        },
        {
          "output_type": "display_data",
          "data": {
            "text/plain": [
              "<IPython.core.display.HTML object>"
            ],
            "text/html": [
              "Growth rates for NZDUSD=X:<br>11/16/2023: <span style=\"color: green\">0.24%</span><br>11/17/2023: <span style=\"color: green\">0.24%</span><br>11/18/2023: <span style=\"color: green\">1.10%</span><br>11/19/2023: <span style=\"color: green\">0.39%</span><br>11/20/2023: <span style=\"color: green\">0.66%</span><br>"
            ]
          },
          "metadata": {}
        },
        {
          "output_type": "display_data",
          "data": {
            "text/plain": [
              "<IPython.core.display.HTML object>"
            ],
            "text/html": [
              "Growth rates for USDCHF=X:<br>11/16/2023: <span style=\"color: green\">0.95%</span><br>11/17/2023: <span style=\"color: green\">0.62%</span><br>11/18/2023: <span style=\"color: green\">0.15%</span><br>11/19/2023: <span style=\"color: red\">-0.14%</span><br>11/20/2023: <span style=\"color: red\">-0.59%</span><br>"
            ]
          },
          "metadata": {}
        },
        {
          "output_type": "display_data",
          "data": {
            "text/plain": [
              "<IPython.core.display.HTML object>"
            ],
            "text/html": [
              "Growth rates for USDCAD=X:<br>11/16/2023: <span style=\"color: green\">0.51%</span><br>11/17/2023: <span style=\"color: green\">0.21%</span><br>11/18/2023: <span style=\"color: red\">-0.15%</span><br>11/19/2023: <span style=\"color: red\">-0.15%</span><br>11/20/2023: <span style=\"color: red\">-0.42%</span><br>"
            ]
          },
          "metadata": {}
        },
        {
          "output_type": "display_data",
          "data": {
            "text/plain": [
              "<IPython.core.display.HTML object>"
            ],
            "text/html": [
              "Growth rates for EURJPY=X:<br>11/16/2023: <span style=\"color: red\">-0.92%</span><br>11/17/2023: <span style=\"color: red\">-0.25%</span><br>11/18/2023: <span style=\"color: red\">-0.12%</span><br>11/19/2023: <span style=\"color: red\">-0.24%</span><br>11/20/2023: <span style=\"color: green\">0.23%</span><br>"
            ]
          },
          "metadata": {}
        },
        {
          "output_type": "display_data",
          "data": {
            "text/plain": [
              "<IPython.core.display.HTML object>"
            ],
            "text/html": [
              "Growth rates for GBPCHF=X:<br>11/16/2023: <span style=\"color: green\">0.07%</span><br>11/17/2023: <span style=\"color: green\">0.45%</span><br>11/18/2023: <span style=\"color: green\">0.42%</span><br>11/19/2023: <span style=\"color: red\">-0.18%</span><br>11/20/2023: <span style=\"color: red\">-0.49%</span><br>"
            ]
          },
          "metadata": {}
        },
        {
          "output_type": "display_data",
          "data": {
            "text/plain": [
              "<IPython.core.display.HTML object>"
            ],
            "text/html": [
              "Growth rates for GBPJPY=X:<br>11/16/2023: <span style=\"color: red\">-0.73%</span><br>11/17/2023: <span style=\"color: red\">-0.06%</span><br>11/18/2023: <span style=\"color: green\">0.26%</span><br>11/19/2023: <span style=\"color: red\">-0.19%</span><br>11/20/2023: <span style=\"color: green\">0.43%</span><br>"
            ]
          },
          "metadata": {}
        },
        {
          "output_type": "display_data",
          "data": {
            "text/plain": [
              "<IPython.core.display.HTML object>"
            ],
            "text/html": [
              "Growth rates for GBPNZD=X:<br>11/16/2023: <span style=\"color: red\">-1.09%</span><br>11/17/2023: <span style=\"color: red\">-0.40%</span><br>11/18/2023: <span style=\"color: red\">-0.82%</span><br>11/19/2023: <span style=\"color: red\">-0.41%</span><br>11/20/2023: <span style=\"color: red\">-0.55%</span><br>"
            ]
          },
          "metadata": {}
        },
        {
          "output_type": "display_data",
          "data": {
            "text/plain": [
              "<IPython.core.display.HTML object>"
            ],
            "text/html": [
              "Growth rates for NZDCAD=X:<br>11/16/2023: <span style=\"color: green\">0.76%</span><br>11/17/2023: <span style=\"color: green\">0.44%</span><br>11/18/2023: <span style=\"color: green\">0.95%</span><br>11/19/2023: <span style=\"color: green\">0.22%</span><br>11/20/2023: <span style=\"color: green\">0.23%</span><br>"
            ]
          },
          "metadata": {}
        },
        {
          "output_type": "display_data",
          "data": {
            "text/plain": [
              "<IPython.core.display.HTML object>"
            ],
            "text/html": [
              "Growth rates for NZDCHF=X:<br>11/16/2023: <span style=\"color: green\">1.17%</span><br>11/17/2023: <span style=\"color: green\">0.85%</span><br>11/18/2023: <span style=\"color: green\">1.26%</span><br>11/19/2023: <span style=\"color: green\">0.32%</span><br>11/20/2023: <span style=\"color: green\">0.06%</span><br>"
            ]
          },
          "metadata": {}
        },
        {
          "output_type": "display_data",
          "data": {
            "text/plain": [
              "<IPython.core.display.HTML object>"
            ],
            "text/html": [
              "Growth rates for EURNZD=X:<br>11/16/2023: <span style=\"color: red\">-1.27%</span><br>11/17/2023: <span style=\"color: red\">-0.53%</span><br>11/18/2023: <span style=\"color: red\">-1.19%</span><br>11/19/2023: <span style=\"color: red\">-0.48%</span><br>11/20/2023: <span style=\"color: red\">-0.74%</span><br>"
            ]
          },
          "metadata": {}
        }
      ],
      "source": [
        "# Install necessary libraries\n",
        "!pip install yfinance pandas sklearn\n",
        "!pip install scikit-learn\n",
        "!pip install --upgrade pip setuptools wheel\n",
        "\n",
        "# Import required libraries\n",
        "import yfinance as yf\n",
        "import pandas as pd\n",
        "from sklearn.linear_model import LinearRegression\n",
        "from sklearn.model_selection import train_test_split\n",
        "from sklearn.metrics import mean_squared_error\n",
        "\n",
        "# Download historical data for major forex pairs over the past year\n",
        "forex_pairs = ['EURUSD=X', 'USDJPY=X', 'GBPUSD=X', 'AUDUSD=X', 'NZDUSD=X', 'USDCHF=X', 'USDCAD=X', 'EURJPY=X','GBPCHF=X','GBPJPY=X','GBPNZD=X','NZDCAD=X','NZDCHF=X','EURNZD=X']\n",
        "data = {}\n",
        "\n",
        "for pair in forex_pairs:\n",
        "    data[pair] = yf.download(pair, start=\"2022-01-01\", end=\"2023-10-31\")\n",
        "\n",
        "# Predicting next 5 days' closing prices using linear regression\n",
        "predictions = {}\n",
        "\n",
        "for pair, df in data.items():\n",
        "    # Create a feature 'Day' as an integer count\n",
        "    df['Day'] = range(len(df))\n",
        "\n",
        "    # Using the last 30 days to predict next 5 days\n",
        "    X = df['Day'].iloc[-30:].values.reshape(-1, 1)\n",
        "    y = df['Close'].iloc[-30:].values.reshape(-1, 1)\n",
        "\n",
        "    model = LinearRegression()\n",
        "    model.fit(X, y)\n",
        "\n",
        "    # Predicting for the next day (today) and the next 4 days\n",
        "    future_days = [[i] for i in range(len(df)-4, len(df)+1)]\n",
        "    forecast = model.predict(future_days)\n",
        "\n",
        "    predictions[pair] = forecast\n",
        "\n",
        "# Checking which forex pair has the highest potential growth in the next 5 days\n",
        "growth_rate = {}\n",
        "\n",
        "for pair, forecast in predictions.items():\n",
        "    rate = (forecast[-1] - data[pair]['Close'].iloc[-1]) / data[pair]['Close'].iloc[-1]\n",
        "    growth_rate[pair] = rate\n",
        "\n",
        "# Sorting pairs based on growth rate\n",
        "sorted_pairs = sorted(growth_rate.items(), key=lambda x: x[1], reverse=True)\n",
        "print(f\"The pair with the highest potential growth in the next 5 days is: {sorted_pairs[0][0]} with a growth rate of {sorted_pairs[0][1][0]*100:.2f}%\")\n",
        "\n",
        "################\n",
        "\n",
        "# Calculating growth rate for each day of the next 5 days\n",
        "growth_rate_each_day = {}\n",
        "\n",
        "for pair, forecast in predictions.items():\n",
        "    daily_rates = []\n",
        "    for i, value in enumerate(forecast):\n",
        "        today_close = data[pair]['Close'].iloc[-(5-i)]\n",
        "        rate = (value - today_close) / today_close\n",
        "        daily_rates.append(rate[0])\n",
        "    growth_rate_each_day[pair] = daily_rates\n",
        "\n",
        "# Displaying growth rate for each day for each pair\n",
        "for pair, rates in growth_rate_each_day.items():\n",
        "    print(f\"Growth rates for {pair}:\")\n",
        "    for i, rate in enumerate(rates, 1):\n",
        "        print(f\"Day {i}: {rate*100:.2f}%\")\n",
        "    print()\n",
        "\n",
        "####################\n",
        "\n",
        "from datetime import datetime, timedelta\n",
        "\n",
        "# Assuming today's date for starting the prediction\n",
        "# Replace this with datetime.now() to use the current date\n",
        "last_date = datetime.now()\n",
        "\n",
        "# Calculating growth rate for each day of the next 5 days\n",
        "growth_rate_each_day = {}\n",
        "\n",
        "for pair, forecast in predictions.items():\n",
        "    daily_rates = []\n",
        "    # Generate the next 5 dates including today\n",
        "    dates = [(last_date + timedelta(days=i)).strftime('%m/%d/%Y') for i in range(5)]\n",
        "\n",
        "    for i, value in enumerate(forecast):\n",
        "        # Adjust the index to get the right 'today_close' value\n",
        "        # Note: This assumes that 'data[pair]['Close']' is up-to-date until 'last_date'\n",
        "        today_close = data[pair]['Close'].iloc[-(5-i)]\n",
        "        rate = (value - today_close) / today_close\n",
        "        daily_rates.append((dates[i], rate[0]))\n",
        "\n",
        "    growth_rate_each_day[pair] = daily_rates\n",
        "\n",
        "# Displaying growth rate for each day for each pair\n",
        "for pair, rates in growth_rate_each_day.items():\n",
        "    print(f\"Growth rates for {pair}:\")\n",
        "    for date, rate in rates:\n",
        "        print(f\"{date}: {rate*100:.2f}%\")\n",
        "    print()\n",
        "\n",
        "#################\n",
        "\n",
        "# For IPython display\n",
        "from IPython.display import display, HTML\n",
        "\n",
        "# Function to colorize text based on value\n",
        "def colorize_text(value):\n",
        "    color = \"green\" if value >= 0 else \"red\"\n",
        "    return f'<span style=\"color: {color}\">{value:.2f}%</span>'\n",
        "\n",
        "# Displaying growth rate for each day for each pair\n",
        "for pair, rates in growth_rate_each_day.items():\n",
        "    output = f\"Growth rates for {pair}:<br>\"\n",
        "    for date, rate in rates:\n",
        "        output += f\"{date}: {colorize_text(rate*100)}<br>\"\n",
        "    display(HTML(output))\n"
      ]
    },
    {
      "cell_type": "markdown",
      "source": [
        "Description:\n",
        "\n",
        "The code aims to forecast the growth rate of major forex pairs over the next 5 days using historical data and simple linear regression. The predictions are color-coded: positive growth rates are shown in green, while negative growth rates are displayed in red.\n",
        "\n",
        "Main Components:\n",
        "\n",
        "Library Imports and Setup:\n",
        "\n",
        "Necessary libraries are imported: yfinance for fetching forex data, pandas for data manipulation, and sklearn for building the linear regression model.\n",
        "IPython.display is also imported to enable HTML rendering in Jupyter notebooks.\n",
        "Fetching Historical Data:\n",
        "\n",
        "A list of forex pairs (forex_pairs) is defined.\n",
        "Historical data for each pair is fetched for a specified time period using yf.download.\n",
        "Predictions Using Linear Regression:\n",
        "\n",
        "For each forex pair, a linear regression model is trained on the last 30 days of closing prices.\n",
        "The model then predicts the closing prices for the next 5 days.\n",
        "Growth Rate Calculations:\n",
        "\n",
        "The potential growth rate for each pair over the next 5 days is computed.\n",
        "Additionally, the daily growth rates are computed.\n",
        "Color-Coded Display:\n",
        "\n",
        "A custom function colorize_text is used to colorize growth rates based on their sign.\n",
        "Positive growth rates are rendered in green, while negative ones are in red.\n",
        "The final predictions are displayed using HTML rendering to apply the color-coding.\n",
        "By running the code, a user can quickly ascertain the predicted growth trends of major forex pairs over the upcoming 5 days, with color-coding providing an intuitive visualization of the predictions' bullish or bearish nature."
      ],
      "metadata": {
        "id": "vq2zAM3ytR15"
      }
    }
  ]
}