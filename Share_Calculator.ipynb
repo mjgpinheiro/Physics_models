{
  "nbformat": 4,
  "nbformat_minor": 0,
  "metadata": {
    "colab": {
      "provenance": [],
      "authorship_tag": "ABX9TyNHkggSVZzHz3hOQReyYqSw",
      "include_colab_link": true
    },
    "kernelspec": {
      "name": "python3",
      "display_name": "Python 3"
    },
    "language_info": {
      "name": "python"
    }
  },
  "cells": [
    {
      "cell_type": "markdown",
      "metadata": {
        "id": "view-in-github",
        "colab_type": "text"
      },
      "source": [
        "<a href=\"https://colab.research.google.com/github/mjgpinheiro/Physics_models/blob/main/Share_Calculator.ipynb\" target=\"_parent\"><img src=\"https://colab.research.google.com/assets/colab-badge.svg\" alt=\"Open In Colab\"/></a>"
      ]
    },
    {
      "cell_type": "code",
      "execution_count": null,
      "metadata": {
        "id": "yKrkGmo9K-lN",
        "outputId": "ca17e337-5924-41e9-cbe5-ff1d94bbdf1e",
        "colab": {
          "base_uri": "https://localhost:8080/"
        }
      },
      "outputs": [
        {
          "output_type": "stream",
          "name": "stdout",
          "text": [
            "Advisable number of shares to buy: 450\n"
          ]
        }
      ],
      "source": [
        "# Importing necessary library\n",
        "import math\n",
        "\n",
        "# Function to calculate the advisable number of shares\n",
        "def calculate_advisable_shares(buying_power, share_price, safety_margin=0.10):\n",
        "    # Adjusted buying power considering the safety margin\n",
        "    adjusted_buying_power = buying_power * (1 - safety_margin)\n",
        "\n",
        "    # Calculating the maximum number of shares\n",
        "    max_shares = math.floor(adjusted_buying_power / share_price)\n",
        "\n",
        "    return max_shares\n",
        "\n",
        "# Example inputs\n",
        "buying_power = 1500  # in euros\n",
        "share_price = 3      # price of one SFWL share in euros\n",
        "safety_margin = 0.10 # 10% of buying power kept as cash\n",
        "\n",
        "# Calculate the advisable number of shares\n",
        "advisable_shares = calculate_advisable_shares(buying_power, share_price, safety_margin)\n",
        "\n",
        "# Output the result\n",
        "print(f\"Advisable number of shares to buy: {advisable_shares}\")\n"
      ]
    }
  ]
}