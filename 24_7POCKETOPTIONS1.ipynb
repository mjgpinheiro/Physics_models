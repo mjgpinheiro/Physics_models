{
  "nbformat": 4,
  "nbformat_minor": 0,
  "metadata": {
    "colab": {
      "provenance": [],
      "authorship_tag": "ABX9TyO01DO36+hC6o/EQWwjk1ky",
      "include_colab_link": true
    },
    "kernelspec": {
      "name": "python3",
      "display_name": "Python 3"
    },
    "language_info": {
      "name": "python"
    }
  },
  "cells": [
    {
      "cell_type": "markdown",
      "metadata": {
        "id": "view-in-github",
        "colab_type": "text"
      },
      "source": [
        "<a href=\"https://colab.research.google.com/github/mjgpinheiro/Physics_models/blob/main/24_7POCKETOPTIONS1.ipynb\" target=\"_parent\"><img src=\"https://colab.research.google.com/assets/colab-badge.svg\" alt=\"Open In Colab\"/></a>"
      ]
    },
    {
      "cell_type": "code",
      "execution_count": 2,
      "metadata": {
        "colab": {
          "base_uri": "https://localhost:8080/"
        },
        "id": "GT1jNb7YJXfz",
        "outputId": "03ab5bd0-04cf-4580-d628-d7265c110775"
      },
      "outputs": [
        {
          "output_type": "stream",
          "name": "stderr",
          "text": [
            "\r[*********************100%***********************]  1 of 1 completed\n"
          ]
        },
        {
          "output_type": "stream",
          "name": "stdout",
          "text": [
            "For BTC-USD, the recommendation for the next hour is to SELL.\n"
          ]
        },
        {
          "output_type": "stream",
          "name": "stderr",
          "text": [
            "\r[*********************100%***********************]  1 of 1 completed\n"
          ]
        },
        {
          "output_type": "stream",
          "name": "stdout",
          "text": [
            "For ETH-USD, the recommendation for the next hour is to BUY.\n"
          ]
        },
        {
          "output_type": "stream",
          "name": "stderr",
          "text": [
            "\r[*********************100%***********************]  1 of 1 completed\n"
          ]
        },
        {
          "output_type": "stream",
          "name": "stdout",
          "text": [
            "For EURUSD=X, the recommendation for the next hour is to BUY.\n"
          ]
        },
        {
          "output_type": "stream",
          "name": "stderr",
          "text": [
            "\r[*********************100%***********************]  1 of 1 completed\n"
          ]
        },
        {
          "output_type": "stream",
          "name": "stdout",
          "text": [
            "For GBPUSD=X, the recommendation for the next hour is to BUY.\n"
          ]
        },
        {
          "output_type": "stream",
          "name": "stderr",
          "text": [
            "\r[*********************100%***********************]  1 of 1 completed\n"
          ]
        },
        {
          "output_type": "stream",
          "name": "stdout",
          "text": [
            "For USDJPY=X, the recommendation for the next hour is to SELL.\n"
          ]
        },
        {
          "output_type": "stream",
          "name": "stderr",
          "text": [
            "\r[*********************100%***********************]  1 of 1 completed\n"
          ]
        },
        {
          "output_type": "stream",
          "name": "stdout",
          "text": [
            "For USDCAD=X, the recommendation for the next hour is to SELL.\n"
          ]
        }
      ],
      "source": [
        "import yfinance as yf\n",
        "import pandas as pd\n",
        "import numpy as np\n",
        "from sklearn.model_selection import train_test_split\n",
        "from sklearn.ensemble import RandomForestClassifier\n",
        "from ta.trend import MACD, SMAIndicator\n",
        "from ta.momentum import StochasticOscillator, RSIIndicator\n",
        "import matplotlib.pyplot as plt\n",
        "\n",
        "# Define the stock symbols (or crypto/forex symbols)\n",
        "stock_symbols = ['BTC-USD', 'ETH-USD', 'EURUSD=X', 'GBPUSD=X', 'USDJPY=X', 'USDCAD=X']\n",
        "time_interval = '1h'  # Change to 1-hour intervals (valid)\n",
        "\n",
        "# Function to process each stock or forex pair and predict buy/sell\n",
        "def predict_for_symbol(symbol):\n",
        "    # Fetch data from Yahoo Finance for the last 1 year with 1-hour intervals\n",
        "    try:\n",
        "        data = yf.download(symbol, period='1y', interval=time_interval)\n",
        "\n",
        "        # Feature Engineering - Moving Averages, MACD, Stochastic Oscillator, RSI\n",
        "\n",
        "        # 1. Moving Averages (SMA - Simple Moving Averages)\n",
        "        data['SMA_10'] = SMAIndicator(data['Close'], window=10).sma_indicator()\n",
        "        data['SMA_30'] = SMAIndicator(data['Close'], window=30).sma_indicator()\n",
        "\n",
        "        # 2. MACD (Moving Average Convergence Divergence)\n",
        "        macd = MACD(close=data['Close'], window_slow=26, window_fast=12, window_sign=9)\n",
        "        data['MACD'] = macd.macd()\n",
        "        data['MACD_signal'] = macd.macd_signal()\n",
        "\n",
        "        # 3. Stochastic Oscillator\n",
        "        stoch = StochasticOscillator(high=data['High'], low=data['Low'], close=data['Close'], window=14, smooth_window=3)\n",
        "        data['stoch_k'] = stoch.stoch()\n",
        "        data['stoch_d'] = stoch.stoch_signal()\n",
        "\n",
        "        # 4. Relative Strength Index (RSI)\n",
        "        rsi = RSIIndicator(close=data['Close'], window=14)\n",
        "        data['RSI'] = rsi.rsi()\n",
        "\n",
        "        # Drop NaN values (as some indicators are based on rolling windows)\n",
        "        data.dropna(inplace=True)\n",
        "\n",
        "        # Define buy/sell signal: Buy if MACD > Signal and SMA_10 > SMA_30, otherwise sell\n",
        "        def buy_sell_signal(row):\n",
        "            if row['MACD'] > row['MACD_signal'] and row['SMA_10'] > row['SMA_30']:\n",
        "                return 1  # Buy\n",
        "            else:\n",
        "                return 0  # Sell\n",
        "\n",
        "        data['Signal'] = data.apply(buy_sell_signal, axis=1)\n",
        "\n",
        "        if data.shape[0] > 10:  # Make sure there are enough rows\n",
        "\n",
        "            # Define features (X) and target variable (y)\n",
        "            feature_columns = ['SMA_10', 'SMA_30', 'MACD', 'MACD_signal', 'stoch_k', 'stoch_d', 'RSI']\n",
        "            X = data[feature_columns]\n",
        "            y = data['Signal']\n",
        "\n",
        "            # Split the data into training and test sets\n",
        "            X_train, X_test, y_train, y_test = train_test_split(X, y, test_size=0.3, shuffle=False)\n",
        "\n",
        "            # Use RandomForest without GridSearchCV to speed up execution\n",
        "            model = RandomForestClassifier(n_estimators=100, max_depth=10, random_state=42)\n",
        "            model.fit(X_train, y_train)\n",
        "\n",
        "            # Predict the next hour signal using the last available data point\n",
        "            next_hour_data = pd.DataFrame([data.iloc[-1][feature_columns]])\n",
        "            next_hour_prediction = model.predict(next_hour_data)[0]\n",
        "\n",
        "            # Output decision based on next hour prediction\n",
        "            if next_hour_prediction == 1:\n",
        "                decision = \"BUY\"\n",
        "            else:\n",
        "                decision = \"SELL\"\n",
        "\n",
        "            # Print the result for the symbol\n",
        "            print(f\"For {symbol}, the recommendation for the next hour is to {decision}.\")\n",
        "        else:\n",
        "            print(f\"Not enough data to make a prediction for {symbol}.\")\n",
        "    except Exception as e:\n",
        "        print(f\"Data for {symbol} could not be fetched. Error: {e}\")\n",
        "\n",
        "# Loop through each symbol and make the prediction\n",
        "for symbol in stock_symbols:\n",
        "    predict_for_symbol(symbol)\n"
      ]
    }
  ]
}