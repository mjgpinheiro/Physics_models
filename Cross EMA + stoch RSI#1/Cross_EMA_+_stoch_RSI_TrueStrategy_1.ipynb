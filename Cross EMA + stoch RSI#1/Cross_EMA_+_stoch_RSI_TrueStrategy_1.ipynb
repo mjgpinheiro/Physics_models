{
  "nbformat": 4,
  "nbformat_minor": 0,
  "metadata": {
    "colab": {
      "name": "Cross EMA + stoch RSI - TrueStrategy#1.ipynb",
      "provenance": [],
      "include_colab_link": true
    },
    "kernelspec": {
      "name": "python3",
      "display_name": "Python 3"
    },
    "language_info": {
      "name": "python"
    }
  },
  "cells": [
    {
      "cell_type": "markdown",
      "metadata": {
        "id": "view-in-github",
        "colab_type": "text"
      },
      "source": [
        "<a href=\"https://colab.research.google.com/github/mjgpinheiro/Physics_models/blob/Econophysics/Cross%20EMA%20%2B%20stoch%20RSI%231/Cross_EMA_%2B_stoch_RSI_TrueStrategy_1.ipynb\" target=\"_parent\"><img src=\"https://colab.research.google.com/assets/colab-badge.svg\" alt=\"Open In Colab\"/></a>"
      ]
    },
    {
      "cell_type": "code",
      "metadata": {
        "id": "Yfi2qr-OmHJb"
      },
      "source": [
        "!pip install python-binance"
      ],
      "execution_count": null,
      "outputs": []
    },
    {
      "cell_type": "code",
      "metadata": {
        "id": "GSVP99iMmTt4"
      },
      "source": [
        "!pip install ta"
      ],
      "execution_count": null,
      "outputs": []
    },
    {
      "cell_type": "markdown",
      "metadata": {
        "id": "XwM1VV4d2V-R"
      },
      "source": [
        "<h1>Import Dataset</h1>"
      ]
    },
    {
      "cell_type": "code",
      "metadata": {
        "id": "1F0pok5BmY3X"
      },
      "source": [
        "import pandas as pd\n",
        "from binance.client import Client\n",
        "import ta\n",
        "import matplotlib.pyplot as plt\n",
        "\n",
        "client = Client(tld='US')\n",
        "\n",
        "klinesT = client.get_historical_klines(\"ETHUSDT\", Client.KLINE_INTERVAL_1HOUR, \"01 january 2017\")\n",
        "\n",
        "df = pd.DataFrame(klinesT, columns = ['timestamp', 'open', 'high', 'low', 'close', 'volume', 'close_time', 'quote_av', 'trades', 'tb_base_av', 'tb_quote_av', 'ignore' ])\n",
        "df['close'] = pd.to_numeric(df['close'])\n",
        "df['high'] = pd.to_numeric(df['high'])\n",
        "df['low'] = pd.to_numeric(df['low'])\n",
        "df['open'] = pd.to_numeric(df['open'])\n",
        "\n",
        "del df['ignore']\n",
        "del df['close_time']\n",
        "del df['quote_av']\n",
        "del df['trades']\n",
        "del df['tb_base_av']\n",
        "del df['tb_quote_av']\n",
        "\n",
        "df = df.set_index(df['timestamp'])\n",
        "df.index = pd.to_datetime(df.index, unit='ms')\n",
        "del df['timestamp']\n",
        "print(df)"
      ],
      "execution_count": null,
      "outputs": []
    },
    {
      "cell_type": "markdown",
      "metadata": {
        "id": "-1iFHBre2Suk"
      },
      "source": [
        "<h1>Backtest Execution</h1>"
      ]
    },
    {
      "cell_type": "markdown",
      "metadata": {
        "id": "uDzxMm7APl33"
      },
      "source": [
        "Create Indicators"
      ]
    },
    {
      "cell_type": "code",
      "metadata": {
        "id": "VznGtRXG_g_s"
      },
      "source": [
        "#dfTest = df['2020-07-16':]\n",
        "dfTest = df.copy()\n",
        "\n",
        "# dfTest['histo_macd']=ta.trend.macd_diff(dfTest['close'], 26, 12, 9)\n",
        "dfTest['EMA28']=ta.trend.ema_indicator(dfTest['close'], 28)\n",
        "dfTest['EMA48']=ta.trend.ema_indicator(dfTest['close'], 48)\n",
        "# dfTest['MACD']=ta.trend.macd(dfTest['close'], 26, 12, 9)\n",
        "# dfTest['MACD_SIGNAL']=ta.trend.macd_signal(dfTest['close'], 26, 12, 9)\n",
        "# dfTest['MACD_HISTO']= dfTest['MACD'] - dfTest['MACD_SIGNAL']\n",
        "# dfTest['EMA8']=ta.trend.ema_indicator(dfTest['close'], 8)\n",
        "# dfTest['EMA14']=ta.trend.ema_indicator(dfTest['close'], 14)\n",
        "# dfTest['EMA50']=ta.trend.ema_indicator(dfTest['close'], 50)\n",
        "dfTest['STOCH_RSI']=ta.momentum.stochrsi(dfTest['close'])\n",
        "# dfTest['MEAN_STOCH_RSI'] = ta.trend.sma_indicator(dfTest['STOCH_RSI'], 3)\n",
        "# dfTest['SIGNAL_MEAN_STOCH_RSI'] = ta.trend.sma_indicator(dfTest['MEAN_STOCH_RSI'], 3)\n",
        "dfTest"
      ],
      "execution_count": null,
      "outputs": []
    },
    {
      "cell_type": "markdown",
      "metadata": {
        "id": "n6R056JfPpXF"
      },
      "source": [
        "Make backtest"
      ]
    },
    {
      "cell_type": "code",
      "metadata": {
        "id": "q9xE6FZenTyC"
      },
      "source": [
        "dt = None\n",
        "dt = pd.DataFrame(columns = ['date','position', 'price', 'frais' ,'fiat', 'coins', 'wallet', 'drawBack'])\n",
        "\n",
        "usdt = 1000\n",
        "initalWallet = usdt\n",
        "coin = 0\n",
        "wallet = 1000\n",
        "lastAth = 0\n",
        "lastIndex = df.first_valid_index()\n",
        "fee = 0.0007\n",
        "\n",
        "for index, row in dfTest.iterrows():\n",
        "  #Buy\n",
        "  if row['EMA28'] > row['EMA48'] and row['STOCH_RSI'] < 0.8 and  usdt > 0:\n",
        "    coin = usdt / row['close']\n",
        "    frais = fee * coin\n",
        "    coin = coin - frais\n",
        "    usdt = 0\n",
        "    wallet = coin * row['close']\n",
        "    if wallet > lastAth:\n",
        "      lastAth = wallet\n",
        "    # print(\"Buy COIN at\",df['close'][index],'$ the', index)\n",
        "    myrow = {'date': index,'position': \"Buy\",'price': row['close'],'frais': frais * row['close'],'fiat': usdt,'coins': coin,'wallet': wallet,'drawBack':(wallet-lastAth)/lastAth}\n",
        "    dt = dt.append(myrow,ignore_index=True)\n",
        "\n",
        "  #Sell\n",
        "  if row['EMA28'] < row['EMA48'] and row['STOCH_RSI'] > 0.2 and coin > 0:\n",
        "    usdt = coin * row['close']\n",
        "    frais = fee * usdt\n",
        "    usdt = usdt - frais\n",
        "    coin = 0\n",
        "    wallet = usdt\n",
        "    if wallet > lastAth:\n",
        "      lastAth = wallet\n",
        "    # print(\"Sell COIN at\",df['close'][index],'$ the', index)\n",
        "    myrow = {'date': index,'position': \"Sell\",'price': row['close'],'frais': frais,'fiat': usdt,'coins': coin,'wallet': wallet,'drawBack':(wallet-lastAth)/lastAth}\n",
        "    dt = dt.append(myrow,ignore_index=True)\n",
        "  \n",
        "  lastIndex = index\n",
        "\n",
        "#///////////////////////////////////////\n",
        "print(\"Period : [\" + str(dfTest.index[0]) + \"] -> [\" +str(dfTest.index[len(dfTest)-1]) + \"]\")\n",
        "dt = dt.set_index(dt['date'])\n",
        "dt.index = pd.to_datetime(dt.index)\n",
        "dt['resultat'] = dt['wallet'].diff()\n",
        "dt['resultat%'] = dt['wallet'].pct_change()*100\n",
        "dt.loc[dt['position']=='Buy','resultat'] = None\n",
        "dt.loc[dt['position']=='Buy','resultat%'] = None\n",
        "\n",
        "dt['tradeIs'] = ''\n",
        "dt.loc[dt['resultat']>0,'tradeIs'] = 'Good'\n",
        "dt.loc[dt['resultat']<=0,'tradeIs'] = 'Bad'\n",
        "\n",
        "iniClose = dfTest.iloc[0]['close']\n",
        "lastClose = dfTest.iloc[len(dfTest)-1]['close']\n",
        "holdPorcentage = ((lastClose - iniClose)/iniClose) * 100\n",
        "algoPorcentage = ((wallet - initalWallet)/initalWallet) * 100\n",
        "vsHoldPorcentage = ((algoPorcentage - holdPorcentage)/holdPorcentage) * 100\n",
        "\n",
        "print(\"Starting balance : 1000 $\")\n",
        "print(\"Final balance :\",round(wallet,2),\"$\")\n",
        "print(\"Performance vs US Dollar :\",round(algoPorcentage,2),\"%\")\n",
        "print(\"Buy and Hold Performence :\",round(holdPorcentage,2),\"%\")\n",
        "print(\"Performance vs Buy and Hold :\",round(vsHoldPorcentage,2),\"%\")\n",
        "print(\"Number of negative trades : \",dt.groupby('tradeIs')['date'].nunique()['Bad'])\n",
        "print(\"Number of positive trades : \",dt.groupby('tradeIs')['date'].nunique()['Good'])\n",
        "print(\"Average Positive Trades : \",round(dt.loc[dt['tradeIs'] == 'Good', 'resultat%'].sum()/dt.loc[dt['tradeIs'] == 'Good', 'resultat%'].count(),2),\"%\")\n",
        "print(\"Average Negative Trades : \",round(dt.loc[dt['tradeIs'] == 'Bad', 'resultat%'].sum()/dt.loc[dt['tradeIs'] == 'Bad', 'resultat%'].count(),2),\"%\")\n",
        "idbest = dt.loc[dt['tradeIs'] == 'Good', 'resultat%'].idxmax()\n",
        "idworst = dt.loc[dt['tradeIs'] == 'Bad', 'resultat%'].idxmin()\n",
        "print(\"Best trade +\"+str(round(dt.loc[dt['tradeIs'] == 'Good', 'resultat%'].max(),2)),\"%, the \",dt['date'][idbest])\n",
        "print(\"Worst trade\",round(dt.loc[dt['tradeIs'] == 'Bad', 'resultat%'].min(),2),\"%, the \",dt['date'][idworst])\n",
        "print(\"Worst drawBack\", str(100*round(dt['drawBack'].min(),2)),\"%\")\n",
        "print(\"Total fee : \",round(dt['frais'].sum(),2),\"$\")\n",
        "\n",
        "dt[['wallet','price']].plot(subplots=True, figsize=(12,10))\n",
        "print('PLOT')"
      ],
      "execution_count": null,
      "outputs": []
    },
    {
      "cell_type": "markdown",
      "metadata": {
        "id": "CuuQB46p2L6T"
      },
      "source": [
        "<h1>Backtest Result</h1>"
      ]
    },
    {
      "cell_type": "code",
      "metadata": {
        "id": "H6yQzbC2nStj"
      },
      "source": [],
      "execution_count": null,
      "outputs": []
    }
  ]
}