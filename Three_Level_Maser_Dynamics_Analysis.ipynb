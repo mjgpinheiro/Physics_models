{
  "nbformat": 4,
  "nbformat_minor": 0,
  "metadata": {
    "colab": {
      "provenance": [],
      "authorship_tag": "ABX9TyPs2MLYlVUkwH87oQUHWhTV",
      "include_colab_link": true
    },
    "kernelspec": {
      "name": "python3",
      "display_name": "Python 3"
    },
    "language_info": {
      "name": "python"
    }
  },
  "cells": [
    {
      "cell_type": "markdown",
      "metadata": {
        "id": "view-in-github",
        "colab_type": "text"
      },
      "source": [
        "<a href=\"https://colab.research.google.com/github/mjgpinheiro/Physics_models/blob/main/Three_Level_Maser_Dynamics_Analysis.ipynb\" target=\"_parent\"><img src=\"https://colab.research.google.com/assets/colab-badge.svg\" alt=\"Open In Colab\"/></a>"
      ]
    },
    {
      "cell_type": "code",
      "execution_count": null,
      "metadata": {
        "id": "PJLfcA9ZUyrS"
      },
      "outputs": [],
      "source": [
        "import numpy as np\n",
        "import scipy.linalg as la\n",
        "import matplotlib.pyplot as plt\n",
        "\n",
        "# Parameters setup for three-level maser\n",
        "omega_i_values = [1.50e11, 1.55e11, 1.60e11, 1.65e11]\n",
        "tau_values = [1e-9, 2e-9, 3e-9, 4e-9]\n",
        "\n",
        "# Initial state for a three-level maser (example state; can be modified)\n",
        "psi = np.array([1/np.sqrt(3), 1/np.sqrt(3), 1/np.sqrt(3)])\n",
        "rho_0 = np.outer(psi, np.conj(psi))\n",
        "\n",
        "# Hamiltonian for three-level maser (example; can be modified)\n",
        "H_i = [omega * np.array([[0, 0, 0], [0, 1, 0], [0, 0, 2]]) for omega in omega_i_values]\n",
        "\n",
        "# Validation functions\n",
        "def is_hermitian(matrix, tol=1e-10):\n",
        "    return np.allclose(matrix, matrix.conj().T, atol=tol)\n",
        "\n",
        "def has_trace_1(matrix, tol=1e-10):\n",
        "    return np.isclose(np.trace(matrix), 1, atol=tol)\n",
        "\n",
        "def is_positive_semidefinite(matrix, tol=1e-10):\n",
        "    return np.all(np.linalg.eigvals(matrix) >= -tol)\n",
        "\n",
        "# Validate initial density matrix\n",
        "assert is_hermitian(rho_0), \"rho_0 is not Hermitian\"\n",
        "assert has_trace_1(rho_0), \"rho_0 does not have trace 1\"\n",
        "assert is_positive_semidefinite(rho_0), \"rho_0 is not positive semi-definite\"\n",
        "\n",
        "# Validate Hamiltonians\n",
        "for H in H_i:\n",
        "    assert is_hermitian(H), \"A Hamiltonian is not Hermitian\"\n",
        "\n",
        "# Functions to calculate different quantities\n",
        "def unitary(H, tau):\n",
        "    \"\"\"Calculate the unitary operator given Hamiltonian and tau.\"\"\"\n",
        "    return la.expm(-1j * H * tau)\n",
        "\n",
        "def rho_after_unitary(U, rho):\n",
        "    \"\"\"Calculate the density matrix after applying unitary operation.\"\"\"\n",
        "    return U @ rho @ np.conj(U).T\n",
        "\n",
        "def entropy(rho):\n",
        "    \"\"\"Calculate von Neumann entropy.\"\"\"\n",
        "    eigenvalues = la.eigvalsh(rho)\n",
        "    return -np.sum(eigenvalues * np.log2(eigenvalues + 1e-10))\n",
        "\n",
        "def work(rho_i, rho_f, H):\n",
        "    \"\"\"Calculate work done.\"\"\"\n",
        "    return np.trace(rho_f @ H) - np.trace(rho_i @ H)\n",
        "\n",
        "# Simulate cycle\n",
        "rho = [rho_0]\n",
        "entropies = [entropy(rho_0)]\n",
        "works = []\n",
        "\n",
        "for i in range(4):\n",
        "    U = unitary(H_i[i], tau_values[i])\n",
        "    rho.append(rho_after_unitary(U, rho[-1]))\n",
        "    entropies.append(entropy(rho[-1]))\n",
        "    works.append(work(rho[i], rho[i+1], H_i[i]))\n",
        "\n",
        "# Calculate total work and thrust\n",
        "W_total = np.sum(works)\n",
        "T_cycle = np.sum(tau_values)\n",
        "thrust = W_total / T_cycle\n",
        "\n",
        "# Visualization\n",
        "plt.figure(figsize=(10,6))\n",
        "plt.plot(range(len(entropies)), entropies, marker='o', label='Entropy')\n",
        "plt.plot(range(1, len(works) + 1), works, marker='x', linestyle='--', label='Work per step')\n",
        "plt.axhline(y=W_total, color='r', linestyle='--', label='Total work')\n",
        "plt.xlabel('Step')\n",
        "plt.ylabel('Value')\n",
        "plt.title(f'Total work done: {W_total:.2f}, Thrust: {thrust:.2f}')\n",
        "plt.legend()\n",
        "plt.grid(True)\n",
        "plt.show()\n"
      ]
    }
  ]
}