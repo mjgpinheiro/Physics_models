{
  "nbformat": 4,
  "nbformat_minor": 0,
  "metadata": {
    "colab": {
      "provenance": [],
      "gpuType": "T4",
      "authorship_tag": "ABX9TyPcmqbECFPF1ENaWoi7cVKn",
      "include_colab_link": true
    },
    "kernelspec": {
      "name": "python3",
      "display_name": "Python 3"
    },
    "language_info": {
      "name": "python"
    },
    "accelerator": "TPU",
    "gpuClass": "standard"
  },
  "cells": [
    {
      "cell_type": "markdown",
      "metadata": {
        "id": "view-in-github",
        "colab_type": "text"
      },
      "source": [
        "<a href=\"https://colab.research.google.com/github/mjgpinheiro/Physics_models/blob/main/euromillions.ipynb\" target=\"_parent\"><img src=\"https://colab.research.google.com/assets/colab-badge.svg\" alt=\"Open In Colab\"/></a>"
      ]
    },
    {
      "cell_type": "code",
      "execution_count": null,
      "metadata": {
        "id": "BHJw_2cazmGg"
      },
      "outputs": [],
      "source": [
        "import itertools\n",
        "import random\n",
        "import pandas as pd\n",
        "import csv\n",
        "import time\n",
        "\n",
        "# Define the header and data rows\n",
        "header = [\"Date\", \"Number1\", \"Number2\", \"Number3\", \"Number4\", \"Number5\", \"Star1\", \"Star2\"]\n",
        "data_rows = [\n",
        "    [\"2023-04-4\", 10, 16, 31, 33, 50, 3, 8],\n",
        "    [\"2023-04-07\", 5, 26, 28, 36, 46, 6, 12],\n",
        "    [\"2023-04-11\", 10, 14, 16, 19, 29, 2, 10],\n",
        "    [\"2023-04-14\", 4, 11, 37, 44, 49, 6, 7],\n",
        "    [\"2023-04-18\", 17, 21, 23, 35, 37, 10, 11],\n",
        "    [\"2023-04-21\", 7, 8, 18, 33, 42, 2, 8],\n",
        "    [\"2023-04-25\", 10, 29, 30, 40, 45, 1, 12],\n",
        "    [\"2023-04-28\", 11, 13, 16, 23, 34, 1, 10],\n",
        "]\n",
        "\n",
        "# Write the header and data rows to the CSV file\n",
        "print(\"Writing header and data rows to CSV file...\")\n",
        "with open(\"euromillions_past_draws.csv\", mode=\"w\", newline=\"\") as csvfile:\n",
        "    writer = csv.writer(csvfile)\n",
        "    writer.writerow(header)\n",
        "    writer.writerows(data_rows)\n",
        "print(\"Header and data rows successfully written to CSV file.\")\n",
        "\n",
        "# Define the range of numbers and the number of picks for EuroMillions\n",
        "number_of_picks = 5\n",
        "number_of_star_picks = 2\n",
        "\n",
        "# Define the size of the wheeling system (e.g., 10 numbers, 2 stars)\n",
        "wheel_numbers = 10\n",
        "wheel_stars = 4\n",
        "\n",
        "# Define the number of combinations to generate\n",
        "num_combinations = 10\n",
        "\n",
        "# Generate the wheeling system\n",
        "print(\"Generating the wheeling system...\")\n",
        "selected_wheel_numbers = random.sample(list(itertools.combinations(range(1, 51), wheel_numbers)), 1)[0]\n",
        "selected_wheel_stars = random.sample(list(itertools.combinations(range(1, 13), wheel_stars)), 1)[0]\n",
        "print(\"Wheeling system successfully generated.\")\n",
        "\n",
        "# Generate random tickets\n",
        "print(\"Generating random tickets...\")\n",
        "ticket_number_combinations = itertools.combinations(selected_wheel_numbers, number_of_picks)\n",
        "ticket_star_combinations = itertools.combinations(selected_wheel_stars, number_of_star_picks)\n",
        "\n",
        "tickets = []\n",
        "start_time = time.time()\n",
        "for i in range(num_combinations):\n",
        "    ticket_numbers = random.choice(list(ticket_number_combinations))\n",
        "    ticket_stars = random.choice(list(ticket_star_combinations))\n",
        "    tickets.append((ticket_numbers, ticket_stars))\n",
        "\n",
        "    # Print progress message every minute\n",
        "    elapsed_time = time.time() - start_time\n",
        "    if elapsed_time > 60:\n",
        "        print(f\"Generated {i} out of {num_combinations} tickets after {int(elapsed_time)} seconds...\")\n",
        "        start_time = time.time()\n",
        "\n",
        "# Print the generated tickets\n",
        "print(\"Generated Tickets:\")\n",
        "for ticket in tickets:\n",
        "    print(f\"Numbers: {ticket[0]}, Stars: {ticket[1]}\")\n",
        "\n",
        "# Load past winning numbers from a CSV file (you will need to provide this data)\n",
        "print(\"Loading past winning numbers from CSV file...\")\n",
        "past_draws = pd.read_csv(\"euromillions_past_draws.csv\")"
      ]
    }
  ]
}