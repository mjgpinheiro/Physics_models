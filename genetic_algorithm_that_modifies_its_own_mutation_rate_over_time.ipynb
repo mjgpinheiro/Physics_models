{
  "nbformat": 4,
  "nbformat_minor": 0,
  "metadata": {
    "colab": {
      "provenance": [],
      "authorship_tag": "ABX9TyNHmheqOsTiPt1tAixSMY5T",
      "include_colab_link": true
    },
    "kernelspec": {
      "name": "python3",
      "display_name": "Python 3"
    },
    "language_info": {
      "name": "python"
    }
  },
  "cells": [
    {
      "cell_type": "markdown",
      "metadata": {
        "id": "view-in-github",
        "colab_type": "text"
      },
      "source": [
        "<a href=\"https://colab.research.google.com/github/mjgpinheiro/Physics_models/blob/main/genetic_algorithm_that_modifies_its_own_mutation_rate_over_time.ipynb\" target=\"_parent\"><img src=\"https://colab.research.google.com/assets/colab-badge.svg\" alt=\"Open In Colab\"/></a>"
      ]
    },
    {
      "cell_type": "markdown",
      "source": [
        "example Jupyter notebook using the DEAP library in Python to implement a simple genetic algorithm that modifies its own mutation rate over time:"
      ],
      "metadata": {
        "id": "OCRHoUgBG1-L"
      }
    },
    {
      "cell_type": "code",
      "execution_count": 7,
      "metadata": {
        "colab": {
          "base_uri": "https://localhost:8080/"
        },
        "id": "gTKfnSvNGoOy",
        "outputId": "49e1a339-1844-47b5-e83b-6cae3ccf2676"
      },
      "outputs": [
        {
          "output_type": "stream",
          "name": "stdout",
          "text": [
            "Best individual:  [1, 1, 1, 1, 1, 1, 1, 1, 1, 1]\n",
            "Fitness:  10.0\n"
          ]
        }
      ],
      "source": [
        "import random\n",
        "from deap import base, creator, tools\n",
        "\n",
        "# Define the fitness function\n",
        "def evaluate(individual):\n",
        "    return sum(individual),\n",
        "\n",
        "# Define the genetic algorithm parameters\n",
        "pop_size = 100\n",
        "num_generations = 50\n",
        "mutation_rate = 0.1\n",
        "\n",
        "# Define the genetic operators\n",
        "toolbox = base.Toolbox()\n",
        "creator.create(\"FitnessMax\", base.Fitness, weights=(1.0,))\n",
        "creator.create(\"Individual\", list, fitness=creator.FitnessMax, mutation_rate=mutation_rate)\n",
        "toolbox.register(\"attr_bool\", random.randint, 0, 1)\n",
        "toolbox.register(\"individual\", tools.initRepeat, creator.Individual, toolbox.attr_bool, n=10)\n",
        "toolbox.register(\"population\", tools.initRepeat, list, toolbox.individual)\n",
        "toolbox.register(\"evaluate\", evaluate)\n",
        "toolbox.register(\"mate\", tools.cxTwoPoint)\n",
        "toolbox.register(\"mutate\", tools.mutFlipBit, indpb=0.05)\n",
        "toolbox.register(\"select\", tools.selTournament, tournsize=3)\n",
        "\n",
        "# Run the genetic algorithm\n",
        "pop = toolbox.population(n=pop_size)\n",
        "for gen in range(num_generations):\n",
        "    fitnesses = [toolbox.evaluate(ind) for ind in pop]\n",
        "    for ind, fit in zip(pop, fitnesses):\n",
        "        ind.fitness.values = fit\n",
        "    offspring = toolbox.select(pop, len(pop))\n",
        "    offspring = [toolbox.clone(ind) for ind in offspring]\n",
        "    for ind1, ind2 in zip(offspring[::2], offspring[1::2]):\n",
        "        if random.random() < 0.5:\n",
        "            toolbox.mate(ind1, ind2)\n",
        "            del ind1.fitness.values\n",
        "            del ind2.fitness.values\n",
        "    for ind in offspring:\n",
        "        if random.random() < ind.mutation_rate:\n",
        "            toolbox.mutate(ind)\n",
        "            del ind.fitness.values\n",
        "    pop[:] = offspring\n",
        "    for ind in pop:\n",
        "        ind.mutation_rate = max(0.05, min(0.2, ind.mutation_rate + random.uniform(-0.05, 0.05)))\n",
        "\n",
        "# Print the best solution\n",
        "best_ind = tools.selBest(pop, 1)[0]\n",
        "if best_ind.fitness.values:\n",
        "    print(\"Best individual: \", best_ind)\n",
        "    print(\"Fitness: \", best_ind.fitness.values[0])\n",
        "else:\n",
        "    print(\"Fitness values not available.\")\n",
        "\n",
        "\n",
        "\n",
        "\n"
      ]
    },
    {
      "cell_type": "markdown",
      "source": [
        "This code uses a simple fitness function that just sums the values of a binary list of length 10. The genetic algorithm starts with a population of 100 individuals and runs for 50 generations. The mutation rate starts at 0.1, but can be modified by each individual in the population. The algorithm uses standard genetic operators like two-point crossover and bit-flip mutation, but also allows individuals to modify their own mutation rate during the evolution process. At the end of the algorithm, the best solution is printed along with its fitness value.\n",
        "Last version: In this version, the 'mutation_rate' attribute is defined when creating the 'Individual' class, and then it is modified for each individual during the evolution process using a loop at the end of each generation. The attribute is then used to decide whether to mutate an individual or not in the same way as before."
      ],
      "metadata": {
        "id": "J1k09EJEG74w"
      }
    }
  ]
}