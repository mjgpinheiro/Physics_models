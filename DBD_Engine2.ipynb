{
  "nbformat": 4,
  "nbformat_minor": 0,
  "metadata": {
    "colab": {
      "provenance": [],
      "authorship_tag": "ABX9TyPSTuncQ07MzK9n+xTVAJev"
    },
    "kernelspec": {
      "name": "python3",
      "display_name": "Python 3"
    },
    "language_info": {
      "name": "python"
    }
  },
  "cells": [
    {
      "cell_type": "code",
      "execution_count": null,
      "metadata": {
        "id": "seHZkbnfPupE"
      },
      "outputs": [],
      "source": [
        "import numpy as np\n",
        "import matplotlib.pyplot as plt\n",
        "from scipy.integrate import odeint\n",
        "\n",
        "# Simulation parameters\n",
        "f = 10000  # Frequency (Hz)\n",
        "E_rms = np.linspace(500, 5000, 10) / (np.sqrt(2) * np.pi * 0.1)  # Root mean square electric field (V/m)\n",
        "L = 1  # Length of discharge (m)\n",
        "d = 0.1  # Distance between electrodes (m)\n",
        "W = 0.1  # Width of electrodes (m)\n",
        "A = L * W  # Surface area of electrodes (m^2)\n",
        "mu_0 = 4 * np.pi * 10**(-7)  # Permeability of free space (H/m)\n",
        "epsilon_0 = 8.854 * 10**(-12)  # Permittivity of free space (F/m)\n",
        "epsilon_r = 4  # Relative permittivity of dielectric material\n",
        "sigma = 10**(-5)  # Conductivity of dielectric material (S/m)\n",
        "m = 1.67 * 10**(-27)  # Mass of air molecule (kg)\n",
        "k = 1.38 * 10**(-23)  # Boltzmann constant (J/K)\n",
        "T = 300  # Temperature of air (K)\n",
        "\n",
        "Q_total = []\n",
        "v_max = []\n",
        "\n",
        "for E in E_rms:\n",
        "    V = np.sqrt(2) * np.pi * 0.1 * E * L\n",
        "    def electric_field(x, t):\n",
        "        if 0 <= x <= d:\n",
        "            return E * np.sin(2 * np.pi * f * t + 2 * np.pi * x / d)\n",
        "        elif d < x <= L:\n",
        "            return E * np.sin(2 * np.pi * f * t + 2 * np.pi * (L - x) / d)\n",
        "        else:\n",
        "            return 0\n",
        "\n",
        "    def charge_density(x, t):\n",
        "        return sigma * electric_field(x, t) / (2 * epsilon_0 * epsilon_r)\n",
        "\n",
        "    def dbd_ode(y, x, t):\n",
        "        V, Q = y\n",
        "        dVdx = -charge_density(x, t) / epsilon_0\n",
        "        dQdx = sigma * A * electric_field(x, t)\n",
        "        return [dVdx, dQdx]\n",
        "\n",
        "    y0 = [0, 0]\n",
        "    x = np.linspace(0, L, 1000)\n",
        "    t = np.linspace(0, 1 / f, 1000)\n",
        "\n",
        "    sol = odeint(dbd_ode, y0, x, args=(t[0],))\n",
        "\n",
        "    V = sol[:, 0]\n",
        "    Q = sol[:, 1]\n",
        "\n",
        "    # Calculate charge accumulation on dielectric surface\n",
        "    Q_surf = np.sqrt(2 * epsilon_r * epsilon_0 * np.abs(V) * E * W)\n",
        "\n",
        "    # Calculate gas speed\n",
        "    mu = 1.458e-6 * T**(1.5) / (T + 110.4) * 10**(-3)\n",
        "    v = np.sqrt(2 * Q_surf / (A * mu))\n",
        "    v_max.append(np.max(v))\n",
        "\n",
        "    # Add charge to total\n",
        "    Q_total.append(np.trapz(Q_surf, x))\n",
        "\n",
        "# Plot total charge deposited versus applied voltage\n",
        "plt.figure()\n",
        "plt.plot\n"
      ]
    }
  ]
}