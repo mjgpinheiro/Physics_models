{
  "nbformat": 4,
  "nbformat_minor": 0,
  "metadata": {
    "colab": {
      "provenance": [],
      "authorship_tag": "ABX9TyNRniN/Uqa1EactP6lA5t1w",
      "include_colab_link": true
    },
    "kernelspec": {
      "name": "python3",
      "display_name": "Python 3"
    },
    "language_info": {
      "name": "python"
    }
  },
  "cells": [
    {
      "cell_type": "markdown",
      "metadata": {
        "id": "view-in-github",
        "colab_type": "text"
      },
      "source": [
        "<a href=\"https://colab.research.google.com/github/mjgpinheiro/Physics_models/blob/main/Options_Trading_Strategy_based_on_ARIMA_Forecasting.ipynb\" target=\"_parent\"><img src=\"https://colab.research.google.com/assets/colab-badge.svg\" alt=\"Open In Colab\"/></a>"
      ]
    },
    {
      "cell_type": "code",
      "source": [
        "!pip install ibapi\n",
        "\n",
        "from ibapi.client import EClient\n",
        "from ibapi.contract import Contract\n",
        "from ibapi.order import *\n",
        "from ibapi.wrapper import EWrapper\n",
        "\n",
        "class TradingApp(EWrapper, EClient):\n",
        "    def __init__(self):\n",
        "        EClient.__init__(self, self)\n",
        "        self.nextOrderId = 0\n",
        "        self.data = {}  # Store option data\n",
        "\n",
        "    def nextValidId(self, orderId: int):\n",
        "        super().nextValidId(orderId)\n",
        "        self.nextOrderId = orderId\n",
        "\n",
        "    def contractDetails(self, reqId: int, contractDetails):\n",
        "        super().contractDetails(reqId, contractDetails)\n",
        "        contract = contractDetails.contract\n",
        "        symbol = contract.symbol\n",
        "        right = contract.right\n",
        "        self.data[symbol] = {\"right\": right, \"strike\": contract.strike}\n",
        "\n",
        "    def tickPrice(self, reqId, tickType, price, attrib):\n",
        "        super().tickPrice(reqId, tickType, price, attrib)\n",
        "        if tickType == 1:  # Last price\n",
        "            symbol = self.data[reqId][\"symbol\"]\n",
        "            right = self.data[reqId][\"right\"]\n",
        "            strike = self.data[reqId][\"strike\"]\n",
        "            print(f\"Received last price for {symbol}: {price}\")\n",
        "            # Implement your buy order logic here\n",
        "            if price > threshold:\n",
        "                self.placeOrder(symbol, right, strike, \"BUY\", quantity)\n",
        "            # Implement your sell order logic here\n",
        "            if price < threshold:\n",
        "                self.placeOrder(symbol, right, strike, \"SELL\", quantity)\n",
        "\n",
        "    def placeOrder(self, symbol, right, strike, action, quantity):\n",
        "        contract = Contract()\n",
        "        contract.symbol = symbol\n",
        "        contract.secType = \"OPT\"\n",
        "        contract.exchange = \"SMART\"\n",
        "        contract.currency = \"USD\"\n",
        "        contract.lastTradeDateOrContractMonth = \"20231215\"\n",
        "        contract.strike = strike\n",
        "        contract.right = right\n",
        "        contract.multiplier = \"100\"\n",
        "\n",
        "        order = Order()\n",
        "        order.action = action\n",
        "        order.totalQuantity = quantity\n",
        "        order.orderType = \"LMT\"\n",
        "        order.lmtPrice = limit_price\n",
        "\n",
        "        self.placeOrder(self.nextOrderId, contract, order)\n",
        "        self.nextOrderId += 1\n",
        "\n",
        "app = TradingApp()\n",
        "app.connect(\"127.0.0.1\", 4002, clientId=1)\n",
        "\n",
        "# Define your options contract details\n",
        "symbols = [\"AAPL\", \"TSLA\", \"GOOGL\"]\n",
        "quantity = 1\n",
        "threshold = 1.0  # Define your threshold value\n",
        "limit_price = 0.0  # Define your limit price\n",
        "\n",
        "# Request market data for the options contracts\n",
        "for symbol in symbols:\n",
        "    contract = Contract()\n",
        "    contract.symbol = symbol\n",
        "    contract.secType = \"OPT\"\n",
        "    contract.exchange = \"SMART\"\n",
        "    contract.currency = \"USD\"\n",
        "    contract.lastTradeDateOrContractMonth = \"20231215\"\n",
        "    contract.strike = 150\n",
        "    contract.right = \"C\"\n",
        "    contract.multiplier = \"100\"\n",
        "\n",
        "    app.reqMarketDataType(4)\n",
        "    app.reqContractDetails(len(app.data), contract)\n",
        "    app.reqMktData(len(app.data), contract, \"\", False, False, [])\n",
        "    app.nextOrderId += 1\n",
        "\n",
        "app.run()\n"
      ],
      "metadata": {
        "id": "KNS-U1HlKoOp"
      },
      "execution_count": null,
      "outputs": []
    },
    {
      "cell_type": "markdown",
      "source": [
        "Title: Options Trading Strategy based on ARIMA Forecasting\n",
        "\n",
        "Description:\n",
        "This notebook implements an options trading strategy based on ARIMA (AutoRegressive Integrated Moving Average) forecasting. The strategy is inspired by the research article titled \"Options trading strategy based on ARIMA forecasting\" by Pierre Rostan, Alexandra Rostan, and Mohammad Nurunnabi. The article was published in the Department of Business, American University of Afghanistan, and the Department of Accounting, Prince Sultan University.\n",
        "\n",
        "The strategy utilizes ARIMA models to forecast the future price movements of specific assets, such as stocks or indices, and makes trading decisions based on the forecasted values. By integrating ARIMA forecasting into options trading, the strategy aims to identify potential opportunities for profit and manage risk effectively.\n",
        "\n",
        "Note: The implementation in this notebook is based on the concepts presented in the mentioned research article and may have been adapted to fit the Interactive Brokers trading platform.\n",
        "REF: Rostan, P., Rostan, A., & Nurunnabi, M. (Year). Options trading strategy based on ARIMA forecasting. Journal Name, Volume(Issue), Page numbers."
      ],
      "metadata": {
        "id": "wkmPNWGzLzbQ"
      }
    }
  ]
}