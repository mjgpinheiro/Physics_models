{
  "nbformat": 4,
  "nbformat_minor": 0,
  "metadata": {
    "colab": {
      "provenance": [],
      "authorship_tag": "ABX9TyO9IFa+Bt2QS+pXSrciJeM8",
      "include_colab_link": true
    },
    "kernelspec": {
      "name": "python3",
      "display_name": "Python 3"
    },
    "language_info": {
      "name": "python"
    }
  },
  "cells": [
    {
      "cell_type": "markdown",
      "metadata": {
        "id": "view-in-github",
        "colab_type": "text"
      },
      "source": [
        "<a href=\"https://colab.research.google.com/github/mjgpinheiro/Physics_models/blob/main/QM_Integral1.ipynb\" target=\"_parent\"><img src=\"https://colab.research.google.com/assets/colab-badge.svg\" alt=\"Open In Colab\"/></a>"
      ]
    },
    {
      "cell_type": "code",
      "execution_count": null,
      "metadata": {
        "colab": {
          "base_uri": "https://localhost:8080/"
        },
        "id": "MYPy3G3LMm59",
        "outputId": "7a7b83e8-ac59-43db-92ea-e0b6f104b13a"
      },
      "outputs": [
        {
          "output_type": "stream",
          "name": "stdout",
          "text": [
            "Looking in indexes: https://pypi.org/simple, https://us-python.pkg.dev/colab-wheels/public/simple/\n",
            "Requirement already satisfied: qiskit in /usr/local/lib/python3.9/dist-packages (0.42.1)\n",
            "Requirement already satisfied: qiskit-ibmq-provider==0.20.2 in /usr/local/lib/python3.9/dist-packages (from qiskit) (0.20.2)\n",
            "Requirement already satisfied: qiskit-aer==0.12.0 in /usr/local/lib/python3.9/dist-packages (from qiskit) (0.12.0)\n",
            "Requirement already satisfied: qiskit-terra==0.23.3 in /usr/local/lib/python3.9/dist-packages (from qiskit) (0.23.3)\n",
            "Requirement already satisfied: scipy>=1.0 in /usr/local/lib/python3.9/dist-packages (from qiskit-aer==0.12.0->qiskit) (1.10.1)\n",
            "Requirement already satisfied: numpy>=1.16.3 in /usr/local/lib/python3.9/dist-packages (from qiskit-aer==0.12.0->qiskit) (1.22.4)\n",
            "Requirement already satisfied: requests>=2.19 in /usr/local/lib/python3.9/dist-packages (from qiskit-ibmq-provider==0.20.2->qiskit) (2.27.1)\n",
            "Requirement already satisfied: websocket-client>=1.5.1 in /usr/local/lib/python3.9/dist-packages (from qiskit-ibmq-provider==0.20.2->qiskit) (1.5.1)\n",
            "Requirement already satisfied: urllib3>=1.21.1 in /usr/local/lib/python3.9/dist-packages (from qiskit-ibmq-provider==0.20.2->qiskit) (1.26.15)\n",
            "Requirement already satisfied: websockets>=10.0 in /usr/local/lib/python3.9/dist-packages (from qiskit-ibmq-provider==0.20.2->qiskit) (10.4)\n",
            "Requirement already satisfied: requests-ntlm<=1.1.0 in /usr/local/lib/python3.9/dist-packages (from qiskit-ibmq-provider==0.20.2->qiskit) (1.1.0)\n",
            "Requirement already satisfied: python-dateutil>=2.8.0 in /usr/local/lib/python3.9/dist-packages (from qiskit-ibmq-provider==0.20.2->qiskit) (2.8.2)\n",
            "Requirement already satisfied: dill>=0.3 in /usr/local/lib/python3.9/dist-packages (from qiskit-terra==0.23.3->qiskit) (0.3.6)\n",
            "Requirement already satisfied: psutil>=5 in /usr/local/lib/python3.9/dist-packages (from qiskit-terra==0.23.3->qiskit) (5.9.4)\n",
            "Requirement already satisfied: rustworkx>=0.12.0 in /usr/local/lib/python3.9/dist-packages (from qiskit-terra==0.23.3->qiskit) (0.12.1)\n",
            "Requirement already satisfied: ply>=3.10 in /usr/local/lib/python3.9/dist-packages (from qiskit-terra==0.23.3->qiskit) (3.11)\n",
            "Requirement already satisfied: sympy>=1.3 in /usr/local/lib/python3.9/dist-packages (from qiskit-terra==0.23.3->qiskit) (1.11.1)\n",
            "Requirement already satisfied: stevedore>=3.0.0 in /usr/local/lib/python3.9/dist-packages (from qiskit-terra==0.23.3->qiskit) (5.0.0)\n",
            "Requirement already satisfied: symengine>=0.9 in /usr/local/lib/python3.9/dist-packages (from qiskit-terra==0.23.3->qiskit) (0.10.0)\n",
            "Requirement already satisfied: six>=1.5 in /usr/local/lib/python3.9/dist-packages (from python-dateutil>=2.8.0->qiskit-ibmq-provider==0.20.2->qiskit) (1.16.0)\n",
            "Requirement already satisfied: charset-normalizer~=2.0.0 in /usr/local/lib/python3.9/dist-packages (from requests>=2.19->qiskit-ibmq-provider==0.20.2->qiskit) (2.0.12)\n",
            "Requirement already satisfied: idna<4,>=2.5 in /usr/local/lib/python3.9/dist-packages (from requests>=2.19->qiskit-ibmq-provider==0.20.2->qiskit) (3.4)\n",
            "Requirement already satisfied: certifi>=2017.4.17 in /usr/local/lib/python3.9/dist-packages (from requests>=2.19->qiskit-ibmq-provider==0.20.2->qiskit) (2022.12.7)\n",
            "Requirement already satisfied: cryptography>=1.3 in /usr/local/lib/python3.9/dist-packages (from requests-ntlm<=1.1.0->qiskit-ibmq-provider==0.20.2->qiskit) (39.0.2)\n",
            "Requirement already satisfied: ntlm-auth>=1.0.2 in /usr/local/lib/python3.9/dist-packages (from requests-ntlm<=1.1.0->qiskit-ibmq-provider==0.20.2->qiskit) (1.5.0)\n",
            "Requirement already satisfied: pbr!=2.1.0,>=2.0.0 in /usr/local/lib/python3.9/dist-packages (from stevedore>=3.0.0->qiskit-terra==0.23.3->qiskit) (5.11.1)\n",
            "Requirement already satisfied: mpmath>=0.19 in /usr/local/lib/python3.9/dist-packages (from sympy>=1.3->qiskit-terra==0.23.3->qiskit) (1.3.0)\n",
            "Requirement already satisfied: cffi>=1.12 in /usr/local/lib/python3.9/dist-packages (from cryptography>=1.3->requests-ntlm<=1.1.0->qiskit-ibmq-provider==0.20.2->qiskit) (1.15.1)\n",
            "Requirement already satisfied: pycparser in /usr/local/lib/python3.9/dist-packages (from cffi>=1.12->cryptography>=1.3->requests-ntlm<=1.1.0->qiskit-ibmq-provider==0.20.2->qiskit) (2.21)\n",
            "The integral is: 0.7376\n"
          ]
        }
      ],
      "source": [
        "!pip install qiskit\n",
        "import numpy as np\n",
        "from scipy.linalg import expm\n",
        "\n",
        "# Define the Hamiltonian for a single qubit\n",
        "def Hq(Omega, t):\n",
        "    return np.array([[0, Omega*np.exp(-1j*t)], [Omega*np.exp(1j*t), 0]])\n",
        "\n",
        "# Define the Hamiltonian for two qubits\n",
        "def Hqq(Omega, t, f):\n",
        "    return np.kron(Hq(Omega, t), np.eye(2)) + f*np.kron(np.eye(2), Hq(Omega, t))\n",
        "\n",
        "# Define the initial state of the system\n",
        "U0 = np.array([1, 0, 0, 0])\n",
        "\n",
        "# Define the time range and number of steps\n",
        "T = 10*np.pi\n",
        "N = 100\n",
        "\n",
        "# Define the values of Omega and f\n",
        "Omega = np.linspace(0, 1, N)\n",
        "f = np.linspace(0, 1, N)\n",
        "\n",
        "# Define the time step\n",
        "dt = T/N\n",
        "\n",
        "# Calculate the time-evolution operator\n",
        "U = np.zeros((N, 4, 4), dtype=np.complex128)\n",
        "U[0] = np.eye(4)\n",
        "for i in range(1, N):\n",
        "    H_avg = Hqq(Omega[i], i*dt, f[i])\n",
        "    U[i] = expm(-1j*H_avg*dt) @ U[i-1]\n",
        "\n",
        "# Calculate the final state\n",
        "U_final = U[-1] @ U0\n",
        "\n",
        "# Calculate the integral\n",
        "I = np.abs(U_final[0])**2 + np.abs(U_final[1])**2\n",
        "\n",
        "# Print the result\n",
        "print(f\"The integral is: {I:.4f}\")\n",
        "\n"
      ]
    }
  ]
}