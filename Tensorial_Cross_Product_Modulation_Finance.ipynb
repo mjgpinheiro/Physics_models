{
  "nbformat": 4,
  "nbformat_minor": 0,
  "metadata": {
    "colab": {
      "provenance": [],
      "authorship_tag": "ABX9TyPazxS4lTAHV2dxXu9fmHJC",
      "include_colab_link": true
    },
    "kernelspec": {
      "name": "python3",
      "display_name": "Python 3"
    },
    "language_info": {
      "name": "python"
    }
  },
  "cells": [
    {
      "cell_type": "markdown",
      "metadata": {
        "id": "view-in-github",
        "colab_type": "text"
      },
      "source": [
        "<a href=\"https://colab.research.google.com/github/mjgpinheiro/Physics_models/blob/main/Tensorial_Cross_Product_Modulation_Finance.ipynb\" target=\"_parent\"><img src=\"https://colab.research.google.com/assets/colab-badge.svg\" alt=\"Open In Colab\"/></a>"
      ]
    },
    {
      "cell_type": "code",
      "execution_count": 3,
      "metadata": {
        "colab": {
          "base_uri": "https://localhost:8080/"
        },
        "id": "aoukKq-ssYLs",
        "outputId": "4570d85b-0e0e-4060-af08-c32896c82135"
      },
      "outputs": [
        {
          "output_type": "stream",
          "name": "stdout",
          "text": [
            "Optimized Portfolio Weights:\n",
            "               Weight\n",
            "Asset 1  0.000000e+00\n",
            "Asset 2  1.000000e+00\n",
            "Asset 3  8.220421e-16\n"
          ]
        }
      ],
      "source": [
        "import numpy as np\n",
        "import pandas as pd\n",
        "from scipy.optimize import minimize\n",
        "\n",
        "# Generate mock data for demonstration\n",
        "np.random.seed(42)\n",
        "assets = ['Asset 1', 'Asset 2', 'Asset 3']\n",
        "factors = ['Factor 1', 'Factor 2']\n",
        "\n",
        "# Asset sensitivities to factors (Factor Loadings Matrix)\n",
        "sensitivities = np.random.randn(len(assets), len(factors))\n",
        "\n",
        "# Factor returns (as a vector)\n",
        "factor_returns = np.array([0.005, 0.002])\n",
        "\n",
        "# Portfolio returns as a function of asset weights\n",
        "def portfolio_returns(weights):\n",
        "    return np.dot(weights, np.dot(sensitivities, factor_returns))\n",
        "\n",
        "# Portfolio variance for simplicity we use a mock covariance matrix\n",
        "cov_matrix = np.random.rand(len(assets), len(assets))\n",
        "\n",
        "def portfolio_variance(weights):\n",
        "    return np.dot(weights.T, np.dot(cov_matrix, weights))\n",
        "\n",
        "# Objective function to minimize (negative returns to maximize returns)\n",
        "def objective(weights):\n",
        "    return -portfolio_returns(weights)\n",
        "\n",
        "# Constraints (weights sum to 1)\n",
        "cons = ({'type': 'eq', 'fun': lambda x: np.sum(x) - 1})\n",
        "\n",
        "# Bounds for weights\n",
        "bounds = tuple((0, 1) for asset in assets)\n",
        "\n",
        "# Initial guess\n",
        "init_guess = np.array([1./len(assets)]*len(assets))\n",
        "\n",
        "# Optimization\n",
        "opt_results = minimize(objective, init_guess, method='SLSQP', bounds=bounds, constraints=cons)\n",
        "\n",
        "# Optimized weights\n",
        "optimized_weights = opt_results.x\n",
        "\n",
        "# Display optimized weights\n",
        "print(\"Optimized Portfolio Weights:\")\n",
        "print(pd.DataFrame(optimized_weights, index=assets, columns=['Weight']))\n"
      ]
    },
    {
      "cell_type": "markdown",
      "source": [
        "Since TCPM is a mathematical structure more naturally aligned with physical sciences, its direct translation to finance necessitates some creativity. So, we attempt here to illustrate how tensor-like operations, which share conceptual roots with TCPM, can be applied in finance for portfolio optimization and risk management, using Python for demonstration.\n",
        "\n",
        "Conceptual Framework: Multifactor Portfolio Optimization\n",
        "In multifactor portfolio optimization, the returns of assets are modeled as dependent on multiple risk factors. This can conceptually parallel the idea of tensor operations by considering assets and factors in a multidimensional framework.\n",
        "\n",
        "Let's say we have a simplified model where the returns of assets in a portfolio depend on two factors. We can represent the sensitivities of each asset to each factor as a matrix (which is a 2D tensor), and the factor returns as a vector. Our goal is to optimize the portfolio based on these sensitivities and the factor returns."
      ],
      "metadata": {
        "id": "GgIf7ZZYvQsA"
      }
    }
  ]
}