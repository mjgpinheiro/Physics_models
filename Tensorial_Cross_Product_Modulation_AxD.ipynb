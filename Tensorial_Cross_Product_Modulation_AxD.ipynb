{
  "nbformat": 4,
  "nbformat_minor": 0,
  "metadata": {
    "colab": {
      "provenance": [],
      "authorship_tag": "ABX9TyMqwZKmPiAqQQTEq0CX1b1t",
      "include_colab_link": true
    },
    "kernelspec": {
      "name": "python3",
      "display_name": "Python 3"
    },
    "language_info": {
      "name": "python"
    }
  },
  "cells": [
    {
      "cell_type": "markdown",
      "metadata": {
        "id": "view-in-github",
        "colab_type": "text"
      },
      "source": [
        "<a href=\"https://colab.research.google.com/github/mjgpinheiro/Physics_models/blob/main/Tensorial_Cross_Product_Modulation_AxD.ipynb\" target=\"_parent\"><img src=\"https://colab.research.google.com/assets/colab-badge.svg\" alt=\"Open In Colab\"/></a>"
      ]
    },
    {
      "cell_type": "code",
      "execution_count": 2,
      "metadata": {
        "colab": {
          "base_uri": "https://localhost:8080/",
          "height": 78
        },
        "id": "D5o4412HoDHD",
        "outputId": "995d4d22-f126-4708-eca7-5e96b22a2746"
      },
      "outputs": [
        {
          "output_type": "execute_result",
          "data": {
            "text/plain": [
              "Matrix([\n",
              "[-D_21*z + D_31*y, -D_22*z + D_32*y, -D_23*z + D_33*y],\n",
              "[ D_11*z - D_31*x,  D_12*z - D_32*x,  D_13*z - D_33*x],\n",
              "[-D_11*y + D_21*x, -D_12*y + D_22*x, -D_13*y + D_23*x]])"
            ],
            "text/latex": "$\\displaystyle \\left[\\begin{matrix}- D_{21} z + D_{31} y & - D_{22} z + D_{32} y & - D_{23} z + D_{33} y\\\\D_{11} z - D_{31} x & D_{12} z - D_{32} x & D_{13} z - D_{33} x\\\\- D_{11} y + D_{21} x & - D_{12} y + D_{22} x & - D_{13} y + D_{23} x\\end{matrix}\\right]$"
          },
          "metadata": {},
          "execution_count": 2
        }
      ],
      "source": [
        "import sympy as sp\n",
        "\n",
        "# Define symbols\n",
        "x, y, z = sp.symbols('x y z')\n",
        "D_11, D_12, D_13, D_21, D_22, D_23, D_31, D_32, D_33 = sp.symbols('D_11 D_12 D_13 D_21 D_22 D_23 D_31 D_32 D_33')\n",
        "\n",
        "# Symbolic representation of D (as p)\n",
        "D = sp.Matrix([\n",
        "    [D_11, D_12, D_13],\n",
        "    [D_21, D_22, D_23],\n",
        "    [D_31, D_32, D_33]\n",
        "])\n",
        "\n",
        "# Levi-Civita tensor (epsilon_ijk) for three dimensions\n",
        "def epsilon(i, j, k):\n",
        "    if (i, j, k) in [(1, 2, 3), (2, 3, 1), (3, 1, 2)]:\n",
        "        return 1\n",
        "    elif (i, j, k) in [(3, 2, 1), (1, 3, 2), (2, 1, 3)]:\n",
        "        return -1\n",
        "    else:\n",
        "        return 0\n",
        "\n",
        "# Symbolic representation of D and A\n",
        "D = sp.Matrix([\n",
        "    [D_11, D_12, D_13],\n",
        "    [D_21, D_22, D_23],\n",
        "    [D_31, D_32, D_33]\n",
        "    ])\n",
        "\n",
        "A = sp.Matrix([\n",
        "    [x],\n",
        "    [y],\n",
        "    [z]\n",
        "    ])\n",
        "\n",
        "# Unit vectors (standard basis in R^3) as column matrices\n",
        "delta = [sp.Matrix([1, 0, 0]), sp.Matrix([0, 1, 0]), sp.Matrix([0, 0, 1])]\n",
        "\n",
        "# Initialize the resulting matrix B_bar_bar as a zero matrix\n",
        "B_bar_bar = sp.zeros(3, 3)\n",
        "\n",
        "# Perform the operation to calculate B_bar_bar according to the formula\n",
        "for i in range(3):\n",
        "    for j in range(3):\n",
        "        for k in range(3):\n",
        "            # Reset sum_over_l for each new combination of i, j, k\n",
        "            sum_over_l = sp.zeros(3, 1)  # Transpose delta[l] here, initializing as a row vector\n",
        "            for l in range(3):\n",
        "                # Apply transpose to delta[l] directly\n",
        "                sum_over_l += epsilon(l+1, k+1, i+1) * delta[l] * D[i, j] * A[k]\n",
        "            # Multiply by delta_i on the left without transposing the sum_over_l\n",
        "            B_bar_bar += sum_over_l * delta[j].transpose() # delta[i] as a column vector, sum_over_l already a row vector\n",
        "\n",
        "B_bar_bar\n"
      ]
    },
    {
      "cell_type": "markdown",
      "source": [
        "Description of the Operation\n",
        "The operation calculates a matrix B that represents a sort of generalized cross product between a dyadic tensor D and a vector A, modulated by the Levi-Civita symbol to introduce the antisymmetric property typical of cross products. This calculation incorporates a sum over the indices i,j,k, which iterate through the components of the vector and the dyadic tensor, and l, which is used to apply the Levi-Civita symbol in combination with the unit vectors.\n",
        "\n",
        "The operation is somewhat analogous to computing the curl of a vector field in vector calculus but extended into the context of tensors, where:\n",
        "\n",
        "-D acts as a dyadic tensor representing, for example, a field's gradient or another second-order tensorial quantity.\n",
        "\n",
        "-A is a vector, which could represent a physical quantity like displacement, velocity, or force.\n",
        "\n",
        "-epsilon_ijk is the Levi-Civita symbol, ensuring the operation incorporates the orientation-dependent properties characteristic of cross products.\n",
        "\n",
        "-δi are unit vectors defining the standard basis in R^3, used to articulate the operation's directional components.\n",
        "\n",
        "\n",
        "Mathematical Description\n",
        "The Tensorial Cross Product Modulation (TCPM) operation computes a matrix\n",
        "\\begin{equation}\n",
        "\\overline{\\overline{B}}=\\sum_{i=1}^3 \\sum_{j=1}^3 \\sum_{k=1}^3 \\delta_i (\\sum_{l=1}^3 \\epsilon_{ljk} \\delta_l) D_{ij} A_k \\end{equation}\n",
        "where:\n",
        "ϵijk is the Levi-Civita symbol, introducing antisymmetry based on the indices' permutation.\n",
        "\n",
        "D is a dyadic tensor representing a second-order tensorial quantity.\n",
        "\n",
        "A is a vector representing a first-order tensorial or vector quantity.\n",
        "This operation encapsulates the interaction between tensorial and vector quantities through a generalized cross product framework, modulated by the geometric and permutation properties inherent to the Levi-Civita symbol and the spatial orientation defined by the standard basis vectors."
      ],
      "metadata": {
        "id": "h43B3RkPqGVm"
      }
    }
  ]
}