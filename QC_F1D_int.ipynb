{
  "nbformat": 4,
  "nbformat_minor": 0,
  "metadata": {
    "colab": {
      "provenance": [],
      "authorship_tag": "ABX9TyNaj8/QQToUE4xVeKvDmW+C",
      "include_colab_link": true
    },
    "kernelspec": {
      "name": "python3",
      "display_name": "Python 3"
    },
    "language_info": {
      "name": "python"
    }
  },
  "cells": [
    {
      "cell_type": "markdown",
      "metadata": {
        "id": "view-in-github",
        "colab_type": "text"
      },
      "source": [
        "<a href=\"https://colab.research.google.com/github/mjgpinheiro/Physics_models/blob/main/QC_F1D_int.ipynb\" target=\"_parent\"><img src=\"https://colab.research.google.com/assets/colab-badge.svg\" alt=\"Open In Colab\"/></a>"
      ]
    },
    {
      "cell_type": "code",
      "execution_count": 6,
      "metadata": {
        "colab": {
          "base_uri": "https://localhost:8080/"
        },
        "id": "oWP89m-YJ3Nj",
        "outputId": "bc924270-823f-4b72-8015-40a1c6d516dd"
      },
      "outputs": [
        {
          "output_type": "stream",
          "name": "stdout",
          "text": [
            "The integral of f(x) from 0 to pi is: 8.338076501672697\n"
          ]
        }
      ],
      "source": [
        "import numpy as np\n",
        "import scipy.linalg\n",
        "from scipy.integrate import quad\n",
        "\n",
        "# Define Hamiltonian function\n",
        "def H_fun(Omega, t):\n",
        "    return np.array([[0, Omega/2*np.exp(-1j*2*t)], [Omega/2*np.exp(1j*2*t), 0]])\n",
        "\n",
        "# Define function to integrate\n",
        "def f(x):\n",
        "    return np.sin(x)**2\n",
        "# \n",
        "def f(x):\n",
        "    return x**2\n",
        "\n",
        "# Set parameters\n",
        "Omega = 1\n",
        "N = 1000\n",
        "t = np.linspace(0, 10, N)\n",
        "dt = t[1] - t[0]\n",
        "\n",
        "# Initialize state vector and evolution operator\n",
        "U = np.zeros((N, 2, 2), dtype=complex)\n",
        "U[0] = np.array([[1, 0], [0, 1]])\n",
        "U_final = np.array([1, 0])\n",
        "\n",
        "# Calculate the evolution operator\n",
        "for i in range(1, N):\n",
        "    dt = t[i] - t[i-1]\n",
        "    H_avg = (H_fun(Omega, t[i]) + H_fun(Omega, t[i-1])) / 2\n",
        "    U[i] = np.dot(scipy.linalg.expm(-1j*H_avg*dt), U[i-1])\n",
        "\n",
        "# Calculate the final state\n",
        "U_final = np.dot(U[N-1], U_final)\n",
        "\n",
        "# Calculate the integral\n",
        "I = quad(f, 0, np.pi)[0] * np.abs(U_final[0])**2\n",
        "\n",
        "print(\"The integral of f(x) from 0 to pi is:\", I)\n",
        "\n",
        "\n",
        "\n"
      ]
    }
  ]
}