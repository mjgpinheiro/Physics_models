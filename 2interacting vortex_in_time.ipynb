{
  "nbformat": 4,
  "nbformat_minor": 0,
  "metadata": {
    "colab": {
      "provenance": [],
      "authorship_tag": "ABX9TyN0Gn5M+t/XllWa/tJN5zRx",
      "include_colab_link": true
    },
    "kernelspec": {
      "name": "python3",
      "display_name": "Python 3"
    },
    "language_info": {
      "name": "python"
    }
  },
  "cells": [
    {
      "cell_type": "markdown",
      "metadata": {
        "id": "view-in-github",
        "colab_type": "text"
      },
      "source": [
        "<a href=\"https://colab.research.google.com/github/mjgpinheiro/Physics_models/blob/main/2interacting%20vortex_in_time.ipynb\" target=\"_parent\"><img src=\"https://colab.research.google.com/assets/colab-badge.svg\" alt=\"Open In Colab\"/></a>"
      ]
    },
    {
      "cell_type": "code",
      "execution_count": null,
      "metadata": {
        "colab": {
          "base_uri": "https://localhost:8080/",
          "height": 614
        },
        "id": "Ur01esCtP56v",
        "outputId": "46cca777-b7a9-4e6e-f2f5-28cce807b005"
      },
      "outputs": [
        {
          "output_type": "display_data",
          "data": {
            "text/plain": [
              "<Figure size 360x360 with 1 Axes>"
            ],
            "image/png": "[encoded data removed]"
          },
          "metadata": {
            "needs_background": "light"
          }
        },
        {
          "output_type": "stream",
          "name": "stderr",
          "text": [
            "<ipython-input-8-306977ab346f>:43: RuntimeWarning: overflow encountered in multiply\n",
            "  u_omega = np.fft.ifft2(np.fft.fftn(u)*np.fft.fftn(omega)).real\n",
            "<ipython-input-8-306977ab346f>:44: RuntimeWarning: overflow encountered in multiply\n",
            "  v_omega = np.fft.ifft2(np.fft.fftn(v)*np.fft.fftn(omega)).real\n",
            "<ipython-input-8-306977ab346f>:47: RuntimeWarning: overflow encountered in square\n",
            "  omega_new = omega - dt*(u_omega + v_omega) + dt*nu*(np.fft.ifft2(-np.fft.fftn(omega)*(np.fft.fftn(u)**2 + np.fft.fftn(v)**2)).real)\n",
            "<ipython-input-8-306977ab346f>:47: RuntimeWarning: invalid value encountered in multiply\n",
            "  omega_new = omega - dt*(u_omega + v_omega) + dt*nu*(np.fft.ifft2(-np.fft.fftn(omega)*(np.fft.fftn(u)**2 + np.fft.fftn(v)**2)).real)\n",
            "/usr/local/lib/python3.8/dist-packages/matplotlib/contour.py:1491: UserWarning: Warning: converting a masked element to nan.\n",
            "  self.zmax = float(z.max())\n",
            "/usr/local/lib/python3.8/dist-packages/matplotlib/contour.py:1492: UserWarning: Warning: converting a masked element to nan.\n",
            "  self.zmin = float(z.min())\n",
            "<ipython-input-8-306977ab346f>:39: RuntimeWarning: invalid value encountered in multiply\n",
            "  u = np.fft.fft2(-1j*np.fft.fftn(omega))/(N**2)\n",
            "<ipython-input-8-306977ab346f>:40: RuntimeWarning: invalid value encountered in multiply\n",
            "  v = np.fft.fft2(1j*np.fft.fftn(omega))/(N**2)\n"
          ]
        }
      ],
      "source": [
        "import numpy as np\n",
        "import matplotlib.pyplot as plt\n",
        "\n",
        "# Set parameters\n",
        "nu = 0.1 # Viscosity\n",
        "N = 64 # Number of grid points\n",
        "L = 2*np.pi # Length of the domain\n",
        "dx = L/N # Grid spacing\n",
        "dt = 0.001 # Time step\n",
        "T = 100 # Total time\n",
        "\n",
        "# Initialize velocity and vorticity fields\n",
        "u = np.zeros((N,N))\n",
        "v = np.zeros((N,N))\n",
        "omega = np.zeros((N,N))\n",
        "\n",
        "# Initialize coordinates\n",
        "x = np.linspace(0,L-dx,N)\n",
        "y = np.linspace(0,L-dx,N)\n",
        "X,Y = np.meshgrid(x,y)\n",
        "\n",
        "# Define initial vortices\n",
        "gamma1 = 10\n",
        "gamma2 = 10\n",
        "x0 = L/4\n",
        "y0 = L/4\n",
        "x1 = 3*L/4\n",
        "y1 = 3*L/4\n",
        "\n",
        "omega = gamma1*np.exp(-((X-x0)**2 + (Y-y0)**2)/2) + gamma2*np.exp(-((X-x1)**2 + (Y-y1)**2)/2)\n",
        "\n",
        "# Set up figure\n",
        "fig, ax = plt.subplots(figsize=(5,5))\n",
        "ax.set(xlim=(0,L), ylim=(0,L))\n",
        "\n",
        "# Define function for time evolution\n",
        "def evolve(omega, u, v, dt, dx, nu):\n",
        "    # Compute velocity field\n",
        "    u = np.fft.fft2(-1j*np.fft.fftn(omega))/(N**2)\n",
        "    v = np.fft.fft2(1j*np.fft.fftn(omega))/(N**2)\n",
        "    \n",
        "    # Compute nonlinear terms\n",
        "    u_omega = np.fft.ifft2(np.fft.fftn(u)*np.fft.fftn(omega)).real\n",
        "    v_omega = np.fft.ifft2(np.fft.fftn(v)*np.fft.fftn(omega)).real\n",
        "    \n",
        "    # Update vorticity\n",
        "    omega_new = omega - dt*(u_omega + v_omega) + dt*nu*(np.fft.ifft2(-np.fft.fftn(omega)*(np.fft.fftn(u)**2 + np.fft.fftn(v)**2)).real)\n",
        "    \n",
        "    return omega_new, u, v\n",
        "\n",
        "# Time evolution loop\n",
        "for t in range(int(T/dt)):\n",
        "    omega, u, v = evolve(omega, u, v, dt, dx, nu)\n",
        "    ax.clear()\n",
        "    ax.contourf(X,Y,omega,20,cmap=plt.cm.jet)\n",
        "    ax.set_title('Time: %.2f' % (t*dt))\n",
        "    plt.pause(0.001)\n",
        "    \n",
        "plt.show()\n",
        "\n",
        "\n"
      ]
    }
  ]
}