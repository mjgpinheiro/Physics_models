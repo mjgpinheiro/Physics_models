import numpy as np
import matplotlib.pyplot as plt

# Define constants
G = 6.6743e-11 # gravitational constant (m^3 kg^-1 s^-2)
rho0 = 4.31e-22 # characteristic density of dark matter (kg/m^3)
rs = 17.5e20 # scale radius of dark matter halo (m)

# Define function to calculate potential energy per unit mass
def gravitational_potential_dm(r):
    return -4 * np.pi * G * rho0 * rs**3 / r * np.log(1 + r/rs)

# Generate array of distance values
r_values = np.linspace(0.001 * rs, 10 * rs, 1000)

# Calculate potential energy per unit mass at each distance
potential_values = gravitational_potential_dm(r_values)

# Plot results
plt.plot(r_values, potential_values)
plt.title('Inter-galactic Gravitational Potential due to Dark Matter')
plt.xlabel('Distance from Center of Dark Matter Halo (m)')
plt.ylabel('Gravitational Potential Energy per Unit Mass (J/kg)')
plt.show()
