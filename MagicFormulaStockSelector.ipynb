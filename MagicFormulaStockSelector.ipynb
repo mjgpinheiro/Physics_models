{
  "nbformat": 4,
  "nbformat_minor": 0,
  "metadata": {
    "colab": {
      "provenance": [],
      "authorship_tag": "ABX9TyOe0biBIsMBi2Xfh3c1FbDS",
      "include_colab_link": true
    },
    "kernelspec": {
      "name": "python3",
      "display_name": "Python 3"
    },
    "language_info": {
      "name": "python"
    }
  },
  "cells": [
    {
      "cell_type": "markdown",
      "metadata": {
        "id": "view-in-github",
        "colab_type": "text"
      },
      "source": [
        "<a href=\"https://colab.research.google.com/github/mjgpinheiro/Physics_models/blob/main/MagicFormulaStockSelector.ipynb\" target=\"_parent\"><img src=\"https://colab.research.google.com/assets/colab-badge.svg\" alt=\"Open In Colab\"/></a>"
      ]
    },
    {
      "cell_type": "code",
      "execution_count": null,
      "metadata": {
        "id": "ShBN8y8xlT_7"
      },
      "outputs": [],
      "source": [
        "import yfinance as yf\n",
        "\n",
        "# Retrieve data by ticker\n",
        "tickerData = yf.Ticker('MSFT')\n",
        "# Company information\n",
        "tickerData.info\n",
        "\n",
        "import pandas as pd\n",
        "\n",
        "# Convert JSON to dataframe\n",
        "df = pd.DataFrame([tickerData.info])\n",
        "# Display dataframe\n",
        "display(df)\n",
        "\n",
        "# Tickers of 30 stocks. I only list 5 of them here as an example.\n",
        "stocks = [\n",
        "  'MO',\n",
        "  'AMN',\n",
        "  'BTMD',\n",
        "  'BKE',\n",
        "]\n",
        "\n",
        "df_list = []\n",
        "for ticker in stocks:\n",
        "    df_list.append(pd.DataFrame([yf.Ticker(ticker).info]))\n",
        "df = pd.concat(df_list)\n",
        "\n",
        "df['PE Rank'] = df['trailingPE'].rank(ascending=True)\n",
        "df['ROA Rank'] = df['returnOnAssets'].rank(ascending=False)\n",
        "df['Magic Rank'] = df['PE Rank'] + df['ROA Rank']\n",
        "\n",
        "df_selected = df.filter(['symbol', 'trailingPE', 'returnOnAssets', 'PE Rank', 'ROA Rank', 'Magic Rank'])\n",
        "\n",
        "df_sorted = df_selected.sort_values(by='Magic Rank', ascending=False)\n",
        "display(df_sorted)"
      ]
    },
    {
      "cell_type": "markdown",
      "source": [
        "The provided code is designed to implement the Magic Formula investment strategy by automating the process of selecting stocks. It uses Python with libraries like yfinance for fetching financial data (P/E ratios and ROA) and pandas for data manipulation. The steps include setting up an IDE, retrieving stock data from Yahoo Finance using yfinance, organizing this data into a DataFrame with pandas, and then ranking the stocks based on the Magic Formula criteria. This ranking is achieved by creating a composite 'Magic Rank' from P/E and ROA rankings. The script concludes by filtering and sorting the stocks to identify the top choices according to their 'Magic Rank', making it easier to select the best five to seven stocks for investment purposes.\n",
        "\n",
        "S/N\tSteps\tInsight\n",
        "1\tRetrieve Stock Data\tUses yfinance to fetch P/E ratio and ROA for selected stocks.\n",
        "2\tOrganize Data into a DataFrame\tConverts JSON data into a Pandas DataFrame for easy manipulation.\n",
        "3\tRanking via Magic Formula\tRanks stocks by P/E and ROA, creating a composite 'Magic Rank'.\n",
        "4\tFilter and Sort by Magic Rank\tFilters relevant data and sorts stocks by their 'Magic Rank'.\n",
        "5\tSelection of Top Stocks\tIdentifies top stock choices for investment based on ranking.\n",
        "\n",
        "This approach simplifies and streamlines the selection of stocks according to the Magic Formula, leveraging coding skills to enhance investment strategies.\n",
        "Code based on the article by Cat S. Guan, https://wire.insiderfinance.io/use-python-to-rank-stocks-with-the-magic-formula-82cdf40806bf"
      ],
      "metadata": {
        "id": "RX5-Yc2-v9LY"
      }
    }
  ]
}