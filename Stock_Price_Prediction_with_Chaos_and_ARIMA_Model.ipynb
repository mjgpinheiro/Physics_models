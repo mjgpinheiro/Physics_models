{
  "nbformat": 4,
  "nbformat_minor": 0,
  "metadata": {
    "colab": {
      "provenance": [],
      "authorship_tag": "ABX9TyNKVd/tHdcXv3/Ug25tp4jU",
      "include_colab_link": true
    },
    "kernelspec": {
      "name": "python3",
      "display_name": "Python 3"
    },
    "language_info": {
      "name": "python"
    }
  },
  "cells": [
    {
      "cell_type": "markdown",
      "metadata": {
        "id": "view-in-github",
        "colab_type": "text"
      },
      "source": [
        "<a href=\"https://colab.research.google.com/github/mjgpinheiro/Physics_models/blob/main/Stock_Price_Prediction_with_Chaos_and_ARIMA_Model.ipynb\" target=\"_parent\"><img src=\"https://colab.research.google.com/assets/colab-badge.svg\" alt=\"Open In Colab\"/></a>"
      ]
    },
    {
      "cell_type": "code",
      "source": [
        "import numpy as np\n",
        "import pandas as pd\n",
        "import matplotlib.pyplot as plt\n",
        "import yfinance as yf\n",
        "from statsmodels.tsa.arima.model import ARIMA\n",
        "\n",
        "# Function to generate chaotic data\n",
        "def generate_chaos(x0, r, n):\n",
        "    x = np.zeros(n)\n",
        "    x[0] = x0\n",
        "    for i in range(1, n):\n",
        "        x[i] = r * x[i-1] * (1 - x[i-1])\n",
        "    return x\n",
        "\n",
        "# Function to generate stock price data using chaotic data\n",
        "def generate_stock_prices(x0, r, n, actual_prices):\n",
        "    chaos_data = generate_chaos(x0, r, n)\n",
        "    min_price = min(actual_prices)\n",
        "    max_price = max(actual_prices)\n",
        "    stock_prices = min_price + (max_price - min_price) * chaos_data\n",
        "    return stock_prices\n",
        "\n",
        "# Function to perform time series forecasting using ARIMA model\n",
        "def forecast_stock_prices(stock_prices):\n",
        "    model = ARIMA(stock_prices, order=(1, 1, 1))\n",
        "    model_fit = model.fit()\n",
        "    forecast = model_fit.forecast(steps=5)  # Forecast for next 5 days\n",
        "    return forecast[0]\n",
        "\n",
        "# Function to analyze stock prices and provide trading instructions\n",
        "def analyze_stock(stock_prices, forecast):\n",
        "    current_price = stock_prices[-1]\n",
        "\n",
        "    if np.any(forecast > current_price):\n",
        "        return 'Buy'\n",
        "    elif np.any(forecast < current_price):\n",
        "        return 'Sell'\n",
        "    else:\n",
        "        return 'Hold'\n",
        "\n",
        "# List of stocks to analyze\n",
        "stocks = ['AAPL', 'TSLA', 'MSFT', 'BAC', 'INTL']\n",
        "\n",
        "# Loop over each stock\n",
        "trading_instructions = []\n",
        "for stock in stocks:\n",
        "    # Download historical data for the stock\n",
        "    df = yf.download(stock, start='2010-01-01', end='2023-06-17')\n",
        "\n",
        "    # Extract the closing prices from the dataframe\n",
        "    stock_prices = df['Close'].values\n",
        "\n",
        "    # Parameters for chaos and stock price generation\n",
        "    x0 = 0.5  # Initial condition\n",
        "    r = 3.9  # Control parameter\n",
        "    n = len(stock_prices) + 1  # Number of data points\n",
        "\n",
        "    # Generate chaotic stock price data\n",
        "    chaotic_prices = generate_stock_prices(x0, r, n, stock_prices)\n",
        "\n",
        "    # Perform time series forecasting\n",
        "    forecast = forecast_stock_prices(chaotic_prices)\n",
        "\n",
        "    # Analyze stock prices and provide trading instructions\n",
        "    trading_instruction = analyze_stock(chaotic_prices, forecast)\n",
        "    trading_instructions.append((stock, trading_instruction))\n",
        "\n",
        "# Print the trading instructions for each stock\n",
        "for stock, instruction in trading_instructions:\n",
        "    print(f'Trading Instruction for {stock}: {instruction}')\n"
      ],
      "metadata": {
        "colab": {
          "base_uri": "https://localhost:8080/"
        },
        "id": "RZbXSh88PlFb",
        "outputId": "0bd8b4e9-bc0f-45c3-f3b8-b2c155b4fbd4"
      },
      "execution_count": 2,
      "outputs": [
        {
          "output_type": "stream",
          "name": "stdout",
          "text": [
            "[*********************100%***********************]  1 of 1 completed\n",
            "[*********************100%***********************]  1 of 1 completed\n",
            "[*********************100%***********************]  1 of 1 completed\n",
            "[*********************100%***********************]  1 of 1 completed\n",
            "[*********************100%***********************]  1 of 1 completed\n",
            "Trading Instruction for AAPL: Sell\n",
            "Trading Instruction for TSLA: Sell\n",
            "Trading Instruction for MSFT: Sell\n",
            "Trading Instruction for BAC: Sell\n",
            "Trading Instruction for INTL: Sell\n"
          ]
        }
      ]
    }
  ]
}