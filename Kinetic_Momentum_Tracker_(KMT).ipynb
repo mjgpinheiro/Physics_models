{
  "nbformat": 4,
  "nbformat_minor": 0,
  "metadata": {
    "colab": {
      "provenance": [],
      "authorship_tag": "ABX9TyNslPlKJuR9vrDP9v9+pLcI",
      "include_colab_link": true
    },
    "kernelspec": {
      "name": "python3",
      "display_name": "Python 3"
    },
    "language_info": {
      "name": "python"
    }
  },
  "cells": [
    {
      "cell_type": "markdown",
      "metadata": {
        "id": "view-in-github",
        "colab_type": "text"
      },
      "source": [
        "<a href=\"https://colab.research.google.com/github/mjgpinheiro/Physics_models/blob/Econophysics/Kinetic_Momentum_Tracker_(KMT).ipynb\" target=\"_parent\"><img src=\"https://colab.research.google.com/assets/colab-badge.svg\" alt=\"Open In Colab\"/></a>"
      ]
    },
    {
      "cell_type": "code",
      "execution_count": null,
      "metadata": {
        "colab": {
          "base_uri": "https://localhost:8080/",
          "height": 53
        },
        "id": "Af-fTXThRjRf",
        "outputId": "741970ee-4568-4eb2-c2a7-aa2a3efa963b"
      },
      "outputs": [
        {
          "output_type": "stream",
          "name": "stdout",
          "text": [
            "Requirement already satisfied: backtrader in /usr/local/lib/python3.10/dist-packages (1.9.78.123)\n"
          ]
        },
        {
          "output_type": "stream",
          "name": "stderr",
          "text": [
            "\r[*********************100%%**********************]  1 of 1 completed\n"
          ]
        }
      ],
      "source": [
        "!pip install backtrader\n",
        "import yfinance as yf\n",
        "import pandas as pd\n",
        "import numpy as np\n",
        "import matplotlib.pyplot as plt\n",
        "import backtrader as bt\n",
        "\n",
        "# Obtenção dos dados\n",
        "data = yf.download('AAPL', start='2010-01-01', end='2023-01-01')\n",
        "\n",
        "# Cálculo dos Indicadores\n",
        "# Posição - Média Móvel Simples\n",
        "data['SMA'] = data['Close'].rolling(window=20).mean()\n",
        "\n",
        "# Velocidade - MACD\n",
        "ema_short = data['Close'].ewm(span=12, adjust=False).mean()\n",
        "ema_long = data['Close'].ewm(span=26, adjust=False).mean()\n",
        "data['MACD'] = ema_short - ema_long\n",
        "\n",
        "# Aceleração - Variação do MACD\n",
        "data['MACD_diff'] = data['MACD'].diff()\n",
        "\n",
        "# Implementação de uma Estratégia de Backtesting com backtrader\n",
        "class CinematicStrategy(bt.Strategy):\n",
        "    params = (('sma_period', 20), ('macd_fast', 12), ('macd_slow', 26),)\n",
        "\n",
        "    def __init__(self):\n",
        "        self.sma = bt.indicators.SimpleMovingAverage(self.data.close, period=self.params.sma_period)\n",
        "        self.macd = bt.indicators.MACD(self.data.close, period_me1=self.params.macd_fast, period_me2=self.params.macd_slow)\n",
        "        # Correção: Uso da diferença de valores diretamente\n",
        "        self.macd_diff = self.macd.macd - self.macd.macd(-1)\n",
        "\n",
        "    def next(self):\n",
        "        if not self.position:  # Se não tiver posição\n",
        "            if self.macd_diff[0] > 0:  # Se a aceleração é positiva\n",
        "                self.buy(size=100)\n",
        "        elif self.macd_diff[0] < 0:  # Se a aceleração é negativa\n",
        "            if self.position:  # Verifica se há uma posição aberta\n",
        "                self.sell(size=100)\n",
        "\n",
        "# Configuração do Backtrader e execução (igual ao exemplo anterior)\n",
        "cerebro = bt.Cerebro()\n",
        "cerebro.addstrategy(CinematicStrategy)\n",
        "datafeed = bt.feeds.PandasData(dataname=data)\n",
        "cerebro.adddata(datafeed)\n",
        "cerebro.run()\n",
        "cerebro.plot()\n",
        "cerebro.plot(style='bar')\n",
        "plt.savefig('backtest_result.png')  # Salva o gráfico como uma imagem PNG\n"
      ]
    },
    {
      "cell_type": "markdown",
      "source": [
        "Este novo indicador resulta da combinação de indicadores técnicos bem conhecidos, como sugerido pela analogia com a cinemática, onde tentamos simular a posição, velocidade e aceleração de um objeto em movimento e aplicar esse conceito ao mercado de ações.\n",
        "\n",
        "Aqui está a aplicação da analogia:\n",
        "\n",
        "Posição (x0): Usaremos a Média Móvel Simples (SMA) de um período específico para representar a posição (o preço médio da ação ao longo de um período), sugerindo uma visão geral do comportamento do preço da ação.\n",
        "Velocidade (v0): Representaremos por meio do MACD, que é uma comparação de duas médias móveis exponenciais (uma rápida e uma lenta), para capturar a direção e a velocidade da mudança de preço, refletindo tendências de curto prazo versus longo prazo.\n",
        "Aceleração (a_x): Calcularemos a variação do MACD (o segundo diferencial do preço), que poderia representar a aceleração da mudança de preço, indicando como a velocidade da mudança de preço está aumentando ou diminuindo.\n",
        "Considerações Importantes\n",
        "Ajuste de Parâmetros: Pode ser necessário ajustar os parâmetros dos indicadores técnicos usados (por exemplo, os períodos das médias móveis do MACD) para alinhar melhor com as características do mercado ou da ação específica.\n",
        "Análise de Performance: Após o backtesting, é importante analisar a performance da estratégia para entender seu potencial retorno e risco. Métricas como retorno total, drawdown máximo, e o ratio de Sharpe podem ser úteis."
      ],
      "metadata": {
        "id": "7X4sZSP1Jgvz"
      }
    }
  ]
}