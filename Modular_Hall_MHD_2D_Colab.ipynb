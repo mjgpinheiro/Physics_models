{
  "cells": [
    {
      "cell_type": "markdown",
      "metadata": {
        "id": "view-in-github",
        "colab_type": "text"
      },
      "source": [
        "<a href=\"https://colab.research.google.com/github/mjgpinheiro/Physics_models/blob/main/Modular_Hall_MHD_2D_Colab.ipynb\" target=\"_parent\"><img src=\"https://colab.research.google.com/assets/colab-badge.svg\" alt=\"Open In Colab\"/></a>"
      ]
    },
    {
      "cell_type": "markdown",
      "id": "f20c0909",
      "metadata": {
        "id": "f20c0909"
      },
      "source": [
        "# Modular Hall‑MHD 2D (with Arithmetic Regulators)\n",
        "This Colab‑ready notebook runs a **2D incompressible Hall‑MHD** toy simulator with two modular regulators:\n",
        "- **Hecke‑like spectral mixing** `Tn` (tiny SL(2,ℤ) stencil in k‑space)\n",
        "- **Serre‑like drift** `Dk` (phase shear + mild scale‑aware damping)\n",
        "\n",
        "Outputs: energies over time and magnetic field snapshots.\n"
      ]
    },
    {
      "cell_type": "markdown",
      "id": "a6782ae3",
      "metadata": {
        "id": "a6782ae3"
      },
      "source": [
        "## 1) Setup"
      ]
    },
    {
      "cell_type": "code",
      "execution_count": null,
      "id": "b1c22102",
      "metadata": {
        "id": "b1c22102"
      },
      "outputs": [],
      "source": [
        "# If running on Google Colab, NumPy/Matplotlib are typically preinstalled.\n",
        "# Uncomment if needed:\n",
        "# !pip -q install numpy scipy matplotlib\n",
        "import numpy as np\n",
        "import numpy.fft as fft\n",
        "import matplotlib.pyplot as plt\n",
        "from math import pi"
      ]
    },
    {
      "cell_type": "markdown",
      "id": "5ba99a56",
      "metadata": {
        "id": "5ba99a56"
      },
      "source": [
        "## 2) Parameters"
      ]
    },
    {
      "cell_type": "code",
      "execution_count": null,
      "id": "07e161b5",
      "metadata": {
        "id": "07e161b5"
      },
      "outputs": [],
      "source": [
        "# Grid & physics\n",
        "nx, ny = 256, 256\n",
        "Lx, Ly = 2*pi, 2*pi\n",
        "nu, eta = 1e-4, 1e-4          # viscosity, resistivity\n",
        "di = 0.1                      # ion skin depth (Hall strength)\n",
        "\n",
        "# Modular regulators (start small)\n",
        "alpha = 0.02   # on u: Hecke-like mixing\n",
        "beta  = 0.02   # on u: Serre-like drift\n",
        "lam   = 0.02   # on B: Hecke-like mixing\n",
        "eps   = 0.02   # on B: Serre-like drift\n",
        "\n",
        "stencil = 5    # modular stencil size in k-space: 3 or 5\n",
        "seed = 7\n",
        "\n",
        "# Time\n",
        "steps = 800\n",
        "dt = None      # None => adaptive Hall-aware CFL\n",
        "save_every = 0 # set >0 to save snapshots as npz\n"
      ]
    },
    {
      "cell_type": "markdown",
      "id": "a5e814f3",
      "metadata": {
        "id": "a5e814f3"
      },
      "source": [
        "## 3) Core numerics (spectral operators & regulators)"
      ]
    },
    {
      "cell_type": "code",
      "execution_count": null,
      "id": "3b8e3795",
      "metadata": {
        "id": "3b8e3795"
      },
      "outputs": [],
      "source": [
        "def kspace(nx, ny, Lx, Ly):\n",
        "    kx = fft.fftfreq(nx, d=Lx/nx) * 2*np.pi\n",
        "    ky = fft.fftfreq(ny, d=Ly/ny) * 2*np.pi\n",
        "    KX, KY = np.meshgrid(kx, ky, indexing='ij')\n",
        "    K2 = KX*KX + KY*KY\n",
        "    K2[0,0] = 1.0\n",
        "    return KX, KY, K2\n",
        "\n",
        "def project_div_free(Fx_hat, Fy_hat, KX, KY, K2):\n",
        "    KdotF = KX*Fx_hat + KY*Fy_hat\n",
        "    Fx_hat_proj = Fx_hat - (KdotF / K2) * KX\n",
        "    Fy_hat_proj = Fy_hat - (KdotF / K2) * KY\n",
        "    Fx_hat_proj[0,0] = 0.0\n",
        "    Fy_hat_proj[0,0] = 0.0\n",
        "    return Fx_hat_proj, Fy_hat_proj\n",
        "\n",
        "def grad(f, KX, KY):\n",
        "    f_hat = fft.fft2(f)\n",
        "    dfdx = np.real(fft.ifft2(1j*KX*f_hat))\n",
        "    dfdy = np.real(fft.ifft2(1j*KY*f_hat))\n",
        "    return dfdx, dfdy\n",
        "\n",
        "def grad_from_scalar(phi, KX, KY):\n",
        "    phi_hat = fft.fft2(phi)\n",
        "    dphidx_hat = 1j*KX*phi_hat\n",
        "    dphidy_hat = 1j*KY*phi_hat\n",
        "    return np.real(fft.ifft2(dphidy_hat)), np.real(fft.ifft2(-dphidx_hat))\n",
        "\n",
        "def hecke_like_mix(Fx_hat, Fy_hat, stencil, KX, KY):\n",
        "    nx, ny = KX.shape\n",
        "    kx = KX[:,0]\n",
        "    ky = KY[0,:]\n",
        "    def idx_from_k(k, grid):\n",
        "        return int(np.clip(np.argmin(np.abs(grid - k)), 0, grid.size-1))\n",
        "\n",
        "    def sample_from_map(Fx_hat, Fy_hat, mapfunc):\n",
        "        outFx = np.zeros_like(Fx_hat, dtype=np.complex128)\n",
        "        outFy = np.zeros_like(Fy_hat, dtype=np.complex128)\n",
        "        for i in range(nx):\n",
        "            for j in range(ny):\n",
        "                kxi, kyj = KX[i,j], KY[i,j]\n",
        "                kx_m, ky_m = mapfunc(kxi, kyj)\n",
        "                ii = idx_from_k(kx_m, kx)\n",
        "                jj = idx_from_k(ky_m, ky)\n",
        "                outFx[i,j] = Fx_hat[ii,jj]\n",
        "                outFy[i,j] = Fy_hat[ii,jj]\n",
        "        return outFx, outFy\n",
        "\n",
        "    I  = lambda kx,ky: (kx,ky)\n",
        "    S  = lambda kx,ky: (-ky, kx)\n",
        "    T  = lambda kx,ky: (kx+ky, ky)\n",
        "    TS = lambda kx,ky: (kx+2*ky, ky)\n",
        "    ST = lambda kx,ky: (-ky + kx, kx)\n",
        "    stencil_maps = [I, S, T] if stencil == 3 else [I, S, T, TS, ST]\n",
        "\n",
        "    accFx = np.zeros_like(Fx_hat, dtype=np.complex128)\n",
        "    accFy = np.zeros_like(Fy_hat, dtype=np.complex128)\n",
        "    for mp in stencil_maps:\n",
        "        Fx_m, Fy_m = sample_from_map(Fx_hat, Fy_hat, mp)\n",
        "        accFx += Fx_m\n",
        "        accFy += Fy_m\n",
        "    count = len(stencil_maps)\n",
        "    return accFx / count, accFy / count\n",
        "\n",
        "def serre_drift(F_hat, KX, KY, kappa=0.2, c0=0.01):\n",
        "    K2 = KX*KX + KY*KY\n",
        "    K = np.sqrt(K2)\n",
        "    kmax = np.max(K)\n",
        "    mask = (K > 0)\n",
        "    Omega = np.zeros_like(K)\n",
        "    c = np.zeros_like(K)\n",
        "    Omega[mask] = kappa * (KX[mask]*KY[mask]) / K[mask]\n",
        "    c[mask] = c0 * (K[mask] / kmax)\n",
        "    return 1j*Omega*F_hat - c*F_hat\n",
        "\n",
        "def compute_dt(ux, uy, Bx, By, di, KX, KY, CFL=0.3):\n",
        "    K = np.sqrt(KX*KX + KY*KY)\n",
        "    kmax = np.max(K)\n",
        "    umax = max(np.abs(ux).max(), np.abs(uy).max())\n",
        "    Bmax = max(np.abs(Bx).max(), np.abs(By).max())\n",
        "    denom = 1e-12 + umax * kmax + di * Bmax * (kmax**2)\n",
        "    return CFL / denom\n"
      ]
    },
    {
      "cell_type": "markdown",
      "id": "d4185b77",
      "metadata": {
        "id": "d4185b77"
      },
      "source": [
        "## 4) Initial condition (magnetic island / X‑point)"
      ]
    },
    {
      "cell_type": "code",
      "execution_count": null,
      "id": "46fe0ab4",
      "metadata": {
        "colab": {
          "base_uri": "https://localhost:8080/"
        },
        "id": "46fe0ab4",
        "outputId": "49c7e117-1e7a-41aa-f96b-18981120cfc1"
      },
      "outputs": [
        {
          "name": "stdout",
          "output_type": "stream",
          "text": [
            "IC ready.\n"
          ]
        }
      ],
      "source": [
        "KX, KY, K2 = kspace(nx, ny, Lx, Ly)\n",
        "\n",
        "x = np.linspace(0, Lx, nx, endpoint=False)\n",
        "y = np.linspace(0, Ly, ny, endpoint=False)\n",
        "X, Y = np.meshgrid(x, y, indexing='ij')\n",
        "psi = np.cos(X) * np.cos(Y)\n",
        "Bx0, By0 = grad_from_scalar(psi, KX, KY)\n",
        "\n",
        "ux0 = 0.2 * np.sin(Y)\n",
        "uy0 = np.zeros_like(ux0)\n",
        "\n",
        "rng = np.random.default_rng(seed)\n",
        "Bx0 = Bx0 + 1e-3 * rng.standard_normal(Bx0.shape)\n",
        "By0 = By0 + 1e-3 * rng.standard_normal(By0.shape)\n",
        "\n",
        "ux_hat = fft.fft2(ux0); uy_hat = fft.fft2(uy0)\n",
        "Bx_hat = fft.fft2(Bx0); By_hat = fft.fft2(By0)\n",
        "\n",
        "print(\"IC ready.\")\n"
      ]
    },
    {
      "cell_type": "markdown",
      "id": "f86ccbc3",
      "metadata": {
        "id": "f86ccbc3"
      },
      "source": [
        "## 5) Time integration"
      ]
    },
    {
      "cell_type": "code",
      "execution_count": null,
      "id": "525054ad",
      "metadata": {
        "colab": {
          "background_save": true,
          "base_uri": "https://localhost:8080/"
        },
        "id": "525054ad",
        "outputId": "0caada2f-f644-4ba7-fc53-6b00de3344d9"
      },
      "outputs": [
        {
          "name": "stdout",
          "output_type": "stream",
          "text": [
            "step    20  t= 0.0018  Ekin=9.999e-03  Emag=2.500e-01  dt=9.05e-05\n",
            "step    40  t= 0.0036  Ekin=9.999e-03  Emag=2.500e-01  dt=9.05e-05\n",
            "step    60  t= 0.0054  Ekin=9.998e-03  Emag=2.500e-01  dt=9.05e-05\n",
            "step    80  t= 0.0072  Ekin=9.998e-03  Emag=2.499e-01  dt=9.05e-05\n",
            "step   100  t= 0.0090  Ekin=9.998e-03  Emag=2.499e-01  dt=9.05e-05\n",
            "step   120  t= 0.0109  Ekin=9.997e-03  Emag=2.499e-01  dt=9.05e-05\n",
            "step   140  t= 0.0127  Ekin=9.997e-03  Emag=2.499e-01  dt=9.04e-05\n",
            "step   160  t= 0.0145  Ekin=9.997e-03  Emag=2.499e-01  dt=9.04e-05\n",
            "step   180  t= 0.0163  Ekin=9.996e-03  Emag=2.499e-01  dt=9.04e-05\n",
            "step   200  t= 0.0181  Ekin=9.996e-03  Emag=2.499e-01  dt=9.04e-05\n",
            "step   220  t= 0.0199  Ekin=9.996e-03  Emag=2.498e-01  dt=9.03e-05\n",
            "step   240  t= 0.0217  Ekin=9.996e-03  Emag=2.498e-01  dt=9.03e-05\n",
            "step   260  t= 0.0235  Ekin=9.997e-03  Emag=2.498e-01  dt=9.02e-05\n",
            "step   280  t= 0.0253  Ekin=9.997e-03  Emag=2.498e-01  dt=9.02e-05\n",
            "step   300  t= 0.0271  Ekin=9.998e-03  Emag=2.498e-01  dt=9.01e-05\n",
            "step   320  t= 0.0289  Ekin=1.000e-02  Emag=2.498e-01  dt=9.00e-05\n",
            "step   340  t= 0.0307  Ekin=1.000e-02  Emag=2.498e-01  dt=8.98e-05\n",
            "step   360  t= 0.0325  Ekin=1.001e-02  Emag=2.497e-01  dt=8.96e-05\n",
            "step   380  t= 0.0343  Ekin=1.001e-02  Emag=2.497e-01  dt=8.94e-05\n",
            "step   400  t= 0.0361  Ekin=1.002e-02  Emag=2.497e-01  dt=8.91e-05\n",
            "step   420  t= 0.0379  Ekin=1.003e-02  Emag=2.497e-01  dt=8.88e-05\n",
            "step   440  t= 0.0396  Ekin=1.004e-02  Emag=2.497e-01  dt=8.84e-05\n"
          ]
        }
      ],
      "source": [
        "t = 0.0\n",
        "if dt is None:\n",
        "    dt = compute_dt(np.real(fft.ifft2(ux_hat)),\n",
        "                    np.real(fft.ifft2(uy_hat)),\n",
        "                    np.real(fft.ifft2(Bx_hat)),\n",
        "                    np.real(fft.ifft2(By_hat)),\n",
        "                    di, KX, KY, CFL=0.3)\n",
        "\n",
        "Ekin_hist, Emag_hist, t_hist = [], [], []\n",
        "\n",
        "for step in range(1, steps+1):\n",
        "    ux = np.real(fft.ifft2(ux_hat)); uy = np.real(fft.ifft2(uy_hat))\n",
        "    Bx = np.real(fft.ifft2(Bx_hat)); By = np.real(fft.ifft2(By_hat))\n",
        "\n",
        "    if step % 10 == 1:\n",
        "        dt = compute_dt(ux, uy, Bx, By, di, KX, KY, CFL=0.3)\n",
        "\n",
        "    dux_dx, dux_dy = grad(ux, KX, KY)\n",
        "    duy_dx, duy_dy = grad(uy, KX, KY)\n",
        "    dBx_dx, dBx_dy = grad(Bx, KX, KY)\n",
        "    dBy_dx, dBy_dy = grad(By, KX, KY)\n",
        "\n",
        "    conv_x = ux*dux_dx + uy*dux_dy\n",
        "    conv_y = ux*duy_dx + uy*duy_dy\n",
        "\n",
        "    Jz = dBy_dx - dBx_dy\n",
        "    Lorentz_x = Jz * By\n",
        "    Lorentz_y = - Jz * Bx\n",
        "\n",
        "    NLux = -conv_x + Lorentz_x\n",
        "    NLuy = -conv_y + Lorentz_y\n",
        "\n",
        "    EMFz = ux*By - uy*Bx\n",
        "    dEMFz_dx = np.real(fft.ifft2(1j*KX*fft.fft2(EMFz)))\n",
        "    dEMFz_dy = np.real(fft.ifft2(1j*KY*fft.fft2(EMFz)))\n",
        "    RHS_Bx_real = dEMFz_dy\n",
        "    RHS_By_real = -dEMFz_dx\n",
        "\n",
        "    RHS_ux = fft.fft2(NLux)\n",
        "    RHS_uy = fft.fft2(NLuy)\n",
        "    RHS_Bx = fft.fft2(RHS_Bx_real)\n",
        "    RHS_By = fft.fft2(RHS_By_real)\n",
        "\n",
        "    Tn_ux, Tn_uy = hecke_like_mix(ux_hat, uy_hat, stencil, KX, KY)\n",
        "    Tn_Bx, Tn_By = hecke_like_mix(Bx_hat, By_hat, stencil, KX, KY)\n",
        "\n",
        "    Dk_ux = serre_drift(ux_hat, KX, KY, kappa=0.2, c0=0.01)\n",
        "    Dk_uy = serre_drift(uy_hat, KX, KY, kappa=0.2, c0=0.01)\n",
        "    Dk_Bx = serre_drift(Bx_hat, KX, KY, kappa=0.2, c0=0.01)\n",
        "    Dk_By = serre_drift(By_hat, KX, KY, kappa=0.2, c0=0.01)\n",
        "\n",
        "    RHS_ux += alpha*(Tn_ux - ux_hat) + beta*Dk_ux\n",
        "    RHS_uy += alpha*(Tn_uy - uy_hat) + beta*Dk_uy\n",
        "    RHS_Bx += lam*(Tn_Bx - Bx_hat) + eps*Dk_Bx\n",
        "    RHS_By += lam*(Tn_By - By_hat) + eps*Dk_By\n",
        "\n",
        "    denom_u = (1.0 + dt*nu*(K2))\n",
        "    denom_B = (1.0 + dt*eta*(K2))\n",
        "\n",
        "    ux_hat = (ux_hat + dt*RHS_ux) / denom_u\n",
        "    uy_hat = (uy_hat + dt*RHS_uy) / denom_u\n",
        "    Bx_hat = (Bx_hat + dt*RHS_Bx) / denom_B\n",
        "    By_hat = (By_hat + dt*RHS_By) / denom_B\n",
        "\n",
        "    ux_hat, uy_hat = project_div_free(ux_hat, uy_hat, KX, KY, K2)\n",
        "    Bx_hat, By_hat = project_div_free(Bx_hat, By_hat, KX, KY, K2)\n",
        "\n",
        "    t += dt\n",
        "\n",
        "    if step % 20 == 0:\n",
        "        ux = np.real(fft.ifft2(ux_hat)); uy = np.real(fft.ifft2(uy_hat))\n",
        "        Bx = np.real(fft.ifft2(Bx_hat)); By = np.real(fft.ifft2(By_hat))\n",
        "        Ekin = 0.5*np.mean(ux**2 + uy**2)\n",
        "        Emag = 0.5*np.mean(Bx**2 + By**2)\n",
        "        Ekin_hist.append(Ekin); Emag_hist.append(Emag); t_hist.append(t)\n",
        "        print(f\"step {step:5d}  t={t:7.4f}  Ekin={Ekin:.3e}  Emag={Emag:.3e}  dt={dt:.2e}\")\n",
        "\n",
        "print(\"Done.\")\n"
      ]
    },
    {
      "cell_type": "markdown",
      "id": "96b7a6b7",
      "metadata": {
        "id": "96b7a6b7"
      },
      "source": [
        "## 6) Plots — energies and field snapshots"
      ]
    },
    {
      "cell_type": "code",
      "execution_count": null,
      "id": "29769d59",
      "metadata": {
        "id": "29769d59",
        "colab": {
          "base_uri": "https://localhost:8080/",
          "height": 228
        },
        "outputId": "7d5cae79-1a60-4888-d117-86a65570b78f"
      },
      "outputs": [
        {
          "output_type": "error",
          "ename": "NameError",
          "evalue": "name 't_hist' is not defined",
          "traceback": [
            "\u001b[0;31m---------------------------------------------------------------------------\u001b[0m",
            "\u001b[0;31mNameError\u001b[0m                                 Traceback (most recent call last)",
            "\u001b[0;32m/tmp/ipython-input-145580723.py\u001b[0m in \u001b[0;36m<cell line: 0>\u001b[0;34m()\u001b[0m\n\u001b[1;32m      3\u001b[0m \u001b[0;31m# Energies\u001b[0m\u001b[0;34m\u001b[0m\u001b[0;34m\u001b[0m\u001b[0m\n\u001b[1;32m      4\u001b[0m \u001b[0mplt\u001b[0m\u001b[0;34m.\u001b[0m\u001b[0mfigure\u001b[0m\u001b[0;34m(\u001b[0m\u001b[0mfigsize\u001b[0m\u001b[0;34m=\u001b[0m\u001b[0;34m(\u001b[0m\u001b[0;36m6\u001b[0m\u001b[0;34m,\u001b[0m\u001b[0;36m4\u001b[0m\u001b[0;34m)\u001b[0m\u001b[0;34m)\u001b[0m\u001b[0;34m\u001b[0m\u001b[0;34m\u001b[0m\u001b[0m\n\u001b[0;32m----> 5\u001b[0;31m \u001b[0mplt\u001b[0m\u001b[0;34m.\u001b[0m\u001b[0mplot\u001b[0m\u001b[0;34m(\u001b[0m\u001b[0mt_hist\u001b[0m\u001b[0;34m,\u001b[0m \u001b[0mEkin_hist\u001b[0m\u001b[0;34m,\u001b[0m \u001b[0mlabel\u001b[0m\u001b[0;34m=\u001b[0m\u001b[0;34m'E_kin'\u001b[0m\u001b[0;34m)\u001b[0m\u001b[0;34m\u001b[0m\u001b[0;34m\u001b[0m\u001b[0m\n\u001b[0m\u001b[1;32m      6\u001b[0m \u001b[0mplt\u001b[0m\u001b[0;34m.\u001b[0m\u001b[0mplot\u001b[0m\u001b[0;34m(\u001b[0m\u001b[0mt_hist\u001b[0m\u001b[0;34m,\u001b[0m \u001b[0mEmag_hist\u001b[0m\u001b[0;34m,\u001b[0m \u001b[0mlabel\u001b[0m\u001b[0;34m=\u001b[0m\u001b[0;34m'E_mag'\u001b[0m\u001b[0;34m)\u001b[0m\u001b[0;34m\u001b[0m\u001b[0;34m\u001b[0m\u001b[0m\n\u001b[1;32m      7\u001b[0m \u001b[0mplt\u001b[0m\u001b[0;34m.\u001b[0m\u001b[0mxlabel\u001b[0m\u001b[0;34m(\u001b[0m\u001b[0;34m't'\u001b[0m\u001b[0;34m)\u001b[0m\u001b[0;34m;\u001b[0m \u001b[0mplt\u001b[0m\u001b[0;34m.\u001b[0m\u001b[0mylabel\u001b[0m\u001b[0;34m(\u001b[0m\u001b[0;34m'Energy'\u001b[0m\u001b[0;34m)\u001b[0m\u001b[0;34m\u001b[0m\u001b[0;34m\u001b[0m\u001b[0m\n",
            "\u001b[0;31mNameError\u001b[0m: name 't_hist' is not defined"
          ]
        },
        {
          "output_type": "display_data",
          "data": {
            "text/plain": [
              "<Figure size 600x400 with 0 Axes>"
            ]
          },
          "metadata": {}
        }
      ],
      "source": [
        "import matplotlib.pyplot as plt\n",
        "\n",
        "# Energies\n",
        "plt.figure(figsize=(6,4))\n",
        "plt.plot(t_hist, Ekin_hist, label='E_kin')\n",
        "plt.plot(t_hist, Emag_hist, label='E_mag')\n",
        "plt.xlabel('t'); plt.ylabel('Energy')\n",
        "plt.legend()\n",
        "plt.title('Energies vs time')\n",
        "plt.show()\n",
        "\n",
        "# Snapshot: |B| and stream of B\n",
        "Bx = np.real(fft.ifft2(Bx_hat)); By = np.real(fft.ifft2(By_hat))\n",
        "Bmag = np.sqrt(Bx*Bx + By*By)\n",
        "\n",
        "plt.figure(figsize=(6,5))\n",
        "plt.imshow(Bmag.T, origin='lower', extent=[0,Lx,0,Ly], aspect='equal')\n",
        "plt.colorbar(label='|B|')\n",
        "plt.title('Magnetic field magnitude |B|')\n",
        "plt.xlabel('x'); plt.ylabel('y')\n",
        "plt.show()\n",
        "\n",
        "# Streamplot (downsample for speed)\n",
        "plt.figure(figsize=(6,5))\n",
        "x = np.linspace(0, Lx, 64); y = np.linspace(0, Ly, 64)\n",
        "Xg, Yg = np.meshgrid(x, y, indexing='ij')\n",
        "ix = (np.linspace(0, nx-1, 64)).astype(int)\n",
        "iy = (np.linspace(0, ny-1, 64)).astype(int)\n",
        "plt.streamplot(Xg, Yg, Bx[ix][:,iy], By[ix][:,iy], density=1.2)\n",
        "plt.title('B streamlines (downsampled)')\n",
        "plt.xlabel('x'); plt.ylabel('y')\n",
        "plt.axis('equal')\n",
        "plt.show()\n"
      ]
    }
  ],
  "metadata": {
    "colab": {
      "provenance": [],
      "include_colab_link": true
    },
    "kernelspec": {
      "display_name": "Python 3",
      "name": "python3"
    },
    "language_info": {
      "name": "python"
    }
  },
  "nbformat": 4,
  "nbformat_minor": 5
}