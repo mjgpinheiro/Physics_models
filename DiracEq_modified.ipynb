{
  "nbformat": 4,
  "nbformat_minor": 0,
  "metadata": {
    "colab": {
      "provenance": [],
      "authorship_tag": "ABX9TyOIO1HrXNaedjxU/T8QwFb5",
      "include_colab_link": true
    },
    "kernelspec": {
      "name": "python3",
      "display_name": "Python 3"
    },
    "language_info": {
      "name": "python"
    }
  },
  "cells": [
    {
      "cell_type": "markdown",
      "metadata": {
        "id": "view-in-github",
        "colab_type": "text"
      },
      "source": [
        "<a href=\"https://colab.research.google.com/github/mjgpinheiro/Physics_models/blob/main/DiracEq_modified.ipynb\" target=\"_parent\"><img src=\"https://colab.research.google.com/assets/colab-badge.svg\" alt=\"Open In Colab\"/></a>"
      ]
    },
    {
      "cell_type": "code",
      "source": [
        "import numpy as np\n",
        "import matplotlib.pyplot as plt\n",
        "from scipy.integrate import odeint\n",
        "\n",
        "# Define constants\n",
        "m = 9.11e-31   # mass of electron (kg)\n",
        "c = 3e8        # speed of light (m/s)\n",
        "e = 1.6e-19    # elementary charge (C)\n",
        "hbar = 1.05e-34   # Planck's constant / 2pi (J s)\n",
        "L = 1e-8       # length of plasma (m)\n",
        "B0 = 1         # magnetic field strength (T)\n",
        "Vo = 10        # amplitude of potential barrier (eV)\n",
        "S0 = L/2       # center of potential barrier (m)\n",
        "Nz = 1001      # number of spatial grid points\n",
        "z = np.linspace(0, L, Nz)\n",
        "dz = z[1] - z[0]\n",
        "dt = 1e-18     # time step size (s)\n",
        "omega = e * B0 / (m * c**2)   # angular frequency of Larmor motion (1/s)\n",
        "\n",
        "# Define potential energy function\n",
        "def U(q, S, t):\n",
        "    return Vo * np.exp(-((z - S - q * omega * t)**2) / (2 * (L/10)**2))\n",
        "\n",
        "# Define initial conditions for Dirac field and new field chi\n",
        "psi = np.zeros(Nz, dtype=np.complex128)\n",
        "chi = np.zeros(Nz, dtype=np.complex128)\n",
        "psi[0] = 1 + 0j\n",
        "q = np.zeros(Nz)\n",
        "S = np.zeros(Nz)\n",
        "for j in range(Nz):\n",
        "    q[j] = j - (Nz - 1) / 2\n",
        "    S[j] = S0\n",
        "\n",
        "# Define ode function for solving coupled equationsdef ode_func(y, z):\n",
        "def ode_func(y, z):\n",
        "    psi = y[0]\n",
        "    chi = y[1]\n",
        "    \n",
        "    dpsi_dz = (psi - np.roll(psi, 1)) / dz\n",
        "    dpsi_dz[0] = 0\n",
        "    dchi_dz = (chi - np.roll(chi, 1)) / dz\n",
        "    dchi_dz[0] = 0.\n",
        "    \n",
        "    dpsi_dt = -1j * (m * c**2 / hbar) * A * chi\n",
        "    dchi_dt = -1j * (m * c**2 / hbar) * A * psi - (q / hbar) * (U_j - m * c**2 * (q * e * B0 / (m * c**2)) + dU_dq) * chi\n",
        "    \n",
        "    return np.array([dpsi_dz, dchi_dz, dpsi_dt, dchi_dt])\n",
        "\n",
        "\n",
        "# Define spatial grid\n",
        "Nz = 500\n",
        "z = np.linspace(0, L, Nz)\n",
        "\n",
        "# Initialize psi and chi arrays\n",
        "psi = np.zeros(Nz, dtype=np.complex128)\n",
        "chi = np.zeros(Nz, dtype=np.complex128)\n",
        "psi[0] = 1 + 0j\n",
        "\n",
        "# Define initial conditions for chi and psi\n",
        "chi_prev = np.zeros(Nz, dtype=np.complex128)\n",
        "chi_prev[0] = 1 + 0j\n",
        "\n",
        "psi_prev = np.zeros(Nz, dtype=np.complex128)\n",
        "psi_prev[0] = 1 + 0j\n",
        "\n",
        "# Solve for wavefunctions\n",
        "wavefunctions = np.zeros((Nz, 5), dtype=np.complex128)\n",
        "energy_levels = []\n",
        "for n in range(5):\n",
        "    # Define initial conditions for Dirac field and new field chi\n",
        "    psi = np.zeros(Nz, dtype=np.complex128)\n",
        "    chi = np.zeros(Nz, dtype=np.complex128)\n",
        "    psi[0] = 1 + 0j\n",
        "\n",
        "    # Solve for wavefunction using odeint\n",
        "    y0 = [psi[0], chi[0]]\n",
        "    sol = odeint(ode_func, y0, z)\n",
        "\n",
        "    # Store wavefunction for this energy level\n",
        "    wavefunctions[:, n] = sol[:, 0]\n",
        "\n",
        "    # Normalize wavefunction\n",
        "    norm = np.sqrt(np.trapz(np.abs(wavefunctions[:, n])**2, z))\n",
        "    wavefunctions[:, n] = wavefunctions[:, n] / norm\n",
        "\n",
        "    # Calculate energy eigenvalue for this wavefunction\n",
        "    E = (n + 1/2) * hbar * omega\n",
        "    energy_levels.append(E)\n",
        "\n",
        "# Plot energy levels\n",
        "plt.plot(np.arange(1, len(energy_levels) + 1), energy_levels, 'bo')\n",
        "plt.xlabel('Energy Level')\n",
        "plt.ylabel('Energy (J)')\n",
        "plt.show()\n",
        "\n",
        "# Plot wavefunctions\n",
        "for n in range(5):\n",
        "    plt.plot(z, np.abs(wavefunctions[:, n])**2)\n",
        "plt.xlabel('Position (m)')\n",
        "plt.ylabel('Probability Density')\n",
        "plt.show()\n"
      ],
      "metadata": {
        "colab": {
          "base_uri": "https://localhost:8080/",
          "height": 432
        },
        "id": "y_e5eLxIsYpk",
        "outputId": "44018cf3-2c18-4a12-e79a-447fdd266f5c"
      },
      "execution_count": 18,
      "outputs": [
        {
          "output_type": "stream",
          "name": "stderr",
          "text": [
            "<ipython-input-18-aa526bc2cea7>:47: VisibleDeprecationWarning: Creating an ndarray from ragged nested sequences (which is a list-or-tuple of lists-or-tuples-or ndarrays with different lengths or shapes) is deprecated. If you meant to do this, you must specify 'dtype=object' when creating the ndarray.\n",
            "  return np.array([dpsi_dz, dchi_dz, dpsi_dt, dchi_dt])\n"
          ]
        },
        {
          "output_type": "error",
          "ename": "TypeError",
          "evalue": "ignored",
          "traceback": [
            "\u001b[0;31m---------------------------------------------------------------------------\u001b[0m",
            "\u001b[0;31mTypeError\u001b[0m                                 Traceback (most recent call last)",
            "\u001b[0;32m<ipython-input-18-aa526bc2cea7>\u001b[0m in \u001b[0;36m<cell line: 69>\u001b[0;34m()\u001b[0m\n\u001b[1;32m     75\u001b[0m     \u001b[0;31m# Solve for wavefunction using odeint\u001b[0m\u001b[0;34m\u001b[0m\u001b[0;34m\u001b[0m\u001b[0m\n\u001b[1;32m     76\u001b[0m     \u001b[0my0\u001b[0m \u001b[0;34m=\u001b[0m \u001b[0;34m[\u001b[0m\u001b[0mpsi\u001b[0m\u001b[0;34m[\u001b[0m\u001b[0;36m0\u001b[0m\u001b[0;34m]\u001b[0m\u001b[0;34m,\u001b[0m \u001b[0mchi\u001b[0m\u001b[0;34m[\u001b[0m\u001b[0;36m0\u001b[0m\u001b[0;34m]\u001b[0m\u001b[0;34m]\u001b[0m\u001b[0;34m\u001b[0m\u001b[0;34m\u001b[0m\u001b[0m\n\u001b[0;32m---> 77\u001b[0;31m     \u001b[0msol\u001b[0m \u001b[0;34m=\u001b[0m \u001b[0modeint\u001b[0m\u001b[0;34m(\u001b[0m\u001b[0mode_func\u001b[0m\u001b[0;34m,\u001b[0m \u001b[0my0\u001b[0m\u001b[0;34m,\u001b[0m \u001b[0mz\u001b[0m\u001b[0;34m)\u001b[0m\u001b[0;34m\u001b[0m\u001b[0;34m\u001b[0m\u001b[0m\n\u001b[0m\u001b[1;32m     78\u001b[0m \u001b[0;34m\u001b[0m\u001b[0m\n\u001b[1;32m     79\u001b[0m     \u001b[0;31m# Store wavefunction for this energy level\u001b[0m\u001b[0;34m\u001b[0m\u001b[0;34m\u001b[0m\u001b[0m\n",
            "\u001b[0;32m/usr/local/lib/python3.9/dist-packages/scipy/integrate/_odepack_py.py\u001b[0m in \u001b[0;36modeint\u001b[0;34m(func, y0, t, args, Dfun, col_deriv, full_output, ml, mu, rtol, atol, tcrit, h0, hmax, hmin, ixpr, mxstep, mxhnil, mxordn, mxords, printmessg, tfirst)\u001b[0m\n\u001b[1;32m    240\u001b[0m     \u001b[0mt\u001b[0m \u001b[0;34m=\u001b[0m \u001b[0mcopy\u001b[0m\u001b[0;34m(\u001b[0m\u001b[0mt\u001b[0m\u001b[0;34m)\u001b[0m\u001b[0;34m\u001b[0m\u001b[0;34m\u001b[0m\u001b[0m\n\u001b[1;32m    241\u001b[0m     \u001b[0my0\u001b[0m \u001b[0;34m=\u001b[0m \u001b[0mcopy\u001b[0m\u001b[0;34m(\u001b[0m\u001b[0my0\u001b[0m\u001b[0;34m)\u001b[0m\u001b[0;34m\u001b[0m\u001b[0;34m\u001b[0m\u001b[0m\n\u001b[0;32m--> 242\u001b[0;31m     output = _odepack.odeint(func, y0, t, args, Dfun, col_deriv, ml, mu,\n\u001b[0m\u001b[1;32m    243\u001b[0m                              \u001b[0mfull_output\u001b[0m\u001b[0;34m,\u001b[0m \u001b[0mrtol\u001b[0m\u001b[0;34m,\u001b[0m \u001b[0matol\u001b[0m\u001b[0;34m,\u001b[0m \u001b[0mtcrit\u001b[0m\u001b[0;34m,\u001b[0m \u001b[0mh0\u001b[0m\u001b[0;34m,\u001b[0m \u001b[0mhmax\u001b[0m\u001b[0;34m,\u001b[0m \u001b[0mhmin\u001b[0m\u001b[0;34m,\u001b[0m\u001b[0;34m\u001b[0m\u001b[0;34m\u001b[0m\u001b[0m\n\u001b[1;32m    244\u001b[0m                              \u001b[0mixpr\u001b[0m\u001b[0;34m,\u001b[0m \u001b[0mmxstep\u001b[0m\u001b[0;34m,\u001b[0m \u001b[0mmxhnil\u001b[0m\u001b[0;34m,\u001b[0m \u001b[0mmxordn\u001b[0m\u001b[0;34m,\u001b[0m \u001b[0mmxords\u001b[0m\u001b[0;34m,\u001b[0m\u001b[0;34m\u001b[0m\u001b[0;34m\u001b[0m\u001b[0m\n",
            "\u001b[0;31mTypeError\u001b[0m: Cannot cast array data from dtype('O') to dtype('float64') according to the rule 'safe'"
          ]
        }
      ]
    }
  ]
}