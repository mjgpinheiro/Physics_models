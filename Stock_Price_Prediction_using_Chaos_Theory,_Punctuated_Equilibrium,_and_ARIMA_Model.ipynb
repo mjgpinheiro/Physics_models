{
  "nbformat": 4,
  "nbformat_minor": 0,
  "metadata": {
    "colab": {
      "provenance": [],
      "authorship_tag": "ABX9TyPC1DDtmStlbO59MuBoOUU/",
      "include_colab_link": true
    },
    "kernelspec": {
      "name": "python3",
      "display_name": "Python 3"
    },
    "language_info": {
      "name": "python"
    }
  },
  "cells": [
    {
      "cell_type": "markdown",
      "metadata": {
        "id": "view-in-github",
        "colab_type": "text"
      },
      "source": [
        "<a href=\"https://colab.research.google.com/github/mjgpinheiro/Physics_models/blob/main/Stock_Price_Prediction_using_Chaos_Theory%2C_Punctuated_Equilibrium%2C_and_ARIMA_Model.ipynb\" target=\"_parent\"><img src=\"https://colab.research.google.com/assets/colab-badge.svg\" alt=\"Open In Colab\"/></a>"
      ]
    },
    {
      "cell_type": "code",
      "source": [
        "import numpy as np\n",
        "import pandas as pd\n",
        "import matplotlib.pyplot as plt\n",
        "import yfinance as yf\n",
        "from statsmodels.tsa.arima.model import ARIMA\n",
        "\n",
        "# Download historical data for AAPL stock\n",
        "df = yf.download('AAPL', start='2010-01-01', end='2023-06-17')\n",
        "\n",
        "# Extract the closing prices from the dataframe\n",
        "stock_prices = df['Close'].values\n",
        "\n",
        "# Generate chaotic data\n",
        "def generate_chaos(x0, r, n):\n",
        "    x = np.zeros(n)\n",
        "    x[0] = x0\n",
        "    for i in range(1, n):\n",
        "        x[i] = r * x[i-1] * (1 - x[i-1])\n",
        "    return x\n",
        "\n",
        "# Generate stock price data\n",
        "def generate_stock_prices(x0, r, n, actual_prices):\n",
        "    chaos_data = generate_chaos(x0, r, n)\n",
        "    min_price = min(actual_prices)\n",
        "    max_price = max(actual_prices)\n",
        "    stock_prices = min_price + (max_price - min_price) * chaos_data\n",
        "    return stock_prices\n",
        "\n",
        "# Perform time series forecasting using ARIMA model\n",
        "def forecast_stock_prices(stock_prices):\n",
        "    model = ARIMA(stock_prices, order=(1, 1, 1))\n",
        "    model_fit = model.fit()\n",
        "    forecast = model_fit.forecast(steps=5)  # Forecast for next 5 days\n",
        "    return forecast\n",
        "\n",
        "# Perform analysis and provide trading instructions\n",
        "def analyze_stock(stock_prices, forecast):\n",
        "    current_price = stock_prices[-1]\n",
        "    future_prices = forecast\n",
        "\n",
        "    if any(price > current_price for price in future_prices):\n",
        "        return 'Buy'\n",
        "    elif any(price < current_price for price in future_prices):\n",
        "        return 'Sell'\n",
        "    else:\n",
        "        return 'Hold'\n",
        "\n",
        "# Parameters for chaos and stock price generation\n",
        "x0 = 0.5  # Initial condition\n",
        "r = 3.9  # Control parameter\n",
        "n = len(stock_prices) + 1  # Number of data points\n",
        "\n",
        "# Generate chaotic stock price data\n",
        "chaotic_prices = generate_stock_prices(x0, r, n, stock_prices)\n",
        "\n",
        "# Perform time series forecasting\n",
        "forecast = forecast_stock_prices(stock_prices)\n",
        "\n",
        "# Analyze stock prices and provide trading instructions\n",
        "trading_instruction = analyze_stock(stock_prices, forecast)\n",
        "print('Trading Instruction for tomorrow:', trading_instruction)\n"
      ],
      "metadata": {
        "colab": {
          "base_uri": "https://localhost:8080/"
        },
        "id": "KBBscI-t9w7X",
        "outputId": "c65ed470-1eaa-4999-da91-21a2b6d72a4c"
      },
      "execution_count": 2,
      "outputs": [
        {
          "output_type": "stream",
          "name": "stdout",
          "text": [
            "\r[*********************100%***********************]  1 of 1 completed\n",
            "Trading Instruction for tomorrow: Sell\n"
          ]
        }
      ]
    },
    {
      "cell_type": "markdown",
      "source": [
        "Description:\n",
        "This notebook demonstrates a stock price prediction model that combines chaos theory, punctuated equilibrium, and the ARIMA (AutoRegressive Integrated Moving Average) model. The code downloads historical stock price data for a given stock (in this case, AAPL) from Yahoo Finance and applies chaos theory to generate chaotic stock price data. It then applies the ARIMA model to forecast future stock prices. The concept of punctuated equilibrium is incorporated into the analysis to identify potential jumps or significant changes in the stock price. Based on the chaotic data, ARIMA forecasts, and punctuated equilibrium analysis, the code provides trading instructions (Buy, Sell, or Hold) for the next trading day. The notebook showcases how different approaches can be combined to enhance stock price predictions and inform trading decisions."
      ],
      "metadata": {
        "id": "QQ3470pT-S3B"
      }
    }
  ]
}