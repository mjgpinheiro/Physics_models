{
  "nbformat": 4,
  "nbformat_minor": 0,
  "metadata": {
    "colab": {
      "provenance": [],
      "authorship_tag": "ABX9TyPNmfbAmb80KD6AO51TTnlM",
      "include_colab_link": true
    },
    "kernelspec": {
      "name": "python3",
      "display_name": "Python 3"
    },
    "language_info": {
      "name": "python"
    }
  },
  "cells": [
    {
      "cell_type": "markdown",
      "metadata": {
        "id": "view-in-github",
        "colab_type": "text"
      },
      "source": [
        "<a href=\"https://colab.research.google.com/github/mjgpinheiro/Physics_models/blob/main/Rabi_cavity_2.ipynb\" target=\"_parent\"><img src=\"https://colab.research.google.com/assets/colab-badge.svg\" alt=\"Open In Colab\"/></a>"
      ]
    },
    {
      "cell_type": "code",
      "execution_count": 9,
      "metadata": {
        "colab": {
          "base_uri": "https://localhost:8080/"
        },
        "id": "7zLZqiKTXnql",
        "outputId": "58e5d750-4da3-4968-ca7d-8fa82579843c"
      },
      "outputs": [
        {
          "output_type": "stream",
          "name": "stdout",
          "text": [
            "Looking in indexes: https://pypi.org/simple, https://us-python.pkg.dev/colab-wheels/public/simple/\n",
            "Requirement already satisfied: qutip in /usr/local/lib/python3.9/dist-packages (4.7.1)\n",
            "Requirement already satisfied: scipy>=1.0 in /usr/local/lib/python3.9/dist-packages (from qutip) (1.10.1)\n",
            "Requirement already satisfied: numpy>=1.16.6 in /usr/local/lib/python3.9/dist-packages (from qutip) (1.22.4)\n",
            "Requirement already satisfied: packaging in /usr/local/lib/python3.9/dist-packages (from qutip) (23.0)\n"
          ]
        }
      ],
      "source": [
        "%matplotlib inline\n",
        "!pip install qutip\n",
        "import matplotlib.pyplot as plt\n",
        "import numpy as np\n",
        "from qutip import *\n",
        "from scipy.constants import Boltzmann as k_B\n",
        "from scipy.constants import elementary_charge as ec"
      ]
    },
    {
      "cell_type": "code",
      "source": [
        "wc = 1.0  * 2 * np.pi  # cavity frequency\n",
        "wa = 1.0  * 2 * np.pi  # atom frequency\n",
        "g  = 0.05 * 2 * np.pi  # coupling strength\n",
        "kappa = 0.005          # cavity dissipation rate\n",
        "gamma = 0.05           # atom dissipation rate\n",
        "N = 15                 # number of cavity fock states\n",
        "n_th_a = 0.0           # temperature in frequency units\n",
        "use_rwa = True\n",
        "\n",
        "tlist = np.linspace(0,25,100)"
      ],
      "metadata": {
        "id": "c02y2bh_Xs79"
      },
      "execution_count": 10,
      "outputs": []
    },
    {
      "cell_type": "code",
      "source": [
        "# Parameters\n",
        "wc = 1.0  # cavity frequency\n",
        "wa = 1.0  # atom frequency\n",
        "g = 0.05  # coupling strength\n",
        "N = 10  # number of cavity fock states\n",
        "T = 0.1  # temperature\n",
        "k_B = 1.380649e-23  # Boltzmann constant\n",
        "\n",
        "# intial state\n",
        "psi0 = tensor(basis(N,0), basis(2,1))    # start with an excited atom\n",
        "# Operators\n",
        "a = tensor(destroy(N), qeye(2))  # cavity annihilation operator\n",
        "sm = tensor(qeye(N), destroy(2))  # spin lowering operator\n",
        "\n",
        "# Choose an energy scale\n",
        "E_scale = max(wc, wa, g)\n",
        "\n",
        "# Calculate dimensionless coefficients\n",
        "alpha = wc / E_scale\n",
        "beta = wa / E_scale\n",
        "gamma = g / E_scale\n",
        "delta = k_B * T * np.log(1 - np.exp(-wa / (k_B * T))) / E_scale\n",
        "\n",
        "# Define the Hamiltonian\n",
        "if use_rwa:\n",
        "    H_normalized = E_scale * (alpha * a.dag() * a + beta * sm.dag() * sm + gamma * (a.dag() * sm + a * sm.dag()) - delta * tensor(qeye(N), qeye(2)))\n",
        "else:\n",
        "    H_normalized = E_scale * (alpha * a.dag() * a + beta * sm.dag() * sm + gamma * (a.dag() * sm + a * sm.dag()) - delta * tensor(qeye(N), qeye(2)))\n"
      ],
      "metadata": {
        "id": "SrlK_LUiXx1a"
      },
      "execution_count": 11,
      "outputs": []
    },
    {
      "cell_type": "code",
      "source": [
        "c_op_list = []\n",
        "\n",
        "rate = kappa * (1 + n_th_a)\n",
        "if rate > 0.0:\n",
        "    c_op_list.append(np.sqrt(rate) * a)\n",
        "\n",
        "rate = kappa * n_th_a\n",
        "if rate > 0.0:\n",
        "    c_op_list.append(np.sqrt(rate) * a.dag())\n",
        "\n",
        "rate = gamma\n",
        "if rate > 0.0:\n",
        "    c_op_list.append(np.sqrt(rate) * sm)"
      ],
      "metadata": {
        "id": "9zdBp3jTYEr8"
      },
      "execution_count": 12,
      "outputs": []
    },
    {
      "cell_type": "code",
      "source": [
        "output = mesolve(H_normalized, psi0, tlist, c_op_list, [a.dag() * a, sm.dag() * sm ])\n",
        "#output = mesolve(H, psi0, tlist, c_op_list, [a.dag() * a, sm.dag() * sm - k_B * T * np.log(1 - np.exp(-wa / (k_B * T))) * tensor(qeye(N), qeye(2))])"
      ],
      "metadata": {
        "id": "EK9w2LF_YF20"
      },
      "execution_count": 13,
      "outputs": []
    },
    {
      "cell_type": "code",
      "source": [
        "fig, ax = plt.subplots(figsize=(8,5))\n",
        "ax.plot(tlist, output.expect[0], label=\"Cavity\")\n",
        "ax.plot(tlist, output.expect[1], label=\"Atom excited state\")\n",
        "ax.legend()\n",
        "ax.set_xlabel('Time')\n",
        "ax.set_ylabel('Occupation probability')\n",
        "ax.set_title('Vacuum Rabi oscillations');"
      ],
      "metadata": {
        "id": "EZkZleq-YMUR",
        "colab": {
          "base_uri": "https://localhost:8080/",
          "height": 350
        },
        "outputId": "7bcde7e8-5e8a-4218-e025-aff6975854bd"
      },
      "execution_count": 14,
      "outputs": [
        {
          "output_type": "display_data",
          "data": {
            "text/plain": [
              "<Figure size 576x360 with 1 Axes>"
            ],
            "image/png": "[encoded data removed]"
          },
          "metadata": {
            "needs_background": "light"
          }
        }
      ]
    },
    {
      "cell_type": "code",
      "source": [
        "t=100\n",
        "t_idx = np.abs(tlist - t).argmin()\n",
        "cavity_occ = output.expect[0][t_idx]\n",
        "atom_exc = output.expect[1][t_idx]\n",
        "\n",
        "print(\"Cavity occupation number at time t: \", cavity_occ)\n",
        "print(\"Atom excited state occupation probability at time t: \", atom_exc)"
      ],
      "metadata": {
        "id": "QCeN81MQYPxL",
        "colab": {
          "base_uri": "https://localhost:8080/"
        },
        "outputId": "3c2a9d59-29eb-4795-c3f3-6119408c4360"
      },
      "execution_count": 15,
      "outputs": [
        {
          "output_type": "stream",
          "name": "stdout",
          "text": [
            "Cavity occupation number at time t:  0.4663924447051962\n",
            "Atom excited state occupation probability at time t:  0.008353852947031712\n"
          ]
        }
      ]
    }
  ]
}