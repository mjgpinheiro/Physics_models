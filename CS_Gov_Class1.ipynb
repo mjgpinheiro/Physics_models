{
  "nbformat": 4,
  "nbformat_minor": 0,
  "metadata": {
    "colab": {
      "provenance": [],
      "authorship_tag": "ABX9TyM12n0TUHJPWZ4i2fK0iJVH",
      "include_colab_link": true
    },
    "kernelspec": {
      "name": "python3",
      "display_name": "Python 3"
    },
    "language_info": {
      "name": "python"
    }
  },
  "cells": [
    {
      "cell_type": "markdown",
      "metadata": {
        "id": "view-in-github",
        "colab_type": "text"
      },
      "source": [
        "<a href=\"https://colab.research.google.com/github/mjgpinheiro/Physics_models/blob/main/CS_Gov_Class1.ipynb\" target=\"_parent\"><img src=\"https://colab.research.google.com/assets/colab-badge.svg\" alt=\"Open In Colab\"/></a>"
      ]
    },
    {
      "cell_type": "code",
      "execution_count": null,
      "metadata": {
        "id": "NO6UbC2-ubqq"
      },
      "outputs": [],
      "source": [
        "import pandas as pd\n",
        "import numpy as np\n",
        "from sklearn.preprocessing import MinMaxScaler\n",
        "from sklearn.cluster import KMeans\n",
        "\n",
        "#\n",
        "import pandas as pd\n",
        "import requests\n",
        "\n",
        "# URL for the WGI dataset on the World Bank Open Data website\n",
        "url = 'http://databank.worldbank.org/data/download/ggda/c6/c68a1c14-62fe-40d6-988c-03d83c35105a/8b8d97'\n",
        "\n",
        "# Download the CSV file and save it to the local machine\n",
        "response = requests.get(url)\n",
        "with open('world_gov_indicators_raw.csv', 'wb') as f:\n",
        "    f.write(response.content)\n",
        "\n",
        "# Load the CSV file into a pandas dataframe\n",
        "df = pd.read_csv('world_gov_indicators_raw.csv', header=2)\n",
        "\n",
        "# Delete any irrelevant columns\n",
        "df.drop(['Country Code', 'Indicator Code'], axis=1, inplace=True)\n",
        "\n",
        "# Rename columns to lowercase and English headers\n",
        "df.rename(columns={'Country Name': 'country', 'Indicator Name': 'indicator'}, inplace=True)\n",
        "\n",
        "# Save the cleaned dataframe to a new CSV file\n",
        "df.to_csv('world_gov_indicators_cleaned.csv', index=False)\n",
        "\n",
        "# Load data\n",
        "df = pd.read_csv('government_data.csv')\n",
        "\n",
        "# Drop unnecessary columns\n",
        "df.drop(['Country Code', 'Indicator Name', 'Unnamed: 65'], axis=1, inplace=True)\n",
        "\n",
        "# Pivot data to wide format\n",
        "df = df.pivot(index='Country Name', columns='Indicator Code', values='2018')\n",
        "\n",
        "# Remove rows with missing values\n",
        "df.dropna(inplace=True)\n",
        "\n",
        "# Standardize data using MinMaxScaler\n",
        "scaler = MinMaxScaler()\n",
        "df_std = pd.DataFrame(scaler.fit_transform(df), index=df.index, columns=df.columns)\n",
        "\n",
        "# Determine optimal number of clusters using elbow method\n",
        "distortions = []\n",
        "for i in range(1, 11):\n",
        "    kmeans = KMeans(n_clusters=i, random_state=0).fit(df_std)\n",
        "    distortions.append(kmeans.inertia_)\n",
        "\n",
        "# Visualize elbow plot\n",
        "import matplotlib.pyplot as plt\n",
        "plt.plot(range(1, 11), distortions)\n",
        "plt.title('Elbow Plot')\n",
        "plt.xlabel('Number of Clusters')\n",
        "plt.ylabel('Distortion')\n",
        "plt.show()\n",
        "\n",
        "# Perform clustering with optimal number of clusters\n",
        "kmeans = KMeans(n_clusters=3, random_state=0).fit(df_std)\n",
        "clusters = kmeans.labels_\n",
        "\n",
        "# Output cluster labels\n",
        "result = pd.DataFrame({'Country Name': df.index, 'Cluster': clusters})\n",
        "print(result)\n"
      ]
    }
  ]
}