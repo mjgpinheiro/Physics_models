{
  "nbformat": 4,
  "nbformat_minor": 0,
  "metadata": {
    "colab": {
      "provenance": [],
      "authorship_tag": "ABX9TyPWp1bJg4RLDLoOqzsozeIv",
      "include_colab_link": true
    },
    "kernelspec": {
      "name": "python3",
      "display_name": "Python 3"
    },
    "language_info": {
      "name": "python"
    }
  },
  "cells": [
    {
      "cell_type": "markdown",
      "metadata": {
        "id": "view-in-github",
        "colab_type": "text"
      },
      "source": [
        "<a href=\"https://colab.research.google.com/github/mjgpinheiro/Physics_models/blob/main/ME_QV_Thrusters.ipynb\" target=\"_parent\"><img src=\"https://colab.research.google.com/assets/colab-badge.svg\" alt=\"Open In Colab\"/></a>"
      ]
    },
    {
      "cell_type": "code",
      "execution_count": null,
      "metadata": {
        "id": "iJLVPLvqEpXN"
      },
      "outputs": [],
      "source": []
    },
    {
      "cell_type": "markdown",
      "source": [
        "# Interaction of Vacuum Fluctuations with Magneto-Electric Materials\n",
        "**Magneto-Electric Interactions in the Quantum Vacuum: Potential for Propulsion**\n",
        "# This notebook explores the interaction of vacuum fluctuations with magneto-electric materials through eigenmodes, the Helmholtz equation, quantum vacuum expectations, and radiation momentum.\n"
      ],
      "metadata": {
        "id": "R-Ta4_VmEt9-"
      }
    },
    {
      "cell_type": "markdown",
      "source": [
        "## 1. Eigenmodes of Casimir Geometry\n"
      ],
      "metadata": {
        "id": "dg6G5G7BEyYV"
      }
    },
    {
      "cell_type": "markdown",
      "source": [
        "### Electromagnetic eigenmodes:\n",
        "#### TE (Transverse Electric) mode:\n",
        "\\[ E_{nk,TE}(z,x) = \\frac{L}{2} k^z \\sin(k_nz) \\]\n",
        "\\[ B_{nk,TE}(z,x) = \\frac{L}{2} \\omega_k^z \\sin(k_nz) + i \\omega_k^n k \\cos(knz) \\]\n"
      ],
      "metadata": {
        "id": "_cbvBfjKE00_"
      }
    },
    {
      "cell_type": "code",
      "source": [
        "import numpy as np\n",
        "\n",
        "# Constants\n",
        "L = 1  # Assuming a value, this should be set appropriately\n",
        "\n",
        "def E_nk_TE(z, x, k, n):\n",
        "    kn = (n * np.pi) / L\n",
        "    return (L/2) * k * np.sin(kn * z)\n",
        "\n",
        "def B_nk_TE(z, x, k, n):\n",
        "    kn = (n * np.pi) / L\n",
        "    omega_k = np.sqrt(k**2 + kn**2)\n",
        "    return (L/2) * omega_k * np.sin(kn * z) + 1j * omega_k * k * np.cos(kn * z)\n"
      ],
      "metadata": {
        "id": "su0I2S6SE3cG"
      },
      "execution_count": null,
      "outputs": []
    },
    {
      "cell_type": "markdown",
      "source": [
        "#### TM (Transverse Magnetic) mode:\n",
        "\\[ E_{nk,TM}(z,x) = \\frac{L}{2} \\omega_k^z \\cos(k_nz) - i \\omega_k^n k \\sin(knz) \\]\n",
        "\\[ B_{nk,TM}(z,x) = \\frac{L}{2} k^z \\cos(knz) \\]\n"
      ],
      "metadata": {
        "id": "nauQkYmaE6Jv"
      }
    },
    {
      "cell_type": "code",
      "source": [
        "def E_nk_TM(z, x, k, n):\n",
        "    kn = (n * np.pi) / L\n",
        "    omega_k = np.sqrt(k**2 + kn**2)\n",
        "    return (L/2) * omega_k * np.cos(kn * z) - 1j * omega_k * k * np.sin(kn * z)\n",
        "\n",
        "def B_nk_TM(z, x, k, n):\n",
        "    kn = (n * np.pi) / L\n",
        "    return (L/2) * k * np.cos(kn * z)\n"
      ],
      "metadata": {
        "id": "VvlyxxhCE883"
      },
      "execution_count": null,
      "outputs": []
    },
    {
      "cell_type": "markdown",
      "source": [
        "## 2. Perturbation Operator from Helmholtz Equation\n",
        "\n",
        "Perturbation operator:\n",
        "\\[ P = \\frac{\\partial^2}{\\partial z^2} - \\omega^2 \\]\n"
      ],
      "metadata": {
        "id": "AzAdGdhiFEE3"
      }
    },
    {
      "cell_type": "code",
      "source": [
        "def perturbation_operator(z, omega):\n",
        "    second_derivative = np.gradient(np.gradient(z))\n",
        "    return second_derivative - omega**2\n"
      ],
      "metadata": {
        "id": "GneMFIR8FGSw"
      },
      "execution_count": null,
      "outputs": []
    },
    {
      "cell_type": "markdown",
      "source": [
        "Remember that to run these functions, you'll need to input the required parameters, and additional functions or utilities might be needed to plot or visualize results effectively. Moreover, some details might need to be adjusted, depending on the specific requirements or context of the equations.\n",
        "\n",
        "For a complete interactive experience, you'd also want to incorporate widgets (using ipywidgets) to adjust parameters in real-time and see the effects on the equations and their results."
      ],
      "metadata": {
        "id": "4nG8Pq-MFLJJ"
      }
    },
    {
      "cell_type": "markdown",
      "source": [
        "## 3. Quantum Vacuum Expectation for Electric Fields\n"
      ],
      "metadata": {
        "id": "GzZabJWSFOMr"
      }
    },
    {
      "cell_type": "markdown",
      "source": [
        "Given Maxwell's equations:\n",
        "\\[ E \\times B = \\omega^2 ijk E_j \\omega^2 \\delta_{kl} E_l \\omega \\]\n"
      ],
      "metadata": {
        "id": "ng3X7nefFQRg"
      }
    },
    {
      "cell_type": "code",
      "source": [
        "def cross_product_EB(E, B, omega):\n",
        "    ijk = np.array([\n",
        "        [0, -1, 1],\n",
        "        [1, 0, -1],\n",
        "        [-1, 1, 0]\n",
        "    ])\n",
        "    # This assumes E and B are 3-component vectors\n",
        "    result = np.zeros(3)\n",
        "    for i in range(3):\n",
        "        for j in range(3):\n",
        "            for k in range(3):\n",
        "                result[i] += ijk[i][j] * E[j] * omega**2 * E[k] * omega\n",
        "    return result\n"
      ],
      "metadata": {
        "id": "P-e938uhFShC"
      },
      "execution_count": null,
      "outputs": []
    },
    {
      "cell_type": "markdown",
      "source": [
        "With the fluctuation-dissipation theorem:\n",
        "\\[ G = \\frac{\\partial^2}{\\partial z^2} - \\omega^2 \\]\n"
      ],
      "metadata": {
        "id": "Y3Xjd3RlFU9S"
      }
    },
    {
      "cell_type": "markdown",
      "source": [
        "For TE mode:\n",
        "\\[ \\omega_{nk,TE}^2 = \\frac{8k^2}{n} I_{sn} S_0^2 \\]\n"
      ],
      "metadata": {
        "id": "yMI4R9FFFXZ6"
      }
    },
    {
      "cell_type": "code",
      "source": [
        "def omega_nk_TE_squared(k, n, L, S_0):\n",
        "    I_sn = np.trapz(np.sin((n * np.pi * z) / L)**2, z)  # This assumes a discretized z range.\n",
        "    return (8 * k**2 / n) * I_sn * S_0**2\n"
      ],
      "metadata": {
        "id": "d2JnjehFFaRS"
      },
      "execution_count": null,
      "outputs": []
    },
    {
      "cell_type": "markdown",
      "source": [
        "For TM mode:\n",
        "\\[ \\omega_{nk,TM}^2 = \\frac{32k^2}{n} I_{cn} S_0^2 \\]\n"
      ],
      "metadata": {
        "id": "XQJBi3UjFcrD"
      }
    },
    {
      "cell_type": "code",
      "source": [
        "def omega_nk_TM_squared(k, n, L, S_0):\n",
        "    I_cn = np.trapz(np.cos((n * np.pi * z) / L)**2, z)  # This assumes a discretized z range.\n",
        "    return (32 * k**2 / n) * I_cn * S_0**2\n"
      ],
      "metadata": {
        "id": "EUOzjAlJFe2M"
      },
      "execution_count": null,
      "outputs": []
    },
    {
      "cell_type": "markdown",
      "source": [
        "(Note: We've used the trapezoidal rule to approximate the integrals. If you have specific requirements for the integral accuracy, you might want to consider a more sophisticated method or library.)\n",
        "Regularized equations:\n",
        "\\[ g_1 = \\frac{S_0}{720L^4 \\delta} (44 - \\frac{30L}{d} \\sin(\\frac{d}{2L}) \\cos^3(\\frac{d}{2L})) \\]\n",
        "\\[ g_2 = \\frac{S_0}{720L^4 \\delta} (12 - \\frac{30L}{d} \\sin(\\frac{d}{2L}) \\cos^3(\\frac{d}{2L})) \\]\n"
      ],
      "metadata": {
        "id": "Opr7NxcWFj-8"
      }
    },
    {
      "cell_type": "code",
      "source": [
        "def g1(S_0, L, delta, d):\n",
        "    return (S_0 / (720 * L**4 * delta)) * (44 - (30 * L / d) * np.sin(d / (2*L)) * np.cos(d / (2*L))**3)\n",
        "\n",
        "def g2(S_0, L, delta, d):\n",
        "    return (S_0 / (720 * L**4 * delta)) * (12 - (30 * L / d) * np.sin(d / (2*L)) * np.cos(d / (2*L))**3)\n"
      ],
      "metadata": {
        "id": "zUbo2erXFpJD"
      },
      "execution_count": null,
      "outputs": []
    },
    {
      "cell_type": "markdown",
      "source": [
        "Total momentum:\n",
        "\\[ g = \\frac{2S_0}{720L^4 \\delta} (44 - \\frac{30L}{d} \\sin(\\frac{d}{2L}) \\cos^3(\\frac{d}{2L})) \\]\n"
      ],
      "metadata": {
        "id": "DYKykD6hFrWE"
      }
    },
    {
      "cell_type": "code",
      "source": [
        "def g_total(S_0, L, delta, d):\n",
        "    return 2 * g1(S_0, L, delta, d)\n"
      ],
      "metadata": {
        "id": "Y-vHRe2MFtND"
      },
      "execution_count": null,
      "outputs": []
    },
    {
      "cell_type": "markdown",
      "source": [
        "To use these functions in simulations, ensure you have the necessary libraries installed and import them at the start of the notebook. Also, you'll need to initialize variables (like z, L, etc.) and provide interactive widgets if you want to make this more user-friendly.\n",
        "\n",
        "Remember, to effectively implement such a notebook, a deep understanding of the physical principles behind these equations is essential, especially when choosing appropriate boundary conditions or interpreting results.\n",
        "\n",
        "G_t represent the radiation momentum due to zero-point fluctuations. Such radiation momentum could theoretically be exploited for propulsion purposes, especially in advanced propulsion concepts that explore quantum vacuum fluctuations, often referred to as quantum vacuum thrusters or Q-thrusters.\n",
        "\n",
        "In these advanced propulsion concepts, the quantum vacuum is not viewed as an empty space but rather as a sea of continuously fluctuating electromagnetic waves. By manipulating these fluctuations, it's hypothesized that thrust can be generated without the expulsion of propellant, unlike conventional rocket engines.\n",
        "\n",
        "The idea of extracting momentum from quantum vacuum fluctuations is a topic of interest and debate in the physics community. While the mathematics might allow for certain solutions, the physical realizability and efficiency of such a propulsion method remain under investigation and are still speculative.\n",
        "\n",
        "In your provided equations, g_t seems to represent the total momentum extracted from these fluctuations, potentially for propulsion. If it is indeed representing a propulsion device's effectiveness, g_t would likely be a measure of the thrust or change in momentum provided by the device due to these zero-point fluctuations."
      ],
      "metadata": {
        "id": "KTdVPz9NFxZE"
      }
    }
  ]
}