{
  "nbformat": 4,
  "nbformat_minor": 0,
  "metadata": {
    "colab": {
      "provenance": [],
      "authorship_tag": "ABX9TyPRrTMEf9e9SzriSAPjHs1Z",
      "include_colab_link": true
    },
    "kernelspec": {
      "name": "python3",
      "display_name": "Python 3"
    },
    "language_info": {
      "name": "python"
    }
  },
  "cells": [
    {
      "cell_type": "markdown",
      "metadata": {
        "id": "view-in-github",
        "colab_type": "text"
      },
      "source": [
        "<a href=\"https://colab.research.google.com/github/mjgpinheiro/Physics_models/blob/main/lottery_number_forecaster.ipynb\" target=\"_parent\"><img src=\"https://colab.research.google.com/assets/colab-badge.svg\" alt=\"Open In Colab\"/></a>"
      ]
    },
    {
      "cell_type": "code",
      "execution_count": 1,
      "metadata": {
        "colab": {
          "base_uri": "https://localhost:8080/"
        },
        "id": "k1Kk0ApeWLch",
        "outputId": "8d4e839f-6a19-42ef-aa1b-15c00e6fb05a"
      },
      "outputs": [
        {
          "output_type": "stream",
          "name": "stdout",
          "text": [
            "Predicted numbers based on frequency: [10, 16, 31, 33, 50]\n",
            "Predicted stars based on frequency: [3, 8]\n",
            "Randomly predicted numbers based on frequency: [33, 28, 26, 26, 26]\n",
            "Randomly predicted stars based on frequency: [12, 12]\n"
          ]
        }
      ],
      "source": [
        "import pandas as pd\n",
        "import random\n",
        "\n",
        "# Sample past draws data (expand as needed)\n",
        "data = {\n",
        "    \"Date\": [\"2023-04-04\", \"2023-04-07\", \"2023-04-11\"],\n",
        "    \"Number1\": [10, 5, 10],\n",
        "    \"Number2\": [16, 26, 14],\n",
        "    \"Number3\": [31, 28, 16],\n",
        "    \"Number4\": [33, 36, 19],\n",
        "    \"Number5\": [50, 46, 29],\n",
        "    \"Star1\": [3, 6, 2],\n",
        "    \"Star2\": [8, 12, 10],\n",
        "}\n",
        "\n",
        "df = pd.DataFrame(data)\n",
        "\n",
        "# Calculate frequencies\n",
        "number_columns = [\"Number1\", \"Number2\", \"Number3\", \"Number4\", \"Number5\"]\n",
        "star_columns = [\"Star1\", \"Star2\"]\n",
        "\n",
        "number_frequencies = df[number_columns].stack().value_counts()\n",
        "star_frequencies = df[star_columns].stack().value_counts()\n",
        "\n",
        "# Predict numbers based on frequencies (selecting the top 5 most frequent numbers)\n",
        "predicted_numbers = number_frequencies.head(5).index.tolist()\n",
        "predicted_stars = star_frequencies.head(2).index.tolist()\n",
        "\n",
        "# If you prefer randomness over top frequencies\n",
        "random_predicted_numbers = random.choices(number_frequencies.index.tolist(), k=5)\n",
        "random_predicted_stars = random.choices(star_frequencies.index.tolist(), k=2)\n",
        "\n",
        "print(f\"Predicted numbers based on frequency: {predicted_numbers}\")\n",
        "print(f\"Predicted stars based on frequency: {predicted_stars}\")\n",
        "\n",
        "print(f\"Randomly predicted numbers based on frequency: {random_predicted_numbers}\")\n",
        "print(f\"Randomly predicted stars based on frequency: {random_predicted_stars}\")\n"
      ]
    }
  ]
}