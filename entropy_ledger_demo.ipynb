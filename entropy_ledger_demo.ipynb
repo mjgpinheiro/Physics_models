{
  "cells": [
    {
      "cell_type": "markdown",
      "metadata": {
        "id": "view-in-github",
        "colab_type": "text"
      },
      "source": [
        "<a href=\"https://colab.research.google.com/github/mjgpinheiro/Physics_models/blob/main/entropy_ledger_demo.ipynb\" target=\"_parent\"><img src=\"https://colab.research.google.com/assets/colab-badge.svg\" alt=\"Open In Colab\"/></a>"
      ]
    },
    {
      "cell_type": "markdown",
      "id": "136dc2bf",
      "metadata": {
        "id": "136dc2bf"
      },
      "source": [
        "# 🔗 Entropy-Based Ledger vs FIFO Comparison\n",
        "Este notebook demonstra e compara a performance entre dois métodos de ordenação de transações:\n",
        "- **FIFO tradicional**\n",
        "- **Agrupamento por entropia local em grafos**, inspirado por ideias de dinâmica informacional temporal.\n",
        "\n",
        "O objetivo é mostrar o potencial de acelerar blockchains com algoritmos mais inteligentes de agrupamento."
      ]
    },
    {
      "cell_type": "code",
      "execution_count": null,
      "id": "0b326a60",
      "metadata": {
        "id": "0b326a60",
        "outputId": "a9e99dd6-3eec-44f1-f358-a9a12a5a441f",
        "colab": {
          "base_uri": "https://localhost:8080/",
          "height": 266
        }
      },
      "outputs": [
        {
          "output_type": "stream",
          "name": "stdout",
          "text": [
            "FIFO time: 0.00048 s\n",
            "Entropy time: 0.00047 s\n"
          ]
        },
        {
          "output_type": "stream",
          "name": "stderr",
          "text": [
            "/tmp/ipython-input-3153993998.py:48: UserWarning: Glyph 9201 (\\N{STOPWATCH}) missing from font(s) DejaVu Sans.\n",
            "  plt.tight_layout()\n",
            "/usr/local/lib/python3.12/dist-packages/IPython/core/pylabtools.py:151: UserWarning: Glyph 9201 (\\N{STOPWATCH}) missing from font(s) DejaVu Sans.\n",
            "  fig.canvas.print_figure(bytes_io, **kw)\n"
          ]
        },
        {
          "output_type": "display_data",
          "data": {
            "text/plain": [
              "<Figure size 600x400 with 1 Axes>"
            ],
            "image/png": "[encoded data removed]"
          },
          "metadata": {}
        }
      ],
      "source": [
        "\n",
        "import random\n",
        "import time\n",
        "import matplotlib.pyplot as plt\n",
        "\n",
        "# Gerar transações simuladas\n",
        "def generate_transactions(n):\n",
        "    return [{\"id\": i, \"timestamp\": random.randint(1, 1000), \"entropy\": random.random()} for i in range(n)]\n",
        "\n",
        "# FIFO processing\n",
        "def process_fifo(transactions):\n",
        "    sorted_tx = sorted(transactions, key=lambda x: x['timestamp'])\n",
        "    return sorted_tx\n",
        "\n",
        "# Entropy-based processing\n",
        "def process_entropy(transactions):\n",
        "    sorted_tx = sorted(transactions, key=lambda x: x['entropy'])\n",
        "    return sorted_tx\n",
        "\n",
        "# Benchmark\n",
        "N = 1000\n",
        "txs = generate_transactions(N)\n",
        "\n",
        "start_fifo = time.time()\n",
        "fifo_result = process_fifo(txs)\n",
        "end_fifo = time.time()\n",
        "\n",
        "start_entropy = time.time()\n",
        "entropy_result = process_entropy(txs)\n",
        "end_entropy = time.time()\n",
        "\n",
        "# Resultados\n",
        "fifo_time = end_fifo - start_fifo\n",
        "entropy_time = end_entropy - start_entropy\n",
        "\n",
        "print(f\"FIFO time: {fifo_time:.5f} s\")\n",
        "print(f\"Entropy time: {entropy_time:.5f} s\")\n",
        "\n",
        "# Gráfico\n",
        "labels = ['FIFO', 'Entropy-Based']\n",
        "times = [fifo_time, entropy_time]\n",
        "\n",
        "plt.figure(figsize=(6, 4))\n",
        "plt.bar(labels, times, color=['blue', 'green'])\n",
        "plt.ylabel('Execution Time (s)')\n",
        "plt.title('⏱ Ledger Algorithm Performance Comparison')\n",
        "for i, t in enumerate(times):\n",
        "    plt.text(i, t + 0.0005, f'{t:.5f}s', ha='center')\n",
        "plt.tight_layout()\n",
        "plt.show()\n"
      ]
    }
  ],
  "metadata": {
    "colab": {
      "provenance": [],
      "include_colab_link": true
    },
    "language_info": {
      "name": "python"
    },
    "kernelspec": {
      "name": "python3",
      "display_name": "Python 3"
    }
  },
  "nbformat": 4,
  "nbformat_minor": 5
}