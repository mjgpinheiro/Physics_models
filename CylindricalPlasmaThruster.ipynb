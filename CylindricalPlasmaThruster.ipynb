{
  "nbformat": 4,
  "nbformat_minor": 0,
  "metadata": {
    "colab": {
      "provenance": [],
      "authorship_tag": "ABX9TyNg9JikXqIx/TxFNGCpilNp",
      "include_colab_link": true
    },
    "kernelspec": {
      "name": "python3",
      "display_name": "Python 3"
    },
    "language_info": {
      "name": "python"
    }
  },
  "cells": [
    {
      "cell_type": "markdown",
      "metadata": {
        "id": "view-in-github",
        "colab_type": "text"
      },
      "source": [
        "<a href=\"https://colab.research.google.com/github/mjgpinheiro/Physics_models/blob/main/CylindricalPlasmaThruster.ipynb\" target=\"_parent\"><img src=\"https://colab.research.google.com/assets/colab-badge.svg\" alt=\"Open In Colab\"/></a>"
      ]
    },
    {
      "cell_type": "code",
      "execution_count": 1,
      "metadata": {
        "colab": {
          "base_uri": "https://localhost:8080/",
          "height": 466
        },
        "id": "9w0d0-oAscQl",
        "outputId": "a1114db6-407d-4a8b-e025-0a8d96903e94"
      },
      "outputs": [
        {
          "output_type": "stream",
          "name": "stdout",
          "text": [
            "Total thrust: 28274.333882305655 Newton\n"
          ]
        },
        {
          "output_type": "display_data",
          "data": {
            "text/plain": [
              "<Figure size 640x480 with 1 Axes>"
            ],
            "image/png": "[encoded data removed]"
          },
          "metadata": {}
        }
      ],
      "source": [
        "import numpy as np\n",
        "import scipy.integrate as spi\n",
        "import matplotlib.pyplot as plt\n",
        "\n",
        "# Define constants and parameters\n",
        "epsilon_0 = 8.854187817e-12  # Permittivity of free space\n",
        "c = 3e8  # Speed of light\n",
        "R = 3.0  # Radius of the cylinder in meters\n",
        "H = 1.0  # Height of the cylinder in meters\n",
        "num_points = 100  # Number of points for numerical integration in each dimension\n",
        "\n",
        "# Define functions for rho(z), omega(z), and dB/dt(z) - unchanged\n",
        "def rho(z):\n",
        "    return np.ones_like(z)*1.0e-2\n",
        "\n",
        "def omega(z):\n",
        "    return 2.0 * np.pi * 1.0e4  # the frequency of a spoke in Hall Thrusters\n",
        "\n",
        "def dBdt(z):\n",
        "    return 0.2e6 * np.sin(omega(z))\n",
        "\n",
        "# Differential equation for E_z(z, t) - unchanged\n",
        "def dEdz(E_z, z):\n",
        "    dB_dt = dBdt(z)\n",
        "    return -(1.0 / c ** 2) * dB_dt\n",
        "\n",
        "# Initial condition and solve DE - unchanged\n",
        "E_z0 = 100000.0  # See Ref.: Doklady Physics, Vol. 46, No. 1, 2001, pp. 9–11. Translated from Doklady Akademii Nauk, Vol. 376, No. 2, 2001, pp. 183–185.\n",
        "                 #               Original Russian Text Copyright © 2001 by Oreshko.\n",
        "z_values = np.linspace(0, H, num_points)\n",
        "sol = spi.odeint(dEdz, E_z0, z_values)\n",
        "\n",
        "# Calculate the thrust over the cylinder volume\n",
        "def integrand(r, theta, z):\n",
        "    # Example calculation - replace with actual logic\n",
        "    # Assuming E_z and B_z are the electric and magnetic field components along the z-axis\n",
        "    E_z = sol[np.searchsorted(z_values, z), 0]\n",
        "    B_z = dBdt(z)  # This is just a placeholder example\n",
        "    force_density = rho(z) * E_z  # Simplified example calculation\n",
        "    return force_density\n",
        "\n",
        "# Volume integration\n",
        "r_values = np.linspace(0, R, num_points)\n",
        "theta_values = np.linspace(0, 2 * np.pi, num_points)\n",
        "total_thrust = 0\n",
        "for r in r_values:\n",
        "    for theta in theta_values:\n",
        "        for z in z_values:\n",
        "            dV = r * (R / num_points) * (2 * np.pi / num_points) * (H / num_points)\n",
        "            total_thrust += integrand(r, theta, z) * dV\n",
        "\n",
        "print(\"Total thrust:\", total_thrust, \"Newton\")\n",
        "\n",
        "# Plotting - unchanged\n",
        "plt.figure()\n",
        "plt.plot(z_values, sol[:, 0], label='E_z(z)')\n",
        "plt.xlabel('z')\n",
        "plt.ylabel('E_z')\n",
        "plt.legend()\n",
        "plt.show()\n"
      ]
    }
  ]
}