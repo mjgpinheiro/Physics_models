{
  "nbformat": 4,
  "nbformat_minor": 0,
  "metadata": {
    "colab": {
      "provenance": [],
      "authorship_tag": "ABX9TyPT99LtQiMwJfW41Rfqti05",
      "include_colab_link": true
    },
    "kernelspec": {
      "name": "python3",
      "display_name": "Python 3"
    },
    "language_info": {
      "name": "python"
    }
  },
  "cells": [
    {
      "cell_type": "markdown",
      "metadata": {
        "id": "view-in-github",
        "colab_type": "text"
      },
      "source": [
        "<a href=\"https://colab.research.google.com/github/mjgpinheiro/Physics_models/blob/Econophysics/Euromillions2.ipynb\" target=\"_parent\"><img src=\"https://colab.research.google.com/assets/colab-badge.svg\" alt=\"Open In Colab\"/></a>"
      ]
    },
    {
      "cell_type": "code",
      "execution_count": null,
      "metadata": {
        "id": "zD8NXAUTXzep"
      },
      "outputs": [],
      "source": [
        "import itertools\n",
        "import random\n",
        "import pandas as pd\n",
        "\n",
        "import csv\n",
        "\n",
        "# Define the header and data rows\n",
        "header = [\"Date\", \"Number1\", \"Number2\", \"Number3\", \"Number4\", \"Number5\", \"Star1\", \"Star2\"]\n",
        "data_rows = [\n",
        "    [\"2023-04-4\", 10, 16, 31, 33, 50, 3, 8],\n",
        "    [\"2023-04-07\", 5, 26, 28, 36, 46, 6, 12],\n",
        "    [\"2023-04-11\", 10, 14, 16, 19, 29, 2, 10],\n",
        "    [\"2023-04-14\", 4, 11, 37, 44, 49, 6, 7],\n",
        "]\n",
        "\n",
        "# Write the header and data rows to the CSV file\n",
        "with open(\"euromillions_past_draws.csv\", mode=\"w\", newline=\"\") as csvfile:\n",
        "    writer = csv.writer(csvfile)\n",
        "    writer.writerow(header)\n",
        "    writer.writerows(data_rows)\n",
        "\n",
        "# Define the range of numbers and the number of picks for EuroMillions\n",
        "number_range = list(range(1, 51))\n",
        "star_range = list(range(1, 13))\n",
        "number_of_picks = 5\n",
        "number_of_star_picks = 2\n",
        "\n",
        "# Define the size of the wheeling system (e.g., 10 numbers, 2 stars)\n",
        "wheel_numbers = 10\n",
        "wheel_stars = 4\n",
        "\n",
        "# Define the number of combinations to generate\n",
        "num_combinations = 10\n",
        "\n",
        "# Generate the wheeling system\n",
        "wheel_number_combinations = itertools.combinations(number_range, wheel_numbers)\n",
        "wheel_star_combinations = itertools.combinations(star_range, wheel_stars)\n",
        "\n",
        "selected_wheel_numbers = random.sample(list(itertools.islice(wheel_number_combinations, random.randrange(sum(1 for _ in itertools.combinations(number_range, wheel_numbers))))), 1)[0]\n",
        "selected_wheel_stars = random.sample(list(itertools.islice(wheel_star_combinations, random.randrange(sum(1 for _ in itertools.combinations(star_range, wheel_stars))))), 1)[0]\n",
        "\n",
        "# Generate ticket combinations from the wheeling system\n",
        "ticket_number_combinations = list(itertools.combinations(selected_wheel_numbers, number_of_picks))\n",
        "ticket_star_combinations = list(itertools.combinations(selected_wheel_stars, number_of_star_picks))\n",
        "\n",
        "# Generate random tickets\n",
        "tickets = []\n",
        "for _ in range(num_combinations):\n",
        "    ticket_numbers = random.choice(ticket_number_combinations)\n",
        "    ticket_stars = random.choice(ticket_star_combinations)\n",
        "    tickets.append((ticket_numbers, ticket_stars))\n",
        "\n",
        "# Print the generated tickets\n",
        "print(\"Generated Tickets:\")\n",
        "for ticket in tickets:\n",
        "    print(f\"Numbers: {ticket[0]}, Stars: {ticket[1]}\")\n",
        "\n",
        "# Load past winning numbers from a CSV file (you will need to provide this data)\n",
        "past_draws = pd.read_csv(\"euromillions_past_draws.csv\")\n",
        "print(\"\\nPast Winning Numbers:\")\n",
        "print(past_draws.head())\n"
      ]
    }
  ]
}