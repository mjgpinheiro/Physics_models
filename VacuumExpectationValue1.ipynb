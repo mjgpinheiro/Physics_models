{
  "nbformat": 4,
  "nbformat_minor": 0,
  "metadata": {
    "colab": {
      "provenance": [],
      "authorship_tag": "ABX9TyMm1ziTVA/axxy/9AwqV6YI",
      "include_colab_link": true
    },
    "kernelspec": {
      "name": "python3",
      "display_name": "Python 3"
    },
    "language_info": {
      "name": "python"
    }
  },
  "cells": [
    {
      "cell_type": "markdown",
      "metadata": {
        "id": "view-in-github",
        "colab_type": "text"
      },
      "source": [
        "<a href=\"https://colab.research.google.com/github/mjgpinheiro/Physics_models/blob/main/VacuumExpectationValue1.ipynb\" target=\"_parent\"><img src=\"https://colab.research.google.com/assets/colab-badge.svg\" alt=\"Open In Colab\"/></a>"
      ]
    },
    {
      "cell_type": "code",
      "execution_count": null,
      "metadata": {
        "colab": {
          "base_uri": "https://localhost:8080/"
        },
        "id": "OO0_nKKQfm5L",
        "outputId": "d5b1bae3-75d1-4f41-cadc-e8605a66365f"
      },
      "outputs": [
        {
          "output_type": "stream",
          "name": "stdout",
          "text": [
            "The vacuum contribution to the momentum density of the magnetoelectric material is:\n",
            "oo*hbar*sqrt(Abs(nkl_x)**2 + Abs(2*nkl_x - nkl_y)**2 + Abs(nkl_x - nkl_y + nkl_z)**2)\n"
          ]
        }
      ],
      "source": [
        "#!pip install simpy\n",
        "from sympy import Symbol, Eq, Matrix, integrate, oo, pi, solve\n",
        "\n",
        "# Step 1: Expectation value for the momentum density g0 of the vacuum\n",
        "V, hbar = Symbol('V'), Symbol('hbar')\n",
        "kl, k = Symbol('kl'), Matrix([Symbol('kx'), Symbol('ky'), Symbol('kz')])\n",
        "g0 = 1/V * (1/2) * hbar * k.norm()\n",
        "\n",
        "# Step 2: Dispersion relation for the magnetoelectric medium\n",
        "nkl, ez = Matrix([Symbol('nkl_x'), Symbol('nkl_y'), Symbol('nkl_z')]), Matrix([Symbol('ez_x'), Symbol('ez_y'), Symbol('ez_z')])\n",
        "k0 = Symbol('k0')\n",
        "dispersion_relation = Eq(k.dot(ez), k0 * nkl.norm())\n",
        "\n",
        "# Solve dispersion relation for k\n",
        "k_sol = solve(dispersion_relation, k)[0]\n",
        "\n",
        "# Step 3: Express g0 in terms of anisotropic indices\n",
        "Dc = Symbol('Dc')\n",
        "nkl_dot = nkl.dot(Matrix([1, -1, 0]))\n",
        "nkl_dot_matrix = Matrix([nkl_dot, nkl_dot, nkl_dot])\n",
        "g0_anisotropic = 1/V * (1/2) * hbar * k0 * (nkl + nkl_dot_matrix).norm()\n",
        "g0_anisotropic = g0_anisotropic.subs(k, k_sol)\n",
        "\n",
        "# Step 4: Perform integration for g0\n",
        "k_mag = Symbol('k_mag')\n",
        "g0_integral = integrate(k_mag**3, (k_mag, 0, oo))\n",
        "\n",
        "# Step 5: Final result for g0\n",
        "g0_final = g0_anisotropic.subs(k0, V/(8*pi**3) * g0_integral).subs(nkl, Matrix([Symbol('n0_x'), Symbol('n0_y'), Symbol('n0_z')]))\n",
        "\n",
        "# Printing the final result\n",
        "print(\"The vacuum contribution to the momentum density of the magnetoelectric material is:\")\n",
        "print(g0_final)\n",
        "\n",
        "import sympy as sp\n",
        "import sympy as sp\n",
        "\n",
        "# Define the constants and variables\n",
        "h_bar = 1.0545718e-34  # Reduced Planck's constant\n",
        "V = 1e-6  # Sample volume, in m^3\n",
        "k0 = sp.Symbol('k0')  # Wavenumber, in 1/m\n",
        "c = 3e8  # Speed of light, in m/s\n",
        "u = sp.Symbol('u')  # Velocity, much less than c for non-relativistic context\n",
        "n0 = sp.Symbol('n0')  # Refractive index parallel to the optical axis, typically 1 - 2.5\n",
        "cxy = sp.Symbol('cxy')  # Anisotropic parameter\n",
        "cyx = sp.Symbol('cyx')  # Anisotropic parameter\n",
        "Dc = sp.Symbol('Dc')  # Difference in anisotropic parameters\n",
        "p = sp.pi  # Pi constant\n",
        "ez = sp.Symbol('ez')  # Parallel to the optical axis\n",
        "l = sp.Symbol('l', positive=True, real=True)  # Wavelength, typically between 400 - 700 nm\n",
        "\n",
        "# Add constraints\n",
        "constraints = [\n",
        "    sp.Q.positive(k0),  # Wavenumber is positive\n",
        "    1 <= n0, n0 <= 2.5,  # Refractive index between 1 and 2.5\n",
        "    4e-7 <= l, l <= 7e-7  # Wavelength of visible light in meters\n",
        "]\n",
        "\n",
        "\n",
        "# Define the constants and variables\n",
        "h_bar = sp.Symbol('h_bar')  # Reduced Planck's constant\n",
        "V = sp.Symbol('V')  # Sample volume\n",
        "k0 = sp.Symbol('k0')  # Wavenumber\n",
        "c = sp.Symbol('c')  # Speed of light\n",
        "u = sp.Symbol('u')  # Velocity\n",
        "n0 = sp.Symbol('n0')  # Refractive index parallel to the optical axis\n",
        "cxy = sp.Symbol('cxy')  # Anisotropic parameter\n",
        "cyx = sp.Symbol('cyx')  # Anisotropic parameter\n",
        "Dc = sp.Symbol('Dc')  # Difference in anisotropic parameters\n",
        "p = sp.pi  # Pi constant\n",
        "ez = sp.Symbol('ez')  # Parallel to the optical axis\n",
        "l = sp.Symbol('l')  # Wavelength\n",
        "\n",
        "# Equation 3.1\n",
        "g0_31 = (h_bar * k0) / (2 * V)\n",
        "\n",
        "# Equation 3.2\n",
        "k_ez = k0 * n0\n",
        "\n",
        "# Equation 3.3\n",
        "# Note: The sum over k0 from -oo to +oo may require an appropriate physical or mathematical limit to be set.\n",
        "g0_33 = h_bar * sp.Sum(k0 * (k0 * n0 + k0 * n0), (k0, -sp.oo, sp.oo)) / (2 * V)\n",
        "\n",
        "# Equation 3.4\n",
        "n_plus_k1 = n0 + cxy\n",
        "n_minus_k1 = n0 - cxy\n",
        "n_plus_k2 = n0 - cyx\n",
        "n_minus_k2 = n0 + cyx\n",
        "\n",
        "# Equation 3.5\n",
        "# Note: The sum over k0 from -oo to +oo may require an appropriate physical or mathematical limit to be set.\n",
        "g0_35 = (Dc * h_bar * sp.Sum(k0 * k0, (k0, -sp.oo, sp.oo))) / V\n",
        "\n",
        "# Equation 3.6\n",
        "# Note: The integral from 0 to +oo may require an appropriate physical or mathematical limit to be set.\n",
        "g0_36 = (h_bar * Dc * sp.integrate(k0**3, (k0, 0, sp.oo))) / (2 * p**2)\n",
        "\n",
        "# Equation 3.7\n",
        "g0_37 = (h_bar * u**4 * Dc) / (8 * p**2 * c**3)\n",
        "\n",
        "# Equation 4.1\n",
        "Dpk = h_bar * k0 * (n_plus_k1 + n_minus_k1) * ez / 2\n",
        "\n",
        "# Equation 4.2\n",
        "Pk = (h_bar * k0 * c * (n_minus_k1**2 - n_plus_k1**2)) / (2 * V * n_plus_k1 * n_minus_k1)\n",
        "\n",
        "# Equation 4.3\n",
        "# Note: The sum over k0 from -oo to +oo may require an appropriate physical or mathematical limit to be set.\n",
        "P0 = (2 * Dc * h_bar * sp.Sum(k0 * k0, (k0, -sp.oo, sp.oo))) / (V * c * n0)\n",
        "\n",
        "# Equation 4.4\n",
        "P0 = (4 * p**2 * Dc * h_bar) / (c * n0 * l**4)\n"
      ]
    },
    {
      "cell_type": "markdown",
      "source": [
        "# Rest of the code remains same...\n",
        "The other variables are context-dependent and harder to assign typical values or ranges to without more information. For instance, cxy, cyx, and Dc would depend on the specific anisotropic material being studied. This is just a rough example to give you an idea of how to add physical limits or constraints to your code. The specifics will depend on your exact use case.\n",
        "\n",
        "For instance, the summations and integrals over wavenumbers from negative to positive infinity are mathematically tractable in many physical problems, but in a computational context, you might limit the range to physically relevant wavenumbers.\n",
        "\n",
        "It should also be noted that, in practice, calculations involving quantum mechanics often use natural units (where h_bar = c = 1), which simplifies the equations."
      ],
      "metadata": {
        "id": "fKd6Z-ODbkE6"
      }
    }
  ]
}