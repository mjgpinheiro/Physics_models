{
  "nbformat": 4,
  "nbformat_minor": 0,
  "metadata": {
    "colab": {
      "provenance": [],
      "authorship_tag": "ABX9TyPy3zl2B6Sc5Qe6w/gm2r5q",
      "include_colab_link": true
    },
    "kernelspec": {
      "name": "python3",
      "display_name": "Python 3"
    },
    "language_info": {
      "name": "python"
    }
  },
  "cells": [
    {
      "cell_type": "markdown",
      "metadata": {
        "id": "view-in-github",
        "colab_type": "text"
      },
      "source": [
        "<a href=\"https://colab.research.google.com/github/mjgpinheiro/Physics_models/blob/main/VacuumExpectationValue1.ipynb\" target=\"_parent\"><img src=\"https://colab.research.google.com/assets/colab-badge.svg\" alt=\"Open In Colab\"/></a>"
      ]
    },
    {
      "cell_type": "code",
      "execution_count": null,
      "metadata": {
        "colab": {
          "base_uri": "https://localhost:8080/"
        },
        "id": "OO0_nKKQfm5L",
        "outputId": "d5b1bae3-75d1-4f41-cadc-e8605a66365f"
      },
      "outputs": [
        {
          "output_type": "stream",
          "name": "stdout",
          "text": [
            "The vacuum contribution to the momentum density of the magnetoelectric material is:\n",
            "oo*hbar*sqrt(Abs(nkl_x)**2 + Abs(2*nkl_x - nkl_y)**2 + Abs(nkl_x - nkl_y + nkl_z)**2)\n"
          ]
        }
      ],
      "source": [
        "#!pip install simpy\n",
        "from sympy import Symbol, Eq, Matrix, integrate, oo, pi, solve\n",
        "\n",
        "# Step 1: Expectation value for the momentum density g0 of the vacuum\n",
        "V, hbar = Symbol('V'), Symbol('hbar')\n",
        "kl, k = Symbol('kl'), Matrix([Symbol('kx'), Symbol('ky'), Symbol('kz')])\n",
        "g0 = 1/V * (1/2) * hbar * k.norm()\n",
        "\n",
        "# Step 2: Dispersion relation for the magnetoelectric medium\n",
        "nkl, ez = Matrix([Symbol('nkl_x'), Symbol('nkl_y'), Symbol('nkl_z')]), Matrix([Symbol('ez_x'), Symbol('ez_y'), Symbol('ez_z')])\n",
        "k0 = Symbol('k0')\n",
        "dispersion_relation = Eq(k.dot(ez), k0 * nkl.norm())\n",
        "\n",
        "# Solve dispersion relation for k\n",
        "k_sol = solve(dispersion_relation, k)[0]\n",
        "\n",
        "# Step 3: Express g0 in terms of anisotropic indices\n",
        "Dc = Symbol('Dc')\n",
        "nkl_dot = nkl.dot(Matrix([1, -1, 0]))\n",
        "nkl_dot_matrix = Matrix([nkl_dot, nkl_dot, nkl_dot])\n",
        "g0_anisotropic = 1/V * (1/2) * hbar * k0 * (nkl + nkl_dot_matrix).norm()\n",
        "g0_anisotropic = g0_anisotropic.subs(k, k_sol)\n",
        "\n",
        "# Step 4: Perform integration for g0\n",
        "k_mag = Symbol('k_mag')\n",
        "g0_integral = integrate(k_mag**3, (k_mag, 0, oo))\n",
        "\n",
        "# Step 5: Final result for g0\n",
        "g0_final = g0_anisotropic.subs(k0, V/(8*pi**3) * g0_integral).subs(nkl, Matrix([Symbol('n0_x'), Symbol('n0_y'), Symbol('n0_z')]))\n",
        "\n",
        "# Printing the final result\n",
        "print(\"The vacuum contribution to the momentum density of the magnetoelectric material is:\")\n",
        "print(g0_final)\n",
        "\n"
      ]
    }
  ]
}