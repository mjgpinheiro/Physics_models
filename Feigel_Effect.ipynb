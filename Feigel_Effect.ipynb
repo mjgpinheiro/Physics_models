{
  "nbformat": 4,
  "nbformat_minor": 0,
  "metadata": {
    "colab": {
      "provenance": [],
      "authorship_tag": "ABX9TyN00Gam/FRsuAzoxTuw4/x1",
      "include_colab_link": true
    },
    "kernelspec": {
      "name": "python3",
      "display_name": "Python 3"
    },
    "language_info": {
      "name": "python"
    }
  },
  "cells": [
    {
      "cell_type": "markdown",
      "metadata": {
        "id": "view-in-github",
        "colab_type": "text"
      },
      "source": [
        "<a href=\"https://colab.research.google.com/github/mjgpinheiro/Physics_models/blob/main/Feigel_Effect.ipynb\" target=\"_parent\"><img src=\"https://colab.research.google.com/assets/colab-badge.svg\" alt=\"Open In Colab\"/></a>"
      ]
    },
    {
      "cell_type": "code",
      "execution_count": 6,
      "metadata": {
        "colab": {
          "base_uri": "https://localhost:8080/"
        },
        "id": "SDdqG5bpz18k",
        "outputId": "d7669532-11eb-4e8a-8efe-03305a46b5f6"
      },
      "outputs": [
        {
          "output_type": "stream",
          "name": "stdout",
          "text": [
            "gxM: (-0+0j)\n",
            "Zeta(3): 1.2020569031595942\n",
            "O valor positivo de gxM não indica extração de momentum do vácuo.\n"
          ]
        }
      ],
      "source": [
        "import numpy as np\n",
        "from scipy.special import zeta\n",
        "\n",
        "# Definir constantes\n",
        "a = 0.0001  # Tamanho característico do sistema\n",
        "c = 1.0  # Velocidade da luz\n",
        "\n",
        "# Funções de Green\n",
        "def gyy(kx):\n",
        "    d = np.exp(2 * a) - 1\n",
        "    return (3 * np.cos(kx * a) ** 2) / (16 * a ** 3 * d)\n",
        "\n",
        "def gzx(kx):\n",
        "    d = np.exp(2 * a) - 1\n",
        "    return -np.imag(1j * kx / d)\n",
        "\n",
        "def gzz(kx):\n",
        "    d = np.exp(2 * a) - 1\n",
        "    return -kx ** 2 / (4 * a ** 3 * d)\n",
        "\n",
        "# Cálculo do gxM\n",
        "def calculate_gxM():\n",
        "    integral = 0\n",
        "    for kx in np.linspace(0, np.pi, 1000):\n",
        "        integral += (\n",
        "            1\n",
        "            - (1 + np.tan(kx) ** 2) * np.exp(-2 * a) / (1 - np.exp(-2 * a))\n",
        "        ) * gyy(kx) * np.imag(gzx(kx)) * gzz(kx) * np.exp(1j * kx * a) / (\n",
        "            2 * np.pi\n",
        "        )\n",
        "    return -4 * c * integral\n",
        "\n",
        "gxM = calculate_gxM()\n",
        "print(\"gxM:\", gxM)\n",
        "\n",
        "# Cálculo da Riemann Zeta Function com argumento 3\n",
        "zeta_3 = zeta(3)\n",
        "print(\"Zeta(3):\", zeta_3)\n",
        "\n",
        "# Análise e conclusões\n",
        "if gxM < 0:\n",
        "    conclusion = \"O valor negativo de gxM indica a extração de momentum do vácuo.\"\n",
        "else:\n",
        "    conclusion = \"O valor positivo de gxM não indica extração de momentum do vácuo.\"\n",
        "\n",
        "print(conclusion)\n"
      ]
    }
  ]
}