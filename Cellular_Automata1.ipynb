{
  "nbformat": 4,
  "nbformat_minor": 0,
  "metadata": {
    "colab": {
      "provenance": [],
      "authorship_tag": "ABX9TyNOXxUvu8sbVtmJ24fp1TOf",
      "include_colab_link": true
    },
    "kernelspec": {
      "name": "python3",
      "display_name": "Python 3"
    },
    "language_info": {
      "name": "python"
    }
  },
  "cells": [
    {
      "cell_type": "markdown",
      "metadata": {
        "id": "view-in-github",
        "colab_type": "text"
      },
      "source": [
        "<a href=\"https://colab.research.google.com/github/mjgpinheiro/Physics_models/blob/main/Cellular_Automata1.ipynb\" target=\"_parent\"><img src=\"https://colab.research.google.com/assets/colab-badge.svg\" alt=\"Open In Colab\"/></a>"
      ]
    },
    {
      "cell_type": "code",
      "execution_count": 38,
      "metadata": {
        "colab": {
          "base_uri": "https://localhost:8080/",
          "height": 380
        },
        "id": "sx-udGbrHdUQ",
        "outputId": "7d2e79d1-aa44-40c0-c769-c2b81c3d4f7a"
      },
      "outputs": [
        {
          "output_type": "error",
          "ename": "NameError",
          "evalue": "ignored",
          "traceback": [
            "\u001b[0;31m---------------------------------------------------------------------------\u001b[0m",
            "\u001b[0;31mNameError\u001b[0m                                 Traceback (most recent call last)",
            "\u001b[0;32m<ipython-input-38-55ab1eeacf1e>\u001b[0m in \u001b[0;36m<module>\u001b[0;34m\u001b[0m\n\u001b[1;32m     53\u001b[0m \u001b[0menv_states\u001b[0m \u001b[0;34m=\u001b[0m \u001b[0;34m[\u001b[0m\u001b[0menv_state\u001b[0m\u001b[0;34m]\u001b[0m\u001b[0;34m\u001b[0m\u001b[0;34m\u001b[0m\u001b[0m\n\u001b[1;32m     54\u001b[0m \u001b[0;32mfor\u001b[0m \u001b[0mi\u001b[0m \u001b[0;32min\u001b[0m \u001b[0mrange\u001b[0m\u001b[0;34m(\u001b[0m\u001b[0mnum_iterations\u001b[0m\u001b[0;34m)\u001b[0m\u001b[0;34m:\u001b[0m\u001b[0;34m\u001b[0m\u001b[0;34m\u001b[0m\u001b[0m\n\u001b[0;32m---> 55\u001b[0;31m     \u001b[0morg_state\u001b[0m \u001b[0;34m=\u001b[0m \u001b[0morg_update\u001b[0m\u001b[0;34m(\u001b[0m\u001b[0morg_state\u001b[0m\u001b[0;34m,\u001b[0m \u001b[0menv_state\u001b[0m\u001b[0;34m)\u001b[0m\u001b[0;34m\u001b[0m\u001b[0;34m\u001b[0m\u001b[0m\n\u001b[0m\u001b[1;32m     56\u001b[0m     \u001b[0menv_state\u001b[0m \u001b[0;34m=\u001b[0m \u001b[0menv_update\u001b[0m\u001b[0;34m(\u001b[0m\u001b[0morg_state\u001b[0m\u001b[0;34m,\u001b[0m \u001b[0menv_state\u001b[0m\u001b[0;34m)\u001b[0m\u001b[0;34m\u001b[0m\u001b[0;34m\u001b[0m\u001b[0m\n\u001b[1;32m     57\u001b[0m \u001b[0;34m\u001b[0m\u001b[0m\n",
            "\u001b[0;32m<ipython-input-38-55ab1eeacf1e>\u001b[0m in \u001b[0;36morg_update\u001b[0;34m(org_state, env_state)\u001b[0m\n\u001b[1;32m     24\u001b[0m     \u001b[0;31m# Compute the relative frequencies of each triplet\u001b[0m\u001b[0;34m\u001b[0m\u001b[0;34m\u001b[0m\u001b[0m\n\u001b[1;32m     25\u001b[0m \u001b[0;31m#    freqs = np.sum(triplets == np.array([[0, 0, 0], [0, 1, 0], [1, 1, 0], [1, 1, 1]]), axis=0)\u001b[0m\u001b[0;34m\u001b[0m\u001b[0;34m\u001b[0m\u001b[0m\n\u001b[0;32m---> 26\u001b[0;31m     \u001b[0mfreqs\u001b[0m \u001b[0;34m=\u001b[0m \u001b[0mnp\u001b[0m\u001b[0;34m.\u001b[0m\u001b[0msum\u001b[0m\u001b[0;34m(\u001b[0m\u001b[0;34m[\u001b[0m\u001b[0mnp\u001b[0m\u001b[0;34m.\u001b[0m\u001b[0marray_equal\u001b[0m\u001b[0;34m(\u001b[0m\u001b[0mtriplet\u001b[0m\u001b[0;34m,\u001b[0m \u001b[0mpattern\u001b[0m\u001b[0;34m)\u001b[0m \u001b[0;32mfor\u001b[0m \u001b[0mpattern\u001b[0m \u001b[0;32min\u001b[0m \u001b[0;34m[\u001b[0m\u001b[0;34m[\u001b[0m\u001b[0;36m0\u001b[0m\u001b[0;34m,\u001b[0m \u001b[0;36m0\u001b[0m\u001b[0;34m,\u001b[0m \u001b[0;36m0\u001b[0m\u001b[0;34m]\u001b[0m\u001b[0;34m,\u001b[0m \u001b[0;34m[\u001b[0m\u001b[0;36m0\u001b[0m\u001b[0;34m,\u001b[0m \u001b[0;36m1\u001b[0m\u001b[0;34m,\u001b[0m \u001b[0;36m0\u001b[0m\u001b[0;34m]\u001b[0m\u001b[0;34m,\u001b[0m \u001b[0;34m[\u001b[0m\u001b[0;36m1\u001b[0m\u001b[0;34m,\u001b[0m \u001b[0;36m1\u001b[0m\u001b[0;34m,\u001b[0m \u001b[0;36m0\u001b[0m\u001b[0;34m]\u001b[0m\u001b[0;34m,\u001b[0m \u001b[0;34m[\u001b[0m\u001b[0;36m1\u001b[0m\u001b[0;34m,\u001b[0m \u001b[0;36m1\u001b[0m\u001b[0;34m,\u001b[0m \u001b[0;36m1\u001b[0m\u001b[0;34m]\u001b[0m\u001b[0;34m]\u001b[0m\u001b[0;34m]\u001b[0m\u001b[0;34m,\u001b[0m \u001b[0maxis\u001b[0m\u001b[0;34m=\u001b[0m\u001b[0;36m0\u001b[0m\u001b[0;34m)\u001b[0m\u001b[0;34m\u001b[0m\u001b[0;34m\u001b[0m\u001b[0m\n\u001b[0m\u001b[1;32m     27\u001b[0m \u001b[0;34m\u001b[0m\u001b[0m\n\u001b[1;32m     28\u001b[0m     \u001b[0;31m# Determine which update rule to apply based on the relative frequencies and the environment state\u001b[0m\u001b[0;34m\u001b[0m\u001b[0;34m\u001b[0m\u001b[0m\n",
            "\u001b[0;32m<ipython-input-38-55ab1eeacf1e>\u001b[0m in \u001b[0;36m<listcomp>\u001b[0;34m(.0)\u001b[0m\n\u001b[1;32m     24\u001b[0m     \u001b[0;31m# Compute the relative frequencies of each triplet\u001b[0m\u001b[0;34m\u001b[0m\u001b[0;34m\u001b[0m\u001b[0m\n\u001b[1;32m     25\u001b[0m \u001b[0;31m#    freqs = np.sum(triplets == np.array([[0, 0, 0], [0, 1, 0], [1, 1, 0], [1, 1, 1]]), axis=0)\u001b[0m\u001b[0;34m\u001b[0m\u001b[0;34m\u001b[0m\u001b[0m\n\u001b[0;32m---> 26\u001b[0;31m     \u001b[0mfreqs\u001b[0m \u001b[0;34m=\u001b[0m \u001b[0mnp\u001b[0m\u001b[0;34m.\u001b[0m\u001b[0msum\u001b[0m\u001b[0;34m(\u001b[0m\u001b[0;34m[\u001b[0m\u001b[0mnp\u001b[0m\u001b[0;34m.\u001b[0m\u001b[0marray_equal\u001b[0m\u001b[0;34m(\u001b[0m\u001b[0mtriplet\u001b[0m\u001b[0;34m,\u001b[0m \u001b[0mpattern\u001b[0m\u001b[0;34m)\u001b[0m \u001b[0;32mfor\u001b[0m \u001b[0mpattern\u001b[0m \u001b[0;32min\u001b[0m \u001b[0;34m[\u001b[0m\u001b[0;34m[\u001b[0m\u001b[0;36m0\u001b[0m\u001b[0;34m,\u001b[0m \u001b[0;36m0\u001b[0m\u001b[0;34m,\u001b[0m \u001b[0;36m0\u001b[0m\u001b[0;34m]\u001b[0m\u001b[0;34m,\u001b[0m \u001b[0;34m[\u001b[0m\u001b[0;36m0\u001b[0m\u001b[0;34m,\u001b[0m \u001b[0;36m1\u001b[0m\u001b[0;34m,\u001b[0m \u001b[0;36m0\u001b[0m\u001b[0;34m]\u001b[0m\u001b[0;34m,\u001b[0m \u001b[0;34m[\u001b[0m\u001b[0;36m1\u001b[0m\u001b[0;34m,\u001b[0m \u001b[0;36m1\u001b[0m\u001b[0;34m,\u001b[0m \u001b[0;36m0\u001b[0m\u001b[0;34m]\u001b[0m\u001b[0;34m,\u001b[0m \u001b[0;34m[\u001b[0m\u001b[0;36m1\u001b[0m\u001b[0;34m,\u001b[0m \u001b[0;36m1\u001b[0m\u001b[0;34m,\u001b[0m \u001b[0;36m1\u001b[0m\u001b[0;34m]\u001b[0m\u001b[0;34m]\u001b[0m\u001b[0;34m]\u001b[0m\u001b[0;34m,\u001b[0m \u001b[0maxis\u001b[0m\u001b[0;34m=\u001b[0m\u001b[0;36m0\u001b[0m\u001b[0;34m)\u001b[0m\u001b[0;34m\u001b[0m\u001b[0;34m\u001b[0m\u001b[0m\n\u001b[0m\u001b[1;32m     27\u001b[0m \u001b[0;34m\u001b[0m\u001b[0m\n\u001b[1;32m     28\u001b[0m     \u001b[0;31m# Determine which update rule to apply based on the relative frequencies and the environment state\u001b[0m\u001b[0;34m\u001b[0m\u001b[0;34m\u001b[0m\u001b[0m\n",
            "\u001b[0;31mNameError\u001b[0m: name 'triplet' is not defined"
          ]
        }
      ],
      "source": [
        "import numpy as np\n",
        "import matplotlib.pyplot as plt\n",
        "\n",
        "# Define the update rules for the environment and organism CAs\n",
        "# In this example, we use the rule 150 for both CAs\n",
        "env_rule = 150\n",
        "org_rule = 150\n",
        "\n",
        "# Define the initial state of the organism CA\n",
        "# In this example, we use a random state with 100 cells\n",
        "org_init_state = np.random.randint(2, size=100)\n",
        "\n",
        "# Define the initial state of the environment CA\n",
        "# In this example, we use a repeating pattern with 10 cells\n",
        "env_init_state = np.tile([0, 1], 50)\n",
        "\n",
        "# Define the number of iterations to run\n",
        "num_iterations = 100\n",
        "\n",
        "def org_update(org_state, env_state):\n",
        "    # Define the state-dependent update function for the organism CA\n",
        "    # Bundle the organism CA cells into adjacent triplets\n",
        "    triplets = np.vstack((np.roll(org_state, 1), org_state, np.roll(org_state, -1))).T\n",
        "    # Compute the relative frequencies of each triplet\n",
        "#    freqs = np.sum(triplets == np.array([[0, 0, 0], [0, 1, 0], [1, 1, 0], [1, 1, 1]]), axis=0)\n",
        "    freqs = np.sum([np.array_equal(triplet, pattern) for pattern in [[0, 0, 0], [0, 1, 0], [1, 1, 0], [1, 1, 1]]], axis=0)\n",
        "\n",
        "    # Determine which update rule to apply based on the relative frequencies and the environment state\n",
        "    if env_state[0] == 0:\n",
        "        if np.all(freqs > freqs[1:]):\n",
        "            new_rule = 30\n",
        "        else:\n",
        "            new_rule = 60\n",
        "    else:\n",
        "        if np.all(freqs > freqs[:-1]):\n",
        "            new_rule = 90\n",
        "        else:\n",
        "            new_rule = 120\n",
        "    # Update the organism state using the new rule\n",
        "    return np.array([new_rule >> (2*int(triplet[0]) + int(triplet[1])) & 1 for triplet in triplets])\n",
        "\n",
        "# Define the state-dependent update function for the environment CA\n",
        "def env_update(org_state, env_state):\n",
        "    # Update the environment state using the fixed rule\n",
        "    return np.array([env_rule >> (4*int(env_state[i-1]) + 2*int(env_state[i]) + int(env_state[(i+1)%len(env_state)])) & 1 for i in range(len(env_state))])\n",
        "\n",
        "# Initialize the state of the organism and environment CAs\n",
        "org_state = org_init_state\n",
        "env_state = env_init_state\n",
        "\n",
        "# Run the simulation\n",
        "org_states = [org_state]\n",
        "env_states = [env_state]\n",
        "for i in range(num_iterations):\n",
        "    org_state = org_update(org_state, env_state)\n",
        "    env_state = env_update(org_state, env_state)\n",
        "\n",
        "    org_states.append(org_state)\n",
        "    env_states.append(env_state)\n",
        "\n",
        "# Plot the results\n",
        "fig, ax = plt.subplots(2, 1, figsize=(10, 6))\n",
        "ax[0].imshow(np.array(org_states), cmap='Greys', aspect='auto')\n",
        "ax[0].set_xlabel('Time step')\n",
        "ax[0].set_ylabel('Organism cells')\n",
        "ax[1].imshow(np.array(env_states), cmap='Greys', aspect='auto')\n",
        "ax[1].set_xlabel('Time step')\n",
        "ax[1].set_ylabel('Environment cells')\n",
        "plt.show()\n",
        "\n"
      ]
    }
  ]
}