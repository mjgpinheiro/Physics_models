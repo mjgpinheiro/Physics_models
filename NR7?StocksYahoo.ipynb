{
  "nbformat": 4,
  "nbformat_minor": 0,
  "metadata": {
    "colab": {
      "provenance": [],
      "authorship_tag": "ABX9TyNwX9DZ2745ehvRcbo/SliB",
      "include_colab_link": true
    },
    "kernelspec": {
      "name": "python3",
      "display_name": "Python 3"
    },
    "language_info": {
      "name": "python"
    }
  },
  "cells": [
    {
      "cell_type": "markdown",
      "metadata": {
        "id": "view-in-github",
        "colab_type": "text"
      },
      "source": [
        "<a href=\"https://colab.research.google.com/github/mjgpinheiro/Physics_models/blob/Econophysics/NR7%3FStocksYahoo.ipynb\" target=\"_parent\"><img src=\"https://colab.research.google.com/assets/colab-badge.svg\" alt=\"Open In Colab\"/></a>"
      ]
    },
    {
      "cell_type": "code",
      "source": [
        "# Import required libraries\n",
        "import pandas as pd\n",
        "import numpy as np\n",
        "import yfinance as yf\n",
        "import pandas_ta as ta\n",
        "\n",
        "# Define the stocks to be analyzed\n",
        "stocks = ['AAPL', 'GOOG', 'AMZN', 'MSFT']\n",
        "\n",
        "# Define the start and end date of the historical data\n",
        "start_date = '2010-01-01'\n",
        "end_date = '2023-04-16'\n",
        "\n",
        "# Retrieve historical price data for the stocks from Yahoo Finance\n",
        "prices = pd.DataFrame()\n",
        "for stock in stocks:\n",
        "    try:\n",
        "        data = yf.download(stock, start=start_date, end=end_date)\n",
        "        if 'Close' in data.columns:\n",
        "            prices[stock] = data['Close']\n",
        "        else:\n",
        "            print(f\"Ooops!!! It's True, the series 'Close' was not found in {stock}\")\n",
        "    except Exception as e:\n",
        "        print(f\"Error while fetching data for {stock}: {e}\")\n",
        "\n",
        "# ... (The rest of the code remains the same)\n",
        "\n",
        "# Compute the high-low range for each day over the last seven days\n",
        "highs = prices.rolling(7).max()\n",
        "lows = prices.rolling(7).min()\n",
        "ranges = highs - lows\n",
        "nr7 = ranges.iloc[-1].sort_values()\n",
        "\n",
        "# Calculate additional technical indicators using pandas_ta\n",
        "sma50 = prices.ta.sma(length=50)\n",
        "sma200 = prices.ta.sma(length=200)\n",
        "rsi = prices.ta.rsi(length=14)\n",
        "try:\n",
        "    macd = prices.ta.macd(fast=12, slow=26, signal=9)\n",
        "    macdh = macd['MACDh']\n",
        "except KeyError:\n",
        "    macdh = pd.Series(np.nan, index=prices.index)\n",
        "    print(\"Unable to calculate MACD\")\n",
        "\n",
        "# Perform fundamental analysis using yfinance\n",
        "fundamentals = pd.DataFrame()\n",
        "for stock in stocks:\n",
        "    info = yf.Ticker(stock).info\n",
        "    eps_growth = info.get('forwardEpsGrowth')\n",
        "    pe_ratio = info.get('trailingPE')\n",
        "    roe = info.get('returnOnEquity')\n",
        "    fundamentals.loc['EPS Growth (next year)', stock] = eps_growth\n",
        "    fundamentals.loc['PE Ratio', stock] = pe_ratio\n",
        "    fundamentals.loc['Return on Equity (TTM)', stock] = roe\n",
        "\n",
        "# Combine technical and fundamental analyses to generate a final list of potential trades\n",
        "trades = pd.DataFrame(index=nr7.index)\n",
        "trades['Close'] = prices.iloc[-1]\n",
        "trades['50-day SMA'] = sma50.iloc[-1]\n",
        "trades['200-day SMA'] = sma200.iloc[-1]\n",
        "trades['RSI'] = rsi.iloc[-1]\n",
        "trades['MACD'] = macdh.iloc[-1]\n",
        "trades = trades.join(fundamentals)\n",
        "trades = trades.dropna()\n",
        "\n",
        "# Display the potential trades\n",
        "print(trades)\n"
      ],
      "metadata": {
        "colab": {
          "base_uri": "https://localhost:8080/"
        },
        "id": "MFFy745OaEKh",
        "outputId": "d7072f4e-ef02-4f9d-928a-d29b34073685"
      },
      "execution_count": 11,
      "outputs": [
        {
          "output_type": "stream",
          "name": "stdout",
          "text": [
            "[*********************100%***********************]  1 of 1 completed\n",
            "[*********************100%***********************]  1 of 1 completed\n",
            "[*********************100%***********************]  1 of 1 completed\n",
            "[*********************100%***********************]  1 of 1 completed\n",
            "[X] Ooops!!! It's True, the series 'close' was not found in AAPL, GOOG, AMZN, MSFT\n",
            "[X] Ooops!!! It's True, the series 'close' was not found in AAPL, GOOG, AMZN, MSFT\n",
            "[X] Ooops!!! It's True, the series 'close' was not found in AAPL, GOOG, AMZN, MSFT\n",
            "[X] Ooops!!! It's True, the series 'close' was not found in AAPL, GOOG, AMZN, MSFT\n",
            "Unable to calculate MACD\n",
            "Empty DataFrame\n",
            "Columns: [Close, 50-day SMA, 200-day SMA, RSI, MACD, AAPL, GOOG, AMZN, MSFT]\n",
            "Index: []\n"
          ]
        }
      ]
    }
  ]
}