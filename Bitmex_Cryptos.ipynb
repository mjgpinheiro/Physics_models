{
  "nbformat": 4,
  "nbformat_minor": 0,
  "metadata": {
    "colab": {
      "provenance": [],
      "authorship_tag": "ABX9TyO9BopoM3GoxyCABn3Q21IC",
      "include_colab_link": true
    },
    "kernelspec": {
      "name": "python3",
      "display_name": "Python 3"
    },
    "language_info": {
      "name": "python"
    }
  },
  "cells": [
    {
      "cell_type": "markdown",
      "metadata": {
        "id": "view-in-github",
        "colab_type": "text"
      },
      "source": [
        "<a href=\"https://colab.research.google.com/github/mjgpinheiro/Physics_models/blob/Econophysics/Bitmex_Cryptos.ipynb\" target=\"_parent\"><img src=\"https://colab.research.google.com/assets/colab-badge.svg\" alt=\"Open In Colab\"/></a>"
      ]
    },
    {
      "cell_type": "code",
      "execution_count": null,
      "metadata": {
        "id": "7KAKiDabN_mT"
      },
      "outputs": [],
      "source": [
        "!pip install ta\n",
        "import time\n",
        "import pandas as pd\n",
        "import ta\n",
        "import ccxt\n",
        "\n",
        "# Set up Bitmex client\n",
        "api_key = 'your_api_key'\n",
        "api_secret = 'your_api_secret'\n",
        "exchange = ccxt.bitmex({\n",
        "    'apiKey': api_key,\n",
        "    'secret': api_secret,\n",
        "    'enableRateLimit': True,\n",
        "})\n",
        "\n",
        "# Set up trading parameters\n",
        "symbol = 'ETH/USD'\n",
        "trade_qty = 1 # trade quantity in ETH\n",
        "fee = 0.00075 # Bitmex trading fee\n",
        "\n",
        "# Set up indicator parameters\n",
        "ema1_period = 28\n",
        "ema2_period = 48\n",
        "stoch_rsi_period = 14\n",
        "\n",
        "# Retrieve historical data\n",
        "ohlcvs = exchange.fetch_ohlcv(symbol, timeframe='1h', since=exchange.milliseconds() - 24 * 60 * 60 * 1000)\n",
        "df = pd.DataFrame(ohlcvs, columns=['timestamp', 'open', 'high', 'low', 'close', 'volume'])\n",
        "df.set_index('timestamp', inplace=True)\n",
        "df.index = pd.to_datetime(df.index, unit='ms')\n",
        "df = df.apply(pd.to_numeric)\n",
        "\n",
        "# Create indicators\n",
        "df['ema1'] = ta.trend.ema_indicator(df['close'], window=ema1_period)\n",
        "df['ema2'] = ta.trend.ema_indicator(df['close'], window=ema2_period)\n",
        "df['stoch_rsi'] = ta.momentum.stochrsi(df['close'], window=stoch_rsi_period)\n",
        "\n",
        "# Set up trading variables\n",
        "usd_balance = exchange.fetch_balance()['total']['USD']\n",
        "eth_balance = exchange.fetch_balance()['total']['ETH']\n",
        "usd_trade_size = trade_qty * df.iloc[-1]['close'] # use current close price for trade size\n",
        "eth_trade_size = trade_qty\n",
        "\n",
        "# Trading loop\n",
        "while True:\n",
        "    # Get current price and indicators\n",
        "    ticker = exchange.fetch_ticker(symbol)\n",
        "    current_price = ticker['last']\n",
        "    current_ema1 = df['ema1'].iloc[-1]\n",
        "    current_ema2 = df['ema2'].iloc[-1]\n",
        "    current_stoch_rsi = df['stoch_rsi'].iloc[-1]\n",
        "    \n",
        "    # Buy signal\n",
        "    if current_ema1 > current_ema2 and current_stoch_rsi < 0.8 and usd_balance > usd_trade_size:\n",
        "        order = exchange.create_market_buy_order(symbol, eth_trade_size)\n",
        "        usd_balance = exchange.fetch_balance()['total']['USD']\n",
        "        eth_balance = exchange.fetch_balance()['total']['ETH']\n",
        "        print(f'Bought {eth_trade_size} ETH at {current_price} USD')\n",
        "    \n",
        "    # Sell signal\n",
        "    elif current_ema1 < current_ema2 and current_stoch_rsi > 0.2 and eth_balance > eth_trade_size:\n",
        "        order = exchange.create_market_sell_order(symbol, eth_trade_size)\n",
        "        usd_balance = exchange.fetch_balance()['total']['USD']\n",
        "        eth_balance = exchange.fetch_balance()['total']['ETH']\n",
        "        print(f'Sold {eth_trade_size} ETH at {current_price} USD')\n",
        "    \n",
        "    time.sleep(60) # wait for 1 minute before next iteration\n"
      ]
    },
    {
      "cell_type": "markdown",
      "source": [
        "The strategy of this code is a simple moving average crossover strategy with a momentum filter using the Stochastic RSI indicator. The idea is to buy when the short-term exponential moving average (EMA1) crosses above the longer-term exponential moving average (EMA2) and the Stochastic RSI is below 0.8, and to sell when EMA1 crosses below EMA2 and the Stochastic RSI is above 0.2. The code uses hourly candlestick data to generate trading signals and trades the ETH/USDT pair on the Binance exchange."
      ],
      "metadata": {
        "id": "RNMrIpjKOWF0"
      }
    }
  ]
}