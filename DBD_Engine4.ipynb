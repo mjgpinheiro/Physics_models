{
  "nbformat": 4,
  "nbformat_minor": 0,
  "metadata": {
    "colab": {
      "provenance": [],
      "authorship_tag": "ABX9TyNVsis4jSOga7snQOh429KU"
    },
    "kernelspec": {
      "name": "python3",
      "display_name": "Python 3"
    },
    "language_info": {
      "name": "python"
    }
  },
  "cells": [
    {
      "cell_type": "code",
      "execution_count": 14,
      "metadata": {
        "colab": {
          "base_uri": "https://localhost:8080/",
          "height": 552
        },
        "id": "n6nr77lIaYAn",
        "outputId": "da190404-3f81-4bc9-c948-06f936d0df5d"
      },
      "outputs": [
        {
          "output_type": "display_data",
          "data": {
            "text/plain": [
              "<Figure size 432x288 with 1 Axes>"
            ],
            "image/png": "[encoded data removed]"
          },
          "metadata": {
            "needs_background": "light"
          }
        },
        {
          "output_type": "display_data",
          "data": {
            "text/plain": [
              "<Figure size 432x288 with 1 Axes>"
            ],
            "image/png": "[encoded data removed]"
          },
          "metadata": {
            "needs_background": "light"
          }
        }
      ],
      "source": [
        "import numpy as np\n",
        "import matplotlib.pyplot as plt\n",
        "from scipy.integrate import odeint\n",
        "\n",
        "# Simulation parameters\n",
        "f = 10000  # Frequency (Hz)\n",
        "E_rms = np.linspace(500, 5000, 10) / (np.sqrt(2) * np.pi * 0.1)  # Root mean square electric field (V/m)\n",
        "L = 1  # Length of discharge (m)\n",
        "d = 0.1  # Distance between electrodes (m)\n",
        "W = 0.1  # Width of electrodes (m)\n",
        "A = L * W  # Surface area of electrodes (m^2)\n",
        "mu_0 = 4 * np.pi * 10**(-7)  # Permeability of free space (H/m)\n",
        "epsilon_0 = 8.854 * 10**(-12)  # Permittivity of free space (F/m)\n",
        "epsilon_r = 4  # Relative permittivity of dielectric material\n",
        "sigma = 10**(-5)  # Conductivity of dielectric material (S/m)\n",
        "ec = 1.6e-19 # Elementary charge (C)\n",
        "na=1.e21  #\n",
        "\n",
        "# Constants for kinetic reactions\n",
        "T_e = 1.5  # Electron temperature (eV)\n",
        "T_g = 300  # Gas temperature (K)\n",
        "m_e = 9.11e-31  # Electron mass (kg)\n",
        "m_g = 28 * 1.66e-27  # Molecular nitrogen mass (kg)\n",
        "h = 6.626e-34  # Planck's constant (J s)\n",
        "k_B = 1.38e-23  # Boltzmann's constant (J/K)\n",
        "nu_ion = 1e15 * np.exp(-15.6 / T_e)  # Ionization rate coefficient (m^3/s)\n",
        "nu_exc = 5.5e9 * np.exp(-11.7 / T_e)  # Excitation rate coefficient (m^3/s)\n",
        "nu_att = 2.3e-14 * (300 / T_e)**0.7  # Attachment rate coefficient (m^3/s)\n",
        "\n",
        "def ionization_rate(T_e):\n",
        "    \"\"\"\n",
        "    Calculates the electron-ionization rate coefficient as a function of electron temperature.\n",
        "    \"\"\"\n",
        "    E_ion = 15.6  # Ionization energy of nitrogen (eV)\n",
        "    alpha = 1.6e-19 * np.sqrt(E_ion / (2 * np.pi * m_e)) / h**3\n",
        "    return alpha * (T_e / E_ion)**0.5 * np.exp(-E_ion / T_e)\n",
        "\n",
        "def excitation_rate(T_e):\n",
        "    \"\"\"\n",
        "    Calculates the electron-excitation rate coefficient as a function of electron temperature.\n",
        "    \"\"\"\n",
        "    E_exc = 11.7  # Excitation energy of nitrogen (eV)\n",
        "    alpha = 8.5e-20 * np.sqrt(E_exc / (2 * np.pi * m_e)) / h**3\n",
        "    return alpha * np.exp(-E_exc / T_e)\n",
        "\n",
        "def attachment_rate(T_e):\n",
        "    \"\"\"\n",
        "    Calculates the electron-attachment rate coefficient as a function of electron temperature.\n",
        "    \"\"\"\n",
        "    alpha = 4.4e-31 * np.sqrt(T_e) / m_g**0.5\n",
        "    beta = 1.8e-17 * (T_e / 300)**(-0.7)\n",
        "    return alpha + beta\n",
        "\n",
        "Q_total = []\n",
        "v_gas = []\n",
        "\n",
        "for E in E_rms:\n",
        "    V = np.sqrt(2) * np.pi * 0.1 * E * L\n",
        "\n",
        "    def electric_field(x, t):\n",
        "       if 0 <= x <= d:\n",
        "         return E * np.sin(2 * np.pi * f * t + 2 * np.pi * x / d)\n",
        "       elif d < x <= L:\n",
        "         return E * np.sin(2 * np.pi * f * t + 2 * np.pi * (L - x) / d)\n",
        "       else:\n",
        "         return 0\n",
        "\n",
        "    def charge_density(x, t):\n",
        "        return sigma * electric_field(x, t) / (2 * epsilon_0 * epsilon_r)\n",
        "\n",
        "    def dbd_ode(y, x, t):\n",
        "        V, Q = y\n",
        "        dVdx = -charge_density(x, t) / epsilon_0\n",
        "        dQdx = sigma * A * electric_field(x, t)\n",
        "    \n",
        "# Kinetic reactions due to electron impact\n",
        "        alpha = 0.01  # Ionization rate coefficient (m^3/s)\n",
        "        beta = 1e-4  # Recombination rate coefficient (m^3/s)\n",
        "        ne = Q / (epsilon_0 * A * L)  # Electron density (m^-3)\n",
        "        ni = ne / 100  # Ion density assuming ionization level of 1%\n",
        "        nea = 0.5*ne  # Density of electrons in the first excited state\n",
        "        nid = 0.1*ni  # Density of ions in the second excited state\n",
        "        pid = 0.2*ni  # Density of ions in the first excited state\n",
        "        dnea = alpha*ne*ni - beta*nea  # Rate of change of density of electrons in the first excited state\n",
        "        dnid = alpha*ni*nea - beta*nid  # Rate of change of density of ions in the second excited state\n",
        "        dpid = alpha*ni*na - beta*pid  # Rate of change of density of ions in the first excited state\n",
        "        dQdx += ec*(alpha * ne * ni - beta * ni**2)\n",
        "    \n",
        "        return [dVdx, dQdx]\n",
        "\n",
        "    y0 = [0, 0]\n",
        "    x = np.linspace(0, L, 1000)\n",
        "    t = np.linspace(0, 1 / f, 1000)\n",
        "\n",
        "    sol = odeint(dbd_ode, y0, x, args=(t[0],))\n",
        "\n",
        "    V = sol[:, 0]\n",
        "    Q = sol[:, 1]\n",
        "\n",
        "# Calculate charge accumulation on dielectric surface\n",
        "    Q_surf = ec*np.sqrt(2 * epsilon_r * epsilon_0 * np.abs(V) * E * W)\n",
        "\n",
        "#  Add charge to total\n",
        "    Q_total.append(np.trapz(Q_surf, x))\n",
        "\n",
        "for i in range(len(Q_total)):\n",
        "    v = (Q_total[-1]/(ec*A)) * (mu_0/(2*np.pi)) * np.log((2*L)/(d))\n",
        "    v_gas.append(v)\n",
        "     \n",
        "# Plot total charge deposited versus applied voltage\n",
        "plt.plot(E_rms * np.sqrt(2) * np.pi * 0.1, Q_total)\n",
        "plt.xlabel('Applied voltage (V)')\n",
        "plt.ylabel('Total charge deposited (C/m)')\n",
        "plt.show()\n",
        "\n",
        "# Plot gas speed versus total charge\n",
        "plt.plot(Q_total, v_gas)\n",
        "plt.ylabel('Gas Speed (m/s)')\n",
        "plt.xlabel('Total charge deposited (C/m)')\n",
        "plt.show()"
      ]
    }
  ]
}