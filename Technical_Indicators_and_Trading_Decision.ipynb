{
  "nbformat": 4,
  "nbformat_minor": 0,
  "metadata": {
    "colab": {
      "provenance": [],
      "authorship_tag": "ABX9TyPoviB+sZyEKDbTRpuCh1uK",
      "include_colab_link": true
    },
    "kernelspec": {
      "name": "python3",
      "display_name": "Python 3"
    },
    "language_info": {
      "name": "python"
    }
  },
  "cells": [
    {
      "cell_type": "markdown",
      "metadata": {
        "id": "view-in-github",
        "colab_type": "text"
      },
      "source": [
        "<a href=\"https://colab.research.google.com/github/mjgpinheiro/Physics_models/blob/Econophysics/Technical_Indicators_and_Trading_Decision.ipynb\" target=\"_parent\"><img src=\"https://colab.research.google.com/assets/colab-badge.svg\" alt=\"Open In Colab\"/></a>"
      ]
    },
    {
      "cell_type": "code",
      "source": [
        "# Import necessary libraries\n",
        "import pandas as pd\n",
        "from ta.momentum import RSIIndicator\n",
        "from ta.volatility import BollingerBands\n",
        "from sklearn.ensemble import RandomForestClassifier\n",
        "from sklearn.model_selection import train_test_split\n",
        "from sklearn.metrics import classification_report\n",
        "from yfinance import download\n",
        "\n",
        "# Download historical data for AAPL stock\n",
        "df = download('AAPL', start='2010-01-01', end='2023-06-17')\n",
        "\n",
        "# Calculate the Bollinger Bands\n",
        "bb = BollingerBands(close=df['Close'], window=20, window_dev=2)\n",
        "df['bb_bbm'] = bb.bollinger_mavg()\n",
        "df['bb_bbh'] = bb.bollinger_hband()\n",
        "df['bb_bbl'] = bb.bollinger_lband()\n",
        "\n",
        "# Calculate the RSI\n",
        "rsi = RSIIndicator(close=df['Close'], window=14)\n",
        "df['rsi'] = rsi.rsi()\n",
        "\n",
        "# Remove the first rows with missing indicator values\n",
        "df = df.dropna()\n",
        "\n",
        "# Define the target variable\n",
        "df['target'] = df['Close'].shift(-1) > df['Close']\n",
        "df['target'] = df['target'].map({True: 'Buy', False: 'Sell'})\n",
        "\n",
        "# Remove the last row, which has a NaN target\n",
        "df = df[:-1]\n",
        "\n",
        "# Split the data\n",
        "train_size = int(0.8 * df.shape[0])\n",
        "train, test = df.iloc[:train_size], df.iloc[train_size:]\n",
        "\n",
        "# Check if either the training or testing set is empty\n",
        "if train.empty or test.empty:\n",
        "    raise ValueError(\"Insufficient data for training and testing.\")\n",
        "\n",
        "# Select the features\n",
        "features = ['bb_bbm', 'bb_bbh', 'bb_bbl', 'rsi']\n",
        "X_train = train[features]\n",
        "y_train = train['target']\n",
        "X_test = test[features]\n",
        "y_test = test['target']\n",
        "\n",
        "# Create and train the classifier\n",
        "clf = RandomForestClassifier(n_estimators=50, random_state=42)\n",
        "clf.fit(X_train, y_train)\n",
        "\n",
        "# Test the classifier\n",
        "predictions = clf.predict(X_test)\n",
        "print(classification_report(y_test, predictions))\n",
        "\n",
        "# Define the threshold for decision-making\n",
        "threshold = 0.01  # Adjust as needed\n",
        "num_days = 5  # Number of days to make the decision for\n",
        "\n",
        "# Calculate the price change\n",
        "df['price_change'] = df['Close'].shift(-1) - df['Close']\n",
        "\n",
        "# Determine the target (1 for positive change, 0 for non-positive change)\n",
        "df['target'] = np.where(df['price_change'] > 0, 1, 0)\n",
        "\n",
        "# Map the target values to 'Buy' and 'Sell'\n",
        "df['target'] = df['target'].map({1: 'Buy', 0: 'Sell'})\n",
        "\n",
        "# Calculate the predicted price change\n",
        "df['predicted_change'] = clf.predict(df[features])\n",
        "\n",
        "# Shift the predicted_change column by the desired number of days\n",
        "for i in range(1, num_days + 1):\n",
        "    df[f'target_{i}'] = df['predicted_change'].shift(-i)\n",
        "\n",
        "# Determine the decision for each day based on the threshold\n",
        "for i in range(1, num_days + 1):\n",
        "    df[f'decision_{i}'] = df[f'target_{i}'].apply(lambda x: 'Buy' if x == 'Buy' else ('Sell' if x == 'Sell' else 'Hold'))\n",
        "\n",
        "# Print the decisions for each day\n",
        "for i in range(1, num_days + 1):\n",
        "    print(f\"Decision for Day {i}: {df[f'decision_{i}'].iloc[0]}\")\n",
        "\n",
        "# Print the classification report for the first day\n",
        "print(classification_report(df['target'], df['decision_1']))\n",
        "\n",
        "\n"
      ],
      "metadata": {
        "id": "JjqlPDbKBeUx"
      },
      "execution_count": null,
      "outputs": []
    },
    {
      "cell_type": "markdown",
      "source": [
        "\n",
        "Description:\n",
        "\n",
        "The \"Technical_Indicators_and_Trading_Decision.ipynb\" code is a Jupyter Notebook that performs the following tasks:\n",
        "\n",
        "Data Retrieval: It retrieves historical stock price data from Yahoo Finance for a specified ticker symbol.\n",
        "\n",
        "Technical Indicator Calculation: It calculates various technical indicators, such as Relative Strength Index (RSI), Bollinger Bands, and Money Flow Index (MFI), using the Ta-Lib library and custom functions.\n",
        "\n",
        "Data Preprocessing: It preprocesses the data by removing any rows with missing values and selecting the relevant features for training the machine learning model.\n",
        "\n",
        "Machine Learning Model Training: It trains a Random Forest Classifier using the selected features and the target variable, which represents the predicted change in stock price.\n",
        "\n",
        "Model Evaluation: It evaluates the performance of the trained model using precision, recall, and F1-score metrics. It also provides a classification report showing the performance for each class (Buy and Sell).\n",
        "\n",
        "Trading Decision Generation: It generates trading decisions for a specified number of days into the future based on the predicted change in stock price. The decisions are mapped to 'Buy', 'Sell', or 'Hold' based on a predefined threshold.\n",
        "\n",
        "Decision Evaluation: It evaluates the performance of the trading decisions using precision, recall, and F1-score metrics. It provides a classification report showing the performance for each class (Buy, Sell, and Hold).\n",
        "\n",
        "The code aims to assist in generating trading decisions based on technical indicators and evaluating their performance."
      ],
      "metadata": {
        "id": "4ch3NxHGIG6Z"
      }
    }
  ]
}