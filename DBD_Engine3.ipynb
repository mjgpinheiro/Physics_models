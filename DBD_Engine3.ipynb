{
  "nbformat": 4,
  "nbformat_minor": 0,
  "metadata": {
    "colab": {
      "provenance": [],
      "authorship_tag": "ABX9TyO9Dm+VKcgwSEZdnoUcaJFQ",
      "include_colab_link": true
    },
    "kernelspec": {
      "name": "python3",
      "display_name": "Python 3"
    },
    "language_info": {
      "name": "python"
    }
  },
  "cells": [
    {
      "cell_type": "markdown",
      "metadata": {
        "id": "view-in-github",
        "colab_type": "text"
      },
      "source": [
        "<a href=\"https://colab.research.google.com/github/mjgpinheiro/Physics_models/blob/main/DBD_Engine3.ipynb\" target=\"_parent\"><img src=\"https://colab.research.google.com/assets/colab-badge.svg\" alt=\"Open In Colab\"/></a>"
      ]
    },
    {
      "cell_type": "code",
      "execution_count": 31,
      "metadata": {
        "colab": {
          "base_uri": "https://localhost:8080/",
          "height": 621
        },
        "id": "YBKre0P1nY07",
        "outputId": "968ac6e7-48a3-4453-e8a7-b4862e5c2123"
      },
      "outputs": [
        {
          "output_type": "stream",
          "name": "stderr",
          "text": [
            "<ipython-input-31-7efff3dfffd3>:57: RuntimeWarning: overflow encountered in multiply\n",
            "  dEe_dt -= nu_en*(Te - T)\n",
            "<ipython-input-31-7efff3dfffd3>:58: RuntimeWarning: invalid value encountered in add\n",
            "  Te += dt*dEe_dt/(3/2*n*kb)\n"
          ]
        },
        {
          "output_type": "display_data",
          "data": {
            "text/plain": [
              "<Figure size 432x288 with 1 Axes>"
            ],
            "image/png": "[encoded data removed]"
          },
          "metadata": {
            "needs_background": "light"
          }
        },
        {
          "output_type": "display_data",
          "data": {
            "text/plain": [
              "<Figure size 432x288 with 1 Axes>"
            ],
            "image/png": "[encoded data removed]"
          },
          "metadata": {
            "needs_background": "light"
          }
        }
      ],
      "source": [
        "import numpy as np\n",
        "import matplotlib.pyplot as plt\n",
        "\n",
        "# Constants\n",
        "e = 1.602e-19  # electron charge (C)\n",
        "m = 9.109e-31  # electron mass (kg)\n",
        "kb = 1.381e-23  # Boltzmann constant (J/K)\n",
        "T = 300  # temperature (K)\n",
        "dx = 1e-3  # spatial step size (m)\n",
        "dt = 1e-10  # time step size (s)\n",
        "tmax = 1e-6  # maximum simulation time (s)\n",
        "\n",
        "# Grid\n",
        "nx = 1001\n",
        "x = np.linspace(0, (nx-1)*dx, nx)\n",
        "\n",
        "# Initial conditions\n",
        "nm0=1     # initial momentum (kg.m/s)\n",
        "n0 = 1e25  # initial electron density (1/m^3)\n",
        "J0 = 0  # initial current density (A/m^2)\n",
        "E0 = 0  # initial electric field (V/m)\n",
        "\n",
        "nm= np.ones(nx+2)*nm0\n",
        "n = np.ones(nx)*n0\n",
        "J = np.ones(nx)*J0\n",
        "E = np.ones(nx)*E0\n",
        "\n",
        "# Calculate electron velocity\n",
        "Te = T*e/kb  # electron temperature (K)\n",
        "ve = np.sqrt((8*kb*Te)/(np.pi*m))\n",
        "\n",
        "# Calculate electron collision parameters\n",
        "nu_en = 3.66e6*n*np.sqrt(Te)*1e-20  # electron-neutral collision frequency (1/s)\n",
        "lambda_e = ve/nu_en  # electron mean free path (m)\n",
        "\n",
        "# Time loop\n",
        "t = 0\n",
        "while t < tmax:\n",
        "    # Calculate electric field\n",
        "    E = -np.gradient(E, dx)\n",
        "\n",
        "    # Calculate electron velocity\n",
        "    Ee = np.cumsum(E)*dx\n",
        "    Ee -= Ee.mean()\n",
        "    ve = ve + dt*(-ve/lambda_e + e*Ee/m)\n",
        "\n",
        "    # Calculate momentum balance\n",
        "    nm[1:-1] += dt*(-np.gradient(J, dx)/e)\n",
        "\n",
        "    # Calculate species balance\n",
        " #   n[1:-1] += dt*(-n[1:-1]*np.gradient(ve, dx))\n",
        "#    n[1:-1] += dt*(-n[1:-1]*np.gradient(ve, dx))\n",
        "    n[1:-1] += dt*(-n[1:-1]*np.gradient(ve[1:-1], dx))\n",
        "\n",
        "    # Calculate electron energy balance\n",
        "    dEe_dt = e*Ee*J/m\n",
        "    dEe_dt -= nu_en*(Te - T)\n",
        "    Te += dt*dEe_dt/(3/2*n*kb)\n",
        "\n",
        "    # Calculate electric current\n",
        "    J[1:-1] = e*n[1:-1]*ve[1:-1] - e*n[1:-1]*lambda_e[1:-1]*E[1:-1]/2\n",
        "\n",
        "    # Increment time\n",
        "    t += dt\n",
        "\n",
        "plt.plot(x, n)\n",
        "plt.xlabel('Position (m)')\n",
        "plt.ylabel('Electron density (1/m^3)')\n",
        "plt.show()\n",
        "\n",
        "# Plot results\n",
        "plt.figure()\n",
        "plt.plot(x, n/n0, label='Number density')\n",
        "plt.xlabel('Distance (m)')\n",
        "plt.ylabel('Number density (normalized)')\n",
        "plt.legend()\n",
        "\n",
        "plt.show()\n"
      ]
    }
  ]
}