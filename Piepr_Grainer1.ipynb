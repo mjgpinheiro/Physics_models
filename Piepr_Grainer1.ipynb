{
  "nbformat": 4,
  "nbformat_minor": 0,
  "metadata": {
    "colab": {
      "provenance": [],
      "authorship_tag": "ABX9TyOWPb5XlvMKGO6SosK3fUn6",
      "include_colab_link": true
    },
    "kernelspec": {
      "name": "python3",
      "display_name": "Python 3"
    },
    "language_info": {
      "name": "python"
    }
  },
  "cells": [
    {
      "cell_type": "markdown",
      "metadata": {
        "id": "view-in-github",
        "colab_type": "text"
      },
      "source": [
        "<a href=\"https://colab.research.google.com/github/mjgpinheiro/Physics_models/blob/main/Piepr_Grainer1.ipynb\" target=\"_parent\"><img src=\"https://colab.research.google.com/assets/colab-badge.svg\" alt=\"Open In Colab\"/></a>"
      ]
    },
    {
      "cell_type": "code",
      "execution_count": null,
      "metadata": {
        "colab": {
          "base_uri": "https://localhost:8080/"
        },
        "id": "krAmB0RxUzM8",
        "outputId": "560fb1b5-5e5e-4ff4-a2a0-7b0439482f9b"
      },
      "outputs": [
        {
          "output_type": "stream",
          "name": "stderr",
          "text": [
            "<ipython-input-1-09514a333449>:31: RuntimeWarning: invalid value encountered in sqrt\n",
            "  f = lambda x: np.tan(Ro*np.sqrt(Vo - x**2)/(hbar*c))*k(x)*Ro - np.sqrt((E - m)*(Vo - x**2) - (E + m)*s(x)*np.sqrt(Vo))/(hbar*c)\n",
            "<ipython-input-1-09514a333449>:15: RuntimeWarning: invalid value encountered in sqrt\n",
            "  s = lambda x: np.sqrt(Vo - x**2) if abs(x) <= np.sqrt(Vo) else np.sqrt(x**2 - Vo)\n",
            "<ipython-input-1-09514a333449>:35: RuntimeWarning: invalid value encountered in sqrt\n",
            "  x1 = x0 - f(x0)/((np.tan(Ro*np.sqrt(Vo - x0**2)/(hbar*c)))**2*k(x0)*Ro + s(x0)*np.sqrt(Vo)/(2*x0*(Vo - x0**2)) + (E + m + V(Ro))/(2*hbar*c*np.sqrt((E - m)*(Vo - x0**2) - (E + m)*s(x0)*np.sqrt(Vo))))\n"
          ]
        }
      ],
      "source": [
        "import numpy as np\n",
        "import matplotlib.pyplot as plt\n",
        "\n",
        "# Constants\n",
        "hbar = 1\n",
        "c = 1\n",
        "m = 1\n",
        "\n",
        "# Define the potential\n",
        "Vo = 10\n",
        "Ro = 1\n",
        "V = lambda r: Vo if r < Ro else 0\n",
        "\n",
        "# Define the wavefunctions\n",
        "s = lambda x: np.sqrt(Vo - x**2) if abs(x) <= np.sqrt(Vo) else np.sqrt(x**2 - Vo)\n",
        "k = lambda E: np.sqrt((E - m)*Vo - (E + m)*s(np.sqrt(Vo))/(s(np.sqrt(Vo)) + np.sqrt(E - m)))\n",
        "C1 = lambda E: 1/np.sqrt(2*(E + m)*(E - m - V(0)))\n",
        "C2 = lambda E: C1(E)*(E + m)/(E - m - V(0))\n",
        "u1 = lambda r, x: C1(x)*np.cos(k(x)*r)\n",
        "w1 = lambda r, x: C1(x)*s(k(x))*np.sin(k(x)*r)\n",
        "u2 = lambda r, E: C2(E)*(1 + (E - m - V(r))/(E + m + V(r)))*np.exp(-k(E)*r)\n",
        "w2 = lambda r, E: C2(E)*(1 - (E - m - V(r))/(E + m + V(r)))*np.exp(k(E)*r)\n",
        "\n",
        "# Define the energy values to calculate\n",
        "energies = np.linspace(-m, m, 101)\n",
        "\n",
        "# Calculate the binding energies\n",
        "binding_energies = []\n",
        "for E in energies:\n",
        "    # Define the function to find the zero of\n",
        "    f = lambda x: np.tan(Ro*np.sqrt(Vo - x**2)/(hbar*c))*k(x)*Ro - np.sqrt((E - m)*(Vo - x**2) - (E + m)*s(x)*np.sqrt(Vo))/(hbar*c)\n",
        "    # Find the root using Newton-Raphson method\n",
        "    x0 = np.sqrt(Vo)\n",
        "    while True:\n",
        "        x1 = x0 - f(x0)/((np.tan(Ro*np.sqrt(Vo - x0**2)/(hbar*c)))**2*k(x0)*Ro + s(x0)*np.sqrt(Vo)/(2*x0*(Vo - x0**2)) + (E + m + V(Ro))/(2*hbar*c*np.sqrt((E - m)*(Vo - x0**2) - (E + m)*s(x0)*np.sqrt(Vo))))\n",
        "        if abs(x1 - x0) < 1e-8:\n",
        "            break\n",
        "        x0 = x1\n",
        "    binding_energies.append(E - Vo - x0**2/(2*m))\n",
        "\n",
        "# Plot the binding energies\n",
        "plt.plot(energies, binding_energies)\n",
        "plt.xlabel('Energy')\n",
        "plt.ylabel('Binding Energy')\n",
        "plt.show()\n"
      ]
    }
  ]
}