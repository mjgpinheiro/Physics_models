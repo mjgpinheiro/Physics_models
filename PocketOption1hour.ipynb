{
  "nbformat": 4,
  "nbformat_minor": 0,
  "metadata": {
    "colab": {
      "provenance": [],
      "authorship_tag": "ABX9TyMXT/ce9CPmUiHpAj/pe8c1",
      "include_colab_link": true
    },
    "kernelspec": {
      "name": "python3",
      "display_name": "Python 3"
    },
    "language_info": {
      "name": "python"
    }
  },
  "cells": [
    {
      "cell_type": "markdown",
      "metadata": {
        "id": "view-in-github",
        "colab_type": "text"
      },
      "source": [
        "<a href=\"https://colab.research.google.com/github/mjgpinheiro/Physics_models/blob/main/PocketOption1hour.ipynb\" target=\"_parent\"><img src=\"https://colab.research.google.com/assets/colab-badge.svg\" alt=\"Open In Colab\"/></a>"
      ]
    },
    {
      "cell_type": "code",
      "execution_count": null,
      "metadata": {
        "colab": {
          "base_uri": "https://localhost:8080/"
        },
        "id": "bNQp55C7wOgi",
        "outputId": "dfef6983-4cef-475a-d6f8-d2fe09e0467c"
      },
      "outputs": [
        {
          "output_type": "stream",
          "name": "stdout",
          "text": [
            "Collecting ta\n",
            "  Downloading ta-0.11.0.tar.gz (25 kB)\n",
            "  Preparing metadata (setup.py) ... \u001b[?25l\u001b[?25hdone\n",
            "Requirement already satisfied: yfinance in /usr/local/lib/python3.10/dist-packages (0.2.43)\n",
            "Requirement already satisfied: numpy in /usr/local/lib/python3.10/dist-packages (from ta) (1.26.4)\n",
            "Requirement already satisfied: pandas in /usr/local/lib/python3.10/dist-packages (from ta) (2.1.4)\n",
            "Requirement already satisfied: requests>=2.31 in /usr/local/lib/python3.10/dist-packages (from yfinance) (2.32.3)\n",
            "Requirement already satisfied: multitasking>=0.0.7 in /usr/local/lib/python3.10/dist-packages (from yfinance) (0.0.11)\n",
            "Requirement already satisfied: lxml>=4.9.1 in /usr/local/lib/python3.10/dist-packages (from yfinance) (4.9.4)\n",
            "Requirement already satisfied: platformdirs>=2.0.0 in /usr/local/lib/python3.10/dist-packages (from yfinance) (4.3.6)\n",
            "Requirement already satisfied: pytz>=2022.5 in /usr/local/lib/python3.10/dist-packages (from yfinance) (2024.2)\n",
            "Requirement already satisfied: frozendict>=2.3.4 in /usr/local/lib/python3.10/dist-packages (from yfinance) (2.4.4)\n",
            "Requirement already satisfied: peewee>=3.16.2 in /usr/local/lib/python3.10/dist-packages (from yfinance) (3.17.6)\n",
            "Requirement already satisfied: beautifulsoup4>=4.11.1 in /usr/local/lib/python3.10/dist-packages (from yfinance) (4.12.3)\n",
            "Requirement already satisfied: html5lib>=1.1 in /usr/local/lib/python3.10/dist-packages (from yfinance) (1.1)\n",
            "Requirement already satisfied: soupsieve>1.2 in /usr/local/lib/python3.10/dist-packages (from beautifulsoup4>=4.11.1->yfinance) (2.6)\n",
            "Requirement already satisfied: six>=1.9 in /usr/local/lib/python3.10/dist-packages (from html5lib>=1.1->yfinance) (1.16.0)\n",
            "Requirement already satisfied: webencodings in /usr/local/lib/python3.10/dist-packages (from html5lib>=1.1->yfinance) (0.5.1)\n",
            "Requirement already satisfied: python-dateutil>=2.8.2 in /usr/local/lib/python3.10/dist-packages (from pandas->ta) (2.8.2)\n",
            "Requirement already satisfied: tzdata>=2022.1 in /usr/local/lib/python3.10/dist-packages (from pandas->ta) (2024.1)\n",
            "Requirement already satisfied: charset-normalizer<4,>=2 in /usr/local/lib/python3.10/dist-packages (from requests>=2.31->yfinance) (3.3.2)\n",
            "Requirement already satisfied: idna<4,>=2.5 in /usr/local/lib/python3.10/dist-packages (from requests>=2.31->yfinance) (3.10)\n",
            "Requirement already satisfied: urllib3<3,>=1.21.1 in /usr/local/lib/python3.10/dist-packages (from requests>=2.31->yfinance) (2.2.3)\n",
            "Requirement already satisfied: certifi>=2017.4.17 in /usr/local/lib/python3.10/dist-packages (from requests>=2.31->yfinance) (2024.8.30)\n",
            "Building wheels for collected packages: ta\n",
            "  Building wheel for ta (setup.py) ... \u001b[?25l\u001b[?25hdone\n",
            "  Created wheel for ta: filename=ta-0.11.0-py3-none-any.whl size=29412 sha256=8032ff81e1aea5d2249e8d5290c9d80d6480ef8d40b738ebf2541258e5d6862c\n",
            "  Stored in directory: /root/.cache/pip/wheels/5f/67/4f/8a9f252836e053e532c6587a3230bc72a4deb16b03a829610b\n",
            "Successfully built ta\n",
            "Installing collected packages: ta\n",
            "Successfully installed ta-0.11.0\n"
          ]
        },
        {
          "output_type": "stream",
          "name": "stderr",
          "text": [
            "\r[*********************100%***********************]  1 of 1 completed\n"
          ]
        },
        {
          "output_type": "stream",
          "name": "stdout",
          "text": [
            "For BTC-USD, the recommendation for the next hour is to BUY.\n"
          ]
        },
        {
          "output_type": "stream",
          "name": "stderr",
          "text": [
            "\r[*********************100%***********************]  1 of 1 completed\n"
          ]
        },
        {
          "output_type": "stream",
          "name": "stdout",
          "text": [
            "For ETH-USD, the recommendation for the next hour is to SELL.\n"
          ]
        },
        {
          "output_type": "stream",
          "name": "stderr",
          "text": [
            "\r[*********************100%***********************]  1 of 1 completed\n"
          ]
        },
        {
          "output_type": "stream",
          "name": "stdout",
          "text": [
            "For EURUSD=X, the recommendation for the next hour is to BUY.\n"
          ]
        },
        {
          "output_type": "stream",
          "name": "stderr",
          "text": [
            "\r[*********************100%***********************]  1 of 1 completed\n"
          ]
        },
        {
          "output_type": "stream",
          "name": "stdout",
          "text": [
            "For GBPUSD=X, the recommendation for the next hour is to BUY.\n"
          ]
        },
        {
          "output_type": "stream",
          "name": "stderr",
          "text": [
            "\r[*********************100%***********************]  1 of 1 completed\n"
          ]
        },
        {
          "output_type": "stream",
          "name": "stdout",
          "text": [
            "For USDJPY=X, the recommendation for the next hour is to SELL.\n"
          ]
        },
        {
          "output_type": "stream",
          "name": "stderr",
          "text": [
            "\r[*********************100%***********************]  1 of 1 completed\n"
          ]
        },
        {
          "output_type": "stream",
          "name": "stdout",
          "text": [
            "For USDCAD=X, the recommendation for the next hour is to SELL.\n"
          ]
        },
        {
          "output_type": "stream",
          "name": "stderr",
          "text": [
            "\r[*********************100%***********************]  1 of 1 completed\n"
          ]
        },
        {
          "output_type": "stream",
          "name": "stdout",
          "text": [
            "For GBTC, the recommendation for the next hour is to BUY.\n"
          ]
        },
        {
          "output_type": "stream",
          "name": "stderr",
          "text": [
            "\r[*********************100%***********************]  1 of 1 completed\n"
          ]
        },
        {
          "output_type": "stream",
          "name": "stdout",
          "text": [
            "For ETHE, the recommendation for the next hour is to BUY.\n"
          ]
        }
      ],
      "source": [
        "!pip install ta yfinance\n",
        "import yfinance as yf\n",
        "import pandas as pd\n",
        "import numpy as np\n",
        "from sklearn.model_selection import train_test_split\n",
        "from sklearn.ensemble import RandomForestClassifier\n",
        "from ta.trend import MACD, SMAIndicator\n",
        "from ta.volatility import BollingerBands\n",
        "from ta.momentum import StochasticOscillator, RSIIndicator\n",
        "import matplotlib.pyplot as plt\n",
        "\n",
        "# Define the stock symbols (or crypto/forex symbols)\n",
        "stock_symbols = ['BTC-USD', 'ETH-USD', 'EURUSD=X', 'GBPUSD=X', 'USDJPY=X', 'USDCAD=X', 'GBTC', 'ETHE']\n",
        "time_interval = '1h'  # Change to 1-hour intervals (valid)\n",
        "\n",
        "# Function to manually calculate CCI\n",
        "def calculate_cci(data, window=14):\n",
        "    typical_price = (data['High'] + data['Low'] + data['Close']) / 3\n",
        "    sma = typical_price.rolling(window=window).mean()\n",
        "    mean_deviation = (typical_price - sma).abs().rolling(window=window).mean()\n",
        "    cci = (typical_price - sma) / (0.015 * mean_deviation)\n",
        "    return cci\n",
        "\n",
        "# Function to process each stock or forex pair and predict buy/sell\n",
        "def predict_for_symbol(symbol):\n",
        "    try:\n",
        "        # Fetch data from Yahoo Finance for the last 1 year with 1-hour intervals\n",
        "        data = yf.download(symbol, period='1y', interval=time_interval)\n",
        "\n",
        "        # Feature Engineering - Moving Averages, MACD, Stochastic Oscillator, RSI, Bollinger Bands\n",
        "\n",
        "        # 1. Moving Averages (SMA - Simple Moving Averages)\n",
        "        data['SMA_10'] = SMAIndicator(data['Close'], window=10).sma_indicator()\n",
        "        data['SMA_30'] = SMAIndicator(data['Close'], window=30).sma_indicator()\n",
        "\n",
        "        # 2. MACD (Moving Average Convergence Divergence)\n",
        "        macd = MACD(close=data['Close'], window_slow=26, window_fast=12, window_sign=9)\n",
        "        data['MACD'] = macd.macd()\n",
        "        data['MACD_signal'] = macd.macd_signal()\n",
        "\n",
        "        # 3. Stochastic Oscillator\n",
        "        stoch = StochasticOscillator(high=data['High'], low=data['Low'], close=data['Close'], window=14, smooth_window=3)\n",
        "        data['stoch_k'] = stoch.stoch()\n",
        "        data['stoch_d'] = stoch.stoch_signal()\n",
        "\n",
        "        # 4. Relative Strength Index (RSI)\n",
        "        rsi = RSIIndicator(close=data['Close'], window=14)\n",
        "        data['RSI'] = rsi.rsi()\n",
        "\n",
        "        # 5. Bollinger Bands\n",
        "        bollinger = BollingerBands(close=data['Close'], window=20, window_dev=2)\n",
        "        data['BB_upper'] = bollinger.bollinger_hband()\n",
        "        data['BB_lower'] = bollinger.bollinger_lband()\n",
        "\n",
        "        # 6. Manually Calculate CCI\n",
        "        data['CCI'] = calculate_cci(data, window=14)\n",
        "\n",
        "        # Drop NaN values (as some indicators are based on rolling windows)\n",
        "        data.dropna(inplace=True)\n",
        "\n",
        "        # Define buy/sell signal: Buy if MACD > Signal and SMA_10 > SMA_30, otherwise sell\n",
        "        def buy_sell_signal(row):\n",
        "            if row['MACD'] > row['MACD_signal'] and row['SMA_10'] > row['SMA_30']:\n",
        "                return 1  # Buy\n",
        "            else:\n",
        "                return 0  # Sell\n",
        "\n",
        "        data['Signal'] = data.apply(buy_sell_signal, axis=1)\n",
        "\n",
        "        if data.shape[0] > 10:  # Make sure there are enough rows\n",
        "\n",
        "            # Define features (X) and target variable (y)\n",
        "            feature_columns = ['SMA_10', 'SMA_30', 'MACD', 'MACD_signal', 'stoch_k', 'stoch_d', 'RSI', 'BB_upper', 'BB_lower', 'CCI']\n",
        "            X = data[feature_columns]\n",
        "            y = data['Signal']\n",
        "\n",
        "            # Split the data into training and test sets\n",
        "            X_train, X_test, y_train, y_test = train_test_split(X, y, test_size=0.3, shuffle=False)\n",
        "\n",
        "            # Use RandomForest without GridSearchCV to speed up execution\n",
        "            model = RandomForestClassifier(n_estimators=100, max_depth=10, random_state=42)\n",
        "            model.fit(X_train, y_train)\n",
        "\n",
        "            # Predict the next hour signal using the last available data point\n",
        "            next_hour_data = pd.DataFrame([data.iloc[-1][feature_columns]])\n",
        "            next_hour_prediction = model.predict(next_hour_data)[0]\n",
        "\n",
        "            # Output decision based on next hour prediction\n",
        "            if next_hour_prediction == 1:\n",
        "                decision = \"BUY\"\n",
        "            else:\n",
        "                decision = \"SELL\"\n",
        "\n",
        "            # Print the result for the symbol\n",
        "            print(f\"For {symbol}, the recommendation for the next hour is to {decision}.\")\n",
        "        else:\n",
        "            print(f\"Not enough data to make a prediction for {symbol}.\")\n",
        "    except Exception as e:\n",
        "        print(f\"Data for {symbol} could not be fetched. Error: {e}\")\n",
        "\n",
        "# Loop through each symbol and make the prediction\n",
        "for symbol in stock_symbols:\n",
        "    predict_for_symbol(symbol)\n"
      ]
    }
  ]
}