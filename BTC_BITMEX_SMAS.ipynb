{
  "nbformat": 4,
  "nbformat_minor": 0,
  "metadata": {
    "colab": {
      "provenance": [],
      "authorship_tag": "ABX9TyO/qpOBwPCfZ98EIoM3D9/i",
      "include_colab_link": true
    },
    "kernelspec": {
      "name": "python3",
      "display_name": "Python 3"
    },
    "language_info": {
      "name": "python"
    }
  },
  "cells": [
    {
      "cell_type": "markdown",
      "metadata": {
        "id": "view-in-github",
        "colab_type": "text"
      },
      "source": [
        "<a href=\"https://colab.research.google.com/github/mjgpinheiro/Physics_models/blob/main/BTC_BITMEX_SMAS.ipynb\" target=\"_parent\"><img src=\"https://colab.research.google.com/assets/colab-badge.svg\" alt=\"Open In Colab\"/></a>"
      ]
    },
    {
      "cell_type": "code",
      "source": [
        "!pip install bitmex\n",
        "!pip install backtesting\n",
        "\n",
        "import bitmex\n",
        "import requests\n",
        "import pandas as pd\n",
        "from backtesting import Backtest, Strategy\n",
        "\n",
        "API_KEY = \"AxrCpuvGBTUCvzCPW-UcB2Le\"\n",
        "API_SECRET = \"HkS2XQb86BV4HQzVnfIV3Ez4dNim8AjIIQYJU3zIf455umIH\"\n",
        "\n",
        "# Create authenticated BitMEX client\n",
        "client = bitmex.bitmex(api_key=API_KEY, api_secret=API_SECRET)\n",
        "\n",
        "def get_bitmex_data(symbol, timeframe):\n",
        "    base_url = \"https://www.bitmex.com/api/v1/trade/bucketed\"\n",
        "    params = {\n",
        "        \"binSize\": timeframe,\n",
        "        \"symbol\": symbol,\n",
        "        \"count\": 1000,\n",
        "        \"reverse\": \"true\"\n",
        "    }\n",
        "    response = requests.get(base_url, params=params)\n",
        "    data = response.json()  # Extract the JSON data\n",
        "    df = pd.DataFrame(data)\n",
        "\n",
        "    # Convert 'timestamp' to datetime and set as index\n",
        "    print(df.head())\n",
        "\n",
        "    df['timestamp'] = pd.to_datetime(df['timestamp'])\n",
        "    df.set_index('timestamp', inplace=True)\n",
        "\n",
        "    # Rename columns\n",
        "    df = df.rename(columns={\"open\": \"Open\", \"high\": \"High\", \"low\": \"Low\", \"close\": \"Close\", \"volume\": \"Volume\"})\n",
        "    return df\n",
        "\n",
        "class BitMEXStrategy(Strategy):\n",
        "    def init(self):\n",
        "        close = self.data.Close\n",
        "        self.sma1 = self.I(close.rolling, window=20, min_periods=1).mean()\n",
        "        self.sma2 = self.I(close.rolling, window=60, min_periods=1).mean()\n",
        "\n",
        "    def next(self):\n",
        "        if self.sma1[-1] > self.sma2[-1] and self.sma1[-2] < self.sma2[-2]:\n",
        "            # Buy signal\n",
        "            if self.position.is_short():\n",
        "                self.position.close()  # Close short position\n",
        "            self.buy()\n",
        "\n",
        "            # Place a buy order on BitMEX\n",
        "            client.Order.Order_new(symbol='XBTUSD', orderQty=1, side=\"Buy\").result()\n",
        "\n",
        "        elif self.sma1[-1] < self.sma2[-1] and self.sma1[-2] > self.sma2[-2]:\n",
        "            # Sell signal\n",
        "            if self.position.is_long():\n",
        "                self.position.close()  # Close long position\n",
        "            self.sell()\n",
        "\n",
        "            # Place a sell order on BitMEX\n",
        "            client.Order.Order_new(symbol='XBTUSD', orderQty=1, side=\"Sell\").result()\n",
        "\n",
        "df = get_bitmex_data('XBTUSD', '4h')\n",
        "bt = Backtest(df, BitMEXStrategy)\n",
        "bt.run()\n",
        "bt.plot()\n"
      ],
      "metadata": {
        "id": "dIhie9_hHu2M"
      },
      "execution_count": null,
      "outputs": []
    }
  ]
}