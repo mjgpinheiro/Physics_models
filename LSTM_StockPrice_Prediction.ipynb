{
  "cells": [
    {
      "cell_type": "markdown",
      "metadata": {
        "id": "view-in-github",
        "colab_type": "text"
      },
      "source": [
        "<a href=\"https://colab.research.google.com/github/mjgpinheiro/Physics_models/blob/main/LSTM_StockPrice_Prediction.ipynb\" target=\"_parent\"><img src=\"https://colab.research.google.com/assets/colab-badge.svg\" alt=\"Open In Colab\"/></a>"
      ]
    },
    {
      "cell_type": "code",
      "execution_count": 11,
      "metadata": {
        "colab": {
          "base_uri": "https://localhost:8080/",
          "height": 36
        },
        "id": "Gk4z4bQcy0qF",
        "outputId": "841898f5-6958-4530-c702-3a4bf8200646"
      },
      "outputs": [
        {
          "output_type": "execute_result",
          "data": {
            "text/plain": [
              "'2.14.0'"
            ],
            "application/vnd.google.colaboratory.intrinsic+json": {
              "type": "string"
            }
          },
          "metadata": {},
          "execution_count": 11
        }
      ],
      "source": [
        "# pip install numpy\n",
        "import numpy as np\n",
        "import pandas as pd\n",
        "import matplotlib.pyplot as plt\n",
        "%matplotlib inline\n",
        "from sklearn.preprocessing import MinMaxScaler\n",
        "from tensorflow.keras.models import Sequential, load_model\n",
        "from tensorflow.keras.layers import LSTM, Dense, Dropout\n",
        "import os\n",
        "import tensorflow as tf\n",
        "tf.__version__"
      ]
    },
    {
      "cell_type": "code",
      "execution_count": 12,
      "metadata": {
        "scrolled": true,
        "colab": {
          "base_uri": "https://localhost:8080/",
          "height": 206
        },
        "id": "bUwyCl37y0qJ",
        "outputId": "f1f703b4-678e-4494-838f-8a0fb952622d"
      },
      "outputs": [
        {
          "output_type": "execute_result",
          "data": {
            "text/plain": [
              "         date     open     high      low    close     volume  Name\n",
              "0  2013-02-08  67.7142  68.4014  66.8928  67.8542  158168416  AAPL\n",
              "1  2013-02-11  68.0714  69.2771  67.6071  68.5614  129029425  AAPL\n",
              "2  2013-02-12  68.5014  68.9114  66.8205  66.8428  151829363  AAPL\n",
              "3  2013-02-13  66.7442  67.6628  66.1742  66.7156  118721995  AAPL\n",
              "4  2013-02-14  66.3599  67.3771  66.2885  66.6556   88809154  AAPL"
            ],
            "text/html": [
              "\n",
              "  <div id=\"df-3cf34641-f261-4a49-90c9-87e82a882415\" class=\"colab-df-container\">\n",
              "    <div>\n",
              "<style scoped>\n",
              "    .dataframe tbody tr th:only-of-type {\n",
              "        vertical-align: middle;\n",
              "    }\n",
              "\n",
              "    .dataframe tbody tr th {\n",
              "        vertical-align: top;\n",
              "    }\n",
              "\n",
              "    .dataframe thead th {\n",
              "        text-align: right;\n",
              "    }\n",
              "</style>\n",
              "<table border=\"1\" class=\"dataframe\">\n",
              "  <thead>\n",
              "    <tr style=\"text-align: right;\">\n",
              "      <th></th>\n",
              "      <th>date</th>\n",
              "      <th>open</th>\n",
              "      <th>high</th>\n",
              "      <th>low</th>\n",
              "      <th>close</th>\n",
              "      <th>volume</th>\n",
              "      <th>Name</th>\n",
              "    </tr>\n",
              "  </thead>\n",
              "  <tbody>\n",
              "    <tr>\n",
              "      <th>0</th>\n",
              "      <td>2013-02-08</td>\n",
              "      <td>67.7142</td>\n",
              "      <td>68.4014</td>\n",
              "      <td>66.8928</td>\n",
              "      <td>67.8542</td>\n",
              "      <td>158168416</td>\n",
              "      <td>AAPL</td>\n",
              "    </tr>\n",
              "    <tr>\n",
              "      <th>1</th>\n",
              "      <td>2013-02-11</td>\n",
              "      <td>68.0714</td>\n",
              "      <td>69.2771</td>\n",
              "      <td>67.6071</td>\n",
              "      <td>68.5614</td>\n",
              "      <td>129029425</td>\n",
              "      <td>AAPL</td>\n",
              "    </tr>\n",
              "    <tr>\n",
              "      <th>2</th>\n",
              "      <td>2013-02-12</td>\n",
              "      <td>68.5014</td>\n",
              "      <td>68.9114</td>\n",
              "      <td>66.8205</td>\n",
              "      <td>66.8428</td>\n",
              "      <td>151829363</td>\n",
              "      <td>AAPL</td>\n",
              "    </tr>\n",
              "    <tr>\n",
              "      <th>3</th>\n",
              "      <td>2013-02-13</td>\n",
              "      <td>66.7442</td>\n",
              "      <td>67.6628</td>\n",
              "      <td>66.1742</td>\n",
              "      <td>66.7156</td>\n",
              "      <td>118721995</td>\n",
              "      <td>AAPL</td>\n",
              "    </tr>\n",
              "    <tr>\n",
              "      <th>4</th>\n",
              "      <td>2013-02-14</td>\n",
              "      <td>66.3599</td>\n",
              "      <td>67.3771</td>\n",
              "      <td>66.2885</td>\n",
              "      <td>66.6556</td>\n",
              "      <td>88809154</td>\n",
              "      <td>AAPL</td>\n",
              "    </tr>\n",
              "  </tbody>\n",
              "</table>\n",
              "</div>\n",
              "    <div class=\"colab-df-buttons\">\n",
              "\n",
              "  <div class=\"colab-df-container\">\n",
              "    <button class=\"colab-df-convert\" onclick=\"convertToInteractive('df-3cf34641-f261-4a49-90c9-87e82a882415')\"\n",
              "            title=\"Convert this dataframe to an interactive table.\"\n",
              "            style=\"display:none;\">\n",
              "\n",
              "  <svg xmlns=\"http://www.w3.org/2000/svg\" height=\"24px\" viewBox=\"0 -960 960 960\">\n",
              "    <path d=\"M120-120v-720h720v720H120Zm60-500h600v-160H180v160Zm220 220h160v-160H400v160Zm0 220h160v-160H400v160ZM180-400h160v-160H180v160Zm440 0h160v-160H620v160ZM180-180h160v-160H180v160Zm440 0h160v-160H620v160Z\"/>\n",
              "  </svg>\n",
              "    </button>\n",
              "\n",
              "  <style>\n",
              "    .colab-df-container {\n",
              "      display:flex;\n",
              "      gap: 12px;\n",
              "    }\n",
              "\n",
              "    .colab-df-convert {\n",
              "      background-color: #E8F0FE;\n",
              "      border: none;\n",
              "      border-radius: 50%;\n",
              "      cursor: pointer;\n",
              "      display: none;\n",
              "      fill: #1967D2;\n",
              "      height: 32px;\n",
              "      padding: 0 0 0 0;\n",
              "      width: 32px;\n",
              "    }\n",
              "\n",
              "    .colab-df-convert:hover {\n",
              "      background-color: #E2EBFA;\n",
              "      box-shadow: 0px 1px 2px rgba(60, 64, 67, 0.3), 0px 1px 3px 1px rgba(60, 64, 67, 0.15);\n",
              "      fill: #174EA6;\n",
              "    }\n",
              "\n",
              "    .colab-df-buttons div {\n",
              "      margin-bottom: 4px;\n",
              "    }\n",
              "\n",
              "    [theme=dark] .colab-df-convert {\n",
              "      background-color: #3B4455;\n",
              "      fill: #D2E3FC;\n",
              "    }\n",
              "\n",
              "    [theme=dark] .colab-df-convert:hover {\n",
              "      background-color: #434B5C;\n",
              "      box-shadow: 0px 1px 3px 1px rgba(0, 0, 0, 0.15);\n",
              "      filter: drop-shadow(0px 1px 2px rgba(0, 0, 0, 0.3));\n",
              "      fill: #FFFFFF;\n",
              "    }\n",
              "  </style>\n",
              "\n",
              "    <script>\n",
              "      const buttonEl =\n",
              "        document.querySelector('#df-3cf34641-f261-4a49-90c9-87e82a882415 button.colab-df-convert');\n",
              "      buttonEl.style.display =\n",
              "        google.colab.kernel.accessAllowed ? 'block' : 'none';\n",
              "\n",
              "      async function convertToInteractive(key) {\n",
              "        const element = document.querySelector('#df-3cf34641-f261-4a49-90c9-87e82a882415');\n",
              "        const dataTable =\n",
              "          await google.colab.kernel.invokeFunction('convertToInteractive',\n",
              "                                                    [key], {});\n",
              "        if (!dataTable) return;\n",
              "\n",
              "        const docLinkHtml = 'Like what you see? Visit the ' +\n",
              "          '<a target=\"_blank\" href=https://colab.research.google.com/notebooks/data_table.ipynb>data table notebook</a>'\n",
              "          + ' to learn more about interactive tables.';\n",
              "        element.innerHTML = '';\n",
              "        dataTable['output_type'] = 'display_data';\n",
              "        await google.colab.output.renderOutput(dataTable, element);\n",
              "        const docLink = document.createElement('div');\n",
              "        docLink.innerHTML = docLinkHtml;\n",
              "        element.appendChild(docLink);\n",
              "      }\n",
              "    </script>\n",
              "  </div>\n",
              "\n",
              "\n",
              "<div id=\"df-1f19a55c-df6e-46c6-8d58-fd63725f2d91\">\n",
              "  <button class=\"colab-df-quickchart\" onclick=\"quickchart('df-1f19a55c-df6e-46c6-8d58-fd63725f2d91')\"\n",
              "            title=\"Suggest charts\"\n",
              "            style=\"display:none;\">\n",
              "\n",
              "<svg xmlns=\"http://www.w3.org/2000/svg\" height=\"24px\"viewBox=\"0 0 24 24\"\n",
              "     width=\"24px\">\n",
              "    <g>\n",
              "        <path d=\"M19 3H5c-1.1 0-2 .9-2 2v14c0 1.1.9 2 2 2h14c1.1 0 2-.9 2-2V5c0-1.1-.9-2-2-2zM9 17H7v-7h2v7zm4 0h-2V7h2v10zm4 0h-2v-4h2v4z\"/>\n",
              "    </g>\n",
              "</svg>\n",
              "  </button>\n",
              "\n",
              "<style>\n",
              "  .colab-df-quickchart {\n",
              "      --bg-color: #E8F0FE;\n",
              "      --fill-color: #1967D2;\n",
              "      --hover-bg-color: #E2EBFA;\n",
              "      --hover-fill-color: #174EA6;\n",
              "      --disabled-fill-color: #AAA;\n",
              "      --disabled-bg-color: #DDD;\n",
              "  }\n",
              "\n",
              "  [theme=dark] .colab-df-quickchart {\n",
              "      --bg-color: #3B4455;\n",
              "      --fill-color: #D2E3FC;\n",
              "      --hover-bg-color: #434B5C;\n",
              "      --hover-fill-color: #FFFFFF;\n",
              "      --disabled-bg-color: #3B4455;\n",
              "      --disabled-fill-color: #666;\n",
              "  }\n",
              "\n",
              "  .colab-df-quickchart {\n",
              "    background-color: var(--bg-color);\n",
              "    border: none;\n",
              "    border-radius: 50%;\n",
              "    cursor: pointer;\n",
              "    display: none;\n",
              "    fill: var(--fill-color);\n",
              "    height: 32px;\n",
              "    padding: 0;\n",
              "    width: 32px;\n",
              "  }\n",
              "\n",
              "  .colab-df-quickchart:hover {\n",
              "    background-color: var(--hover-bg-color);\n",
              "    box-shadow: 0 1px 2px rgba(60, 64, 67, 0.3), 0 1px 3px 1px rgba(60, 64, 67, 0.15);\n",
              "    fill: var(--button-hover-fill-color);\n",
              "  }\n",
              "\n",
              "  .colab-df-quickchart-complete:disabled,\n",
              "  .colab-df-quickchart-complete:disabled:hover {\n",
              "    background-color: var(--disabled-bg-color);\n",
              "    fill: var(--disabled-fill-color);\n",
              "    box-shadow: none;\n",
              "  }\n",
              "\n",
              "  .colab-df-spinner {\n",
              "    border: 2px solid var(--fill-color);\n",
              "    border-color: transparent;\n",
              "    border-bottom-color: var(--fill-color);\n",
              "    animation:\n",
              "      spin 1s steps(1) infinite;\n",
              "  }\n",
              "\n",
              "  @keyframes spin {\n",
              "    0% {\n",
              "      border-color: transparent;\n",
              "      border-bottom-color: var(--fill-color);\n",
              "      border-left-color: var(--fill-color);\n",
              "    }\n",
              "    20% {\n",
              "      border-color: transparent;\n",
              "      border-left-color: var(--fill-color);\n",
              "      border-top-color: var(--fill-color);\n",
              "    }\n",
              "    30% {\n",
              "      border-color: transparent;\n",
              "      border-left-color: var(--fill-color);\n",
              "      border-top-color: var(--fill-color);\n",
              "      border-right-color: var(--fill-color);\n",
              "    }\n",
              "    40% {\n",
              "      border-color: transparent;\n",
              "      border-right-color: var(--fill-color);\n",
              "      border-top-color: var(--fill-color);\n",
              "    }\n",
              "    60% {\n",
              "      border-color: transparent;\n",
              "      border-right-color: var(--fill-color);\n",
              "    }\n",
              "    80% {\n",
              "      border-color: transparent;\n",
              "      border-right-color: var(--fill-color);\n",
              "      border-bottom-color: var(--fill-color);\n",
              "    }\n",
              "    90% {\n",
              "      border-color: transparent;\n",
              "      border-bottom-color: var(--fill-color);\n",
              "    }\n",
              "  }\n",
              "</style>\n",
              "\n",
              "  <script>\n",
              "    async function quickchart(key) {\n",
              "      const quickchartButtonEl =\n",
              "        document.querySelector('#' + key + ' button');\n",
              "      quickchartButtonEl.disabled = true;  // To prevent multiple clicks.\n",
              "      quickchartButtonEl.classList.add('colab-df-spinner');\n",
              "      try {\n",
              "        const charts = await google.colab.kernel.invokeFunction(\n",
              "            'suggestCharts', [key], {});\n",
              "      } catch (error) {\n",
              "        console.error('Error during call to suggestCharts:', error);\n",
              "      }\n",
              "      quickchartButtonEl.classList.remove('colab-df-spinner');\n",
              "      quickchartButtonEl.classList.add('colab-df-quickchart-complete');\n",
              "    }\n",
              "    (() => {\n",
              "      let quickchartButtonEl =\n",
              "        document.querySelector('#df-1f19a55c-df6e-46c6-8d58-fd63725f2d91 button');\n",
              "      quickchartButtonEl.style.display =\n",
              "        google.colab.kernel.accessAllowed ? 'block' : 'none';\n",
              "    })();\n",
              "  </script>\n",
              "</div>\n",
              "    </div>\n",
              "  </div>\n"
            ]
          },
          "metadata": {},
          "execution_count": 12
        }
      ],
      "source": [
        "df = pd.read_csv('/content/sample_data/AAPL.csv')\n",
        "\n",
        "df.head()"
      ]
    },
    {
      "cell_type": "markdown",
      "source": [
        "# Nova secção"
      ],
      "metadata": {
        "id": "yC0qmP9iSLoc"
      }
    },
    {
      "cell_type": "markdown",
      "source": [
        "# Nova secção"
      ],
      "metadata": {
        "id": "uJiYoaFTSNX6"
      }
    },
    {
      "cell_type": "markdown",
      "source": [
        "# Nova secção"
      ],
      "metadata": {
        "id": "SuWUnCdEPNOW"
      }
    },
    {
      "cell_type": "code",
      "execution_count": 13,
      "metadata": {
        "colab": {
          "base_uri": "https://localhost:8080/"
        },
        "id": "L8LQc2WMy0qJ",
        "outputId": "5d179724-dc42-4714-98ef-22129cb5416f"
      },
      "outputs": [
        {
          "output_type": "stream",
          "name": "stdout",
          "text": [
            "(1259, 1)\n"
          ]
        },
        {
          "output_type": "execute_result",
          "data": {
            "text/plain": [
              "array([[67.7142],\n",
              "       [68.0714],\n",
              "       [68.5014],\n",
              "       [66.7442],\n",
              "       [66.3599],\n",
              "       [66.9785],\n",
              "       [65.8714]])"
            ]
          },
          "metadata": {},
          "execution_count": 13
        }
      ],
      "source": [
        "df = df['open'].values\n",
        "df = df.reshape(-1,1)\n",
        "print(df.shape)\n",
        "df[:7]"
      ]
    },
    {
      "cell_type": "code",
      "execution_count": 14,
      "metadata": {
        "id": "xkoccnOQy0qK"
      },
      "outputs": [],
      "source": [
        "dataset_train = np.array(df[:int(df.shape[0]*0.8)])\n",
        "dataset_test = np.array(df[int(df.shape[0]*0.8)-50:])"
      ]
    },
    {
      "cell_type": "code",
      "execution_count": 15,
      "metadata": {
        "colab": {
          "base_uri": "https://localhost:8080/"
        },
        "id": "gTAY_OrZy0qK",
        "outputId": "5a308bdf-ca90-4264-828b-57b03020284c"
      },
      "outputs": [
        {
          "output_type": "execute_result",
          "data": {
            "text/plain": [
              "(302, 1)"
            ]
          },
          "metadata": {},
          "execution_count": 15
        }
      ],
      "source": [
        "dataset_test.shape"
      ]
    },
    {
      "cell_type": "code",
      "execution_count": 16,
      "metadata": {
        "scrolled": true,
        "colab": {
          "base_uri": "https://localhost:8080/"
        },
        "id": "_nY7WsKIy0qL",
        "outputId": "1145c5e7-6d4e-4ac4-f77a-991baee632ae"
      },
      "outputs": [
        {
          "output_type": "execute_result",
          "data": {
            "text/plain": [
              "array([[0.15550899],\n",
              "       [0.16002875],\n",
              "       [0.16546966],\n",
              "       [0.1432353 ],\n",
              "       [0.13837263],\n",
              "       [0.14619996],\n",
              "       [0.1321915 ]])"
            ]
          },
          "metadata": {},
          "execution_count": 16
        }
      ],
      "source": [
        "scaler = MinMaxScaler(feature_range=(0,1))\n",
        "dataset_train = scaler.fit_transform(dataset_train)\n",
        "dataset_train[:7]"
      ]
    },
    {
      "cell_type": "code",
      "execution_count": 17,
      "metadata": {
        "scrolled": true,
        "colab": {
          "base_uri": "https://localhost:8080/"
        },
        "id": "9LoiYkjTy0qL",
        "outputId": "0ac35258-827a-453d-e1ca-6819a92aca8e"
      },
      "outputs": [
        {
          "output_type": "execute_result",
          "data": {
            "text/plain": [
              "array([[0.7048619 ],\n",
              "       [0.70865789],\n",
              "       [0.70043325],\n",
              "       [0.71080895],\n",
              "       [0.69518213],\n",
              "       [0.68006144],\n",
              "       [0.69056368]])"
            ]
          },
          "metadata": {},
          "execution_count": 17
        }
      ],
      "source": [
        "dataset_test = scaler.transform(dataset_test)\n",
        "dataset_test[:7]"
      ]
    },
    {
      "cell_type": "code",
      "execution_count": 18,
      "metadata": {
        "id": "VgNUiXxEy0qM"
      },
      "outputs": [],
      "source": [
        "def create_my_dataset(df):\n",
        "    x = []\n",
        "    y = []\n",
        "    for i in range(50,df.shape[0]):\n",
        "        x.append(df[i-50:i,0])\n",
        "        y.append(df[i,0])\n",
        "    x = np.array(x)\n",
        "    y = np.array(y)\n",
        "    return x,y"
      ]
    },
    {
      "cell_type": "code",
      "execution_count": 19,
      "metadata": {
        "colab": {
          "base_uri": "https://localhost:8080/"
        },
        "id": "P7Gzxvuhy0qM",
        "outputId": "ce13b3a8-ba36-4a77-ac65-b20f711a82ef"
      },
      "outputs": [
        {
          "output_type": "execute_result",
          "data": {
            "text/plain": [
              "array([[0.15550899, 0.16002875, 0.16546966, 0.1432353 , 0.13837263,\n",
              "        0.14619996, 0.1321915 , 0.12602681, 0.10489581, 0.11077074,\n",
              "        0.11908522, 0.10095558, 0.10928904, 0.10137187, 0.09043563,\n",
              "        0.07199725, 0.06057385, 0.08412669, 0.06603248, 0.07561229,\n",
              "        0.07552245, 0.08609681, 0.07317274, 0.0810899 , 0.09030909,\n",
              "        0.09667117, 0.12929896, 0.1255384 , 0.11252448, 0.12040496,\n",
              "        0.13868011, 0.14003654, 0.12380363, 0.11180072, 0.09748478,\n",
              "        0.07163663, 0.07845043, 0.08277153, 0.06603248, 0.06666515,\n",
              "        0.06939446, 0.07254007, 0.08269814, 0.08347632, 0.07055098,\n",
              "        0.06073581, 0.0583861 , 0.03076649, 0.        , 0.00844228]])"
            ]
          },
          "metadata": {},
          "execution_count": 19
        }
      ],
      "source": [
        "x_train,y_train = create_my_dataset(dataset_train)\n",
        "x_train[:1]"
      ]
    },
    {
      "cell_type": "code",
      "execution_count": 20,
      "metadata": {
        "colab": {
          "base_uri": "https://localhost:8080/"
        },
        "id": "iCm3k-LCy0qN",
        "outputId": "e8f1470c-a4f0-4ea3-81ac-313bd9370bf3"
      },
      "outputs": [
        {
          "output_type": "execute_result",
          "data": {
            "text/plain": [
              "(1, 50)"
            ]
          },
          "metadata": {},
          "execution_count": 20
        }
      ],
      "source": [
        "x_train[:1].shape"
      ]
    },
    {
      "cell_type": "code",
      "execution_count": 21,
      "metadata": {
        "scrolled": true,
        "colab": {
          "base_uri": "https://localhost:8080/"
        },
        "id": "PIOkA2bNy0qN",
        "outputId": "1c0d4fcc-7662-412d-ec0c-1dfa9d4df171"
      },
      "outputs": [
        {
          "output_type": "execute_result",
          "data": {
            "text/plain": [
              "array([[0.7048619 , 0.70865789, 0.70043325, 0.71080895, 0.69518213,\n",
              "        0.68006144, 0.69056368, 0.68423703, 0.68120024, 0.70144551,\n",
              "        0.71979279, 0.73219302, 0.73915233, 0.75433628, 0.7586384 ,\n",
              "        0.7724305 , 0.76395279, 0.77584689, 0.77660608, 0.7709121 ,\n",
              "        0.7612956 , 0.77306316, 0.78571645, 0.77217743, 0.77470809,\n",
              "        0.76395279, 0.76458545, 0.76547118, 0.77635302, 0.79115737,\n",
              "        0.80153307, 0.80115347, 0.80311474, 0.80583519, 0.79609216,\n",
              "        0.81709663, 0.80950465, 0.82279061, 0.81709663, 0.81140264,\n",
              "        0.82241101, 0.83822763, 0.84417468, 0.82886419, 0.83164791,\n",
              "        0.90604929, 0.91800665, 0.9222455 , 0.93262121, 0.95046235]])"
            ]
          },
          "metadata": {},
          "execution_count": 21
        }
      ],
      "source": [
        "x_test,y_test = create_my_dataset(dataset_test)\n",
        "x_test[:1]"
      ]
    },
    {
      "cell_type": "code",
      "execution_count": 22,
      "metadata": {
        "colab": {
          "base_uri": "https://localhost:8080/"
        },
        "id": "_8BIGs1hy0qN",
        "outputId": "2112a052-3363-43f4-9e11-6615c1a98ad7"
      },
      "outputs": [
        {
          "output_type": "stream",
          "name": "stdout",
          "text": [
            "(957, 50, 1)\n",
            "(252, 50, 1)\n"
          ]
        }
      ],
      "source": [
        "#x_train.shape\n",
        "#(957,50,1)\n",
        "x_train = np.reshape(x_train,(x_train.shape[0],x_train.shape[1],1))\n",
        "x_test = np.reshape(x_test,(x_test.shape[0],x_test.shape[1],1))\n",
        "print(x_train.shape)\n",
        "print(x_test.shape)"
      ]
    },
    {
      "cell_type": "code",
      "execution_count": 23,
      "metadata": {
        "id": "JPachFw7y0qO"
      },
      "outputs": [],
      "source": [
        "model = Sequential()\n",
        "model.add(LSTM(units=96,return_sequences=True, input_shape=(x_train.shape[1],1)))\n",
        "model.add(Dropout(0.2))\n",
        "model.add(LSTM(units=96, return_sequences=True))\n",
        "model.add(Dropout(0.2))\n",
        "model.add(LSTM(units=96))\n",
        "model.add(Dropout(0.2))\n",
        "model.add(Dense(units=1))"
      ]
    },
    {
      "cell_type": "code",
      "execution_count": 24,
      "metadata": {
        "scrolled": true,
        "colab": {
          "base_uri": "https://localhost:8080/"
        },
        "id": "NrZy7esKy0qO",
        "outputId": "dc6a03a4-ab72-4a4e-9954-8a3ff7d17b8a"
      },
      "outputs": [
        {
          "output_type": "stream",
          "name": "stdout",
          "text": [
            "Model: \"sequential\"\n",
            "_________________________________________________________________\n",
            " Layer (type)                Output Shape              Param #   \n",
            "=================================================================\n",
            " lstm (LSTM)                 (None, 50, 96)            37632     \n",
            "                                                                 \n",
            " dropout (Dropout)           (None, 50, 96)            0         \n",
            "                                                                 \n",
            " lstm_1 (LSTM)               (None, 50, 96)            74112     \n",
            "                                                                 \n",
            " dropout_1 (Dropout)         (None, 50, 96)            0         \n",
            "                                                                 \n",
            " lstm_2 (LSTM)               (None, 96)                74112     \n",
            "                                                                 \n",
            " dropout_2 (Dropout)         (None, 96)                0         \n",
            "                                                                 \n",
            " dense (Dense)               (None, 1)                 97        \n",
            "                                                                 \n",
            "=================================================================\n",
            "Total params: 185953 (726.38 KB)\n",
            "Trainable params: 185953 (726.38 KB)\n",
            "Non-trainable params: 0 (0.00 Byte)\n",
            "_________________________________________________________________\n"
          ]
        }
      ],
      "source": [
        "model.summary()"
      ]
    },
    {
      "cell_type": "code",
      "execution_count": 25,
      "metadata": {
        "id": "T04iJG_oy0qP"
      },
      "outputs": [],
      "source": [
        "model.compile(loss = 'mean_squared_error', optimizer='adam')"
      ]
    },
    {
      "cell_type": "code",
      "execution_count": 26,
      "metadata": {
        "scrolled": true,
        "colab": {
          "base_uri": "https://localhost:8080/"
        },
        "id": "4dZLWIrgy0qP",
        "outputId": "cb7f567d-7bc4-4f6a-fd88-810dc1e898fb"
      },
      "outputs": [
        {
          "output_type": "stream",
          "name": "stdout",
          "text": [
            "Epoch 1/50\n",
            "30/30 [==============================] - 10s 114ms/step - loss: 0.0433\n",
            "Epoch 2/50\n",
            "30/30 [==============================] - 3s 115ms/step - loss: 0.0069\n",
            "Epoch 3/50\n",
            "30/30 [==============================] - 5s 177ms/step - loss: 0.0045\n",
            "Epoch 4/50\n",
            "30/30 [==============================] - 3s 114ms/step - loss: 0.0048\n",
            "Epoch 5/50\n",
            "30/30 [==============================] - 3s 116ms/step - loss: 0.0043\n",
            "Epoch 6/50\n",
            "30/30 [==============================] - 4s 129ms/step - loss: 0.0041\n",
            "Epoch 7/50\n",
            "30/30 [==============================] - 5s 161ms/step - loss: 0.0044\n",
            "Epoch 8/50\n",
            "30/30 [==============================] - 3s 114ms/step - loss: 0.0047\n",
            "Epoch 9/50\n",
            "30/30 [==============================] - 3s 114ms/step - loss: 0.0037\n",
            "Epoch 10/50\n",
            "30/30 [==============================] - 4s 143ms/step - loss: 0.0041\n",
            "Epoch 11/50\n",
            "30/30 [==============================] - 4s 146ms/step - loss: 0.0037\n",
            "Epoch 12/50\n",
            "30/30 [==============================] - 3s 113ms/step - loss: 0.0037\n",
            "Epoch 13/50\n",
            "30/30 [==============================] - 3s 116ms/step - loss: 0.0034\n",
            "Epoch 14/50\n",
            "30/30 [==============================] - 5s 158ms/step - loss: 0.0037\n",
            "Epoch 15/50\n",
            "30/30 [==============================] - 4s 133ms/step - loss: 0.0035\n",
            "Epoch 16/50\n",
            "30/30 [==============================] - 3s 115ms/step - loss: 0.0035\n",
            "Epoch 17/50\n",
            "30/30 [==============================] - 3s 115ms/step - loss: 0.0040\n",
            "Epoch 18/50\n",
            "30/30 [==============================] - 5s 174ms/step - loss: 0.0036\n",
            "Epoch 19/50\n",
            "30/30 [==============================] - 4s 117ms/step - loss: 0.0031\n",
            "Epoch 20/50\n",
            "30/30 [==============================] - 3s 115ms/step - loss: 0.0030\n",
            "Epoch 21/50\n",
            "30/30 [==============================] - 4s 118ms/step - loss: 0.0029\n",
            "Epoch 22/50\n",
            "30/30 [==============================] - 5s 173ms/step - loss: 0.0029\n",
            "Epoch 23/50\n",
            "30/30 [==============================] - 3s 115ms/step - loss: 0.0035\n",
            "Epoch 24/50\n",
            "30/30 [==============================] - 3s 115ms/step - loss: 0.0029\n",
            "Epoch 25/50\n",
            "30/30 [==============================] - 4s 135ms/step - loss: 0.0029\n",
            "Epoch 26/50\n",
            "30/30 [==============================] - 5s 156ms/step - loss: 0.0028\n",
            "Epoch 27/50\n",
            "30/30 [==============================] - 4s 117ms/step - loss: 0.0026\n",
            "Epoch 28/50\n",
            "30/30 [==============================] - 3s 116ms/step - loss: 0.0027\n",
            "Epoch 29/50\n",
            "30/30 [==============================] - 5s 152ms/step - loss: 0.0027\n",
            "Epoch 30/50\n",
            "30/30 [==============================] - 4s 139ms/step - loss: 0.0029\n",
            "Epoch 31/50\n",
            "30/30 [==============================] - 3s 116ms/step - loss: 0.0030\n",
            "Epoch 32/50\n",
            "30/30 [==============================] - 3s 116ms/step - loss: 0.0025\n",
            "Epoch 33/50\n",
            "30/30 [==============================] - 5s 169ms/step - loss: 0.0024\n",
            "Epoch 34/50\n",
            "30/30 [==============================] - 4s 122ms/step - loss: 0.0024\n",
            "Epoch 35/50\n",
            "30/30 [==============================] - 3s 115ms/step - loss: 0.0031\n",
            "Epoch 36/50\n",
            "30/30 [==============================] - 3s 116ms/step - loss: 0.0027\n",
            "Epoch 37/50\n",
            "30/30 [==============================] - 5s 176ms/step - loss: 0.0024\n",
            "Epoch 38/50\n",
            "30/30 [==============================] - 3s 116ms/step - loss: 0.0027\n",
            "Epoch 39/50\n",
            "30/30 [==============================] - 3s 115ms/step - loss: 0.0027\n",
            "Epoch 40/50\n",
            "30/30 [==============================] - 4s 134ms/step - loss: 0.0023\n",
            "Epoch 41/50\n",
            "30/30 [==============================] - 5s 159ms/step - loss: 0.0027\n",
            "Epoch 42/50\n",
            "30/30 [==============================] - 3s 115ms/step - loss: 0.0024\n",
            "Epoch 43/50\n",
            "30/30 [==============================] - 3s 116ms/step - loss: 0.0022\n",
            "Epoch 44/50\n",
            "30/30 [==============================] - 5s 151ms/step - loss: 0.0022\n",
            "Epoch 45/50\n",
            "30/30 [==============================] - 4s 141ms/step - loss: 0.0023\n",
            "Epoch 46/50\n",
            "30/30 [==============================] - 3s 116ms/step - loss: 0.0024\n",
            "Epoch 47/50\n",
            "30/30 [==============================] - 3s 115ms/step - loss: 0.0021\n",
            "Epoch 48/50\n",
            "30/30 [==============================] - 5s 166ms/step - loss: 0.0021\n",
            "Epoch 49/50\n",
            "30/30 [==============================] - 4s 125ms/step - loss: 0.0022\n",
            "Epoch 50/50\n",
            "30/30 [==============================] - 3s 115ms/step - loss: 0.0025\n"
          ]
        },
        {
          "output_type": "stream",
          "name": "stderr",
          "text": [
            "/usr/local/lib/python3.10/dist-packages/keras/src/engine/training.py:3079: UserWarning: You are saving your model as an HDF5 file via `model.save()`. This file format is considered legacy. We recommend using instead the native Keras format, e.g. `model.save('my_model.keras')`.\n",
            "  saving_api.save_model(\n"
          ]
        }
      ],
      "source": [
        "if (not os.path.exists(r'C:\\Users\\danie\\Desktop\\LSTM\\stock_prediction.h5')):\n",
        "    model.fit(x_train,y_train, epochs=50, batch_size=32)\n",
        "    model.save(r'C:\\Users\\danie\\Desktop\\LSTM\\stock_prediction.h5')"
      ]
    },
    {
      "cell_type": "code",
      "execution_count": 27,
      "metadata": {
        "id": "R5YSSMI0y0qP"
      },
      "outputs": [],
      "source": [
        "model = load_model(r'C:\\Users\\danie\\Desktop\\LSTM\\stock_prediction.h5')"
      ]
    },
    {
      "cell_type": "code",
      "execution_count": 28,
      "metadata": {
        "scrolled": true,
        "colab": {
          "base_uri": "https://localhost:8080/",
          "height": 404
        },
        "id": "kLO8KjqLy0qP",
        "outputId": "34b9ae13-ee7a-4fa7-8992-e42895feff48"
      },
      "outputs": [
        {
          "output_type": "stream",
          "name": "stdout",
          "text": [
            "8/8 [==============================] - 2s 48ms/step\n",
            "range(1007, 1259)\n"
          ]
        },
        {
          "output_type": "display_data",
          "data": {
            "text/plain": [
              "<Figure size 800x400 with 1 Axes>"
            ],
            "image/png": "[encoded data removed]"
          },
          "metadata": {}
        }
      ],
      "source": [
        "predictions = model.predict(x_test)\n",
        "predictions = scaler.inverse_transform(predictions)\n",
        "\n",
        "fig,ax = plt.subplots(figsize=(8,4))\n",
        "plt.plot(df,color='red', label='original Stockprice')\n",
        "ax.plot(range(len(y_train)+50, len(y_train)+50+len(predictions)),predictions, color='blue',label='Predictions')\n",
        "plt.legend()\n",
        "print(range(len(y_train)+50,len(y_train)+50+len(predictions)))"
      ]
    },
    {
      "cell_type": "code",
      "execution_count": 29,
      "metadata": {
        "colab": {
          "base_uri": "https://localhost:8080/",
          "height": 386
        },
        "id": "VTctR6Lny0qP",
        "outputId": "f4b9a5d6-d312-4091-f433-9f4824ac8432"
      },
      "outputs": [
        {
          "output_type": "execute_result",
          "data": {
            "text/plain": [
              "<matplotlib.legend.Legend at 0x78eaf64aad10>"
            ]
          },
          "metadata": {},
          "execution_count": 29
        },
        {
          "output_type": "display_data",
          "data": {
            "text/plain": [
              "<Figure size 800x400 with 1 Axes>"
            ],
            "image/png": "[encoded data removed]"
          },
          "metadata": {}
        }
      ],
      "source": [
        "y_test_scaled = scaler.inverse_transform(y_test.reshape(-1,1))\n",
        "\n",
        "fig,ax = plt.subplots(figsize=(8,4))\n",
        "ax.plot(y_test_scaled, color='red',label='True Prices')\n",
        "plt.plot(predictions,color=\"blue\",label = 'Predicted Prices')\n",
        "plt.legend()"
      ]
    }
  ],
  "metadata": {
    "kernelspec": {
      "display_name": "Python 3",
      "language": "python",
      "name": "python3"
    },
    "language_info": {
      "codemirror_mode": {
        "name": "ipython",
        "version": 3
      },
      "file_extension": ".py",
      "mimetype": "text/x-python",
      "name": "python",
      "nbconvert_exporter": "python",
      "pygments_lexer": "ipython3",
      "version": "3.7.3"
    },
    "colab": {
      "provenance": [],
      "include_colab_link": true
    }
  },
  "nbformat": 4,
  "nbformat_minor": 0
}