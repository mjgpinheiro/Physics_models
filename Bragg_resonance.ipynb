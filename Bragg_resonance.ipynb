{
  "nbformat": 4,
  "nbformat_minor": 0,
  "metadata": {
    "colab": {
      "provenance": [],
      "authorship_tag": "ABX9TyOGR0mbtzfro7gloILhwpCx",
      "include_colab_link": true
    },
    "kernelspec": {
      "name": "python3",
      "display_name": "Python 3"
    },
    "language_info": {
      "name": "python"
    }
  },
  "cells": [
    {
      "cell_type": "markdown",
      "metadata": {
        "id": "view-in-github",
        "colab_type": "text"
      },
      "source": [
        "<a href=\"https://colab.research.google.com/github/mjgpinheiro/Physics_models/blob/main/Bragg_resonance.ipynb\" target=\"_parent\"><img src=\"https://colab.research.google.com/assets/colab-badge.svg\" alt=\"Open In Colab\"/></a>"
      ]
    },
    {
      "cell_type": "code",
      "execution_count": 14,
      "metadata": {
        "colab": {
          "base_uri": "https://localhost:8080/"
        },
        "id": "tbCasgeaTYb-",
        "outputId": "2bf8de52-584c-479a-8a58-50ba75b62403"
      },
      "outputs": [
        {
          "output_type": "stream",
          "name": "stdout",
          "text": [
            "Optimal distance: 20.00 meters\n",
            "incident angle: 0.79 degree\n"
          ]
        },
        {
          "output_type": "stream",
          "name": "stderr",
          "text": [
            "<ipython-input-14-91a7f812e175>:7: RuntimeWarning: invalid value encountered in arcsin\n",
            "  return np.arcsin(wavelength / (2 * d)) - theta\n"
          ]
        }
      ],
      "source": [
        "import numpy as np\n",
        "\n",
        "def bragg_resonance(wavelength, theta):\n",
        "    \"\"\"\n",
        "    Calculates the Bragg resonance angle for a given wavelength and incident angle.\n",
        "    \"\"\"\n",
        "    return np.arcsin(wavelength / (2 * d)) - theta\n",
        "\n",
        "def reflection_coefficient(wavelength, theta, d):\n",
        "    \"\"\"\n",
        "    Calculates the reflection coefficient for a given wavelength, incident angle, and periodic distance.\n",
        "    \"\"\"\n",
        "    k = 2 * np.pi / wavelength\n",
        "    alpha = bragg_resonance(wavelength, theta)\n",
        "    return (np.sin(2 * k * d * np.cos(alpha)) / (2 * k * d * np.cos(alpha))) ** 2\n",
        "\n",
        "def optimize_distance(wavelength, theta):\n",
        "    \"\"\"\n",
        "    Finds the optimal periodic distance to maximize the reflection coefficient for a given wavelength and incident angle.\n",
        "    \"\"\"\n",
        "    d_min = wavelength / 2\n",
        "    d_max = wavelength / np.sin(2 * theta)\n",
        "    d_range = np.linspace(d_min, d_max, 1000)\n",
        "    r = reflection_coefficient(wavelength, theta, d_range)\n",
        "    return d_range[np.argmax(r)]\n",
        "\n",
        "# Example usage\n",
        "wavelength = 40.0  # meters\n",
        "theta = np.pi / 4  # radians\n",
        "optimal_distance = optimize_distance(wavelength, theta)\n",
        "print(f\"Optimal distance: {optimal_distance:.2f} meters\")\n",
        "print(f\"incident angle: {theta:.2f} degree\")"
      ]
    },
    {
      "cell_type": "markdown",
      "source": [
        "This code defines three functions: bragg_resonance, reflection_coefficient, and optimize_distance. The bragg_resonance function calculates the Bragg resonance angle for a given wavelength and incident angle. The reflection_coefficient function calculates the reflection coefficient for a given wavelength, incident angle, and periodic distance. Finally, the optimize_distance function finds the optimal periodic distance to maximize the reflection coefficient for a given wavelength and incident angle by searching over a range of distances and calculating the reflection coefficient for each distance.\n",
        "\n",
        "You can use this code to explore the optimal distance for different wavelengths and incident angles by calling the optimize_distance function with different arguments. The code will return the optimal distance in meters, which you can then use to design your own periodic cylinder array."
      ],
      "metadata": {
        "id": "UUVo_Y-dTmbt"
      }
    }
  ]
}