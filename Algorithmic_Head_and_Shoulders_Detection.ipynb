{
  "nbformat": 4,
  "nbformat_minor": 0,
  "metadata": {
    "colab": {
      "provenance": [],
      "authorship_tag": "ABX9TyPfwNYeNtMNrwo9VdqkCVas",
      "include_colab_link": true
    },
    "kernelspec": {
      "name": "python3",
      "display_name": "Python 3"
    },
    "language_info": {
      "name": "python"
    }
  },
  "cells": [
    {
      "cell_type": "markdown",
      "metadata": {
        "id": "view-in-github",
        "colab_type": "text"
      },
      "source": [
        "<a href=\"https://colab.research.google.com/github/mjgpinheiro/Physics_models/blob/main/Algorithmic_Head_and_Shoulders_Detection.ipynb\" target=\"_parent\"><img src=\"https://colab.research.google.com/assets/colab-badge.svg\" alt=\"Open In Colab\"/></a>"
      ]
    },
    {
      "cell_type": "code",
      "execution_count": null,
      "metadata": {
        "id": "py7KFjWI0l3U",
        "outputId": "ae5ce4f7-d2a6-4a3f-c77b-c0eb677ffeac",
        "colab": {
          "base_uri": "https://localhost:8080/"
        }
      },
      "outputs": [
        {
          "output_type": "stream",
          "name": "stdout",
          "text": [
            "^GSPC made 157.7% return vs. 187.2% in 5y time\n",
            "^GSPC made 226.8% return vs. 282.2% in 10y time\n",
            "^GSPC made 471.3% return vs. 404.1% in 25y time\n"
          ]
        }
      ],
      "source": [
        "import yfinance as yf\n",
        "import pandas as pd\n",
        "\n",
        "# Backtesting parameters (adjust as needed)\n",
        "tickers = ['^GSPC']\n",
        "periods = ['5y', '10y', '25y']\n",
        "init_portfolio_value = 1000 # USD\n",
        "\n",
        "for period in periods:\n",
        "    for ticker in tickers:\n",
        "        try:\n",
        "            data = yf.download(ticker, period=period, progress=False)\n",
        "\n",
        "            # Calculate indicators\n",
        "            data['HL_avg'] = data['High'].rolling(window=25).mean() - data['Low'].rolling(window=25).mean()\n",
        "            data['IBS'] = (data['Close'] - data['Low']) / (data['High'] - data['Low'])\n",
        "            data['Band'] = data['High'].rolling(window=25).mean() - (data['HL_avg'] * 2.25)\n",
        "        except:\n",
        "            continue\n",
        "\n",
        "        # Initialize variables for trading strategy\n",
        "        portfolio_value, portfolio_values = init_portfolio_value, [init_portfolio_value]\n",
        "        trades = {'Entry': [], 'Exit': []}\n",
        "        fees = 0\n",
        "        position = False\n",
        "        entry_price = 0\n",
        "\n",
        "        # Simulate buying and selling using mentioned strategy\n",
        "        for i in range(25, len(data)):\n",
        "            if not position and data['Close'][i] < data['Band'][i] and data['IBS'][i] < 0.6: # Buy\n",
        "                position = True\n",
        "                entry_price = data['Close'][i]\n",
        "                shares = portfolio_values[-1] / entry_price\n",
        "                trades['Entry'].append(data.index[i])\n",
        "            elif position and data['Close'][i] > data['High'][i - 1]: # Sell\n",
        "                position = False\n",
        "                exit_price = data['Close'][i]\n",
        "                sale_value = shares * exit_price\n",
        "                fee = max(.01, round((sale_value / 1000) * .01, 2))\n",
        "                fees += fee\n",
        "                trade_profit = shares * (exit_price - entry_price) - fee\n",
        "                portfolio_value += trade_profit\n",
        "                trades['Exit'].append(data.index[i])\n",
        "\n",
        "            portfolio_values.append(portfolio_value)\n",
        "\n",
        "        mean_reversal_return = portfolio_values[-1] / init_portfolio_value\n",
        "        buy_and_hold_return = data['Close'].iloc[-1] / data['Close'].iloc[0]\n",
        "\n",
        "        print(f'{ticker} made {mean_reversal_return*100:.1f}% return vs. {buy_and_hold_return*100:.1f}% in {period} time')"
      ]
    },
    {
      "cell_type": "markdown",
      "source": [
        "code offered in the article: https://medium.com/@minkeliu_29243/the-head-and-shoulders-pattern-in-technical-analysis-48cbca1ca9ea"
      ],
      "metadata": {
        "id": "MLz8c4Yjjg1Z"
      }
    }
  ]
}