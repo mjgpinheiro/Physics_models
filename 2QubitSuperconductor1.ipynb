{
  "nbformat": 4,
  "nbformat_minor": 0,
  "metadata": {
    "colab": {
      "provenance": [],
      "authorship_tag": "ABX9TyOajY9JN4jsYHe//lbIjuax",
      "include_colab_link": true
    },
    "kernelspec": {
      "name": "python3",
      "display_name": "Python 3"
    },
    "language_info": {
      "name": "python"
    }
  },
  "cells": [
    {
      "cell_type": "markdown",
      "metadata": {
        "id": "view-in-github",
        "colab_type": "text"
      },
      "source": [
        "<a href=\"https://colab.research.google.com/github/mjgpinheiro/Physics_models/blob/main/2QubitSuperconductor1.ipynb\" target=\"_parent\"><img src=\"https://colab.research.google.com/assets/colab-badge.svg\" alt=\"Open In Colab\"/></a>"
      ]
    },
    {
      "cell_type": "code",
      "execution_count": null,
      "metadata": {
        "colab": {
          "base_uri": "https://localhost:8080/"
        },
        "id": "mD1jO-efZmyW",
        "outputId": "6f738ea7-258b-44f9-ed7d-4e4bb2e41e18"
      },
      "outputs": [
        {
          "output_type": "stream",
          "name": "stdout",
          "text": [
            "Collecting qutip\n",
            "  Downloading qutip-4.7.2-cp310-cp310-manylinux_2_17_x86_64.manylinux2014_x86_64.whl (16.2 MB)\n",
            "\u001b[2K     \u001b[90m━━━━━━━━━━━━━━━━━━━━━━━━━━━━━━━━━━━━━━━━\u001b[0m \u001b[32m16.2/16.2 MB\u001b[0m \u001b[31m39.6 MB/s\u001b[0m eta \u001b[36m0:00:00\u001b[0m\n",
            "\u001b[?25hRequirement already satisfied: numpy>=1.16.6 in /usr/local/lib/python3.10/dist-packages (from qutip) (1.22.4)\n",
            "Requirement already satisfied: scipy>=1.0 in /usr/local/lib/python3.10/dist-packages (from qutip) (1.10.1)\n",
            "Requirement already satisfied: packaging in /usr/local/lib/python3.10/dist-packages (from qutip) (23.1)\n",
            "Installing collected packages: qutip\n",
            "Successfully installed qutip-4.7.2\n"
          ]
        }
      ],
      "source": [
        "!pip install qutip\n",
        "import numpy as np\n",
        "import matplotlib.pyplot as plt\n",
        "from qutip import *"
      ]
    },
    {
      "cell_type": "code",
      "source": [
        "# Constants and parameters\n",
        "hbar = 1.0  # Reduced Planck's constant\n",
        "omega = 1.0  # Angular frequency\n",
        "gamma = 0.1  # Dissipation rate"
      ],
      "metadata": {
        "id": "yIpz0_IoZw6s"
      },
      "execution_count": null,
      "outputs": []
    },
    {
      "cell_type": "code",
      "source": [
        "# Pauli operators\n",
        "sigma_x = sigmax()\n",
        "sigma_y = sigmay()\n",
        "sigma_z = sigmaz()\n",
        "\n",
        "# Hamiltonian\n",
        "H = omega * sigma_z / 2"
      ],
      "metadata": {
        "id": "RI6SMpIyZzRs"
      },
      "execution_count": null,
      "outputs": []
    },
    {
      "cell_type": "code",
      "source": [
        "# Lindblad operators\n",
        "L_diss = np.sqrt(gamma) * sigma_z\n",
        "lindblad_ops = [L_diss]"
      ],
      "metadata": {
        "id": "N32OgukOZ2ss"
      },
      "execution_count": null,
      "outputs": []
    },
    {
      "cell_type": "code",
      "source": [
        "def master_equation(time, rho):\n",
        "    H_eff = H - 0.5j * sum([L.dag() * L for L in lindblad_ops])\n",
        "    drho_dt = -1.0j * (H_eff * rho - rho * H_eff.dag())\n",
        "    for L in lindblad_ops:\n",
        "        drho_dt += L * rho * L.dag() - 0.5 * L.dag() * L * rho - 0.5 * rho * L.dag() * L\n",
        "    return drho_dt"
      ],
      "metadata": {
        "id": "J3BovLt6Z5js"
      },
      "execution_count": null,
      "outputs": []
    },
    {
      "cell_type": "code",
      "source": [
        "# Time steps\n",
        "timesteps = np.linspace(0, 10, 100)"
      ],
      "metadata": {
        "id": "4ekot_s7Z8WM"
      },
      "execution_count": null,
      "outputs": []
    },
    {
      "cell_type": "code",
      "source": [
        "# Initial state (e.g., for a pure state or thermal state)\n",
        "initial_state = basis(2, 0)  # Ground state |0⟩\n",
        "\n",
        "# Solve the master equation\n",
        "result = mesolve(master_equation, initial_state, timesteps, [], [])"
      ],
      "metadata": {
        "colab": {
          "base_uri": "https://localhost:8080/",
          "height": 362
        },
        "id": "hNAxECSvZ_Jl",
        "outputId": "3c425f99-315d-4481-b262-a901ca11a0df"
      },
      "execution_count": null,
      "outputs": [
        {
          "output_type": "error",
          "ename": "TypeError",
          "evalue": "ignored",
          "traceback": [
            "\u001b[0;31m---------------------------------------------------------------------------\u001b[0m",
            "\u001b[0;31mTypeError\u001b[0m                                 Traceback (most recent call last)",
            "\u001b[0;32m<ipython-input-7-f06b50944683>\u001b[0m in \u001b[0;36m<cell line: 5>\u001b[0;34m()\u001b[0m\n\u001b[1;32m      3\u001b[0m \u001b[0;34m\u001b[0m\u001b[0m\n\u001b[1;32m      4\u001b[0m \u001b[0;31m# Solve the master equation\u001b[0m\u001b[0;34m\u001b[0m\u001b[0;34m\u001b[0m\u001b[0m\n\u001b[0;32m----> 5\u001b[0;31m \u001b[0mresult\u001b[0m \u001b[0;34m=\u001b[0m \u001b[0mmesolve\u001b[0m\u001b[0;34m(\u001b[0m\u001b[0mmaster_equation\u001b[0m\u001b[0;34m,\u001b[0m \u001b[0minitial_state\u001b[0m\u001b[0;34m,\u001b[0m \u001b[0mtimesteps\u001b[0m\u001b[0;34m,\u001b[0m \u001b[0;34m[\u001b[0m\u001b[0;34m]\u001b[0m\u001b[0;34m,\u001b[0m \u001b[0;34m[\u001b[0m\u001b[0;34m]\u001b[0m\u001b[0;34m)\u001b[0m\u001b[0;34m\u001b[0m\u001b[0;34m\u001b[0m\u001b[0m\n\u001b[0m",
            "\u001b[0;32m/usr/local/lib/python3.10/dist-packages/qutip/mesolve.py\u001b[0m in \u001b[0;36mmesolve\u001b[0;34m(H, rho0, tlist, c_ops, e_ops, args, options, progress_bar, _safe_mode)\u001b[0m\n\u001b[1;32m    210\u001b[0m                             issuper(H[0]))\n\u001b[1;32m    211\u001b[0m                    or (not isinstance(H, (Qobj, QobjEvo)) and callable(H) and\n\u001b[0;32m--> 212\u001b[0;31m                             not options.rhs_with_state and issuper(H(0., args)))\n\u001b[0m\u001b[1;32m    213\u001b[0m                    or (not isinstance(H, (Qobj, QobjEvo)) and callable(H) and\n\u001b[1;32m    214\u001b[0m                             options.rhs_with_state))\n",
            "\u001b[0;32m<ipython-input-5-0179a82b7cf0>\u001b[0m in \u001b[0;36mmaster_equation\u001b[0;34m(time, rho)\u001b[0m\n\u001b[1;32m      1\u001b[0m \u001b[0;32mdef\u001b[0m \u001b[0mmaster_equation\u001b[0m\u001b[0;34m(\u001b[0m\u001b[0mtime\u001b[0m\u001b[0;34m,\u001b[0m \u001b[0mrho\u001b[0m\u001b[0;34m)\u001b[0m\u001b[0;34m:\u001b[0m\u001b[0;34m\u001b[0m\u001b[0;34m\u001b[0m\u001b[0m\n\u001b[1;32m      2\u001b[0m     \u001b[0mH_eff\u001b[0m \u001b[0;34m=\u001b[0m \u001b[0mH\u001b[0m \u001b[0;34m-\u001b[0m \u001b[0;36m0.5j\u001b[0m \u001b[0;34m*\u001b[0m \u001b[0msum\u001b[0m\u001b[0;34m(\u001b[0m\u001b[0;34m[\u001b[0m\u001b[0mL\u001b[0m\u001b[0;34m.\u001b[0m\u001b[0mdag\u001b[0m\u001b[0;34m(\u001b[0m\u001b[0;34m)\u001b[0m \u001b[0;34m*\u001b[0m \u001b[0mL\u001b[0m \u001b[0;32mfor\u001b[0m \u001b[0mL\u001b[0m \u001b[0;32min\u001b[0m \u001b[0mlindblad_ops\u001b[0m\u001b[0;34m]\u001b[0m\u001b[0;34m)\u001b[0m\u001b[0;34m\u001b[0m\u001b[0;34m\u001b[0m\u001b[0m\n\u001b[0;32m----> 3\u001b[0;31m     \u001b[0mdrho_dt\u001b[0m \u001b[0;34m=\u001b[0m \u001b[0;34m-\u001b[0m\u001b[0;36m1.0j\u001b[0m \u001b[0;34m*\u001b[0m \u001b[0;34m(\u001b[0m\u001b[0mH_eff\u001b[0m \u001b[0;34m*\u001b[0m \u001b[0mrho\u001b[0m \u001b[0;34m-\u001b[0m \u001b[0mrho\u001b[0m \u001b[0;34m*\u001b[0m \u001b[0mH_eff\u001b[0m\u001b[0;34m.\u001b[0m\u001b[0mdag\u001b[0m\u001b[0;34m(\u001b[0m\u001b[0;34m)\u001b[0m\u001b[0;34m)\u001b[0m\u001b[0;34m\u001b[0m\u001b[0;34m\u001b[0m\u001b[0m\n\u001b[0m\u001b[1;32m      4\u001b[0m     \u001b[0;32mfor\u001b[0m \u001b[0mL\u001b[0m \u001b[0;32min\u001b[0m \u001b[0mlindblad_ops\u001b[0m\u001b[0;34m:\u001b[0m\u001b[0;34m\u001b[0m\u001b[0;34m\u001b[0m\u001b[0m\n\u001b[1;32m      5\u001b[0m         \u001b[0mdrho_dt\u001b[0m \u001b[0;34m+=\u001b[0m \u001b[0mL\u001b[0m \u001b[0;34m*\u001b[0m \u001b[0mrho\u001b[0m \u001b[0;34m*\u001b[0m \u001b[0mL\u001b[0m\u001b[0;34m.\u001b[0m\u001b[0mdag\u001b[0m\u001b[0;34m(\u001b[0m\u001b[0;34m)\u001b[0m \u001b[0;34m-\u001b[0m \u001b[0;36m0.5\u001b[0m \u001b[0;34m*\u001b[0m \u001b[0mL\u001b[0m\u001b[0;34m.\u001b[0m\u001b[0mdag\u001b[0m\u001b[0;34m(\u001b[0m\u001b[0;34m)\u001b[0m \u001b[0;34m*\u001b[0m \u001b[0mL\u001b[0m \u001b[0;34m*\u001b[0m \u001b[0mrho\u001b[0m \u001b[0;34m-\u001b[0m \u001b[0;36m0.5\u001b[0m \u001b[0;34m*\u001b[0m \u001b[0mrho\u001b[0m \u001b[0;34m*\u001b[0m \u001b[0mL\u001b[0m\u001b[0;34m.\u001b[0m\u001b[0mdag\u001b[0m\u001b[0;34m(\u001b[0m\u001b[0;34m)\u001b[0m \u001b[0;34m*\u001b[0m \u001b[0mL\u001b[0m\u001b[0;34m\u001b[0m\u001b[0;34m\u001b[0m\u001b[0m\n",
            "\u001b[0;31mTypeError\u001b[0m: unsupported operand type(s) for *: 'Qobj' and 'dict'"
          ]
        }
      ]
    },
    {
      "cell_type": "code",
      "source": [
        "# Extract the expectation values of sigma_z\n",
        "expect_z = np.real(result.expect[0])\n",
        "\n",
        "# Plot the magnetic hysteresis loop\n",
        "plt.figure()\n",
        "plt.plot(timesteps, expect_z)\n",
        "plt.xlabel('Time')\n",
        "plt.ylabel('<σ_z>')\n",
        "plt.title('Magnetic Hysteresis Loop in Superconductors')\n",
        "plt.show()"
      ],
      "metadata": {
        "id": "VnfT7ITgaBx2"
      },
      "execution_count": null,
      "outputs": []
    },
    {
      "cell_type": "markdown",
      "source": [
        " This example assumes a simple two-level superconducting qubit model. For more complex systems, you will need to adjust the Hamiltonian and Lindblad operators accordingly."
      ],
      "metadata": {
        "id": "6laNoEnbaJVK"
      }
    }
  ]
}