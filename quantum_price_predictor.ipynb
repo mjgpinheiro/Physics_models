{
  "nbformat": 4,
  "nbformat_minor": 0,
  "metadata": {
    "colab": {
      "provenance": [],
      "authorship_tag": "ABX9TyOQ3b7Z2MzYRAusIIP02j/a",
      "include_colab_link": true
    },
    "kernelspec": {
      "name": "python3",
      "display_name": "Python 3"
    },
    "language_info": {
      "name": "python"
    }
  },
  "cells": [
    {
      "cell_type": "markdown",
      "metadata": {
        "id": "view-in-github",
        "colab_type": "text"
      },
      "source": [
        "<a href=\"https://colab.research.google.com/github/mjgpinheiro/Physics_models/blob/main/quantum_price_predictor.ipynb\" target=\"_parent\"><img src=\"https://colab.research.google.com/assets/colab-badge.svg\" alt=\"Open In Colab\"/></a>"
      ]
    },
    {
      "cell_type": "code",
      "source": [
        "!pip install pennylane\n",
        "import pennylane as qml\n",
        "from pennylane import numpy as np\n",
        "import yfinance as yf\n",
        "\n",
        "# We start by defining a simple quantum device with 1 qubit\n",
        "dev = qml.device(\"default.qubit\", wires=1)\n",
        "\n",
        "# Define the quantum circuit\n",
        "@qml.qnode(dev)\n",
        "def circuit(params, x):\n",
        "    qml.RX(x, wires=0)\n",
        "    qml.RY(params[0], wires=0)\n",
        "    return qml.expval(qml.PauliZ(0))\n",
        "\n",
        "# Define the cost function (mean squared error)\n",
        "def cost(params, x, y):\n",
        "    predictions = np.array([circuit(params, x_) for x_ in x])\n",
        "    return np.mean((predictions - y) ** 2)\n",
        "\n",
        "# Download historical stock data\n",
        "data = yf.download('AAPL', '2020-01-01', '2021-12-31')\n",
        "\n",
        "# We will use the close prices to train the model\n",
        "prices = data['Close'].values\n",
        "\n",
        "# Normalize the prices to the range [0, pi/2] to be compatible with the quantum circuit\n",
        "prices_normalized = np.pi/2 * (prices - np.min(prices)) / (np.max(prices) - np.min(prices))\n",
        "\n",
        "# Split data into train and test datasets\n",
        "train_prices, test_prices = np.split(prices_normalized, [int(.7 *len(prices_normalized))])\n",
        "train_dates, test_dates = np.split(data.index, [int(.7 *len(data.index))])\n",
        "\n",
        "# Initialize some random parameters\n",
        "params = np.random.random(1)\n",
        "\n",
        "# Perform gradient descent to train the model\n",
        "for i in range(100):\n",
        "    params -= 0.1 * qml.grad(cost)(params, train_prices[:-1], train_prices[1:])\n",
        "    print(\"Step\", i, \"cost\", cost(params, train_prices[:-1], train_prices[1:]))\n",
        "\n",
        "print(\"Optimized parameters\", params)\n",
        "\n",
        "# Use the trained model to make predictions on the test data\n",
        "predictions = np.array([circuit(params, x) for x in test_prices[:-1]])\n",
        "\n",
        "# Interpret the predictions as \"buy\" or \"sell\" signals\n",
        "for i in range(len(predictions)):\n",
        "    if predictions[i] > test_prices[i]:\n",
        "        print(f\"Date {test_dates[i].strftime('%m/%d/%Y')}: BUY\")\n",
        "    else:\n",
        "        print(f\"Date {test_dates[i].strftime('%m/%d/%Y')}: SELL\")\n"
      ],
      "metadata": {
        "colab": {
          "base_uri": "https://localhost:8080/"
        },
        "id": "9MlhZ6TjvdNk",
        "outputId": "b2c3b91b-c88b-4381-d373-7e293f9514c4"
      },
      "execution_count": null,
      "outputs": [
        {
          "output_type": "stream",
          "name": "stdout",
          "text": [
            "Looking in indexes: https://pypi.org/simple, https://us-python.pkg.dev/colab-wheels/public/simple/\n",
            "Collecting pennylane\n",
            "  Downloading PennyLane-0.30.0-py3-none-any.whl (1.4 MB)\n",
            "\u001b[2K     \u001b[90m━━━━━━━━━━━━━━━━━━━━━━━━━━━━━━━━━━━━━━━━\u001b[0m \u001b[32m1.4/1.4 MB\u001b[0m \u001b[31m19.3 MB/s\u001b[0m eta \u001b[36m0:00:00\u001b[0m\n",
            "\u001b[?25hRequirement already satisfied: numpy<1.24 in /usr/local/lib/python3.10/dist-packages (from pennylane) (1.22.4)\n",
            "Requirement already satisfied: scipy in /usr/local/lib/python3.10/dist-packages (from pennylane) (1.10.1)\n",
            "Requirement already satisfied: networkx in /usr/local/lib/python3.10/dist-packages (from pennylane) (3.1)\n",
            "Collecting rustworkx (from pennylane)\n",
            "  Downloading rustworkx-0.13.0-cp310-cp310-manylinux_2_17_x86_64.manylinux2014_x86_64.whl (1.9 MB)\n",
            "\u001b[2K     \u001b[90m━━━━━━━━━━━━━━━━━━━━━━━━━━━━━━━━━━━━━━━━\u001b[0m \u001b[32m1.9/1.9 MB\u001b[0m \u001b[31m79.3 MB/s\u001b[0m eta \u001b[36m0:00:00\u001b[0m\n",
            "\u001b[?25hRequirement already satisfied: autograd in /usr/local/lib/python3.10/dist-packages (from pennylane) (1.5)\n",
            "Requirement already satisfied: toml in /usr/local/lib/python3.10/dist-packages (from pennylane) (0.10.2)\n",
            "Requirement already satisfied: appdirs in /usr/local/lib/python3.10/dist-packages (from pennylane) (1.4.4)\n",
            "Collecting semantic-version>=2.7 (from pennylane)\n",
            "  Downloading semantic_version-2.10.0-py2.py3-none-any.whl (15 kB)\n",
            "Collecting autoray>=0.3.1 (from pennylane)\n",
            "  Downloading autoray-0.6.3-py3-none-any.whl (48 kB)\n",
            "\u001b[2K     \u001b[90m━━━━━━━━━━━━━━━━━━━━━━━━━━━━━━━━━━━━━━━━\u001b[0m \u001b[32m48.3/48.3 kB\u001b[0m \u001b[31m6.5 MB/s\u001b[0m eta \u001b[36m0:00:00\u001b[0m\n",
            "\u001b[?25hRequirement already satisfied: cachetools in /usr/local/lib/python3.10/dist-packages (from pennylane) (5.3.0)\n",
            "Collecting pennylane-lightning>=0.30 (from pennylane)\n",
            "  Downloading PennyLane_Lightning-0.30.0-cp310-cp310-manylinux_2_17_x86_64.manylinux2014_x86_64.whl (16.6 MB)\n",
            "\u001b[2K     \u001b[90m━━━━━━━━━━━━━━━━━━━━━━━━━━━━━━━━━━━━━━━━\u001b[0m \u001b[32m16.6/16.6 MB\u001b[0m \u001b[31m98.5 MB/s\u001b[0m eta \u001b[36m0:00:00\u001b[0m\n",
            "\u001b[?25hRequirement already satisfied: requests in /usr/local/lib/python3.10/dist-packages (from pennylane) (2.27.1)\n",
            "Requirement already satisfied: future>=0.15.2 in /usr/local/lib/python3.10/dist-packages (from autograd->pennylane) (0.18.3)\n",
            "Requirement already satisfied: urllib3<1.27,>=1.21.1 in /usr/local/lib/python3.10/dist-packages (from requests->pennylane) (1.26.15)\n",
            "Requirement already satisfied: certifi>=2017.4.17 in /usr/local/lib/python3.10/dist-packages (from requests->pennylane) (2022.12.7)\n",
            "Requirement already satisfied: charset-normalizer~=2.0.0 in /usr/local/lib/python3.10/dist-packages (from requests->pennylane) (2.0.12)\n",
            "Requirement already satisfied: idna<4,>=2.5 in /usr/local/lib/python3.10/dist-packages (from requests->pennylane) (3.4)\n",
            "Installing collected packages: semantic-version, rustworkx, autoray, pennylane-lightning, pennylane\n",
            "Successfully installed autoray-0.6.3 pennylane-0.30.0 pennylane-lightning-0.30.0 rustworkx-0.13.0 semantic-version-2.10.0\n",
            "[*********************100%***********************]  1 of 1 completed\n",
            "Step 0 cost 0.17633135042170794\n",
            "Step 1 cost 0.1763184203317351\n",
            "Step 2 cost 0.17630724345917007\n",
            "Step 3 cost 0.17629757779697236\n",
            "Step 4 cost 0.17628921556820557\n",
            "Step 5 cost 0.17628197822582142\n",
            "Step 6 cost 0.17627571221332947\n",
            "Step 7 cost 0.17627028536473152\n",
            "Step 8 cost 0.17626558384265487\n",
            "Step 9 cost 0.17626150953048453\n",
            "Step 10 cost 0.17625797780818167\n"
          ]
        }
      ]
    }
  ]
}